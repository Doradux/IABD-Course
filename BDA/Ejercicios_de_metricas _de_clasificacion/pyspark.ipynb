{
  "cells": [
    {
      "cell_type": "markdown",
      "metadata": {
        "id": "view-in-github",
        "colab_type": "text"
      },
      "source": [
        "<a href=\"https://colab.research.google.com/github/Doradux/IABD-Course/blob/main/BDA/Ejercicios_de_metricas%20_de_clasificacion/pyspark.ipynb\" target=\"_parent\"><img src=\"https://colab.research.google.com/assets/colab-badge.svg\" alt=\"Open In Colab\"/></a>"
      ]
    },
    {
      "cell_type": "code",
      "source": [
        "!kaggle datasets download -d isabelocastillo/jugadores-de-futbol-de-la-rfef-temporada-2023-2024 -p /content\n",
        "!unzip /content/sample_data/jugadores-de-futbol-de-la-rfef-temporada-2023-2024.zip -d /content"
      ],
      "metadata": {
        "id": "24rglh39D_Kd",
        "outputId": "3f48040f-53ab-4ce8-87a4-38d82778ad34",
        "colab": {
          "base_uri": "https://localhost:8080/"
        }
      },
      "id": "24rglh39D_Kd",
      "execution_count": null,
      "outputs": [
        {
          "output_type": "stream",
          "name": "stdout",
          "text": [
            "Archive:  /content/sample_data/jugadores-de-futbol-de-la-rfef-temporada-2023-2024.zip\n",
            "  inflating: /content/jugadores_RFEF_2024.csv  \n"
          ]
        }
      ]
    },
    {
      "cell_type": "code",
      "execution_count": null,
      "id": "072b5235-d882-403d-9beb-72dc6fc4bbf6",
      "metadata": {
        "id": "072b5235-d882-403d-9beb-72dc6fc4bbf6"
      },
      "outputs": [],
      "source": [
        "from pyspark.sql import SparkSession\n",
        "from pyspark.sql.functions import col, avg, max\n",
        "\n",
        "spark = SparkSession.builder.appName(\"Analisis de jugadores\").getOrCreate()\n",
        "\n",
        "df = spark.read.csv(\"./jugadores_RFEF_2024.csv\", header=True, inferSchema=True)\n",
        "rdd = df.rdd"
      ]
    },
    {
      "cell_type": "markdown",
      "id": "234b0a0d-0201-477f-a298-b1fe896c5aa2",
      "metadata": {
        "id": "234b0a0d-0201-477f-a298-b1fe896c5aa2"
      },
      "source": [
        "### Filtrar los jugadores que han jugado más de 20 partidos de titular y cuya edad sea menor de 25 años."
      ]
    },
    {
      "cell_type": "code",
      "execution_count": null,
      "id": "48e5a296-97e0-4eb0-b723-ebdad84a6f05",
      "metadata": {
        "scrolled": true,
        "id": "48e5a296-97e0-4eb0-b723-ebdad84a6f05",
        "outputId": "821bc1f4-4735-4a7a-ca10-05b1de534a31",
        "colab": {
          "base_uri": "https://localhost:8080/"
        }
      },
      "outputs": [
        {
          "output_type": "execute_result",
          "data": {
            "text/plain": [
              "[Row(id=4204, nombre='Sergio', partidos_jugados=27, partidos_titular=27, goles=54, asistencias=0, tarjeta_amarilla=2, edad=23, altura=180.68621175325222, valor=6220.0, rating=43, posicion='Portero'),\n",
              " Row(id=1546, nombre='Buru', partidos_jugados=25, partidos_titular=23, goles=49, asistencias=0, tarjeta_amarilla=4, edad=24, altura=183.0, valor=77600.0, rating=49, posicion='Portero'),\n",
              " Row(id=4093, nombre='Javi Álvarez', partidos_jugados=27, partidos_titular=27, goles=49, asistencias=0, tarjeta_amarilla=4, edad=21, altura=191.0, valor=550.0, rating=34, posicion='Portero'),\n",
              " Row(id=7691, nombre='David García', partidos_jugados=33, partidos_titular=33, goles=49, asistencias=0, tarjeta_amarilla=3, edad=24, altura=190.0, valor=10140.0, rating=40, posicion='Portero'),\n",
              " Row(id=8388, nombre='O. Perez', partidos_jugados=34, partidos_titular=34, goles=49, asistencias=0, tarjeta_amarilla=3, edad=21, altura=180.7848123641227, valor=5740.0, rating=42, posicion='Portero')]"
            ]
          },
          "metadata": {},
          "execution_count": 52
        }
      ],
      "source": [
        "ej1 = rdd.filter(lambda x: x.partidos_titular > 20 and x.edad < 25 and x.edad != 0)\n",
        "ej1.take(5)"
      ]
    },
    {
      "cell_type": "markdown",
      "id": "1d724d08-a263-4ca7-8c26-c9a9f13b422e",
      "metadata": {
        "id": "1d724d08-a263-4ca7-8c26-c9a9f13b422e"
      },
      "source": [
        "### Filtrar jugadores con un valor de mercado superior a una cantidad determinada (por ejemplo, 100,000)."
      ]
    },
    {
      "cell_type": "code",
      "execution_count": null,
      "id": "0a8b46a8-b7c7-498e-a33a-13bd698b4a73",
      "metadata": {
        "scrolled": true,
        "id": "0a8b46a8-b7c7-498e-a33a-13bd698b4a73",
        "outputId": "cdac621e-1844-4754-d1e5-367d13b77677",
        "colab": {
          "base_uri": "https://localhost:8080/"
        }
      },
      "outputs": [
        {
          "output_type": "execute_result",
          "data": {
            "text/plain": [
              "[Row(id=195, nombre='A. Ortolà', partidos_jugados=38, partidos_titular=38, goles=57, asistencias=0, tarjeta_amarilla=3, edad=30, altura=187.0, valor=230820.0, rating=54, posicion='Portero'),\n",
              " Row(id=2368, nombre='Edu Frias', partidos_jugados=32, partidos_titular=32, goles=56, asistencias=0, tarjeta_amarilla=1, edad=25, altura=184.0, valor=202510.0, rating=52, posicion='Portero'),\n",
              " Row(id=283, nombre='Ander Iru', partidos_jugados=27, partidos_titular=27, goles=44, asistencias=0, tarjeta_amarilla=3, edad=25, altura=188.0, valor=147260.0, rating=47, posicion='Portero'),\n",
              " Row(id=897, nombre='Samu Casado', partidos_jugados=31, partidos_titular=31, goles=42, asistencias=0, tarjeta_amarilla=1, edad=27, altura=187.0, valor=143540.0, rating=49, posicion='Portero'),\n",
              " Row(id=227, nombre='Taliby', partidos_jugados=38, partidos_titular=38, goles=41, asistencias=0, tarjeta_amarilla=1, edad=26, altura=190.0, valor=203650.0, rating=58, posicion='Portero')]"
            ]
          },
          "metadata": {},
          "execution_count": 53
        }
      ],
      "source": [
        "ej2= rdd.filter(lambda x: x.valor >= 100000)\n",
        "ej2.take(5)"
      ]
    },
    {
      "cell_type": "markdown",
      "id": "4971146a-de92-49b8-ba97-cd7863d776bc",
      "metadata": {
        "id": "4971146a-de92-49b8-ba97-cd7863d776bc"
      },
      "source": [
        "### Ordenar los jugadores por su valoración (campo valor)."
      ]
    },
    {
      "cell_type": "code",
      "execution_count": null,
      "id": "0ffcb27e-c94c-4522-b376-17ed251fe598",
      "metadata": {
        "id": "0ffcb27e-c94c-4522-b376-17ed251fe598",
        "outputId": "3d03a08e-9d80-4214-f6c4-286f78147e58",
        "colab": {
          "base_uri": "https://localhost:8080/"
        }
      },
      "outputs": [
        {
          "output_type": "execute_result",
          "data": {
            "text/plain": [
              "[Row(id=1067, nombre='Lucas Pérez', partidos_jugados=31, partidos_titular=31, goles=12, asistencias=17, tarjeta_amarilla=6, edad=35, altura=180.0, valor=991770.0, rating=70, posicion='Delantero Centro'),\n",
              " Row(id=444, nombre='Einar Galilea', partidos_jugados=24, partidos_titular=22, goles=2, asistencias=0, tarjeta_amarilla=5, edad=30, altura=185.0, valor=1310000.0, rating=69, posicion='Defensa Central'),\n",
              " Row(id=416, nombre='J. Martínez', partidos_jugados=8, partidos_titular=7, goles=0, asistencias=0, tarjeta_amarilla=1, edad=31, altura=191.0, valor=2140000.0, rating=68, posicion='Defensa Central'),\n",
              " Row(id=1062, nombre='Salva Sevilla', partidos_jugados=18, partidos_titular=14, goles=1, asistencias=1, tarjeta_amarilla=1, edad=40, altura=178.0, valor=115660.0, rating=67, posicion='Mediocentro'),\n",
              " Row(id=442, nombre='A. Herrero', partidos_jugados=38, partidos_titular=38, goles=25, asistencias=0, tarjeta_amarilla=3, edad=30, altura=183.0, valor=561970.0, rating=65, posicion='Portero')]"
            ]
          },
          "metadata": {},
          "execution_count": 54
        }
      ],
      "source": [
        "ej3 = rdd.sortBy(lambda x: x.rating, ascending=False)\n",
        "ej3.take(5)"
      ]
    },
    {
      "cell_type": "markdown",
      "id": "6e9e813c-b791-4306-ae2e-70125d221f73",
      "metadata": {
        "id": "6e9e813c-b791-4306-ae2e-70125d221f73"
      },
      "source": [
        "### Contar cuántos jugadores cumplen con las condiciones anteriores."
      ]
    },
    {
      "cell_type": "code",
      "execution_count": null,
      "id": "d3f816cf-5b22-425d-aaef-216584ffea5a",
      "metadata": {
        "id": "d3f816cf-5b22-425d-aaef-216584ffea5a",
        "outputId": "d0015919-1c4d-4b5b-d31f-094e8628ddd0",
        "colab": {
          "base_uri": "https://localhost:8080/"
        }
      },
      "outputs": [
        {
          "output_type": "execute_result",
          "data": {
            "text/plain": [
              "{'Ej1': 1512, 'Ej2': 1421, 'Ej3': 10107}"
            ]
          },
          "metadata": {},
          "execution_count": 13
        }
      ],
      "source": [
        "ej4 ={\"Ej1\": ej1.count(), \"Ej2\": ej2.count(), \"Ej3\": ej3.count()}\n",
        "ej4"
      ]
    },
    {
      "cell_type": "markdown",
      "id": "428c1b2f-7da2-4f2c-9864-dd1fd348c5b9",
      "metadata": {
        "id": "428c1b2f-7da2-4f2c-9864-dd1fd348c5b9"
      },
      "source": [
        "### Encontrar el jugador con el valor de mercado más alto."
      ]
    },
    {
      "cell_type": "code",
      "execution_count": null,
      "id": "e2a651a4-3b22-4294-94ad-4efc670818c1",
      "metadata": {
        "id": "e2a651a4-3b22-4294-94ad-4efc670818c1",
        "outputId": "1047a4c2-a29b-4e5d-f5a2-a75654a3596b",
        "colab": {
          "base_uri": "https://localhost:8080/"
        }
      },
      "outputs": [
        {
          "output_type": "execute_result",
          "data": {
            "text/plain": [
              "Row(id=2771, nombre='Assane Diao', partidos_jugados=5, partidos_titular=4, goles=2, asistencias=0, tarjeta_amarilla=1, edad=18, altura=185.0, valor=3370000.0, rating=49, posicion='Extremo Izquierdo')"
            ]
          },
          "metadata": {},
          "execution_count": 14
        }
      ],
      "source": [
        "valorDes = rdd.sortBy(lambda x: x.valor, ascending=False)\n",
        "ej5 = valorDes.first()\n",
        "ej5"
      ]
    },
    {
      "cell_type": "markdown",
      "id": "6206f178-db00-4382-9452-61677e48ceec",
      "metadata": {
        "id": "6206f178-db00-4382-9452-61677e48ceec"
      },
      "source": [
        "### Mostrar los primeros 10 jugadores ordenados por goles y asistencias."
      ]
    },
    {
      "cell_type": "code",
      "execution_count": null,
      "id": "267285b4-3747-4464-a17e-d1f518c36ee3",
      "metadata": {
        "id": "267285b4-3747-4464-a17e-d1f518c36ee3",
        "colab": {
          "base_uri": "https://localhost:8080/"
        },
        "outputId": "9e83adc4-2189-48b4-85e1-2b803711bbc5"
      },
      "outputs": [
        {
          "output_type": "execute_result",
          "data": {
            "text/plain": [
              "[Row(id=11515, nombre='A. Lage', partidos_jugados=32, partidos_titular=32, goles=97, asistencias=0, tarjeta_amarilla=2, edad=35, altura=180.0937669559174, valor=1000.0, rating=42, posicion='Portero'),\n",
              " Row(id=8675, nombre='G. Caldentey', partidos_jugados=28, partidos_titular=27, goles=79, asistencias=0, tarjeta_amarilla=0, edad=27, altura=180.4883187803087, valor=518.52, rating=40, posicion='Portero'),\n",
              " Row(id=9238, nombre='Álvaro Iso', partidos_jugados=31, partidos_titular=30, goles=67, asistencias=0, tarjeta_amarilla=1, edad=27, altura=185.0, valor=13570.0, rating=36, posicion='Portero'),\n",
              " Row(id=11012, nombre='R. Cuba', partidos_jugados=34, partidos_titular=34, goles=63, asistencias=0, tarjeta_amarilla=1, edad=0, altura=181.82042303963172, valor=3630.0, rating=43, posicion='Portero'),\n",
              " Row(id=3740, nombre='Chema Leobalde', partidos_jugados=30, partidos_titular=30, goles=61, asistencias=0, tarjeta_amarilla=3, edad=26, altura=180.5386244442277, valor=9960.0, rating=45, posicion='Portero'),\n",
              " Row(id=9176, nombre='Montesdeoca', partidos_jugados=30, partidos_titular=30, goles=60, asistencias=0, tarjeta_amarilla=1, edad=32, altura=183.0, valor=1000.0, rating=30, posicion='Portero'),\n",
              " Row(id=6302, nombre='Felipe', partidos_jugados=28, partidos_titular=28, goles=59, asistencias=0, tarjeta_amarilla=4, edad=26, altura=179.0, valor=8109.999999999999, rating=44, posicion='Portero'),\n",
              " Row(id=12481, nombre='A. Lopez', partidos_jugados=31, partidos_titular=31, goles=59, asistencias=0, tarjeta_amarilla=2, edad=0, altura=181.8208342597753, valor=7590.0, rating=47, posicion='Portero'),\n",
              " Row(id=195, nombre='A. Ortolà', partidos_jugados=38, partidos_titular=38, goles=57, asistencias=0, tarjeta_amarilla=3, edad=30, altura=187.0, valor=230820.0, rating=54, posicion='Portero'),\n",
              " Row(id=2368, nombre='Edu Frias', partidos_jugados=32, partidos_titular=32, goles=56, asistencias=0, tarjeta_amarilla=1, edad=25, altura=184.0, valor=202510.0, rating=52, posicion='Portero')]"
            ]
          },
          "metadata": {},
          "execution_count": 42
        }
      ],
      "source": [
        "rdd = rdd.sortBy(lambda x: (x.goles, x.asistencias), ascending=False)\n",
        "rdd.take(10)"
      ]
    },
    {
      "cell_type": "markdown",
      "source": [
        "### Agrupar los jugadores por posición y calcular el promedio de goles por posición."
      ],
      "metadata": {
        "id": "9VMVHQcOI96e"
      },
      "id": "9VMVHQcOI96e"
    },
    {
      "cell_type": "code",
      "source": [
        "rdd2 = rdd\n",
        "\n",
        "media_goles = (rdd2.map(lambda x: (x.posicion, x.goles)).groupByKey().mapValues(lambda goles: sum(goles) / len(goles)))\n",
        "\n",
        "media_goles = media_goles.collect()\n",
        "for posicion, media in media_goles:\n",
        "    print(f\"Posición: {posicion} => {media}\")\n",
        "\n"
      ],
      "metadata": {
        "colab": {
          "base_uri": "https://localhost:8080/"
        },
        "id": "lmrtYODNGlwv",
        "outputId": "f66ebb43-5320-4844-b0f8-3260c644b45f"
      },
      "id": "lmrtYODNGlwv",
      "execution_count": null,
      "outputs": [
        {
          "output_type": "stream",
          "name": "stdout",
          "text": [
            "Posición: Portero => 11.16564417177914\n",
            "Posición: Delantero Centro => 3.9915032679738562\n",
            "Posición: Extremo Derecho => 2.7236580516898607\n",
            "Posición: Extremo Izquierdo => 3.228448275862069\n",
            "Posición: Mediocentro => 1.4396060134784863\n",
            "Posición: MI => 1.888157894736842\n",
            "Posición: Defensa Central => 0.8948545861297539\n",
            "Posición: MP => 2.9906103286384975\n",
            "Posición: Lateral Derecho => 0.7176820208023774\n",
            "Posición: Lateral Izquierdo => 0.8160377358490566\n",
            "Posición: MD => 1.7279411764705883\n",
            "Posición: Mediocentro Defensivo => 1.0966183574879227\n",
            "Posición: CAI => 1.7142857142857142\n",
            "Posición: MPI => 2.5\n",
            "Posición: PT => 0.5\n",
            "Posición: CAD => 0.4\n",
            "Posición: MPD => 0.0\n"
          ]
        }
      ]
    },
    {
      "cell_type": "markdown",
      "source": [
        "### Realizar una muestra aleatoria de jugadores de entre 20 y 30 años."
      ],
      "metadata": {
        "id": "ciWkKr-ZK-Az"
      },
      "id": "ciWkKr-ZK-Az"
    },
    {
      "cell_type": "code",
      "source": [
        "rdd2 = rdd\n",
        "rdd2= rdd2.filter(lambda x: x.edad >= 20 and x.edad <= 30)\n",
        "rdd2 = rdd2.takeSample(False, 10)\n",
        "rdd2"
      ],
      "metadata": {
        "colab": {
          "base_uri": "https://localhost:8080/"
        },
        "id": "JZ-WM-JPJdQI",
        "outputId": "9a8ff0b0-7a17-4283-ba78-ea16de8ed31e"
      },
      "id": "JZ-WM-JPJdQI",
      "execution_count": null,
      "outputs": [
        {
          "output_type": "execute_result",
          "data": {
            "text/plain": [
              "[Row(id=3983, nombre='M. Ndiaye', partidos_jugados=13, partidos_titular=1, goles=1, asistencias=0, tarjeta_amarilla=1, edad=21, altura=188.0, valor=1000.0, rating=25, posicion='Delantero Centro'),\n",
              " Row(id=4346, nombre='Manuel Cantero', partidos_jugados=25, partidos_titular=21, goles=0, asistencias=0, tarjeta_amarilla=5, edad=28, altura=180.4403976698514, valor=14040.0, rating=46, posicion='Defensa Central'),\n",
              " Row(id=4517, nombre='R. Ruiz', partidos_jugados=4, partidos_titular=1, goles=1, asistencias=0, tarjeta_amarilla=0, edad=22, altura=172.0, valor=3830.0, rating=40, posicion='Mediocentro'),\n",
              " Row(id=10702, nombre='Miguel Tomé', partidos_jugados=30, partidos_titular=29, goles=1, asistencias=0, tarjeta_amarilla=10, edad=23, altura=180.0, valor=9370.0, rating=40, posicion='Mediocentro Defensivo'),\n",
              " Row(id=9861, nombre='Ale Benítez', partidos_jugados=32, partidos_titular=32, goles=0, asistencias=0, tarjeta_amarilla=7, edad=24, altura=175.0, valor=22360.0, rating=45, posicion='Mediocentro'),\n",
              " Row(id=3236, nombre='Fidel', partidos_jugados=18, partidos_titular=5, goles=1, asistencias=0, tarjeta_amarilla=2, edad=23, altura=187.0, valor=29650.0, rating=43, posicion='Lateral Derecho'),\n",
              " Row(id=4098, nombre='G. Zapico', partidos_jugados=29, partidos_titular=29, goles=0, asistencias=1, tarjeta_amarilla=4, edad=21, altura=180.78578537744227, valor=15110.0, rating=42, posicion='Defensa Central'),\n",
              " Row(id=9314, nombre='I. Ferrer', partidos_jugados=21, partidos_titular=18, goles=5, asistencias=0, tarjeta_amarilla=5, edad=21, altura=170.0, valor=12880.0, rating=40, posicion='Extremo Derecho'),\n",
              " Row(id=12078, nombre='Luis Peteiro', partidos_jugados=14, partidos_titular=11, goles=0, asistencias=0, tarjeta_amarilla=1, edad=26, altura=194.0, valor=3710.0, rating=34, posicion='Mediocentro'),\n",
              " Row(id=50, nombre='A. Aranzabe', partidos_jugados=37, partidos_titular=35, goles=6, asistencias=5, tarjeta_amarilla=2, edad=26, altura=177.0, valor=207580.0, rating=52, posicion='Extremo Izquierdo')]"
            ]
          },
          "metadata": {},
          "execution_count": 51
        }
      ]
    },
    {
      "cell_type": "code",
      "source": [],
      "metadata": {
        "id": "l3bWx1Q8LvPb"
      },
      "id": "l3bWx1Q8LvPb",
      "execution_count": null,
      "outputs": []
    }
  ],
  "metadata": {
    "kernelspec": {
      "display_name": "Python 3 (ipykernel)",
      "language": "python",
      "name": "python3"
    },
    "language_info": {
      "codemirror_mode": {
        "name": "ipython",
        "version": 3
      },
      "file_extension": ".py",
      "mimetype": "text/x-python",
      "name": "python",
      "nbconvert_exporter": "python",
      "pygments_lexer": "ipython3",
      "version": "3.12.3"
    },
    "colab": {
      "provenance": [],
      "include_colab_link": true
    }
  },
  "nbformat": 4,
  "nbformat_minor": 5
}
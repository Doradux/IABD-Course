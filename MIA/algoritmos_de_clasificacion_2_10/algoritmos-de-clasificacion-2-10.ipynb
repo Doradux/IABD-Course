{
 "cells": [
  {
   "cell_type": "markdown",
   "metadata": {},
   "source": [
    "# Imports"
   ]
  },
  {
   "cell_type": "code",
   "execution_count": 404,
   "metadata": {
    "execution": {
     "iopub.execute_input": "2025-02-27T03:26:03.491621Z",
     "iopub.status.busy": "2025-02-27T03:26:03.489255Z",
     "iopub.status.idle": "2025-02-27T03:26:03.511576Z",
     "shell.execute_reply": "2025-02-27T03:26:03.508117Z",
     "shell.execute_reply.started": "2025-02-27T03:26:03.491514Z"
    },
    "trusted": true
   },
   "outputs": [],
   "source": [
    "import numpy as np\n",
    "import pandas as pd\n",
    "from datetime import datetime\n",
    "\n",
    "from sklearn.model_selection import train_test_split, GridSearchCV, RandomizedSearchCV\n",
    "from sklearn.preprocessing import StandardScaler, LabelEncoder\n",
    "from sklearn.naive_bayes import GaussianNB\n",
    "from sklearn.svm import SVC\n",
    "from sklearn.linear_model import LogisticRegression\n",
    "from sklearn.tree import DecisionTreeClassifier\n",
    "from sklearn.ensemble import RandomForestClassifier\n",
    "from sklearn.neighbors import KNeighborsClassifier\n",
    "from sklearn.metrics import accuracy_score, classification_report, recall_score, confusion_matrix, f1_score\n",
    "\n",
    "import matplotlib.pyplot as plt\n",
    "import seaborn as sns\n",
    "import warnings\n",
    "warnings.filterwarnings(\"ignore\")"
   ]
  },
  {
   "cell_type": "markdown",
   "metadata": {},
   "source": [
    "# Obtención de Datasets"
   ]
  },
  {
   "cell_type": "code",
   "execution_count": 405,
   "metadata": {
    "_cell_guid": "b1076dfc-b9ad-4769-8c92-a6c4dae69d19",
    "_uuid": "8f2839f25d086af736a60e9eeb907d3b93b6e0e5",
    "execution": {
     "iopub.execute_input": "2025-02-27T01:48:40.302896Z",
     "iopub.status.busy": "2025-02-27T01:48:40.302599Z",
     "iopub.status.idle": "2025-02-27T01:48:44.831919Z",
     "shell.execute_reply": "2025-02-27T01:48:44.830604Z",
     "shell.execute_reply.started": "2025-02-27T01:48:40.302869Z"
    },
    "trusted": true
   },
   "outputs": [
    {
     "name": "stdout",
     "output_type": "stream",
     "text": [
      "Dataset URL: https://www.kaggle.com/datasets/eswarchandt/phishing-website-detector\n",
      "License(s): unknown\n",
      "Downloading phishing-website-detector.zip to .\n",
      "\n"
     ]
    },
    {
     "name": "stderr",
     "output_type": "stream",
     "text": [
      "\n",
      "  0%|          | 0.00/197k [00:00<?, ?B/s]\n",
      "100%|██████████| 197k/197k [00:00<00:00, 609kB/s]\n",
      "100%|██████████| 197k/197k [00:00<00:00, 606kB/s]\n"
     ]
    },
    {
     "name": "stdout",
     "output_type": "stream",
     "text": [
      "Dataset URL: https://www.kaggle.com/datasets/yasserh/wine-quality-dataset\n",
      "License(s): CC0-1.0\n",
      "Downloading wine-quality-dataset.zip to .\n",
      "\n"
     ]
    },
    {
     "name": "stderr",
     "output_type": "stream",
     "text": [
      "\n",
      "  0%|          | 0.00/21.5k [00:00<?, ?B/s]\n",
      "100%|██████████| 21.5k/21.5k [00:00<00:00, 1.34MB/s]\n"
     ]
    },
    {
     "name": "stdout",
     "output_type": "stream",
     "text": [
      "Dataset URL: https://www.kaggle.com/datasets/utkarshx27/breast-cancer-wisconsin-diagnostic-dataset\n",
      "License(s): CC0-1.0\n",
      "Downloading breast-cancer-wisconsin-diagnostic-dataset.zip to .\n",
      "\n"
     ]
    },
    {
     "name": "stderr",
     "output_type": "stream",
     "text": [
      "\n",
      "  0%|          | 0.00/47.7k [00:00<?, ?B/s]\n",
      "100%|██████████| 47.7k/47.7k [00:00<00:00, 543kB/s]\n"
     ]
    },
    {
     "name": "stdout",
     "output_type": "stream",
     "text": [
      "Dataset URL: https://www.kaggle.com/datasets/joebeachcapital/30000-spotify-songs\n",
      "License(s): DbCL-1.0\n",
      "Downloading 30000-spotify-songs.zip to .\n",
      "\n"
     ]
    },
    {
     "name": "stderr",
     "output_type": "stream",
     "text": [
      "\n",
      "  0%|          | 0.00/3.01M [00:00<?, ?B/s]\n",
      " 33%|███▎      | 1.00M/3.01M [00:00<00:01, 2.01MB/s]\n",
      "100%|█████████▉| 3.00M/3.01M [00:00<00:00, 5.16MB/s]\n",
      "100%|██████████| 3.01M/3.01M [00:00<00:00, 4.47MB/s]\n"
     ]
    }
   ],
   "source": [
    "!kaggle datasets download eswarchandt/phishing-website-detector -p . --unzip\n",
    "!kaggle datasets download yasserh/wine-quality-dataset -p . --unzip\n",
    "!kaggle datasets download utkarshx27/breast-cancer-wisconsin-diagnostic-dataset -p . --unzip\n",
    "!kaggle datasets download joebeachcapital/30000-spotify-songs -p . --unzip"
   ]
  },
  {
   "cell_type": "code",
   "execution_count": 406,
   "metadata": {
    "execution": {
     "iopub.execute_input": "2025-02-27T01:48:44.834539Z",
     "iopub.status.busy": "2025-02-27T01:48:44.834094Z",
     "iopub.status.idle": "2025-02-27T01:48:44.967263Z",
     "shell.execute_reply": "2025-02-27T01:48:44.965726Z",
     "shell.execute_reply.started": "2025-02-27T01:48:44.834423Z"
    },
    "trusted": true
   },
   "outputs": [
    {
     "name": "stderr",
     "output_type": "stream",
     "text": [
      "'ls' is not recognized as an internal or external command,\n",
      "operable program or batch file.\n"
     ]
    }
   ],
   "source": [
    "!ls"
   ]
  },
  {
   "cell_type": "code",
   "execution_count": 407,
   "metadata": {
    "execution": {
     "iopub.execute_input": "2025-02-27T01:48:44.969999Z",
     "iopub.status.busy": "2025-02-27T01:48:44.969517Z",
     "iopub.status.idle": "2025-02-27T01:48:45.275768Z",
     "shell.execute_reply": "2025-02-27T01:48:45.274499Z",
     "shell.execute_reply.started": "2025-02-27T01:48:44.969947Z"
    },
    "trusted": true
   },
   "outputs": [],
   "source": [
    "pd.set_option('display.max_columns', None)\n",
    "phishing = pd.read_csv(\"phishing.csv\")\n",
    "wine = pd.read_csv(\"WineQT.csv\")\n",
    "cancer = pd.read_csv(\"brca.csv\")\n",
    "spotify = pd.read_csv(\"spotify_songs.csv\")"
   ]
  },
  {
   "cell_type": "markdown",
   "metadata": {},
   "source": [
    "# Funciones generales"
   ]
  },
  {
   "attachments": {},
   "cell_type": "markdown",
   "metadata": {},
   "source": [
    "### Mostrar nulos"
   ]
  },
  {
   "cell_type": "code",
   "execution_count": 408,
   "metadata": {
    "execution": {
     "iopub.execute_input": "2025-02-27T01:48:45.348951Z",
     "iopub.status.busy": "2025-02-27T01:48:45.348501Z",
     "iopub.status.idle": "2025-02-27T01:48:45.366185Z",
     "shell.execute_reply": "2025-02-27T01:48:45.365101Z",
     "shell.execute_reply.started": "2025-02-27T01:48:45.348909Z"
    },
    "trusted": true
   },
   "outputs": [],
   "source": [
    "def mostrar_nulos(df):\n",
    "    nulos = df.isnull().sum()[df.isnull().sum() > 0]\n",
    "    if nulos.empty:\n",
    "        print(\"No hay nulos en el DataFrame\")\n",
    "    else:\n",
    "        print(\"Columnas con valores nulos:\")\n",
    "        print(nulos)"
   ]
  },
  {
   "cell_type": "markdown",
   "metadata": {},
   "source": [
    "# Funcion para entrenar modelos"
   ]
  },
  {
   "cell_type": "code",
   "execution_count": 409,
   "metadata": {
    "execution": {
     "iopub.execute_input": "2025-02-27T01:48:45.367739Z",
     "iopub.status.busy": "2025-02-27T01:48:45.367313Z",
     "iopub.status.idle": "2025-02-27T01:48:45.378519Z",
     "shell.execute_reply": "2025-02-27T01:48:45.377416Z",
     "shell.execute_reply.started": "2025-02-27T01:48:45.367704Z"
    },
    "trusted": true
   },
   "outputs": [],
   "source": [
    "modelos = {\n",
    "    \"SVM\": SVC(),\n",
    "    \"Regresion Logistica\": LogisticRegression(),\n",
    "    \"Arbol de Decision\": DecisionTreeClassifier(),\n",
    "    \"Random Forest\": RandomForestClassifier(),\n",
    "    \"kNN\": KNeighborsClassifier(n_neighbors=5)\n",
    "}\n",
    "\n",
    "def evaluar_modelo(X, y, modelo_deseado):\n",
    "    nombre = modelo_deseado[0]\n",
    "    modelo = modelo_deseado[1]\n",
    "\n",
    "    X_train, X_test, y_train, y_test = train_test_split(X, y, test_size=0.2, random_state=42)\n",
    "\n",
    "    modelo.fit(X_train, y_train)\n",
    "    y_pred = modelo.predict(X_test)\n",
    "    acc = accuracy_score(y_test, y_pred)\n",
    "    print(f\"{nombre}: {acc:.4f}\")\n",
    "    print(classification_report(y_test, y_pred))"
   ]
  },
  {
   "cell_type": "markdown",
   "metadata": {},
   "source": [
    "# 1. Analisis de Datasets"
   ]
  },
  {
   "cell_type": "markdown",
   "metadata": {},
   "source": [
    "## 1.1. Phishing"
   ]
  },
  {
   "cell_type": "markdown",
   "metadata": {},
   "source": [
    "### Primera vista"
   ]
  },
  {
   "cell_type": "code",
   "execution_count": 410,
   "metadata": {
    "execution": {
     "iopub.execute_input": "2025-02-27T01:48:45.380111Z",
     "iopub.status.busy": "2025-02-27T01:48:45.379769Z",
     "iopub.status.idle": "2025-02-27T01:48:45.410690Z",
     "shell.execute_reply": "2025-02-27T01:48:45.409491Z",
     "shell.execute_reply.started": "2025-02-27T01:48:45.380080Z"
    },
    "trusted": true
   },
   "outputs": [
    {
     "data": {
      "text/html": [
       "<div>\n",
       "<style scoped>\n",
       "    .dataframe tbody tr th:only-of-type {\n",
       "        vertical-align: middle;\n",
       "    }\n",
       "\n",
       "    .dataframe tbody tr th {\n",
       "        vertical-align: top;\n",
       "    }\n",
       "\n",
       "    .dataframe thead th {\n",
       "        text-align: right;\n",
       "    }\n",
       "</style>\n",
       "<table border=\"1\" class=\"dataframe\">\n",
       "  <thead>\n",
       "    <tr style=\"text-align: right;\">\n",
       "      <th></th>\n",
       "      <th>Index</th>\n",
       "      <th>UsingIP</th>\n",
       "      <th>LongURL</th>\n",
       "      <th>ShortURL</th>\n",
       "      <th>Symbol@</th>\n",
       "      <th>Redirecting//</th>\n",
       "      <th>PrefixSuffix-</th>\n",
       "      <th>SubDomains</th>\n",
       "      <th>HTTPS</th>\n",
       "      <th>DomainRegLen</th>\n",
       "      <th>Favicon</th>\n",
       "      <th>NonStdPort</th>\n",
       "      <th>HTTPSDomainURL</th>\n",
       "      <th>RequestURL</th>\n",
       "      <th>AnchorURL</th>\n",
       "      <th>LinksInScriptTags</th>\n",
       "      <th>ServerFormHandler</th>\n",
       "      <th>InfoEmail</th>\n",
       "      <th>AbnormalURL</th>\n",
       "      <th>WebsiteForwarding</th>\n",
       "      <th>StatusBarCust</th>\n",
       "      <th>DisableRightClick</th>\n",
       "      <th>UsingPopupWindow</th>\n",
       "      <th>IframeRedirection</th>\n",
       "      <th>AgeofDomain</th>\n",
       "      <th>DNSRecording</th>\n",
       "      <th>WebsiteTraffic</th>\n",
       "      <th>PageRank</th>\n",
       "      <th>GoogleIndex</th>\n",
       "      <th>LinksPointingToPage</th>\n",
       "      <th>StatsReport</th>\n",
       "      <th>class</th>\n",
       "    </tr>\n",
       "  </thead>\n",
       "  <tbody>\n",
       "    <tr>\n",
       "      <th>0</th>\n",
       "      <td>0</td>\n",
       "      <td>1</td>\n",
       "      <td>1</td>\n",
       "      <td>1</td>\n",
       "      <td>1</td>\n",
       "      <td>1</td>\n",
       "      <td>-1</td>\n",
       "      <td>0</td>\n",
       "      <td>1</td>\n",
       "      <td>-1</td>\n",
       "      <td>1</td>\n",
       "      <td>1</td>\n",
       "      <td>-1</td>\n",
       "      <td>1</td>\n",
       "      <td>0</td>\n",
       "      <td>-1</td>\n",
       "      <td>-1</td>\n",
       "      <td>1</td>\n",
       "      <td>1</td>\n",
       "      <td>0</td>\n",
       "      <td>1</td>\n",
       "      <td>1</td>\n",
       "      <td>1</td>\n",
       "      <td>1</td>\n",
       "      <td>-1</td>\n",
       "      <td>-1</td>\n",
       "      <td>0</td>\n",
       "      <td>-1</td>\n",
       "      <td>1</td>\n",
       "      <td>1</td>\n",
       "      <td>1</td>\n",
       "      <td>-1</td>\n",
       "    </tr>\n",
       "    <tr>\n",
       "      <th>1</th>\n",
       "      <td>1</td>\n",
       "      <td>1</td>\n",
       "      <td>0</td>\n",
       "      <td>1</td>\n",
       "      <td>1</td>\n",
       "      <td>1</td>\n",
       "      <td>-1</td>\n",
       "      <td>-1</td>\n",
       "      <td>-1</td>\n",
       "      <td>-1</td>\n",
       "      <td>1</td>\n",
       "      <td>1</td>\n",
       "      <td>-1</td>\n",
       "      <td>1</td>\n",
       "      <td>0</td>\n",
       "      <td>-1</td>\n",
       "      <td>-1</td>\n",
       "      <td>-1</td>\n",
       "      <td>-1</td>\n",
       "      <td>0</td>\n",
       "      <td>1</td>\n",
       "      <td>1</td>\n",
       "      <td>1</td>\n",
       "      <td>1</td>\n",
       "      <td>1</td>\n",
       "      <td>-1</td>\n",
       "      <td>1</td>\n",
       "      <td>-1</td>\n",
       "      <td>1</td>\n",
       "      <td>0</td>\n",
       "      <td>-1</td>\n",
       "      <td>-1</td>\n",
       "    </tr>\n",
       "    <tr>\n",
       "      <th>2</th>\n",
       "      <td>2</td>\n",
       "      <td>1</td>\n",
       "      <td>0</td>\n",
       "      <td>1</td>\n",
       "      <td>1</td>\n",
       "      <td>1</td>\n",
       "      <td>-1</td>\n",
       "      <td>-1</td>\n",
       "      <td>-1</td>\n",
       "      <td>1</td>\n",
       "      <td>1</td>\n",
       "      <td>1</td>\n",
       "      <td>-1</td>\n",
       "      <td>-1</td>\n",
       "      <td>0</td>\n",
       "      <td>0</td>\n",
       "      <td>-1</td>\n",
       "      <td>1</td>\n",
       "      <td>1</td>\n",
       "      <td>0</td>\n",
       "      <td>1</td>\n",
       "      <td>1</td>\n",
       "      <td>1</td>\n",
       "      <td>1</td>\n",
       "      <td>-1</td>\n",
       "      <td>-1</td>\n",
       "      <td>1</td>\n",
       "      <td>-1</td>\n",
       "      <td>1</td>\n",
       "      <td>-1</td>\n",
       "      <td>1</td>\n",
       "      <td>-1</td>\n",
       "    </tr>\n",
       "    <tr>\n",
       "      <th>3</th>\n",
       "      <td>3</td>\n",
       "      <td>1</td>\n",
       "      <td>0</td>\n",
       "      <td>-1</td>\n",
       "      <td>1</td>\n",
       "      <td>1</td>\n",
       "      <td>-1</td>\n",
       "      <td>1</td>\n",
       "      <td>1</td>\n",
       "      <td>-1</td>\n",
       "      <td>1</td>\n",
       "      <td>1</td>\n",
       "      <td>1</td>\n",
       "      <td>1</td>\n",
       "      <td>0</td>\n",
       "      <td>0</td>\n",
       "      <td>-1</td>\n",
       "      <td>1</td>\n",
       "      <td>1</td>\n",
       "      <td>0</td>\n",
       "      <td>-1</td>\n",
       "      <td>1</td>\n",
       "      <td>-1</td>\n",
       "      <td>1</td>\n",
       "      <td>-1</td>\n",
       "      <td>-1</td>\n",
       "      <td>0</td>\n",
       "      <td>-1</td>\n",
       "      <td>1</td>\n",
       "      <td>1</td>\n",
       "      <td>1</td>\n",
       "      <td>1</td>\n",
       "    </tr>\n",
       "    <tr>\n",
       "      <th>4</th>\n",
       "      <td>4</td>\n",
       "      <td>-1</td>\n",
       "      <td>0</td>\n",
       "      <td>-1</td>\n",
       "      <td>1</td>\n",
       "      <td>-1</td>\n",
       "      <td>-1</td>\n",
       "      <td>1</td>\n",
       "      <td>1</td>\n",
       "      <td>-1</td>\n",
       "      <td>1</td>\n",
       "      <td>1</td>\n",
       "      <td>-1</td>\n",
       "      <td>1</td>\n",
       "      <td>0</td>\n",
       "      <td>0</td>\n",
       "      <td>-1</td>\n",
       "      <td>-1</td>\n",
       "      <td>-1</td>\n",
       "      <td>0</td>\n",
       "      <td>1</td>\n",
       "      <td>1</td>\n",
       "      <td>1</td>\n",
       "      <td>1</td>\n",
       "      <td>1</td>\n",
       "      <td>1</td>\n",
       "      <td>1</td>\n",
       "      <td>-1</td>\n",
       "      <td>1</td>\n",
       "      <td>-1</td>\n",
       "      <td>-1</td>\n",
       "      <td>1</td>\n",
       "    </tr>\n",
       "  </tbody>\n",
       "</table>\n",
       "</div>"
      ],
      "text/plain": [
       "   Index  UsingIP  LongURL  ShortURL  Symbol@  Redirecting//  PrefixSuffix-  \\\n",
       "0      0        1        1         1        1              1             -1   \n",
       "1      1        1        0         1        1              1             -1   \n",
       "2      2        1        0         1        1              1             -1   \n",
       "3      3        1        0        -1        1              1             -1   \n",
       "4      4       -1        0        -1        1             -1             -1   \n",
       "\n",
       "   SubDomains  HTTPS  DomainRegLen  Favicon  NonStdPort  HTTPSDomainURL  \\\n",
       "0           0      1            -1        1           1              -1   \n",
       "1          -1     -1            -1        1           1              -1   \n",
       "2          -1     -1             1        1           1              -1   \n",
       "3           1      1            -1        1           1               1   \n",
       "4           1      1            -1        1           1              -1   \n",
       "\n",
       "   RequestURL  AnchorURL  LinksInScriptTags  ServerFormHandler  InfoEmail  \\\n",
       "0           1          0                 -1                 -1          1   \n",
       "1           1          0                 -1                 -1         -1   \n",
       "2          -1          0                  0                 -1          1   \n",
       "3           1          0                  0                 -1          1   \n",
       "4           1          0                  0                 -1         -1   \n",
       "\n",
       "   AbnormalURL  WebsiteForwarding  StatusBarCust  DisableRightClick  \\\n",
       "0            1                  0              1                  1   \n",
       "1           -1                  0              1                  1   \n",
       "2            1                  0              1                  1   \n",
       "3            1                  0             -1                  1   \n",
       "4           -1                  0              1                  1   \n",
       "\n",
       "   UsingPopupWindow  IframeRedirection  AgeofDomain  DNSRecording  \\\n",
       "0                 1                  1           -1            -1   \n",
       "1                 1                  1            1            -1   \n",
       "2                 1                  1           -1            -1   \n",
       "3                -1                  1           -1            -1   \n",
       "4                 1                  1            1             1   \n",
       "\n",
       "   WebsiteTraffic  PageRank  GoogleIndex  LinksPointingToPage  StatsReport  \\\n",
       "0               0        -1            1                    1            1   \n",
       "1               1        -1            1                    0           -1   \n",
       "2               1        -1            1                   -1            1   \n",
       "3               0        -1            1                    1            1   \n",
       "4               1        -1            1                   -1           -1   \n",
       "\n",
       "   class  \n",
       "0     -1  \n",
       "1     -1  \n",
       "2     -1  \n",
       "3      1  \n",
       "4      1  "
      ]
     },
     "execution_count": 410,
     "metadata": {},
     "output_type": "execute_result"
    }
   ],
   "source": [
    "phishing.head(5)"
   ]
  },
  {
   "cell_type": "markdown",
   "metadata": {},
   "source": [
    "### Eliminamos el identificador"
   ]
  },
  {
   "cell_type": "code",
   "execution_count": 411,
   "metadata": {
    "execution": {
     "iopub.execute_input": "2025-02-27T01:48:45.411960Z",
     "iopub.status.busy": "2025-02-27T01:48:45.411637Z",
     "iopub.status.idle": "2025-02-27T01:48:45.427954Z",
     "shell.execute_reply": "2025-02-27T01:48:45.426800Z",
     "shell.execute_reply.started": "2025-02-27T01:48:45.411929Z"
    },
    "trusted": true
   },
   "outputs": [],
   "source": [
    "phishing = phishing.drop(columns=[\"Index\"])"
   ]
  },
  {
   "cell_type": "code",
   "execution_count": 412,
   "metadata": {
    "execution": {
     "iopub.execute_input": "2025-02-27T01:48:45.429505Z",
     "iopub.status.busy": "2025-02-27T01:48:45.429130Z",
     "iopub.status.idle": "2025-02-27T01:48:45.449217Z",
     "shell.execute_reply": "2025-02-27T01:48:45.447818Z",
     "shell.execute_reply.started": "2025-02-27T01:48:45.429465Z"
    },
    "trusted": true
   },
   "outputs": [
    {
     "name": "stdout",
     "output_type": "stream",
     "text": [
      "int64    30\n",
      "Name: count, dtype: int64\n"
     ]
    }
   ],
   "source": [
    "X_phishing = phishing.drop(columns=[\"class\"])\n",
    "y_phishing = phishing[\"class\"]\n",
    "\n",
    "print(X_phishing.dtypes.value_counts())"
   ]
  },
  {
   "cell_type": "markdown",
   "metadata": {},
   "source": [
    "### Comprobamos nulos"
   ]
  },
  {
   "cell_type": "code",
   "execution_count": 413,
   "metadata": {
    "execution": {
     "iopub.execute_input": "2025-02-27T01:48:45.450639Z",
     "iopub.status.busy": "2025-02-27T01:48:45.450250Z",
     "iopub.status.idle": "2025-02-27T01:48:45.471072Z",
     "shell.execute_reply": "2025-02-27T01:48:45.469839Z",
     "shell.execute_reply.started": "2025-02-27T01:48:45.450602Z"
    },
    "trusted": true
   },
   "outputs": [
    {
     "name": "stdout",
     "output_type": "stream",
     "text": [
      "No hay nulos en el DataFrame\n"
     ]
    }
   ],
   "source": [
    "mostrar_nulos(X_phishing)"
   ]
  },
  {
   "cell_type": "markdown",
   "metadata": {},
   "source": [
    "### Describe"
   ]
  },
  {
   "cell_type": "code",
   "execution_count": 414,
   "metadata": {
    "execution": {
     "iopub.execute_input": "2025-02-27T01:48:45.472521Z",
     "iopub.status.busy": "2025-02-27T01:48:45.472164Z",
     "iopub.status.idle": "2025-02-27T01:48:45.563465Z",
     "shell.execute_reply": "2025-02-27T01:48:45.562351Z",
     "shell.execute_reply.started": "2025-02-27T01:48:45.472490Z"
    },
    "trusted": true
   },
   "outputs": [
    {
     "data": {
      "text/html": [
       "<div>\n",
       "<style scoped>\n",
       "    .dataframe tbody tr th:only-of-type {\n",
       "        vertical-align: middle;\n",
       "    }\n",
       "\n",
       "    .dataframe tbody tr th {\n",
       "        vertical-align: top;\n",
       "    }\n",
       "\n",
       "    .dataframe thead th {\n",
       "        text-align: right;\n",
       "    }\n",
       "</style>\n",
       "<table border=\"1\" class=\"dataframe\">\n",
       "  <thead>\n",
       "    <tr style=\"text-align: right;\">\n",
       "      <th></th>\n",
       "      <th>count</th>\n",
       "      <th>mean</th>\n",
       "      <th>std</th>\n",
       "      <th>min</th>\n",
       "      <th>25%</th>\n",
       "      <th>50%</th>\n",
       "      <th>75%</th>\n",
       "      <th>max</th>\n",
       "    </tr>\n",
       "  </thead>\n",
       "  <tbody>\n",
       "    <tr>\n",
       "      <th>UsingIP</th>\n",
       "      <td>11054.0</td>\n",
       "      <td>0.313914</td>\n",
       "      <td>0.949495</td>\n",
       "      <td>-1.0</td>\n",
       "      <td>-1.0</td>\n",
       "      <td>1.0</td>\n",
       "      <td>1.0</td>\n",
       "      <td>1.0</td>\n",
       "    </tr>\n",
       "    <tr>\n",
       "      <th>LongURL</th>\n",
       "      <td>11054.0</td>\n",
       "      <td>-0.633345</td>\n",
       "      <td>0.765973</td>\n",
       "      <td>-1.0</td>\n",
       "      <td>-1.0</td>\n",
       "      <td>-1.0</td>\n",
       "      <td>-1.0</td>\n",
       "      <td>1.0</td>\n",
       "    </tr>\n",
       "    <tr>\n",
       "      <th>ShortURL</th>\n",
       "      <td>11054.0</td>\n",
       "      <td>0.738737</td>\n",
       "      <td>0.674024</td>\n",
       "      <td>-1.0</td>\n",
       "      <td>1.0</td>\n",
       "      <td>1.0</td>\n",
       "      <td>1.0</td>\n",
       "      <td>1.0</td>\n",
       "    </tr>\n",
       "    <tr>\n",
       "      <th>Symbol@</th>\n",
       "      <td>11054.0</td>\n",
       "      <td>0.700561</td>\n",
       "      <td>0.713625</td>\n",
       "      <td>-1.0</td>\n",
       "      <td>1.0</td>\n",
       "      <td>1.0</td>\n",
       "      <td>1.0</td>\n",
       "      <td>1.0</td>\n",
       "    </tr>\n",
       "    <tr>\n",
       "      <th>Redirecting//</th>\n",
       "      <td>11054.0</td>\n",
       "      <td>0.741632</td>\n",
       "      <td>0.670837</td>\n",
       "      <td>-1.0</td>\n",
       "      <td>1.0</td>\n",
       "      <td>1.0</td>\n",
       "      <td>1.0</td>\n",
       "      <td>1.0</td>\n",
       "    </tr>\n",
       "    <tr>\n",
       "      <th>PrefixSuffix-</th>\n",
       "      <td>11054.0</td>\n",
       "      <td>-0.734938</td>\n",
       "      <td>0.678165</td>\n",
       "      <td>-1.0</td>\n",
       "      <td>-1.0</td>\n",
       "      <td>-1.0</td>\n",
       "      <td>-1.0</td>\n",
       "      <td>1.0</td>\n",
       "    </tr>\n",
       "    <tr>\n",
       "      <th>SubDomains</th>\n",
       "      <td>11054.0</td>\n",
       "      <td>0.064049</td>\n",
       "      <td>0.817492</td>\n",
       "      <td>-1.0</td>\n",
       "      <td>-1.0</td>\n",
       "      <td>0.0</td>\n",
       "      <td>1.0</td>\n",
       "      <td>1.0</td>\n",
       "    </tr>\n",
       "    <tr>\n",
       "      <th>HTTPS</th>\n",
       "      <td>11054.0</td>\n",
       "      <td>0.251040</td>\n",
       "      <td>0.911856</td>\n",
       "      <td>-1.0</td>\n",
       "      <td>-1.0</td>\n",
       "      <td>1.0</td>\n",
       "      <td>1.0</td>\n",
       "      <td>1.0</td>\n",
       "    </tr>\n",
       "    <tr>\n",
       "      <th>DomainRegLen</th>\n",
       "      <td>11054.0</td>\n",
       "      <td>-0.336711</td>\n",
       "      <td>0.941651</td>\n",
       "      <td>-1.0</td>\n",
       "      <td>-1.0</td>\n",
       "      <td>-1.0</td>\n",
       "      <td>1.0</td>\n",
       "      <td>1.0</td>\n",
       "    </tr>\n",
       "    <tr>\n",
       "      <th>Favicon</th>\n",
       "      <td>11054.0</td>\n",
       "      <td>0.628551</td>\n",
       "      <td>0.777804</td>\n",
       "      <td>-1.0</td>\n",
       "      <td>1.0</td>\n",
       "      <td>1.0</td>\n",
       "      <td>1.0</td>\n",
       "      <td>1.0</td>\n",
       "    </tr>\n",
       "    <tr>\n",
       "      <th>NonStdPort</th>\n",
       "      <td>11054.0</td>\n",
       "      <td>0.728243</td>\n",
       "      <td>0.685350</td>\n",
       "      <td>-1.0</td>\n",
       "      <td>1.0</td>\n",
       "      <td>1.0</td>\n",
       "      <td>1.0</td>\n",
       "      <td>1.0</td>\n",
       "    </tr>\n",
       "    <tr>\n",
       "      <th>HTTPSDomainURL</th>\n",
       "      <td>11054.0</td>\n",
       "      <td>0.675231</td>\n",
       "      <td>0.737640</td>\n",
       "      <td>-1.0</td>\n",
       "      <td>1.0</td>\n",
       "      <td>1.0</td>\n",
       "      <td>1.0</td>\n",
       "      <td>1.0</td>\n",
       "    </tr>\n",
       "    <tr>\n",
       "      <th>RequestURL</th>\n",
       "      <td>11054.0</td>\n",
       "      <td>0.186720</td>\n",
       "      <td>0.982458</td>\n",
       "      <td>-1.0</td>\n",
       "      <td>-1.0</td>\n",
       "      <td>1.0</td>\n",
       "      <td>1.0</td>\n",
       "      <td>1.0</td>\n",
       "    </tr>\n",
       "    <tr>\n",
       "      <th>AnchorURL</th>\n",
       "      <td>11054.0</td>\n",
       "      <td>-0.076443</td>\n",
       "      <td>0.715116</td>\n",
       "      <td>-1.0</td>\n",
       "      <td>-1.0</td>\n",
       "      <td>0.0</td>\n",
       "      <td>0.0</td>\n",
       "      <td>1.0</td>\n",
       "    </tr>\n",
       "    <tr>\n",
       "      <th>LinksInScriptTags</th>\n",
       "      <td>11054.0</td>\n",
       "      <td>-0.118238</td>\n",
       "      <td>0.763933</td>\n",
       "      <td>-1.0</td>\n",
       "      <td>-1.0</td>\n",
       "      <td>0.0</td>\n",
       "      <td>0.0</td>\n",
       "      <td>1.0</td>\n",
       "    </tr>\n",
       "    <tr>\n",
       "      <th>ServerFormHandler</th>\n",
       "      <td>11054.0</td>\n",
       "      <td>-0.595712</td>\n",
       "      <td>0.759168</td>\n",
       "      <td>-1.0</td>\n",
       "      <td>-1.0</td>\n",
       "      <td>-1.0</td>\n",
       "      <td>-1.0</td>\n",
       "      <td>1.0</td>\n",
       "    </tr>\n",
       "    <tr>\n",
       "      <th>InfoEmail</th>\n",
       "      <td>11054.0</td>\n",
       "      <td>0.635788</td>\n",
       "      <td>0.771899</td>\n",
       "      <td>-1.0</td>\n",
       "      <td>1.0</td>\n",
       "      <td>1.0</td>\n",
       "      <td>1.0</td>\n",
       "      <td>1.0</td>\n",
       "    </tr>\n",
       "    <tr>\n",
       "      <th>AbnormalURL</th>\n",
       "      <td>11054.0</td>\n",
       "      <td>0.705446</td>\n",
       "      <td>0.708796</td>\n",
       "      <td>-1.0</td>\n",
       "      <td>1.0</td>\n",
       "      <td>1.0</td>\n",
       "      <td>1.0</td>\n",
       "      <td>1.0</td>\n",
       "    </tr>\n",
       "    <tr>\n",
       "      <th>WebsiteForwarding</th>\n",
       "      <td>11054.0</td>\n",
       "      <td>0.115705</td>\n",
       "      <td>0.319885</td>\n",
       "      <td>0.0</td>\n",
       "      <td>0.0</td>\n",
       "      <td>0.0</td>\n",
       "      <td>0.0</td>\n",
       "      <td>1.0</td>\n",
       "    </tr>\n",
       "    <tr>\n",
       "      <th>StatusBarCust</th>\n",
       "      <td>11054.0</td>\n",
       "      <td>0.762077</td>\n",
       "      <td>0.647516</td>\n",
       "      <td>-1.0</td>\n",
       "      <td>1.0</td>\n",
       "      <td>1.0</td>\n",
       "      <td>1.0</td>\n",
       "      <td>1.0</td>\n",
       "    </tr>\n",
       "    <tr>\n",
       "      <th>DisableRightClick</th>\n",
       "      <td>11054.0</td>\n",
       "      <td>0.913877</td>\n",
       "      <td>0.406009</td>\n",
       "      <td>-1.0</td>\n",
       "      <td>1.0</td>\n",
       "      <td>1.0</td>\n",
       "      <td>1.0</td>\n",
       "      <td>1.0</td>\n",
       "    </tr>\n",
       "    <tr>\n",
       "      <th>UsingPopupWindow</th>\n",
       "      <td>11054.0</td>\n",
       "      <td>0.613353</td>\n",
       "      <td>0.789845</td>\n",
       "      <td>-1.0</td>\n",
       "      <td>1.0</td>\n",
       "      <td>1.0</td>\n",
       "      <td>1.0</td>\n",
       "      <td>1.0</td>\n",
       "    </tr>\n",
       "    <tr>\n",
       "      <th>IframeRedirection</th>\n",
       "      <td>11054.0</td>\n",
       "      <td>0.816899</td>\n",
       "      <td>0.576807</td>\n",
       "      <td>-1.0</td>\n",
       "      <td>1.0</td>\n",
       "      <td>1.0</td>\n",
       "      <td>1.0</td>\n",
       "      <td>1.0</td>\n",
       "    </tr>\n",
       "    <tr>\n",
       "      <th>AgeofDomain</th>\n",
       "      <td>11054.0</td>\n",
       "      <td>0.061335</td>\n",
       "      <td>0.998162</td>\n",
       "      <td>-1.0</td>\n",
       "      <td>-1.0</td>\n",
       "      <td>1.0</td>\n",
       "      <td>1.0</td>\n",
       "      <td>1.0</td>\n",
       "    </tr>\n",
       "    <tr>\n",
       "      <th>DNSRecording</th>\n",
       "      <td>11054.0</td>\n",
       "      <td>0.377239</td>\n",
       "      <td>0.926158</td>\n",
       "      <td>-1.0</td>\n",
       "      <td>-1.0</td>\n",
       "      <td>1.0</td>\n",
       "      <td>1.0</td>\n",
       "      <td>1.0</td>\n",
       "    </tr>\n",
       "    <tr>\n",
       "      <th>WebsiteTraffic</th>\n",
       "      <td>11054.0</td>\n",
       "      <td>0.287407</td>\n",
       "      <td>0.827680</td>\n",
       "      <td>-1.0</td>\n",
       "      <td>0.0</td>\n",
       "      <td>1.0</td>\n",
       "      <td>1.0</td>\n",
       "      <td>1.0</td>\n",
       "    </tr>\n",
       "    <tr>\n",
       "      <th>PageRank</th>\n",
       "      <td>11054.0</td>\n",
       "      <td>-0.483626</td>\n",
       "      <td>0.875314</td>\n",
       "      <td>-1.0</td>\n",
       "      <td>-1.0</td>\n",
       "      <td>-1.0</td>\n",
       "      <td>1.0</td>\n",
       "      <td>1.0</td>\n",
       "    </tr>\n",
       "    <tr>\n",
       "      <th>GoogleIndex</th>\n",
       "      <td>11054.0</td>\n",
       "      <td>0.721549</td>\n",
       "      <td>0.692395</td>\n",
       "      <td>-1.0</td>\n",
       "      <td>1.0</td>\n",
       "      <td>1.0</td>\n",
       "      <td>1.0</td>\n",
       "      <td>1.0</td>\n",
       "    </tr>\n",
       "    <tr>\n",
       "      <th>LinksPointingToPage</th>\n",
       "      <td>11054.0</td>\n",
       "      <td>0.343948</td>\n",
       "      <td>0.569936</td>\n",
       "      <td>-1.0</td>\n",
       "      <td>0.0</td>\n",
       "      <td>0.0</td>\n",
       "      <td>1.0</td>\n",
       "      <td>1.0</td>\n",
       "    </tr>\n",
       "    <tr>\n",
       "      <th>StatsReport</th>\n",
       "      <td>11054.0</td>\n",
       "      <td>0.719739</td>\n",
       "      <td>0.694276</td>\n",
       "      <td>-1.0</td>\n",
       "      <td>1.0</td>\n",
       "      <td>1.0</td>\n",
       "      <td>1.0</td>\n",
       "      <td>1.0</td>\n",
       "    </tr>\n",
       "  </tbody>\n",
       "</table>\n",
       "</div>"
      ],
      "text/plain": [
       "                       count      mean       std  min  25%  50%  75%  max\n",
       "UsingIP              11054.0  0.313914  0.949495 -1.0 -1.0  1.0  1.0  1.0\n",
       "LongURL              11054.0 -0.633345  0.765973 -1.0 -1.0 -1.0 -1.0  1.0\n",
       "ShortURL             11054.0  0.738737  0.674024 -1.0  1.0  1.0  1.0  1.0\n",
       "Symbol@              11054.0  0.700561  0.713625 -1.0  1.0  1.0  1.0  1.0\n",
       "Redirecting//        11054.0  0.741632  0.670837 -1.0  1.0  1.0  1.0  1.0\n",
       "PrefixSuffix-        11054.0 -0.734938  0.678165 -1.0 -1.0 -1.0 -1.0  1.0\n",
       "SubDomains           11054.0  0.064049  0.817492 -1.0 -1.0  0.0  1.0  1.0\n",
       "HTTPS                11054.0  0.251040  0.911856 -1.0 -1.0  1.0  1.0  1.0\n",
       "DomainRegLen         11054.0 -0.336711  0.941651 -1.0 -1.0 -1.0  1.0  1.0\n",
       "Favicon              11054.0  0.628551  0.777804 -1.0  1.0  1.0  1.0  1.0\n",
       "NonStdPort           11054.0  0.728243  0.685350 -1.0  1.0  1.0  1.0  1.0\n",
       "HTTPSDomainURL       11054.0  0.675231  0.737640 -1.0  1.0  1.0  1.0  1.0\n",
       "RequestURL           11054.0  0.186720  0.982458 -1.0 -1.0  1.0  1.0  1.0\n",
       "AnchorURL            11054.0 -0.076443  0.715116 -1.0 -1.0  0.0  0.0  1.0\n",
       "LinksInScriptTags    11054.0 -0.118238  0.763933 -1.0 -1.0  0.0  0.0  1.0\n",
       "ServerFormHandler    11054.0 -0.595712  0.759168 -1.0 -1.0 -1.0 -1.0  1.0\n",
       "InfoEmail            11054.0  0.635788  0.771899 -1.0  1.0  1.0  1.0  1.0\n",
       "AbnormalURL          11054.0  0.705446  0.708796 -1.0  1.0  1.0  1.0  1.0\n",
       "WebsiteForwarding    11054.0  0.115705  0.319885  0.0  0.0  0.0  0.0  1.0\n",
       "StatusBarCust        11054.0  0.762077  0.647516 -1.0  1.0  1.0  1.0  1.0\n",
       "DisableRightClick    11054.0  0.913877  0.406009 -1.0  1.0  1.0  1.0  1.0\n",
       "UsingPopupWindow     11054.0  0.613353  0.789845 -1.0  1.0  1.0  1.0  1.0\n",
       "IframeRedirection    11054.0  0.816899  0.576807 -1.0  1.0  1.0  1.0  1.0\n",
       "AgeofDomain          11054.0  0.061335  0.998162 -1.0 -1.0  1.0  1.0  1.0\n",
       "DNSRecording         11054.0  0.377239  0.926158 -1.0 -1.0  1.0  1.0  1.0\n",
       "WebsiteTraffic       11054.0  0.287407  0.827680 -1.0  0.0  1.0  1.0  1.0\n",
       "PageRank             11054.0 -0.483626  0.875314 -1.0 -1.0 -1.0  1.0  1.0\n",
       "GoogleIndex          11054.0  0.721549  0.692395 -1.0  1.0  1.0  1.0  1.0\n",
       "LinksPointingToPage  11054.0  0.343948  0.569936 -1.0  0.0  0.0  1.0  1.0\n",
       "StatsReport          11054.0  0.719739  0.694276 -1.0  1.0  1.0  1.0  1.0"
      ]
     },
     "execution_count": 414,
     "metadata": {},
     "output_type": "execute_result"
    }
   ],
   "source": [
    "X_phishing.describe().T"
   ]
  },
  {
   "cell_type": "markdown",
   "metadata": {},
   "source": [
    "## 1.2. Cancer Breast"
   ]
  },
  {
   "cell_type": "markdown",
   "metadata": {},
   "source": [
    "### Primera vista"
   ]
  },
  {
   "cell_type": "code",
   "execution_count": 415,
   "metadata": {
    "execution": {
     "iopub.execute_input": "2025-02-27T01:48:45.564990Z",
     "iopub.status.busy": "2025-02-27T01:48:45.564680Z",
     "iopub.status.idle": "2025-02-27T01:48:45.598531Z",
     "shell.execute_reply": "2025-02-27T01:48:45.597506Z",
     "shell.execute_reply.started": "2025-02-27T01:48:45.564961Z"
    },
    "trusted": true
   },
   "outputs": [
    {
     "data": {
      "text/html": [
       "<div>\n",
       "<style scoped>\n",
       "    .dataframe tbody tr th:only-of-type {\n",
       "        vertical-align: middle;\n",
       "    }\n",
       "\n",
       "    .dataframe tbody tr th {\n",
       "        vertical-align: top;\n",
       "    }\n",
       "\n",
       "    .dataframe thead th {\n",
       "        text-align: right;\n",
       "    }\n",
       "</style>\n",
       "<table border=\"1\" class=\"dataframe\">\n",
       "  <thead>\n",
       "    <tr style=\"text-align: right;\">\n",
       "      <th></th>\n",
       "      <th>Unnamed: 0</th>\n",
       "      <th>x.radius_mean</th>\n",
       "      <th>x.texture_mean</th>\n",
       "      <th>x.perimeter_mean</th>\n",
       "      <th>x.area_mean</th>\n",
       "      <th>x.smoothness_mean</th>\n",
       "      <th>x.compactness_mean</th>\n",
       "      <th>x.concavity_mean</th>\n",
       "      <th>x.concave_pts_mean</th>\n",
       "      <th>x.symmetry_mean</th>\n",
       "      <th>x.fractal_dim_mean</th>\n",
       "      <th>x.radius_se</th>\n",
       "      <th>x.texture_se</th>\n",
       "      <th>x.perimeter_se</th>\n",
       "      <th>x.area_se</th>\n",
       "      <th>x.smoothness_se</th>\n",
       "      <th>x.compactness_se</th>\n",
       "      <th>x.concavity_se</th>\n",
       "      <th>x.concave_pts_se</th>\n",
       "      <th>x.symmetry_se</th>\n",
       "      <th>x.fractal_dim_se</th>\n",
       "      <th>x.radius_worst</th>\n",
       "      <th>x.texture_worst</th>\n",
       "      <th>x.perimeter_worst</th>\n",
       "      <th>x.area_worst</th>\n",
       "      <th>x.smoothness_worst</th>\n",
       "      <th>x.compactness_worst</th>\n",
       "      <th>x.concavity_worst</th>\n",
       "      <th>x.concave_pts_worst</th>\n",
       "      <th>x.symmetry_worst</th>\n",
       "      <th>x.fractal_dim_worst</th>\n",
       "      <th>y</th>\n",
       "    </tr>\n",
       "  </thead>\n",
       "  <tbody>\n",
       "    <tr>\n",
       "      <th>0</th>\n",
       "      <td>1</td>\n",
       "      <td>13.540</td>\n",
       "      <td>14.36</td>\n",
       "      <td>87.46</td>\n",
       "      <td>566.3</td>\n",
       "      <td>0.09779</td>\n",
       "      <td>0.08129</td>\n",
       "      <td>0.06664</td>\n",
       "      <td>0.047810</td>\n",
       "      <td>0.1885</td>\n",
       "      <td>0.05766</td>\n",
       "      <td>0.2699</td>\n",
       "      <td>0.7886</td>\n",
       "      <td>2.058</td>\n",
       "      <td>23.560</td>\n",
       "      <td>0.008462</td>\n",
       "      <td>0.014600</td>\n",
       "      <td>0.02387</td>\n",
       "      <td>0.013150</td>\n",
       "      <td>0.01980</td>\n",
       "      <td>0.002300</td>\n",
       "      <td>15.110</td>\n",
       "      <td>19.26</td>\n",
       "      <td>99.70</td>\n",
       "      <td>711.2</td>\n",
       "      <td>0.14400</td>\n",
       "      <td>0.17730</td>\n",
       "      <td>0.23900</td>\n",
       "      <td>0.12880</td>\n",
       "      <td>0.2977</td>\n",
       "      <td>0.07259</td>\n",
       "      <td>B</td>\n",
       "    </tr>\n",
       "    <tr>\n",
       "      <th>1</th>\n",
       "      <td>2</td>\n",
       "      <td>13.080</td>\n",
       "      <td>15.71</td>\n",
       "      <td>85.63</td>\n",
       "      <td>520.0</td>\n",
       "      <td>0.10750</td>\n",
       "      <td>0.12700</td>\n",
       "      <td>0.04568</td>\n",
       "      <td>0.031100</td>\n",
       "      <td>0.1967</td>\n",
       "      <td>0.06811</td>\n",
       "      <td>0.1852</td>\n",
       "      <td>0.7477</td>\n",
       "      <td>1.383</td>\n",
       "      <td>14.670</td>\n",
       "      <td>0.004097</td>\n",
       "      <td>0.018980</td>\n",
       "      <td>0.01698</td>\n",
       "      <td>0.006490</td>\n",
       "      <td>0.01678</td>\n",
       "      <td>0.002425</td>\n",
       "      <td>14.500</td>\n",
       "      <td>20.49</td>\n",
       "      <td>96.09</td>\n",
       "      <td>630.5</td>\n",
       "      <td>0.13120</td>\n",
       "      <td>0.27760</td>\n",
       "      <td>0.18900</td>\n",
       "      <td>0.07283</td>\n",
       "      <td>0.3184</td>\n",
       "      <td>0.08183</td>\n",
       "      <td>B</td>\n",
       "    </tr>\n",
       "    <tr>\n",
       "      <th>2</th>\n",
       "      <td>3</td>\n",
       "      <td>9.504</td>\n",
       "      <td>12.44</td>\n",
       "      <td>60.34</td>\n",
       "      <td>273.9</td>\n",
       "      <td>0.10240</td>\n",
       "      <td>0.06492</td>\n",
       "      <td>0.02956</td>\n",
       "      <td>0.020760</td>\n",
       "      <td>0.1815</td>\n",
       "      <td>0.06905</td>\n",
       "      <td>0.2773</td>\n",
       "      <td>0.9768</td>\n",
       "      <td>1.909</td>\n",
       "      <td>15.700</td>\n",
       "      <td>0.009606</td>\n",
       "      <td>0.014320</td>\n",
       "      <td>0.01985</td>\n",
       "      <td>0.014210</td>\n",
       "      <td>0.02027</td>\n",
       "      <td>0.002968</td>\n",
       "      <td>10.230</td>\n",
       "      <td>15.66</td>\n",
       "      <td>65.13</td>\n",
       "      <td>314.9</td>\n",
       "      <td>0.13240</td>\n",
       "      <td>0.11480</td>\n",
       "      <td>0.08867</td>\n",
       "      <td>0.06227</td>\n",
       "      <td>0.2450</td>\n",
       "      <td>0.07773</td>\n",
       "      <td>B</td>\n",
       "    </tr>\n",
       "    <tr>\n",
       "      <th>3</th>\n",
       "      <td>4</td>\n",
       "      <td>13.030</td>\n",
       "      <td>18.42</td>\n",
       "      <td>82.61</td>\n",
       "      <td>523.8</td>\n",
       "      <td>0.08983</td>\n",
       "      <td>0.03766</td>\n",
       "      <td>0.02562</td>\n",
       "      <td>0.029230</td>\n",
       "      <td>0.1467</td>\n",
       "      <td>0.05863</td>\n",
       "      <td>0.1839</td>\n",
       "      <td>2.3420</td>\n",
       "      <td>1.170</td>\n",
       "      <td>14.160</td>\n",
       "      <td>0.004352</td>\n",
       "      <td>0.004899</td>\n",
       "      <td>0.01343</td>\n",
       "      <td>0.011640</td>\n",
       "      <td>0.02671</td>\n",
       "      <td>0.001777</td>\n",
       "      <td>13.300</td>\n",
       "      <td>22.81</td>\n",
       "      <td>84.46</td>\n",
       "      <td>545.9</td>\n",
       "      <td>0.09701</td>\n",
       "      <td>0.04619</td>\n",
       "      <td>0.04833</td>\n",
       "      <td>0.05013</td>\n",
       "      <td>0.1987</td>\n",
       "      <td>0.06169</td>\n",
       "      <td>B</td>\n",
       "    </tr>\n",
       "    <tr>\n",
       "      <th>4</th>\n",
       "      <td>5</td>\n",
       "      <td>8.196</td>\n",
       "      <td>16.84</td>\n",
       "      <td>51.71</td>\n",
       "      <td>201.9</td>\n",
       "      <td>0.08600</td>\n",
       "      <td>0.05943</td>\n",
       "      <td>0.01588</td>\n",
       "      <td>0.005917</td>\n",
       "      <td>0.1769</td>\n",
       "      <td>0.06503</td>\n",
       "      <td>0.1563</td>\n",
       "      <td>0.9567</td>\n",
       "      <td>1.094</td>\n",
       "      <td>8.205</td>\n",
       "      <td>0.008968</td>\n",
       "      <td>0.016460</td>\n",
       "      <td>0.01588</td>\n",
       "      <td>0.005917</td>\n",
       "      <td>0.02574</td>\n",
       "      <td>0.002582</td>\n",
       "      <td>8.964</td>\n",
       "      <td>21.96</td>\n",
       "      <td>57.26</td>\n",
       "      <td>242.2</td>\n",
       "      <td>0.12970</td>\n",
       "      <td>0.13570</td>\n",
       "      <td>0.06880</td>\n",
       "      <td>0.02564</td>\n",
       "      <td>0.3105</td>\n",
       "      <td>0.07409</td>\n",
       "      <td>B</td>\n",
       "    </tr>\n",
       "  </tbody>\n",
       "</table>\n",
       "</div>"
      ],
      "text/plain": [
       "   Unnamed: 0  x.radius_mean  x.texture_mean  x.perimeter_mean  x.area_mean  \\\n",
       "0           1         13.540           14.36             87.46        566.3   \n",
       "1           2         13.080           15.71             85.63        520.0   \n",
       "2           3          9.504           12.44             60.34        273.9   \n",
       "3           4         13.030           18.42             82.61        523.8   \n",
       "4           5          8.196           16.84             51.71        201.9   \n",
       "\n",
       "   x.smoothness_mean  x.compactness_mean  x.concavity_mean  \\\n",
       "0            0.09779             0.08129           0.06664   \n",
       "1            0.10750             0.12700           0.04568   \n",
       "2            0.10240             0.06492           0.02956   \n",
       "3            0.08983             0.03766           0.02562   \n",
       "4            0.08600             0.05943           0.01588   \n",
       "\n",
       "   x.concave_pts_mean  x.symmetry_mean  x.fractal_dim_mean  x.radius_se  \\\n",
       "0            0.047810           0.1885             0.05766       0.2699   \n",
       "1            0.031100           0.1967             0.06811       0.1852   \n",
       "2            0.020760           0.1815             0.06905       0.2773   \n",
       "3            0.029230           0.1467             0.05863       0.1839   \n",
       "4            0.005917           0.1769             0.06503       0.1563   \n",
       "\n",
       "   x.texture_se  x.perimeter_se  x.area_se  x.smoothness_se  x.compactness_se  \\\n",
       "0        0.7886           2.058     23.560         0.008462          0.014600   \n",
       "1        0.7477           1.383     14.670         0.004097          0.018980   \n",
       "2        0.9768           1.909     15.700         0.009606          0.014320   \n",
       "3        2.3420           1.170     14.160         0.004352          0.004899   \n",
       "4        0.9567           1.094      8.205         0.008968          0.016460   \n",
       "\n",
       "   x.concavity_se  x.concave_pts_se  x.symmetry_se  x.fractal_dim_se  \\\n",
       "0         0.02387          0.013150        0.01980          0.002300   \n",
       "1         0.01698          0.006490        0.01678          0.002425   \n",
       "2         0.01985          0.014210        0.02027          0.002968   \n",
       "3         0.01343          0.011640        0.02671          0.001777   \n",
       "4         0.01588          0.005917        0.02574          0.002582   \n",
       "\n",
       "   x.radius_worst  x.texture_worst  x.perimeter_worst  x.area_worst  \\\n",
       "0          15.110            19.26              99.70         711.2   \n",
       "1          14.500            20.49              96.09         630.5   \n",
       "2          10.230            15.66              65.13         314.9   \n",
       "3          13.300            22.81              84.46         545.9   \n",
       "4           8.964            21.96              57.26         242.2   \n",
       "\n",
       "   x.smoothness_worst  x.compactness_worst  x.concavity_worst  \\\n",
       "0             0.14400              0.17730            0.23900   \n",
       "1             0.13120              0.27760            0.18900   \n",
       "2             0.13240              0.11480            0.08867   \n",
       "3             0.09701              0.04619            0.04833   \n",
       "4             0.12970              0.13570            0.06880   \n",
       "\n",
       "   x.concave_pts_worst  x.symmetry_worst  x.fractal_dim_worst  y  \n",
       "0              0.12880            0.2977              0.07259  B  \n",
       "1              0.07283            0.3184              0.08183  B  \n",
       "2              0.06227            0.2450              0.07773  B  \n",
       "3              0.05013            0.1987              0.06169  B  \n",
       "4              0.02564            0.3105              0.07409  B  "
      ]
     },
     "execution_count": 415,
     "metadata": {},
     "output_type": "execute_result"
    }
   ],
   "source": [
    "cancer.head(5)"
   ]
  },
  {
   "cell_type": "markdown",
   "metadata": {},
   "source": [
    "### Eliminamos el identificador"
   ]
  },
  {
   "cell_type": "code",
   "execution_count": 416,
   "metadata": {
    "execution": {
     "iopub.execute_input": "2025-02-27T01:48:45.599981Z",
     "iopub.status.busy": "2025-02-27T01:48:45.599644Z",
     "iopub.status.idle": "2025-02-27T01:48:45.605390Z",
     "shell.execute_reply": "2025-02-27T01:48:45.604437Z",
     "shell.execute_reply.started": "2025-02-27T01:48:45.599944Z"
    },
    "trusted": true
   },
   "outputs": [],
   "source": [
    "cancer = cancer.drop(columns=[\"Unnamed: 0\"])"
   ]
  },
  {
   "cell_type": "markdown",
   "metadata": {},
   "source": [
    "### Separamos los datos y comprobamos que las columnas sean numericas"
   ]
  },
  {
   "cell_type": "code",
   "execution_count": 417,
   "metadata": {
    "execution": {
     "iopub.execute_input": "2025-02-27T01:48:45.606865Z",
     "iopub.status.busy": "2025-02-27T01:48:45.606497Z",
     "iopub.status.idle": "2025-02-27T01:48:45.627683Z",
     "shell.execute_reply": "2025-02-27T01:48:45.626469Z",
     "shell.execute_reply.started": "2025-02-27T01:48:45.606838Z"
    },
    "trusted": true
   },
   "outputs": [
    {
     "name": "stdout",
     "output_type": "stream",
     "text": [
      "float64    30\n",
      "Name: count, dtype: int64\n"
     ]
    }
   ],
   "source": [
    "X_cancer = cancer.drop(columns=[\"y\"])\n",
    "y_cancer = cancer[\"y\"]\n",
    "\n",
    "print(X_cancer.dtypes.value_counts())"
   ]
  },
  {
   "cell_type": "markdown",
   "metadata": {},
   "source": [
    "### Comprobamos nulos"
   ]
  },
  {
   "cell_type": "code",
   "execution_count": 418,
   "metadata": {
    "execution": {
     "iopub.execute_input": "2025-02-27T01:48:45.629444Z",
     "iopub.status.busy": "2025-02-27T01:48:45.628906Z",
     "iopub.status.idle": "2025-02-27T01:48:45.647198Z",
     "shell.execute_reply": "2025-02-27T01:48:45.646116Z",
     "shell.execute_reply.started": "2025-02-27T01:48:45.629412Z"
    },
    "trusted": true
   },
   "outputs": [
    {
     "name": "stdout",
     "output_type": "stream",
     "text": [
      "No hay nulos en el DataFrame\n"
     ]
    }
   ],
   "source": [
    "mostrar_nulos(X_cancer)"
   ]
  },
  {
   "cell_type": "markdown",
   "metadata": {},
   "source": [
    "### Transformamos la variable objetivo a numerico, donde -1 no tendria cancer y 1 si"
   ]
  },
  {
   "cell_type": "code",
   "execution_count": 419,
   "metadata": {
    "execution": {
     "iopub.execute_input": "2025-02-27T01:48:45.648474Z",
     "iopub.status.busy": "2025-02-27T01:48:45.648187Z",
     "iopub.status.idle": "2025-02-27T01:48:45.670405Z",
     "shell.execute_reply": "2025-02-27T01:48:45.669409Z",
     "shell.execute_reply.started": "2025-02-27T01:48:45.648448Z"
    },
    "trusted": true
   },
   "outputs": [
    {
     "data": {
      "text/plain": [
       "array(['B', 'M'], dtype=object)"
      ]
     },
     "execution_count": 419,
     "metadata": {},
     "output_type": "execute_result"
    }
   ],
   "source": [
    "y_cancer.unique()"
   ]
  },
  {
   "cell_type": "code",
   "execution_count": 420,
   "metadata": {
    "execution": {
     "iopub.execute_input": "2025-02-27T01:48:45.671890Z",
     "iopub.status.busy": "2025-02-27T01:48:45.671511Z",
     "iopub.status.idle": "2025-02-27T01:48:45.691858Z",
     "shell.execute_reply": "2025-02-27T01:48:45.690750Z",
     "shell.execute_reply.started": "2025-02-27T01:48:45.671862Z"
    },
    "trusted": true
   },
   "outputs": [],
   "source": [
    "y_cancer = y_cancer.map({\"B\": -1, \"M\": 1})"
   ]
  },
  {
   "cell_type": "markdown",
   "metadata": {},
   "source": [
    "### Describe"
   ]
  },
  {
   "cell_type": "code",
   "execution_count": 421,
   "metadata": {
    "execution": {
     "iopub.execute_input": "2025-02-27T01:48:45.693419Z",
     "iopub.status.busy": "2025-02-27T01:48:45.693081Z",
     "iopub.status.idle": "2025-02-27T01:48:45.893250Z",
     "shell.execute_reply": "2025-02-27T01:48:45.892198Z",
     "shell.execute_reply.started": "2025-02-27T01:48:45.693389Z"
    },
    "trusted": true
   },
   "outputs": [
    {
     "data": {
      "text/html": [
       "<div>\n",
       "<style scoped>\n",
       "    .dataframe tbody tr th:only-of-type {\n",
       "        vertical-align: middle;\n",
       "    }\n",
       "\n",
       "    .dataframe tbody tr th {\n",
       "        vertical-align: top;\n",
       "    }\n",
       "\n",
       "    .dataframe thead th {\n",
       "        text-align: right;\n",
       "    }\n",
       "</style>\n",
       "<table border=\"1\" class=\"dataframe\">\n",
       "  <thead>\n",
       "    <tr style=\"text-align: right;\">\n",
       "      <th></th>\n",
       "      <th>count</th>\n",
       "      <th>mean</th>\n",
       "      <th>std</th>\n",
       "      <th>min</th>\n",
       "      <th>25%</th>\n",
       "      <th>50%</th>\n",
       "      <th>75%</th>\n",
       "      <th>max</th>\n",
       "    </tr>\n",
       "  </thead>\n",
       "  <tbody>\n",
       "    <tr>\n",
       "      <th>x.radius_mean</th>\n",
       "      <td>569.0</td>\n",
       "      <td>14.127292</td>\n",
       "      <td>3.524049</td>\n",
       "      <td>6.981000</td>\n",
       "      <td>11.700000</td>\n",
       "      <td>13.370000</td>\n",
       "      <td>15.780000</td>\n",
       "      <td>28.11000</td>\n",
       "    </tr>\n",
       "    <tr>\n",
       "      <th>x.texture_mean</th>\n",
       "      <td>569.0</td>\n",
       "      <td>19.289649</td>\n",
       "      <td>4.301036</td>\n",
       "      <td>9.710000</td>\n",
       "      <td>16.170000</td>\n",
       "      <td>18.840000</td>\n",
       "      <td>21.800000</td>\n",
       "      <td>39.28000</td>\n",
       "    </tr>\n",
       "    <tr>\n",
       "      <th>x.perimeter_mean</th>\n",
       "      <td>569.0</td>\n",
       "      <td>91.969033</td>\n",
       "      <td>24.298981</td>\n",
       "      <td>43.790000</td>\n",
       "      <td>75.170000</td>\n",
       "      <td>86.240000</td>\n",
       "      <td>104.100000</td>\n",
       "      <td>188.50000</td>\n",
       "    </tr>\n",
       "    <tr>\n",
       "      <th>x.area_mean</th>\n",
       "      <td>569.0</td>\n",
       "      <td>654.889104</td>\n",
       "      <td>351.914129</td>\n",
       "      <td>143.500000</td>\n",
       "      <td>420.300000</td>\n",
       "      <td>551.100000</td>\n",
       "      <td>782.700000</td>\n",
       "      <td>2501.00000</td>\n",
       "    </tr>\n",
       "    <tr>\n",
       "      <th>x.smoothness_mean</th>\n",
       "      <td>569.0</td>\n",
       "      <td>0.096360</td>\n",
       "      <td>0.014064</td>\n",
       "      <td>0.052630</td>\n",
       "      <td>0.086370</td>\n",
       "      <td>0.095870</td>\n",
       "      <td>0.105300</td>\n",
       "      <td>0.16340</td>\n",
       "    </tr>\n",
       "    <tr>\n",
       "      <th>x.compactness_mean</th>\n",
       "      <td>569.0</td>\n",
       "      <td>0.104341</td>\n",
       "      <td>0.052813</td>\n",
       "      <td>0.019380</td>\n",
       "      <td>0.064920</td>\n",
       "      <td>0.092630</td>\n",
       "      <td>0.130400</td>\n",
       "      <td>0.34540</td>\n",
       "    </tr>\n",
       "    <tr>\n",
       "      <th>x.concavity_mean</th>\n",
       "      <td>569.0</td>\n",
       "      <td>0.088799</td>\n",
       "      <td>0.079720</td>\n",
       "      <td>0.000000</td>\n",
       "      <td>0.029560</td>\n",
       "      <td>0.061540</td>\n",
       "      <td>0.130700</td>\n",
       "      <td>0.42680</td>\n",
       "    </tr>\n",
       "    <tr>\n",
       "      <th>x.concave_pts_mean</th>\n",
       "      <td>569.0</td>\n",
       "      <td>0.048919</td>\n",
       "      <td>0.038803</td>\n",
       "      <td>0.000000</td>\n",
       "      <td>0.020310</td>\n",
       "      <td>0.033500</td>\n",
       "      <td>0.074000</td>\n",
       "      <td>0.20120</td>\n",
       "    </tr>\n",
       "    <tr>\n",
       "      <th>x.symmetry_mean</th>\n",
       "      <td>569.0</td>\n",
       "      <td>0.181162</td>\n",
       "      <td>0.027414</td>\n",
       "      <td>0.106000</td>\n",
       "      <td>0.161900</td>\n",
       "      <td>0.179200</td>\n",
       "      <td>0.195700</td>\n",
       "      <td>0.30400</td>\n",
       "    </tr>\n",
       "    <tr>\n",
       "      <th>x.fractal_dim_mean</th>\n",
       "      <td>569.0</td>\n",
       "      <td>0.062798</td>\n",
       "      <td>0.007060</td>\n",
       "      <td>0.049960</td>\n",
       "      <td>0.057700</td>\n",
       "      <td>0.061540</td>\n",
       "      <td>0.066120</td>\n",
       "      <td>0.09744</td>\n",
       "    </tr>\n",
       "    <tr>\n",
       "      <th>x.radius_se</th>\n",
       "      <td>569.0</td>\n",
       "      <td>0.405172</td>\n",
       "      <td>0.277313</td>\n",
       "      <td>0.111500</td>\n",
       "      <td>0.232400</td>\n",
       "      <td>0.324200</td>\n",
       "      <td>0.478900</td>\n",
       "      <td>2.87300</td>\n",
       "    </tr>\n",
       "    <tr>\n",
       "      <th>x.texture_se</th>\n",
       "      <td>569.0</td>\n",
       "      <td>1.216853</td>\n",
       "      <td>0.551648</td>\n",
       "      <td>0.360200</td>\n",
       "      <td>0.833900</td>\n",
       "      <td>1.108000</td>\n",
       "      <td>1.474000</td>\n",
       "      <td>4.88500</td>\n",
       "    </tr>\n",
       "    <tr>\n",
       "      <th>x.perimeter_se</th>\n",
       "      <td>569.0</td>\n",
       "      <td>2.866059</td>\n",
       "      <td>2.021855</td>\n",
       "      <td>0.757000</td>\n",
       "      <td>1.606000</td>\n",
       "      <td>2.287000</td>\n",
       "      <td>3.357000</td>\n",
       "      <td>21.98000</td>\n",
       "    </tr>\n",
       "    <tr>\n",
       "      <th>x.area_se</th>\n",
       "      <td>569.0</td>\n",
       "      <td>40.337079</td>\n",
       "      <td>45.491006</td>\n",
       "      <td>6.802000</td>\n",
       "      <td>17.850000</td>\n",
       "      <td>24.530000</td>\n",
       "      <td>45.190000</td>\n",
       "      <td>542.20000</td>\n",
       "    </tr>\n",
       "    <tr>\n",
       "      <th>x.smoothness_se</th>\n",
       "      <td>569.0</td>\n",
       "      <td>0.007041</td>\n",
       "      <td>0.003003</td>\n",
       "      <td>0.001713</td>\n",
       "      <td>0.005169</td>\n",
       "      <td>0.006380</td>\n",
       "      <td>0.008146</td>\n",
       "      <td>0.03113</td>\n",
       "    </tr>\n",
       "    <tr>\n",
       "      <th>x.compactness_se</th>\n",
       "      <td>569.0</td>\n",
       "      <td>0.025478</td>\n",
       "      <td>0.017908</td>\n",
       "      <td>0.002252</td>\n",
       "      <td>0.013080</td>\n",
       "      <td>0.020450</td>\n",
       "      <td>0.032450</td>\n",
       "      <td>0.13540</td>\n",
       "    </tr>\n",
       "    <tr>\n",
       "      <th>x.concavity_se</th>\n",
       "      <td>569.0</td>\n",
       "      <td>0.031894</td>\n",
       "      <td>0.030186</td>\n",
       "      <td>0.000000</td>\n",
       "      <td>0.015090</td>\n",
       "      <td>0.025890</td>\n",
       "      <td>0.042050</td>\n",
       "      <td>0.39600</td>\n",
       "    </tr>\n",
       "    <tr>\n",
       "      <th>x.concave_pts_se</th>\n",
       "      <td>569.0</td>\n",
       "      <td>0.011796</td>\n",
       "      <td>0.006170</td>\n",
       "      <td>0.000000</td>\n",
       "      <td>0.007638</td>\n",
       "      <td>0.010930</td>\n",
       "      <td>0.014710</td>\n",
       "      <td>0.05279</td>\n",
       "    </tr>\n",
       "    <tr>\n",
       "      <th>x.symmetry_se</th>\n",
       "      <td>569.0</td>\n",
       "      <td>0.020542</td>\n",
       "      <td>0.008266</td>\n",
       "      <td>0.007882</td>\n",
       "      <td>0.015160</td>\n",
       "      <td>0.018730</td>\n",
       "      <td>0.023480</td>\n",
       "      <td>0.07895</td>\n",
       "    </tr>\n",
       "    <tr>\n",
       "      <th>x.fractal_dim_se</th>\n",
       "      <td>569.0</td>\n",
       "      <td>0.003795</td>\n",
       "      <td>0.002646</td>\n",
       "      <td>0.000895</td>\n",
       "      <td>0.002248</td>\n",
       "      <td>0.003187</td>\n",
       "      <td>0.004558</td>\n",
       "      <td>0.02984</td>\n",
       "    </tr>\n",
       "    <tr>\n",
       "      <th>x.radius_worst</th>\n",
       "      <td>569.0</td>\n",
       "      <td>16.269190</td>\n",
       "      <td>4.833242</td>\n",
       "      <td>7.930000</td>\n",
       "      <td>13.010000</td>\n",
       "      <td>14.970000</td>\n",
       "      <td>18.790000</td>\n",
       "      <td>36.04000</td>\n",
       "    </tr>\n",
       "    <tr>\n",
       "      <th>x.texture_worst</th>\n",
       "      <td>569.0</td>\n",
       "      <td>25.677223</td>\n",
       "      <td>6.146258</td>\n",
       "      <td>12.020000</td>\n",
       "      <td>21.080000</td>\n",
       "      <td>25.410000</td>\n",
       "      <td>29.720000</td>\n",
       "      <td>49.54000</td>\n",
       "    </tr>\n",
       "    <tr>\n",
       "      <th>x.perimeter_worst</th>\n",
       "      <td>569.0</td>\n",
       "      <td>107.261213</td>\n",
       "      <td>33.602542</td>\n",
       "      <td>50.410000</td>\n",
       "      <td>84.110000</td>\n",
       "      <td>97.660000</td>\n",
       "      <td>125.400000</td>\n",
       "      <td>251.20000</td>\n",
       "    </tr>\n",
       "    <tr>\n",
       "      <th>x.area_worst</th>\n",
       "      <td>569.0</td>\n",
       "      <td>880.583128</td>\n",
       "      <td>569.356993</td>\n",
       "      <td>185.200000</td>\n",
       "      <td>515.300000</td>\n",
       "      <td>686.500000</td>\n",
       "      <td>1084.000000</td>\n",
       "      <td>4254.00000</td>\n",
       "    </tr>\n",
       "    <tr>\n",
       "      <th>x.smoothness_worst</th>\n",
       "      <td>569.0</td>\n",
       "      <td>0.132369</td>\n",
       "      <td>0.022832</td>\n",
       "      <td>0.071170</td>\n",
       "      <td>0.116600</td>\n",
       "      <td>0.131300</td>\n",
       "      <td>0.146000</td>\n",
       "      <td>0.22260</td>\n",
       "    </tr>\n",
       "    <tr>\n",
       "      <th>x.compactness_worst</th>\n",
       "      <td>569.0</td>\n",
       "      <td>0.254265</td>\n",
       "      <td>0.157336</td>\n",
       "      <td>0.027290</td>\n",
       "      <td>0.147200</td>\n",
       "      <td>0.211900</td>\n",
       "      <td>0.339100</td>\n",
       "      <td>1.05800</td>\n",
       "    </tr>\n",
       "    <tr>\n",
       "      <th>x.concavity_worst</th>\n",
       "      <td>569.0</td>\n",
       "      <td>0.272188</td>\n",
       "      <td>0.208624</td>\n",
       "      <td>0.000000</td>\n",
       "      <td>0.114500</td>\n",
       "      <td>0.226700</td>\n",
       "      <td>0.382900</td>\n",
       "      <td>1.25200</td>\n",
       "    </tr>\n",
       "    <tr>\n",
       "      <th>x.concave_pts_worst</th>\n",
       "      <td>569.0</td>\n",
       "      <td>0.114606</td>\n",
       "      <td>0.065732</td>\n",
       "      <td>0.000000</td>\n",
       "      <td>0.064930</td>\n",
       "      <td>0.099930</td>\n",
       "      <td>0.161400</td>\n",
       "      <td>0.29100</td>\n",
       "    </tr>\n",
       "    <tr>\n",
       "      <th>x.symmetry_worst</th>\n",
       "      <td>569.0</td>\n",
       "      <td>0.290076</td>\n",
       "      <td>0.061867</td>\n",
       "      <td>0.156500</td>\n",
       "      <td>0.250400</td>\n",
       "      <td>0.282200</td>\n",
       "      <td>0.317900</td>\n",
       "      <td>0.66380</td>\n",
       "    </tr>\n",
       "    <tr>\n",
       "      <th>x.fractal_dim_worst</th>\n",
       "      <td>569.0</td>\n",
       "      <td>0.083946</td>\n",
       "      <td>0.018061</td>\n",
       "      <td>0.055040</td>\n",
       "      <td>0.071460</td>\n",
       "      <td>0.080040</td>\n",
       "      <td>0.092080</td>\n",
       "      <td>0.20750</td>\n",
       "    </tr>\n",
       "  </tbody>\n",
       "</table>\n",
       "</div>"
      ],
      "text/plain": [
       "                     count        mean         std         min         25%  \\\n",
       "x.radius_mean        569.0   14.127292    3.524049    6.981000   11.700000   \n",
       "x.texture_mean       569.0   19.289649    4.301036    9.710000   16.170000   \n",
       "x.perimeter_mean     569.0   91.969033   24.298981   43.790000   75.170000   \n",
       "x.area_mean          569.0  654.889104  351.914129  143.500000  420.300000   \n",
       "x.smoothness_mean    569.0    0.096360    0.014064    0.052630    0.086370   \n",
       "x.compactness_mean   569.0    0.104341    0.052813    0.019380    0.064920   \n",
       "x.concavity_mean     569.0    0.088799    0.079720    0.000000    0.029560   \n",
       "x.concave_pts_mean   569.0    0.048919    0.038803    0.000000    0.020310   \n",
       "x.symmetry_mean      569.0    0.181162    0.027414    0.106000    0.161900   \n",
       "x.fractal_dim_mean   569.0    0.062798    0.007060    0.049960    0.057700   \n",
       "x.radius_se          569.0    0.405172    0.277313    0.111500    0.232400   \n",
       "x.texture_se         569.0    1.216853    0.551648    0.360200    0.833900   \n",
       "x.perimeter_se       569.0    2.866059    2.021855    0.757000    1.606000   \n",
       "x.area_se            569.0   40.337079   45.491006    6.802000   17.850000   \n",
       "x.smoothness_se      569.0    0.007041    0.003003    0.001713    0.005169   \n",
       "x.compactness_se     569.0    0.025478    0.017908    0.002252    0.013080   \n",
       "x.concavity_se       569.0    0.031894    0.030186    0.000000    0.015090   \n",
       "x.concave_pts_se     569.0    0.011796    0.006170    0.000000    0.007638   \n",
       "x.symmetry_se        569.0    0.020542    0.008266    0.007882    0.015160   \n",
       "x.fractal_dim_se     569.0    0.003795    0.002646    0.000895    0.002248   \n",
       "x.radius_worst       569.0   16.269190    4.833242    7.930000   13.010000   \n",
       "x.texture_worst      569.0   25.677223    6.146258   12.020000   21.080000   \n",
       "x.perimeter_worst    569.0  107.261213   33.602542   50.410000   84.110000   \n",
       "x.area_worst         569.0  880.583128  569.356993  185.200000  515.300000   \n",
       "x.smoothness_worst   569.0    0.132369    0.022832    0.071170    0.116600   \n",
       "x.compactness_worst  569.0    0.254265    0.157336    0.027290    0.147200   \n",
       "x.concavity_worst    569.0    0.272188    0.208624    0.000000    0.114500   \n",
       "x.concave_pts_worst  569.0    0.114606    0.065732    0.000000    0.064930   \n",
       "x.symmetry_worst     569.0    0.290076    0.061867    0.156500    0.250400   \n",
       "x.fractal_dim_worst  569.0    0.083946    0.018061    0.055040    0.071460   \n",
       "\n",
       "                            50%          75%         max  \n",
       "x.radius_mean         13.370000    15.780000    28.11000  \n",
       "x.texture_mean        18.840000    21.800000    39.28000  \n",
       "x.perimeter_mean      86.240000   104.100000   188.50000  \n",
       "x.area_mean          551.100000   782.700000  2501.00000  \n",
       "x.smoothness_mean      0.095870     0.105300     0.16340  \n",
       "x.compactness_mean     0.092630     0.130400     0.34540  \n",
       "x.concavity_mean       0.061540     0.130700     0.42680  \n",
       "x.concave_pts_mean     0.033500     0.074000     0.20120  \n",
       "x.symmetry_mean        0.179200     0.195700     0.30400  \n",
       "x.fractal_dim_mean     0.061540     0.066120     0.09744  \n",
       "x.radius_se            0.324200     0.478900     2.87300  \n",
       "x.texture_se           1.108000     1.474000     4.88500  \n",
       "x.perimeter_se         2.287000     3.357000    21.98000  \n",
       "x.area_se             24.530000    45.190000   542.20000  \n",
       "x.smoothness_se        0.006380     0.008146     0.03113  \n",
       "x.compactness_se       0.020450     0.032450     0.13540  \n",
       "x.concavity_se         0.025890     0.042050     0.39600  \n",
       "x.concave_pts_se       0.010930     0.014710     0.05279  \n",
       "x.symmetry_se          0.018730     0.023480     0.07895  \n",
       "x.fractal_dim_se       0.003187     0.004558     0.02984  \n",
       "x.radius_worst        14.970000    18.790000    36.04000  \n",
       "x.texture_worst       25.410000    29.720000    49.54000  \n",
       "x.perimeter_worst     97.660000   125.400000   251.20000  \n",
       "x.area_worst         686.500000  1084.000000  4254.00000  \n",
       "x.smoothness_worst     0.131300     0.146000     0.22260  \n",
       "x.compactness_worst    0.211900     0.339100     1.05800  \n",
       "x.concavity_worst      0.226700     0.382900     1.25200  \n",
       "x.concave_pts_worst    0.099930     0.161400     0.29100  \n",
       "x.symmetry_worst       0.282200     0.317900     0.66380  \n",
       "x.fractal_dim_worst    0.080040     0.092080     0.20750  "
      ]
     },
     "execution_count": 421,
     "metadata": {},
     "output_type": "execute_result"
    }
   ],
   "source": [
    "X_cancer.describe().T"
   ]
  },
  {
   "cell_type": "markdown",
   "metadata": {},
   "source": [
    "## 1.3. Wine"
   ]
  },
  {
   "cell_type": "markdown",
   "metadata": {},
   "source": [
    "### Primera vista"
   ]
  },
  {
   "cell_type": "code",
   "execution_count": 422,
   "metadata": {
    "execution": {
     "iopub.execute_input": "2025-02-27T01:48:45.898800Z",
     "iopub.status.busy": "2025-02-27T01:48:45.898467Z",
     "iopub.status.idle": "2025-02-27T01:48:45.916894Z",
     "shell.execute_reply": "2025-02-27T01:48:45.915596Z",
     "shell.execute_reply.started": "2025-02-27T01:48:45.898773Z"
    },
    "trusted": true
   },
   "outputs": [
    {
     "data": {
      "text/html": [
       "<div>\n",
       "<style scoped>\n",
       "    .dataframe tbody tr th:only-of-type {\n",
       "        vertical-align: middle;\n",
       "    }\n",
       "\n",
       "    .dataframe tbody tr th {\n",
       "        vertical-align: top;\n",
       "    }\n",
       "\n",
       "    .dataframe thead th {\n",
       "        text-align: right;\n",
       "    }\n",
       "</style>\n",
       "<table border=\"1\" class=\"dataframe\">\n",
       "  <thead>\n",
       "    <tr style=\"text-align: right;\">\n",
       "      <th></th>\n",
       "      <th>fixed acidity</th>\n",
       "      <th>volatile acidity</th>\n",
       "      <th>citric acid</th>\n",
       "      <th>residual sugar</th>\n",
       "      <th>chlorides</th>\n",
       "      <th>free sulfur dioxide</th>\n",
       "      <th>total sulfur dioxide</th>\n",
       "      <th>density</th>\n",
       "      <th>pH</th>\n",
       "      <th>sulphates</th>\n",
       "      <th>alcohol</th>\n",
       "      <th>quality</th>\n",
       "      <th>Id</th>\n",
       "    </tr>\n",
       "  </thead>\n",
       "  <tbody>\n",
       "    <tr>\n",
       "      <th>0</th>\n",
       "      <td>7.4</td>\n",
       "      <td>0.70</td>\n",
       "      <td>0.00</td>\n",
       "      <td>1.9</td>\n",
       "      <td>0.076</td>\n",
       "      <td>11.0</td>\n",
       "      <td>34.0</td>\n",
       "      <td>0.9978</td>\n",
       "      <td>3.51</td>\n",
       "      <td>0.56</td>\n",
       "      <td>9.4</td>\n",
       "      <td>5</td>\n",
       "      <td>0</td>\n",
       "    </tr>\n",
       "    <tr>\n",
       "      <th>1</th>\n",
       "      <td>7.8</td>\n",
       "      <td>0.88</td>\n",
       "      <td>0.00</td>\n",
       "      <td>2.6</td>\n",
       "      <td>0.098</td>\n",
       "      <td>25.0</td>\n",
       "      <td>67.0</td>\n",
       "      <td>0.9968</td>\n",
       "      <td>3.20</td>\n",
       "      <td>0.68</td>\n",
       "      <td>9.8</td>\n",
       "      <td>5</td>\n",
       "      <td>1</td>\n",
       "    </tr>\n",
       "    <tr>\n",
       "      <th>2</th>\n",
       "      <td>7.8</td>\n",
       "      <td>0.76</td>\n",
       "      <td>0.04</td>\n",
       "      <td>2.3</td>\n",
       "      <td>0.092</td>\n",
       "      <td>15.0</td>\n",
       "      <td>54.0</td>\n",
       "      <td>0.9970</td>\n",
       "      <td>3.26</td>\n",
       "      <td>0.65</td>\n",
       "      <td>9.8</td>\n",
       "      <td>5</td>\n",
       "      <td>2</td>\n",
       "    </tr>\n",
       "    <tr>\n",
       "      <th>3</th>\n",
       "      <td>11.2</td>\n",
       "      <td>0.28</td>\n",
       "      <td>0.56</td>\n",
       "      <td>1.9</td>\n",
       "      <td>0.075</td>\n",
       "      <td>17.0</td>\n",
       "      <td>60.0</td>\n",
       "      <td>0.9980</td>\n",
       "      <td>3.16</td>\n",
       "      <td>0.58</td>\n",
       "      <td>9.8</td>\n",
       "      <td>6</td>\n",
       "      <td>3</td>\n",
       "    </tr>\n",
       "    <tr>\n",
       "      <th>4</th>\n",
       "      <td>7.4</td>\n",
       "      <td>0.70</td>\n",
       "      <td>0.00</td>\n",
       "      <td>1.9</td>\n",
       "      <td>0.076</td>\n",
       "      <td>11.0</td>\n",
       "      <td>34.0</td>\n",
       "      <td>0.9978</td>\n",
       "      <td>3.51</td>\n",
       "      <td>0.56</td>\n",
       "      <td>9.4</td>\n",
       "      <td>5</td>\n",
       "      <td>4</td>\n",
       "    </tr>\n",
       "  </tbody>\n",
       "</table>\n",
       "</div>"
      ],
      "text/plain": [
       "   fixed acidity  volatile acidity  citric acid  residual sugar  chlorides  \\\n",
       "0            7.4              0.70         0.00             1.9      0.076   \n",
       "1            7.8              0.88         0.00             2.6      0.098   \n",
       "2            7.8              0.76         0.04             2.3      0.092   \n",
       "3           11.2              0.28         0.56             1.9      0.075   \n",
       "4            7.4              0.70         0.00             1.9      0.076   \n",
       "\n",
       "   free sulfur dioxide  total sulfur dioxide  density    pH  sulphates  \\\n",
       "0                 11.0                  34.0   0.9978  3.51       0.56   \n",
       "1                 25.0                  67.0   0.9968  3.20       0.68   \n",
       "2                 15.0                  54.0   0.9970  3.26       0.65   \n",
       "3                 17.0                  60.0   0.9980  3.16       0.58   \n",
       "4                 11.0                  34.0   0.9978  3.51       0.56   \n",
       "\n",
       "   alcohol  quality  Id  \n",
       "0      9.4        5   0  \n",
       "1      9.8        5   1  \n",
       "2      9.8        5   2  \n",
       "3      9.8        6   3  \n",
       "4      9.4        5   4  "
      ]
     },
     "execution_count": 422,
     "metadata": {},
     "output_type": "execute_result"
    }
   ],
   "source": [
    "wine.head(5)"
   ]
  },
  {
   "cell_type": "markdown",
   "metadata": {},
   "source": [
    "### Eliminamos columna identificativa"
   ]
  },
  {
   "cell_type": "code",
   "execution_count": 423,
   "metadata": {
    "execution": {
     "iopub.execute_input": "2025-02-27T01:48:45.919608Z",
     "iopub.status.busy": "2025-02-27T01:48:45.919264Z",
     "iopub.status.idle": "2025-02-27T01:48:45.933836Z",
     "shell.execute_reply": "2025-02-27T01:48:45.932846Z",
     "shell.execute_reply.started": "2025-02-27T01:48:45.919580Z"
    },
    "trusted": true
   },
   "outputs": [],
   "source": [
    "wine = wine.drop(columns=['Id'])"
   ]
  },
  {
   "cell_type": "markdown",
   "metadata": {},
   "source": [
    "### Separamos los datos y comprobamos que las columnas sean numericas"
   ]
  },
  {
   "cell_type": "code",
   "execution_count": 424,
   "metadata": {
    "execution": {
     "iopub.execute_input": "2025-02-27T01:48:45.935083Z",
     "iopub.status.busy": "2025-02-27T01:48:45.934779Z",
     "iopub.status.idle": "2025-02-27T01:48:45.954522Z",
     "shell.execute_reply": "2025-02-27T01:48:45.953398Z",
     "shell.execute_reply.started": "2025-02-27T01:48:45.935054Z"
    },
    "trusted": true
   },
   "outputs": [
    {
     "name": "stdout",
     "output_type": "stream",
     "text": [
      "float64    11\n",
      "Name: count, dtype: int64\n"
     ]
    }
   ],
   "source": [
    "X_wine = wine.drop(columns=[\"quality\"])\n",
    "y_wine = wine[\"quality\"]\n",
    "\n",
    "print(X_wine.dtypes.value_counts())"
   ]
  },
  {
   "cell_type": "markdown",
   "metadata": {},
   "source": [
    "### Comprobamos nulos"
   ]
  },
  {
   "cell_type": "code",
   "execution_count": 425,
   "metadata": {
    "execution": {
     "iopub.execute_input": "2025-02-27T01:48:45.955990Z",
     "iopub.status.busy": "2025-02-27T01:48:45.955610Z",
     "iopub.status.idle": "2025-02-27T01:48:45.973420Z",
     "shell.execute_reply": "2025-02-27T01:48:45.972296Z",
     "shell.execute_reply.started": "2025-02-27T01:48:45.955952Z"
    },
    "trusted": true
   },
   "outputs": [
    {
     "name": "stdout",
     "output_type": "stream",
     "text": [
      "No hay nulos en el DataFrame\n"
     ]
    }
   ],
   "source": [
    "mostrar_nulos(X_wine)"
   ]
  },
  {
   "cell_type": "markdown",
   "metadata": {},
   "source": [
    "### Describe"
   ]
  },
  {
   "cell_type": "code",
   "execution_count": 426,
   "metadata": {
    "execution": {
     "iopub.execute_input": "2025-02-27T01:48:45.975011Z",
     "iopub.status.busy": "2025-02-27T01:48:45.974634Z",
     "iopub.status.idle": "2025-02-27T01:48:46.021303Z",
     "shell.execute_reply": "2025-02-27T01:48:46.020288Z",
     "shell.execute_reply.started": "2025-02-27T01:48:45.974974Z"
    },
    "trusted": true
   },
   "outputs": [
    {
     "data": {
      "text/html": [
       "<div>\n",
       "<style scoped>\n",
       "    .dataframe tbody tr th:only-of-type {\n",
       "        vertical-align: middle;\n",
       "    }\n",
       "\n",
       "    .dataframe tbody tr th {\n",
       "        vertical-align: top;\n",
       "    }\n",
       "\n",
       "    .dataframe thead th {\n",
       "        text-align: right;\n",
       "    }\n",
       "</style>\n",
       "<table border=\"1\" class=\"dataframe\">\n",
       "  <thead>\n",
       "    <tr style=\"text-align: right;\">\n",
       "      <th></th>\n",
       "      <th>count</th>\n",
       "      <th>mean</th>\n",
       "      <th>std</th>\n",
       "      <th>min</th>\n",
       "      <th>25%</th>\n",
       "      <th>50%</th>\n",
       "      <th>75%</th>\n",
       "      <th>max</th>\n",
       "    </tr>\n",
       "  </thead>\n",
       "  <tbody>\n",
       "    <tr>\n",
       "      <th>fixed acidity</th>\n",
       "      <td>1143.0</td>\n",
       "      <td>8.311111</td>\n",
       "      <td>1.747595</td>\n",
       "      <td>4.60000</td>\n",
       "      <td>7.10000</td>\n",
       "      <td>7.90000</td>\n",
       "      <td>9.100000</td>\n",
       "      <td>15.90000</td>\n",
       "    </tr>\n",
       "    <tr>\n",
       "      <th>volatile acidity</th>\n",
       "      <td>1143.0</td>\n",
       "      <td>0.531339</td>\n",
       "      <td>0.179633</td>\n",
       "      <td>0.12000</td>\n",
       "      <td>0.39250</td>\n",
       "      <td>0.52000</td>\n",
       "      <td>0.640000</td>\n",
       "      <td>1.58000</td>\n",
       "    </tr>\n",
       "    <tr>\n",
       "      <th>citric acid</th>\n",
       "      <td>1143.0</td>\n",
       "      <td>0.268364</td>\n",
       "      <td>0.196686</td>\n",
       "      <td>0.00000</td>\n",
       "      <td>0.09000</td>\n",
       "      <td>0.25000</td>\n",
       "      <td>0.420000</td>\n",
       "      <td>1.00000</td>\n",
       "    </tr>\n",
       "    <tr>\n",
       "      <th>residual sugar</th>\n",
       "      <td>1143.0</td>\n",
       "      <td>2.532152</td>\n",
       "      <td>1.355917</td>\n",
       "      <td>0.90000</td>\n",
       "      <td>1.90000</td>\n",
       "      <td>2.20000</td>\n",
       "      <td>2.600000</td>\n",
       "      <td>15.50000</td>\n",
       "    </tr>\n",
       "    <tr>\n",
       "      <th>chlorides</th>\n",
       "      <td>1143.0</td>\n",
       "      <td>0.086933</td>\n",
       "      <td>0.047267</td>\n",
       "      <td>0.01200</td>\n",
       "      <td>0.07000</td>\n",
       "      <td>0.07900</td>\n",
       "      <td>0.090000</td>\n",
       "      <td>0.61100</td>\n",
       "    </tr>\n",
       "    <tr>\n",
       "      <th>free sulfur dioxide</th>\n",
       "      <td>1143.0</td>\n",
       "      <td>15.615486</td>\n",
       "      <td>10.250486</td>\n",
       "      <td>1.00000</td>\n",
       "      <td>7.00000</td>\n",
       "      <td>13.00000</td>\n",
       "      <td>21.000000</td>\n",
       "      <td>68.00000</td>\n",
       "    </tr>\n",
       "    <tr>\n",
       "      <th>total sulfur dioxide</th>\n",
       "      <td>1143.0</td>\n",
       "      <td>45.914698</td>\n",
       "      <td>32.782130</td>\n",
       "      <td>6.00000</td>\n",
       "      <td>21.00000</td>\n",
       "      <td>37.00000</td>\n",
       "      <td>61.000000</td>\n",
       "      <td>289.00000</td>\n",
       "    </tr>\n",
       "    <tr>\n",
       "      <th>density</th>\n",
       "      <td>1143.0</td>\n",
       "      <td>0.996730</td>\n",
       "      <td>0.001925</td>\n",
       "      <td>0.99007</td>\n",
       "      <td>0.99557</td>\n",
       "      <td>0.99668</td>\n",
       "      <td>0.997845</td>\n",
       "      <td>1.00369</td>\n",
       "    </tr>\n",
       "    <tr>\n",
       "      <th>pH</th>\n",
       "      <td>1143.0</td>\n",
       "      <td>3.311015</td>\n",
       "      <td>0.156664</td>\n",
       "      <td>2.74000</td>\n",
       "      <td>3.20500</td>\n",
       "      <td>3.31000</td>\n",
       "      <td>3.400000</td>\n",
       "      <td>4.01000</td>\n",
       "    </tr>\n",
       "    <tr>\n",
       "      <th>sulphates</th>\n",
       "      <td>1143.0</td>\n",
       "      <td>0.657708</td>\n",
       "      <td>0.170399</td>\n",
       "      <td>0.33000</td>\n",
       "      <td>0.55000</td>\n",
       "      <td>0.62000</td>\n",
       "      <td>0.730000</td>\n",
       "      <td>2.00000</td>\n",
       "    </tr>\n",
       "    <tr>\n",
       "      <th>alcohol</th>\n",
       "      <td>1143.0</td>\n",
       "      <td>10.442111</td>\n",
       "      <td>1.082196</td>\n",
       "      <td>8.40000</td>\n",
       "      <td>9.50000</td>\n",
       "      <td>10.20000</td>\n",
       "      <td>11.100000</td>\n",
       "      <td>14.90000</td>\n",
       "    </tr>\n",
       "  </tbody>\n",
       "</table>\n",
       "</div>"
      ],
      "text/plain": [
       "                       count       mean        std      min       25%  \\\n",
       "fixed acidity         1143.0   8.311111   1.747595  4.60000   7.10000   \n",
       "volatile acidity      1143.0   0.531339   0.179633  0.12000   0.39250   \n",
       "citric acid           1143.0   0.268364   0.196686  0.00000   0.09000   \n",
       "residual sugar        1143.0   2.532152   1.355917  0.90000   1.90000   \n",
       "chlorides             1143.0   0.086933   0.047267  0.01200   0.07000   \n",
       "free sulfur dioxide   1143.0  15.615486  10.250486  1.00000   7.00000   \n",
       "total sulfur dioxide  1143.0  45.914698  32.782130  6.00000  21.00000   \n",
       "density               1143.0   0.996730   0.001925  0.99007   0.99557   \n",
       "pH                    1143.0   3.311015   0.156664  2.74000   3.20500   \n",
       "sulphates             1143.0   0.657708   0.170399  0.33000   0.55000   \n",
       "alcohol               1143.0  10.442111   1.082196  8.40000   9.50000   \n",
       "\n",
       "                           50%        75%        max  \n",
       "fixed acidity          7.90000   9.100000   15.90000  \n",
       "volatile acidity       0.52000   0.640000    1.58000  \n",
       "citric acid            0.25000   0.420000    1.00000  \n",
       "residual sugar         2.20000   2.600000   15.50000  \n",
       "chlorides              0.07900   0.090000    0.61100  \n",
       "free sulfur dioxide   13.00000  21.000000   68.00000  \n",
       "total sulfur dioxide  37.00000  61.000000  289.00000  \n",
       "density                0.99668   0.997845    1.00369  \n",
       "pH                     3.31000   3.400000    4.01000  \n",
       "sulphates              0.62000   0.730000    2.00000  \n",
       "alcohol               10.20000  11.100000   14.90000  "
      ]
     },
     "execution_count": 426,
     "metadata": {},
     "output_type": "execute_result"
    }
   ],
   "source": [
    "X_wine.describe().T"
   ]
  },
  {
   "cell_type": "markdown",
   "metadata": {},
   "source": [
    "## 1.4. Spotify"
   ]
  },
  {
   "cell_type": "markdown",
   "metadata": {},
   "source": [
    "### Primera vista"
   ]
  },
  {
   "cell_type": "code",
   "execution_count": 427,
   "metadata": {
    "execution": {
     "iopub.execute_input": "2025-02-27T01:48:46.022684Z",
     "iopub.status.busy": "2025-02-27T01:48:46.022311Z",
     "iopub.status.idle": "2025-02-27T01:48:46.043793Z",
     "shell.execute_reply": "2025-02-27T01:48:46.042770Z",
     "shell.execute_reply.started": "2025-02-27T01:48:46.022648Z"
    },
    "trusted": true
   },
   "outputs": [
    {
     "data": {
      "text/html": [
       "<div>\n",
       "<style scoped>\n",
       "    .dataframe tbody tr th:only-of-type {\n",
       "        vertical-align: middle;\n",
       "    }\n",
       "\n",
       "    .dataframe tbody tr th {\n",
       "        vertical-align: top;\n",
       "    }\n",
       "\n",
       "    .dataframe thead th {\n",
       "        text-align: right;\n",
       "    }\n",
       "</style>\n",
       "<table border=\"1\" class=\"dataframe\">\n",
       "  <thead>\n",
       "    <tr style=\"text-align: right;\">\n",
       "      <th></th>\n",
       "      <th>track_id</th>\n",
       "      <th>track_name</th>\n",
       "      <th>track_artist</th>\n",
       "      <th>track_popularity</th>\n",
       "      <th>track_album_id</th>\n",
       "      <th>track_album_name</th>\n",
       "      <th>track_album_release_date</th>\n",
       "      <th>playlist_name</th>\n",
       "      <th>playlist_id</th>\n",
       "      <th>playlist_genre</th>\n",
       "      <th>playlist_subgenre</th>\n",
       "      <th>danceability</th>\n",
       "      <th>energy</th>\n",
       "      <th>key</th>\n",
       "      <th>loudness</th>\n",
       "      <th>mode</th>\n",
       "      <th>speechiness</th>\n",
       "      <th>acousticness</th>\n",
       "      <th>instrumentalness</th>\n",
       "      <th>liveness</th>\n",
       "      <th>valence</th>\n",
       "      <th>tempo</th>\n",
       "      <th>duration_ms</th>\n",
       "    </tr>\n",
       "  </thead>\n",
       "  <tbody>\n",
       "    <tr>\n",
       "      <th>0</th>\n",
       "      <td>6f807x0ima9a1j3VPbc7VN</td>\n",
       "      <td>I Don't Care (with Justin Bieber) - Loud Luxur...</td>\n",
       "      <td>Ed Sheeran</td>\n",
       "      <td>66</td>\n",
       "      <td>2oCs0DGTsRO98Gh5ZSl2Cx</td>\n",
       "      <td>I Don't Care (with Justin Bieber) [Loud Luxury...</td>\n",
       "      <td>2019-06-14</td>\n",
       "      <td>Pop Remix</td>\n",
       "      <td>37i9dQZF1DXcZDD7cfEKhW</td>\n",
       "      <td>pop</td>\n",
       "      <td>dance pop</td>\n",
       "      <td>0.748</td>\n",
       "      <td>0.916</td>\n",
       "      <td>6</td>\n",
       "      <td>-2.634</td>\n",
       "      <td>1</td>\n",
       "      <td>0.0583</td>\n",
       "      <td>0.1020</td>\n",
       "      <td>0.000000</td>\n",
       "      <td>0.0653</td>\n",
       "      <td>0.518</td>\n",
       "      <td>122.036</td>\n",
       "      <td>194754</td>\n",
       "    </tr>\n",
       "    <tr>\n",
       "      <th>1</th>\n",
       "      <td>0r7CVbZTWZgbTCYdfa2P31</td>\n",
       "      <td>Memories - Dillon Francis Remix</td>\n",
       "      <td>Maroon 5</td>\n",
       "      <td>67</td>\n",
       "      <td>63rPSO264uRjW1X5E6cWv6</td>\n",
       "      <td>Memories (Dillon Francis Remix)</td>\n",
       "      <td>2019-12-13</td>\n",
       "      <td>Pop Remix</td>\n",
       "      <td>37i9dQZF1DXcZDD7cfEKhW</td>\n",
       "      <td>pop</td>\n",
       "      <td>dance pop</td>\n",
       "      <td>0.726</td>\n",
       "      <td>0.815</td>\n",
       "      <td>11</td>\n",
       "      <td>-4.969</td>\n",
       "      <td>1</td>\n",
       "      <td>0.0373</td>\n",
       "      <td>0.0724</td>\n",
       "      <td>0.004210</td>\n",
       "      <td>0.3570</td>\n",
       "      <td>0.693</td>\n",
       "      <td>99.972</td>\n",
       "      <td>162600</td>\n",
       "    </tr>\n",
       "    <tr>\n",
       "      <th>2</th>\n",
       "      <td>1z1Hg7Vb0AhHDiEmnDE79l</td>\n",
       "      <td>All the Time - Don Diablo Remix</td>\n",
       "      <td>Zara Larsson</td>\n",
       "      <td>70</td>\n",
       "      <td>1HoSmj2eLcsrR0vE9gThr4</td>\n",
       "      <td>All the Time (Don Diablo Remix)</td>\n",
       "      <td>2019-07-05</td>\n",
       "      <td>Pop Remix</td>\n",
       "      <td>37i9dQZF1DXcZDD7cfEKhW</td>\n",
       "      <td>pop</td>\n",
       "      <td>dance pop</td>\n",
       "      <td>0.675</td>\n",
       "      <td>0.931</td>\n",
       "      <td>1</td>\n",
       "      <td>-3.432</td>\n",
       "      <td>0</td>\n",
       "      <td>0.0742</td>\n",
       "      <td>0.0794</td>\n",
       "      <td>0.000023</td>\n",
       "      <td>0.1100</td>\n",
       "      <td>0.613</td>\n",
       "      <td>124.008</td>\n",
       "      <td>176616</td>\n",
       "    </tr>\n",
       "    <tr>\n",
       "      <th>3</th>\n",
       "      <td>75FpbthrwQmzHlBJLuGdC7</td>\n",
       "      <td>Call You Mine - Keanu Silva Remix</td>\n",
       "      <td>The Chainsmokers</td>\n",
       "      <td>60</td>\n",
       "      <td>1nqYsOef1yKKuGOVchbsk6</td>\n",
       "      <td>Call You Mine - The Remixes</td>\n",
       "      <td>2019-07-19</td>\n",
       "      <td>Pop Remix</td>\n",
       "      <td>37i9dQZF1DXcZDD7cfEKhW</td>\n",
       "      <td>pop</td>\n",
       "      <td>dance pop</td>\n",
       "      <td>0.718</td>\n",
       "      <td>0.930</td>\n",
       "      <td>7</td>\n",
       "      <td>-3.778</td>\n",
       "      <td>1</td>\n",
       "      <td>0.1020</td>\n",
       "      <td>0.0287</td>\n",
       "      <td>0.000009</td>\n",
       "      <td>0.2040</td>\n",
       "      <td>0.277</td>\n",
       "      <td>121.956</td>\n",
       "      <td>169093</td>\n",
       "    </tr>\n",
       "    <tr>\n",
       "      <th>4</th>\n",
       "      <td>1e8PAfcKUYoKkxPhrHqw4x</td>\n",
       "      <td>Someone You Loved - Future Humans Remix</td>\n",
       "      <td>Lewis Capaldi</td>\n",
       "      <td>69</td>\n",
       "      <td>7m7vv9wlQ4i0LFuJiE2zsQ</td>\n",
       "      <td>Someone You Loved (Future Humans Remix)</td>\n",
       "      <td>2019-03-05</td>\n",
       "      <td>Pop Remix</td>\n",
       "      <td>37i9dQZF1DXcZDD7cfEKhW</td>\n",
       "      <td>pop</td>\n",
       "      <td>dance pop</td>\n",
       "      <td>0.650</td>\n",
       "      <td>0.833</td>\n",
       "      <td>1</td>\n",
       "      <td>-4.672</td>\n",
       "      <td>1</td>\n",
       "      <td>0.0359</td>\n",
       "      <td>0.0803</td>\n",
       "      <td>0.000000</td>\n",
       "      <td>0.0833</td>\n",
       "      <td>0.725</td>\n",
       "      <td>123.976</td>\n",
       "      <td>189052</td>\n",
       "    </tr>\n",
       "  </tbody>\n",
       "</table>\n",
       "</div>"
      ],
      "text/plain": [
       "                 track_id                                         track_name  \\\n",
       "0  6f807x0ima9a1j3VPbc7VN  I Don't Care (with Justin Bieber) - Loud Luxur...   \n",
       "1  0r7CVbZTWZgbTCYdfa2P31                    Memories - Dillon Francis Remix   \n",
       "2  1z1Hg7Vb0AhHDiEmnDE79l                    All the Time - Don Diablo Remix   \n",
       "3  75FpbthrwQmzHlBJLuGdC7                  Call You Mine - Keanu Silva Remix   \n",
       "4  1e8PAfcKUYoKkxPhrHqw4x            Someone You Loved - Future Humans Remix   \n",
       "\n",
       "       track_artist  track_popularity          track_album_id  \\\n",
       "0        Ed Sheeran                66  2oCs0DGTsRO98Gh5ZSl2Cx   \n",
       "1          Maroon 5                67  63rPSO264uRjW1X5E6cWv6   \n",
       "2      Zara Larsson                70  1HoSmj2eLcsrR0vE9gThr4   \n",
       "3  The Chainsmokers                60  1nqYsOef1yKKuGOVchbsk6   \n",
       "4     Lewis Capaldi                69  7m7vv9wlQ4i0LFuJiE2zsQ   \n",
       "\n",
       "                                    track_album_name track_album_release_date  \\\n",
       "0  I Don't Care (with Justin Bieber) [Loud Luxury...               2019-06-14   \n",
       "1                    Memories (Dillon Francis Remix)               2019-12-13   \n",
       "2                    All the Time (Don Diablo Remix)               2019-07-05   \n",
       "3                        Call You Mine - The Remixes               2019-07-19   \n",
       "4            Someone You Loved (Future Humans Remix)               2019-03-05   \n",
       "\n",
       "  playlist_name             playlist_id playlist_genre playlist_subgenre  \\\n",
       "0     Pop Remix  37i9dQZF1DXcZDD7cfEKhW            pop         dance pop   \n",
       "1     Pop Remix  37i9dQZF1DXcZDD7cfEKhW            pop         dance pop   \n",
       "2     Pop Remix  37i9dQZF1DXcZDD7cfEKhW            pop         dance pop   \n",
       "3     Pop Remix  37i9dQZF1DXcZDD7cfEKhW            pop         dance pop   \n",
       "4     Pop Remix  37i9dQZF1DXcZDD7cfEKhW            pop         dance pop   \n",
       "\n",
       "   danceability  energy  key  loudness  mode  speechiness  acousticness  \\\n",
       "0         0.748   0.916    6    -2.634     1       0.0583        0.1020   \n",
       "1         0.726   0.815   11    -4.969     1       0.0373        0.0724   \n",
       "2         0.675   0.931    1    -3.432     0       0.0742        0.0794   \n",
       "3         0.718   0.930    7    -3.778     1       0.1020        0.0287   \n",
       "4         0.650   0.833    1    -4.672     1       0.0359        0.0803   \n",
       "\n",
       "   instrumentalness  liveness  valence    tempo  duration_ms  \n",
       "0          0.000000    0.0653    0.518  122.036       194754  \n",
       "1          0.004210    0.3570    0.693   99.972       162600  \n",
       "2          0.000023    0.1100    0.613  124.008       176616  \n",
       "3          0.000009    0.2040    0.277  121.956       169093  \n",
       "4          0.000000    0.0833    0.725  123.976       189052  "
      ]
     },
     "execution_count": 427,
     "metadata": {},
     "output_type": "execute_result"
    }
   ],
   "source": [
    "spotify.head(5)"
   ]
  },
  {
   "cell_type": "markdown",
   "metadata": {},
   "source": [
    "### Eliminamos columnas identificativas"
   ]
  },
  {
   "cell_type": "code",
   "execution_count": 428,
   "metadata": {
    "execution": {
     "iopub.execute_input": "2025-02-27T01:48:46.045323Z",
     "iopub.status.busy": "2025-02-27T01:48:46.044913Z",
     "iopub.status.idle": "2025-02-27T01:48:46.065800Z",
     "shell.execute_reply": "2025-02-27T01:48:46.064649Z",
     "shell.execute_reply.started": "2025-02-27T01:48:46.045285Z"
    },
    "trusted": true
   },
   "outputs": [],
   "source": [
    "spotify = spotify.drop(columns=[\"track_id\", \"track_name\", \"track_album_id\", \"playlist_id\"])"
   ]
  },
  {
   "cell_type": "code",
   "execution_count": 429,
   "metadata": {
    "execution": {
     "iopub.execute_input": "2025-02-27T01:48:46.067407Z",
     "iopub.status.busy": "2025-02-27T01:48:46.066966Z",
     "iopub.status.idle": "2025-02-27T01:48:46.086298Z",
     "shell.execute_reply": "2025-02-27T01:48:46.085174Z",
     "shell.execute_reply.started": "2025-02-27T01:48:46.067367Z"
    },
    "trusted": true
   },
   "outputs": [
    {
     "data": {
      "text/plain": [
       "19744"
      ]
     },
     "execution_count": 429,
     "metadata": {},
     "output_type": "execute_result"
    }
   ],
   "source": [
    "len(spotify[\"track_album_name\"].unique())"
   ]
  },
  {
   "cell_type": "markdown",
   "metadata": {},
   "source": [
    "### Vamos a reemplazar algunas columnas por la media de su popularidad (Target Encoding)\n"
   ]
  },
  {
   "cell_type": "markdown",
   "metadata": {},
   "source": [
    "[Ejercicio donde vi este metodo (mio)](https://github.com/Doradux/IABD-Course/blob/main/MIA/encoding_dataset/tecnicas-de-encoding.ipynb)"
   ]
  },
  {
   "cell_type": "code",
   "execution_count": 430,
   "metadata": {
    "execution": {
     "iopub.execute_input": "2025-02-27T01:48:46.087759Z",
     "iopub.status.busy": "2025-02-27T01:48:46.087437Z",
     "iopub.status.idle": "2025-02-27T01:48:46.188993Z",
     "shell.execute_reply": "2025-02-27T01:48:46.187860Z",
     "shell.execute_reply.started": "2025-02-27T01:48:46.087731Z"
    },
    "trusted": true
   },
   "outputs": [
    {
     "data": {
      "text/html": [
       "<div>\n",
       "<style scoped>\n",
       "    .dataframe tbody tr th:only-of-type {\n",
       "        vertical-align: middle;\n",
       "    }\n",
       "\n",
       "    .dataframe tbody tr th {\n",
       "        vertical-align: top;\n",
       "    }\n",
       "\n",
       "    .dataframe thead th {\n",
       "        text-align: right;\n",
       "    }\n",
       "</style>\n",
       "<table border=\"1\" class=\"dataframe\">\n",
       "  <thead>\n",
       "    <tr style=\"text-align: right;\">\n",
       "      <th></th>\n",
       "      <th>track_artist</th>\n",
       "      <th>track_popularity</th>\n",
       "      <th>track_album_name</th>\n",
       "      <th>track_album_release_date</th>\n",
       "      <th>playlist_name</th>\n",
       "      <th>playlist_genre</th>\n",
       "      <th>playlist_subgenre</th>\n",
       "      <th>danceability</th>\n",
       "      <th>energy</th>\n",
       "      <th>key</th>\n",
       "      <th>loudness</th>\n",
       "      <th>mode</th>\n",
       "      <th>speechiness</th>\n",
       "      <th>acousticness</th>\n",
       "      <th>instrumentalness</th>\n",
       "      <th>liveness</th>\n",
       "      <th>valence</th>\n",
       "      <th>tempo</th>\n",
       "      <th>duration_ms</th>\n",
       "    </tr>\n",
       "  </thead>\n",
       "  <tbody>\n",
       "    <tr>\n",
       "      <th>0</th>\n",
       "      <td>74.231884</td>\n",
       "      <td>66</td>\n",
       "      <td>66.0</td>\n",
       "      <td>2019-06-14</td>\n",
       "      <td>59.628571</td>\n",
       "      <td>47.74487</td>\n",
       "      <td>52.079353</td>\n",
       "      <td>0.748</td>\n",
       "      <td>0.916</td>\n",
       "      <td>6</td>\n",
       "      <td>-2.634</td>\n",
       "      <td>1</td>\n",
       "      <td>0.0583</td>\n",
       "      <td>0.1020</td>\n",
       "      <td>0.000000</td>\n",
       "      <td>0.0653</td>\n",
       "      <td>0.518</td>\n",
       "      <td>122.036</td>\n",
       "      <td>194754</td>\n",
       "    </tr>\n",
       "    <tr>\n",
       "      <th>1</th>\n",
       "      <td>53.042254</td>\n",
       "      <td>67</td>\n",
       "      <td>67.0</td>\n",
       "      <td>2019-12-13</td>\n",
       "      <td>59.628571</td>\n",
       "      <td>47.74487</td>\n",
       "      <td>52.079353</td>\n",
       "      <td>0.726</td>\n",
       "      <td>0.815</td>\n",
       "      <td>11</td>\n",
       "      <td>-4.969</td>\n",
       "      <td>1</td>\n",
       "      <td>0.0373</td>\n",
       "      <td>0.0724</td>\n",
       "      <td>0.004210</td>\n",
       "      <td>0.3570</td>\n",
       "      <td>0.693</td>\n",
       "      <td>99.972</td>\n",
       "      <td>162600</td>\n",
       "    </tr>\n",
       "    <tr>\n",
       "      <th>2</th>\n",
       "      <td>57.178571</td>\n",
       "      <td>70</td>\n",
       "      <td>70.0</td>\n",
       "      <td>2019-07-05</td>\n",
       "      <td>59.628571</td>\n",
       "      <td>47.74487</td>\n",
       "      <td>52.079353</td>\n",
       "      <td>0.675</td>\n",
       "      <td>0.931</td>\n",
       "      <td>1</td>\n",
       "      <td>-3.432</td>\n",
       "      <td>0</td>\n",
       "      <td>0.0742</td>\n",
       "      <td>0.0794</td>\n",
       "      <td>0.000023</td>\n",
       "      <td>0.1100</td>\n",
       "      <td>0.613</td>\n",
       "      <td>124.008</td>\n",
       "      <td>176616</td>\n",
       "    </tr>\n",
       "    <tr>\n",
       "      <th>3</th>\n",
       "      <td>57.699187</td>\n",
       "      <td>60</td>\n",
       "      <td>59.0</td>\n",
       "      <td>2019-07-19</td>\n",
       "      <td>59.628571</td>\n",
       "      <td>47.74487</td>\n",
       "      <td>52.079353</td>\n",
       "      <td>0.718</td>\n",
       "      <td>0.930</td>\n",
       "      <td>7</td>\n",
       "      <td>-3.778</td>\n",
       "      <td>1</td>\n",
       "      <td>0.1020</td>\n",
       "      <td>0.0287</td>\n",
       "      <td>0.000009</td>\n",
       "      <td>0.2040</td>\n",
       "      <td>0.277</td>\n",
       "      <td>121.956</td>\n",
       "      <td>169093</td>\n",
       "    </tr>\n",
       "    <tr>\n",
       "      <th>4</th>\n",
       "      <td>83.714286</td>\n",
       "      <td>69</td>\n",
       "      <td>69.0</td>\n",
       "      <td>2019-03-05</td>\n",
       "      <td>59.628571</td>\n",
       "      <td>47.74487</td>\n",
       "      <td>52.079353</td>\n",
       "      <td>0.650</td>\n",
       "      <td>0.833</td>\n",
       "      <td>1</td>\n",
       "      <td>-4.672</td>\n",
       "      <td>1</td>\n",
       "      <td>0.0359</td>\n",
       "      <td>0.0803</td>\n",
       "      <td>0.000000</td>\n",
       "      <td>0.0833</td>\n",
       "      <td>0.725</td>\n",
       "      <td>123.976</td>\n",
       "      <td>189052</td>\n",
       "    </tr>\n",
       "  </tbody>\n",
       "</table>\n",
       "</div>"
      ],
      "text/plain": [
       "   track_artist  track_popularity  track_album_name track_album_release_date  \\\n",
       "0     74.231884                66              66.0               2019-06-14   \n",
       "1     53.042254                67              67.0               2019-12-13   \n",
       "2     57.178571                70              70.0               2019-07-05   \n",
       "3     57.699187                60              59.0               2019-07-19   \n",
       "4     83.714286                69              69.0               2019-03-05   \n",
       "\n",
       "   playlist_name  playlist_genre  playlist_subgenre  danceability  energy  \\\n",
       "0      59.628571        47.74487          52.079353         0.748   0.916   \n",
       "1      59.628571        47.74487          52.079353         0.726   0.815   \n",
       "2      59.628571        47.74487          52.079353         0.675   0.931   \n",
       "3      59.628571        47.74487          52.079353         0.718   0.930   \n",
       "4      59.628571        47.74487          52.079353         0.650   0.833   \n",
       "\n",
       "   key  loudness  mode  speechiness  acousticness  instrumentalness  liveness  \\\n",
       "0    6    -2.634     1       0.0583        0.1020          0.000000    0.0653   \n",
       "1   11    -4.969     1       0.0373        0.0724          0.004210    0.3570   \n",
       "2    1    -3.432     0       0.0742        0.0794          0.000023    0.1100   \n",
       "3    7    -3.778     1       0.1020        0.0287          0.000009    0.2040   \n",
       "4    1    -4.672     1       0.0359        0.0803          0.000000    0.0833   \n",
       "\n",
       "   valence    tempo  duration_ms  \n",
       "0    0.518  122.036       194754  \n",
       "1    0.693   99.972       162600  \n",
       "2    0.613  124.008       176616  \n",
       "3    0.277  121.956       169093  \n",
       "4    0.725  123.976       189052  "
      ]
     },
     "execution_count": 430,
     "metadata": {},
     "output_type": "execute_result"
    }
   ],
   "source": [
    "categorical_columns = ['track_album_name', 'track_artist', 'playlist_genre', 'playlist_subgenre', 'playlist_name']\n",
    "\n",
    "# Aplicar Target Encoding a cada columna categórica\n",
    "for col in categorical_columns:\n",
    "    mean_income_per_category = spotify.groupby(col)['track_popularity'].mean()\n",
    "    spotify[col] = spotify[col].map(mean_income_per_category)\n",
    "\n",
    "spotify.head()"
   ]
  },
  {
   "cell_type": "markdown",
   "metadata": {},
   "source": [
    "### Vamos a reemplazar las fechas de salida por los anios desde que salio el albun"
   ]
  },
  {
   "cell_type": "code",
   "execution_count": 431,
   "metadata": {
    "execution": {
     "iopub.execute_input": "2025-02-27T01:48:46.190318Z",
     "iopub.status.busy": "2025-02-27T01:48:46.189979Z",
     "iopub.status.idle": "2025-02-27T01:48:46.225452Z",
     "shell.execute_reply": "2025-02-27T01:48:46.224123Z",
     "shell.execute_reply.started": "2025-02-27T01:48:46.190281Z"
    },
    "trusted": true
   },
   "outputs": [],
   "source": [
    "def parse_date(date):\n",
    "    if len(date) == 4:\n",
    "        return date + \"-01-01\"\n",
    "    return date\n",
    "\n",
    "spotify[\"track_album_release_date\"] = spotify[\"track_album_release_date\"].astype(str).apply(parse_date)\n",
    "spotify[\"track_album_release_date\"] = pd.to_datetime(spotify[\"track_album_release_date\"], format=\"%Y-%m-%d\", errors=\"coerce\")\n",
    "\n",
    "spotify[\"album_year\"] = spotify[\"track_album_release_date\"].dt.year\n",
    "spotify[\"album_month\"] = spotify[\"track_album_release_date\"].dt.month\n",
    "spotify[\"album_day\"] = spotify[\"track_album_release_date\"].dt.day\n",
    "\n",
    "spotify[\"album_age\"] = datetime.now().year - spotify[\"album_year\"]\n",
    "\n",
    "spotify = spotify.drop(columns=[\"track_album_release_date\", \"album_year\", \"album_month\", \"album_day\"])"
   ]
  },
  {
   "cell_type": "code",
   "execution_count": 432,
   "metadata": {
    "execution": {
     "iopub.execute_input": "2025-02-27T01:48:46.226838Z",
     "iopub.status.busy": "2025-02-27T01:48:46.226546Z",
     "iopub.status.idle": "2025-02-27T01:48:46.248071Z",
     "shell.execute_reply": "2025-02-27T01:48:46.247099Z",
     "shell.execute_reply.started": "2025-02-27T01:48:46.226812Z"
    },
    "trusted": true
   },
   "outputs": [
    {
     "data": {
      "text/html": [
       "<div>\n",
       "<style scoped>\n",
       "    .dataframe tbody tr th:only-of-type {\n",
       "        vertical-align: middle;\n",
       "    }\n",
       "\n",
       "    .dataframe tbody tr th {\n",
       "        vertical-align: top;\n",
       "    }\n",
       "\n",
       "    .dataframe thead th {\n",
       "        text-align: right;\n",
       "    }\n",
       "</style>\n",
       "<table border=\"1\" class=\"dataframe\">\n",
       "  <thead>\n",
       "    <tr style=\"text-align: right;\">\n",
       "      <th></th>\n",
       "      <th>track_artist</th>\n",
       "      <th>track_popularity</th>\n",
       "      <th>track_album_name</th>\n",
       "      <th>playlist_name</th>\n",
       "      <th>playlist_genre</th>\n",
       "      <th>playlist_subgenre</th>\n",
       "      <th>danceability</th>\n",
       "      <th>energy</th>\n",
       "      <th>key</th>\n",
       "      <th>loudness</th>\n",
       "      <th>mode</th>\n",
       "      <th>speechiness</th>\n",
       "      <th>acousticness</th>\n",
       "      <th>instrumentalness</th>\n",
       "      <th>liveness</th>\n",
       "      <th>valence</th>\n",
       "      <th>tempo</th>\n",
       "      <th>duration_ms</th>\n",
       "      <th>album_age</th>\n",
       "    </tr>\n",
       "  </thead>\n",
       "  <tbody>\n",
       "    <tr>\n",
       "      <th>0</th>\n",
       "      <td>74.231884</td>\n",
       "      <td>66</td>\n",
       "      <td>66.0</td>\n",
       "      <td>59.628571</td>\n",
       "      <td>47.74487</td>\n",
       "      <td>52.079353</td>\n",
       "      <td>0.748</td>\n",
       "      <td>0.916</td>\n",
       "      <td>6</td>\n",
       "      <td>-2.634</td>\n",
       "      <td>1</td>\n",
       "      <td>0.0583</td>\n",
       "      <td>0.1020</td>\n",
       "      <td>0.000000</td>\n",
       "      <td>0.0653</td>\n",
       "      <td>0.518</td>\n",
       "      <td>122.036</td>\n",
       "      <td>194754</td>\n",
       "      <td>6.0</td>\n",
       "    </tr>\n",
       "    <tr>\n",
       "      <th>1</th>\n",
       "      <td>53.042254</td>\n",
       "      <td>67</td>\n",
       "      <td>67.0</td>\n",
       "      <td>59.628571</td>\n",
       "      <td>47.74487</td>\n",
       "      <td>52.079353</td>\n",
       "      <td>0.726</td>\n",
       "      <td>0.815</td>\n",
       "      <td>11</td>\n",
       "      <td>-4.969</td>\n",
       "      <td>1</td>\n",
       "      <td>0.0373</td>\n",
       "      <td>0.0724</td>\n",
       "      <td>0.004210</td>\n",
       "      <td>0.3570</td>\n",
       "      <td>0.693</td>\n",
       "      <td>99.972</td>\n",
       "      <td>162600</td>\n",
       "      <td>6.0</td>\n",
       "    </tr>\n",
       "    <tr>\n",
       "      <th>2</th>\n",
       "      <td>57.178571</td>\n",
       "      <td>70</td>\n",
       "      <td>70.0</td>\n",
       "      <td>59.628571</td>\n",
       "      <td>47.74487</td>\n",
       "      <td>52.079353</td>\n",
       "      <td>0.675</td>\n",
       "      <td>0.931</td>\n",
       "      <td>1</td>\n",
       "      <td>-3.432</td>\n",
       "      <td>0</td>\n",
       "      <td>0.0742</td>\n",
       "      <td>0.0794</td>\n",
       "      <td>0.000023</td>\n",
       "      <td>0.1100</td>\n",
       "      <td>0.613</td>\n",
       "      <td>124.008</td>\n",
       "      <td>176616</td>\n",
       "      <td>6.0</td>\n",
       "    </tr>\n",
       "    <tr>\n",
       "      <th>3</th>\n",
       "      <td>57.699187</td>\n",
       "      <td>60</td>\n",
       "      <td>59.0</td>\n",
       "      <td>59.628571</td>\n",
       "      <td>47.74487</td>\n",
       "      <td>52.079353</td>\n",
       "      <td>0.718</td>\n",
       "      <td>0.930</td>\n",
       "      <td>7</td>\n",
       "      <td>-3.778</td>\n",
       "      <td>1</td>\n",
       "      <td>0.1020</td>\n",
       "      <td>0.0287</td>\n",
       "      <td>0.000009</td>\n",
       "      <td>0.2040</td>\n",
       "      <td>0.277</td>\n",
       "      <td>121.956</td>\n",
       "      <td>169093</td>\n",
       "      <td>6.0</td>\n",
       "    </tr>\n",
       "    <tr>\n",
       "      <th>4</th>\n",
       "      <td>83.714286</td>\n",
       "      <td>69</td>\n",
       "      <td>69.0</td>\n",
       "      <td>59.628571</td>\n",
       "      <td>47.74487</td>\n",
       "      <td>52.079353</td>\n",
       "      <td>0.650</td>\n",
       "      <td>0.833</td>\n",
       "      <td>1</td>\n",
       "      <td>-4.672</td>\n",
       "      <td>1</td>\n",
       "      <td>0.0359</td>\n",
       "      <td>0.0803</td>\n",
       "      <td>0.000000</td>\n",
       "      <td>0.0833</td>\n",
       "      <td>0.725</td>\n",
       "      <td>123.976</td>\n",
       "      <td>189052</td>\n",
       "      <td>6.0</td>\n",
       "    </tr>\n",
       "  </tbody>\n",
       "</table>\n",
       "</div>"
      ],
      "text/plain": [
       "   track_artist  track_popularity  track_album_name  playlist_name  \\\n",
       "0     74.231884                66              66.0      59.628571   \n",
       "1     53.042254                67              67.0      59.628571   \n",
       "2     57.178571                70              70.0      59.628571   \n",
       "3     57.699187                60              59.0      59.628571   \n",
       "4     83.714286                69              69.0      59.628571   \n",
       "\n",
       "   playlist_genre  playlist_subgenre  danceability  energy  key  loudness  \\\n",
       "0        47.74487          52.079353         0.748   0.916    6    -2.634   \n",
       "1        47.74487          52.079353         0.726   0.815   11    -4.969   \n",
       "2        47.74487          52.079353         0.675   0.931    1    -3.432   \n",
       "3        47.74487          52.079353         0.718   0.930    7    -3.778   \n",
       "4        47.74487          52.079353         0.650   0.833    1    -4.672   \n",
       "\n",
       "   mode  speechiness  acousticness  instrumentalness  liveness  valence  \\\n",
       "0     1       0.0583        0.1020          0.000000    0.0653    0.518   \n",
       "1     1       0.0373        0.0724          0.004210    0.3570    0.693   \n",
       "2     0       0.0742        0.0794          0.000023    0.1100    0.613   \n",
       "3     1       0.1020        0.0287          0.000009    0.2040    0.277   \n",
       "4     1       0.0359        0.0803          0.000000    0.0833    0.725   \n",
       "\n",
       "     tempo  duration_ms  album_age  \n",
       "0  122.036       194754        6.0  \n",
       "1   99.972       162600        6.0  \n",
       "2  124.008       176616        6.0  \n",
       "3  121.956       169093        6.0  \n",
       "4  123.976       189052        6.0  "
      ]
     },
     "execution_count": 432,
     "metadata": {},
     "output_type": "execute_result"
    }
   ],
   "source": [
    "spotify.head(5)"
   ]
  },
  {
   "cell_type": "markdown",
   "metadata": {},
   "source": [
    "### Mostrar nulos"
   ]
  },
  {
   "cell_type": "code",
   "execution_count": 433,
   "metadata": {
    "execution": {
     "iopub.execute_input": "2025-02-27T01:48:46.249433Z",
     "iopub.status.busy": "2025-02-27T01:48:46.249070Z",
     "iopub.status.idle": "2025-02-27T01:48:46.274241Z",
     "shell.execute_reply": "2025-02-27T01:48:46.273078Z",
     "shell.execute_reply.started": "2025-02-27T01:48:46.249396Z"
    },
    "trusted": true
   },
   "outputs": [
    {
     "name": "stdout",
     "output_type": "stream",
     "text": [
      "Columnas con valores nulos:\n",
      "track_artist         5\n",
      "track_album_name     5\n",
      "album_age           31\n",
      "dtype: int64\n"
     ]
    }
   ],
   "source": [
    "mostrar_nulos(spotify)"
   ]
  },
  {
   "cell_type": "markdown",
   "metadata": {},
   "source": [
    "Al ser tan poquitos vamos a optar por eliminarlos"
   ]
  },
  {
   "cell_type": "code",
   "execution_count": 434,
   "metadata": {
    "execution": {
     "iopub.execute_input": "2025-02-27T01:48:46.275920Z",
     "iopub.status.busy": "2025-02-27T01:48:46.275516Z",
     "iopub.status.idle": "2025-02-27T01:48:46.287350Z",
     "shell.execute_reply": "2025-02-27T01:48:46.285856Z",
     "shell.execute_reply.started": "2025-02-27T01:48:46.275878Z"
    },
    "trusted": true
   },
   "outputs": [],
   "source": [
    "spotify = spotify.dropna()"
   ]
  },
  {
   "cell_type": "markdown",
   "metadata": {},
   "source": [
    "### Separamos datos"
   ]
  },
  {
   "cell_type": "code",
   "execution_count": 435,
   "metadata": {
    "execution": {
     "iopub.execute_input": "2025-02-27T01:48:46.289255Z",
     "iopub.status.busy": "2025-02-27T01:48:46.288813Z",
     "iopub.status.idle": "2025-02-27T01:48:46.300140Z",
     "shell.execute_reply": "2025-02-27T01:48:46.299001Z",
     "shell.execute_reply.started": "2025-02-27T01:48:46.289213Z"
    },
    "trusted": true
   },
   "outputs": [
    {
     "name": "stdout",
     "output_type": "stream",
     "text": [
      "float64    15\n",
      "int64       3\n",
      "Name: count, dtype: int64\n"
     ]
    }
   ],
   "source": [
    "X_spotify = spotify.drop(columns=[\"track_popularity\"])\n",
    "y_spotify = spotify[\"track_popularity\"]\n",
    "\n",
    "print(X_spotify.dtypes.value_counts())"
   ]
  },
  {
   "cell_type": "markdown",
   "metadata": {},
   "source": [
    "### Vamos a convertir el escore de 0 a 100 a de 0 a 10 enteros"
   ]
  },
  {
   "cell_type": "code",
   "execution_count": 436,
   "metadata": {
    "execution": {
     "iopub.execute_input": "2025-02-27T01:48:46.301532Z",
     "iopub.status.busy": "2025-02-27T01:48:46.301198Z",
     "iopub.status.idle": "2025-02-27T01:48:46.318765Z",
     "shell.execute_reply": "2025-02-27T01:48:46.317720Z",
     "shell.execute_reply.started": "2025-02-27T01:48:46.301501Z"
    },
    "trusted": true
   },
   "outputs": [],
   "source": [
    "y_spotify = (y_spotify / 10).astype(int)"
   ]
  },
  {
   "cell_type": "markdown",
   "metadata": {},
   "source": [
    "### Describe"
   ]
  },
  {
   "cell_type": "code",
   "execution_count": 437,
   "metadata": {
    "execution": {
     "iopub.execute_input": "2025-02-27T01:48:46.320348Z",
     "iopub.status.busy": "2025-02-27T01:48:46.320054Z",
     "iopub.status.idle": "2025-02-27T01:48:46.404831Z",
     "shell.execute_reply": "2025-02-27T01:48:46.403675Z",
     "shell.execute_reply.started": "2025-02-27T01:48:46.320322Z"
    },
    "trusted": true
   },
   "outputs": [
    {
     "data": {
      "text/html": [
       "<div>\n",
       "<style scoped>\n",
       "    .dataframe tbody tr th:only-of-type {\n",
       "        vertical-align: middle;\n",
       "    }\n",
       "\n",
       "    .dataframe tbody tr th {\n",
       "        vertical-align: top;\n",
       "    }\n",
       "\n",
       "    .dataframe thead th {\n",
       "        text-align: right;\n",
       "    }\n",
       "</style>\n",
       "<table border=\"1\" class=\"dataframe\">\n",
       "  <thead>\n",
       "    <tr style=\"text-align: right;\">\n",
       "      <th></th>\n",
       "      <th>count</th>\n",
       "      <th>mean</th>\n",
       "      <th>std</th>\n",
       "      <th>min</th>\n",
       "      <th>25%</th>\n",
       "      <th>50%</th>\n",
       "      <th>75%</th>\n",
       "      <th>max</th>\n",
       "    </tr>\n",
       "  </thead>\n",
       "  <tbody>\n",
       "    <tr>\n",
       "      <th>track_artist</th>\n",
       "      <td>32797.0</td>\n",
       "      <td>42.485138</td>\n",
       "      <td>18.567325</td>\n",
       "      <td>0.000000</td>\n",
       "      <td>30.400000</td>\n",
       "      <td>43.222222</td>\n",
       "      <td>56.000000</td>\n",
       "      <td>97.000000</td>\n",
       "    </tr>\n",
       "    <tr>\n",
       "      <th>track_album_name</th>\n",
       "      <td>32797.0</td>\n",
       "      <td>42.481568</td>\n",
       "      <td>23.005836</td>\n",
       "      <td>0.000000</td>\n",
       "      <td>27.000000</td>\n",
       "      <td>44.500000</td>\n",
       "      <td>60.000000</td>\n",
       "      <td>100.000000</td>\n",
       "    </tr>\n",
       "    <tr>\n",
       "      <th>playlist_name</th>\n",
       "      <td>32797.0</td>\n",
       "      <td>42.479473</td>\n",
       "      <td>15.889844</td>\n",
       "      <td>3.548387</td>\n",
       "      <td>31.714286</td>\n",
       "      <td>41.888889</td>\n",
       "      <td>54.348361</td>\n",
       "      <td>83.186235</td>\n",
       "    </tr>\n",
       "    <tr>\n",
       "      <th>playlist_genre</th>\n",
       "      <td>32797.0</td>\n",
       "      <td>42.477093</td>\n",
       "      <td>4.372066</td>\n",
       "      <td>34.833526</td>\n",
       "      <td>41.223532</td>\n",
       "      <td>43.215454</td>\n",
       "      <td>47.026576</td>\n",
       "      <td>47.744870</td>\n",
       "    </tr>\n",
       "    <tr>\n",
       "      <th>playlist_subgenre</th>\n",
       "      <td>32797.0</td>\n",
       "      <td>42.478749</td>\n",
       "      <td>8.683793</td>\n",
       "      <td>26.867883</td>\n",
       "      <td>35.510258</td>\n",
       "      <td>42.725142</td>\n",
       "      <td>51.099842</td>\n",
       "      <td>56.825509</td>\n",
       "    </tr>\n",
       "    <tr>\n",
       "      <th>danceability</th>\n",
       "      <td>32797.0</td>\n",
       "      <td>0.654963</td>\n",
       "      <td>0.145057</td>\n",
       "      <td>0.000000</td>\n",
       "      <td>0.563000</td>\n",
       "      <td>0.672000</td>\n",
       "      <td>0.761000</td>\n",
       "      <td>0.983000</td>\n",
       "    </tr>\n",
       "    <tr>\n",
       "      <th>energy</th>\n",
       "      <td>32797.0</td>\n",
       "      <td>0.698691</td>\n",
       "      <td>0.180850</td>\n",
       "      <td>0.000175</td>\n",
       "      <td>0.581000</td>\n",
       "      <td>0.721000</td>\n",
       "      <td>0.840000</td>\n",
       "      <td>1.000000</td>\n",
       "    </tr>\n",
       "    <tr>\n",
       "      <th>key</th>\n",
       "      <td>32797.0</td>\n",
       "      <td>5.374790</td>\n",
       "      <td>3.611741</td>\n",
       "      <td>0.000000</td>\n",
       "      <td>2.000000</td>\n",
       "      <td>6.000000</td>\n",
       "      <td>9.000000</td>\n",
       "      <td>11.000000</td>\n",
       "    </tr>\n",
       "    <tr>\n",
       "      <th>loudness</th>\n",
       "      <td>32797.0</td>\n",
       "      <td>-6.716466</td>\n",
       "      <td>2.987018</td>\n",
       "      <td>-46.448000</td>\n",
       "      <td>-8.167000</td>\n",
       "      <td>-6.164000</td>\n",
       "      <td>-4.644000</td>\n",
       "      <td>1.275000</td>\n",
       "    </tr>\n",
       "    <tr>\n",
       "      <th>mode</th>\n",
       "      <td>32797.0</td>\n",
       "      <td>0.565692</td>\n",
       "      <td>0.495673</td>\n",
       "      <td>0.000000</td>\n",
       "      <td>0.000000</td>\n",
       "      <td>1.000000</td>\n",
       "      <td>1.000000</td>\n",
       "      <td>1.000000</td>\n",
       "    </tr>\n",
       "    <tr>\n",
       "      <th>speechiness</th>\n",
       "      <td>32797.0</td>\n",
       "      <td>0.107113</td>\n",
       "      <td>0.101334</td>\n",
       "      <td>0.000000</td>\n",
       "      <td>0.041100</td>\n",
       "      <td>0.062600</td>\n",
       "      <td>0.132000</td>\n",
       "      <td>0.918000</td>\n",
       "    </tr>\n",
       "    <tr>\n",
       "      <th>acousticness</th>\n",
       "      <td>32797.0</td>\n",
       "      <td>0.175223</td>\n",
       "      <td>0.219536</td>\n",
       "      <td>0.000000</td>\n",
       "      <td>0.015100</td>\n",
       "      <td>0.080300</td>\n",
       "      <td>0.255000</td>\n",
       "      <td>0.994000</td>\n",
       "    </tr>\n",
       "    <tr>\n",
       "      <th>instrumentalness</th>\n",
       "      <td>32797.0</td>\n",
       "      <td>0.084774</td>\n",
       "      <td>0.224290</td>\n",
       "      <td>0.000000</td>\n",
       "      <td>0.000000</td>\n",
       "      <td>0.000016</td>\n",
       "      <td>0.004820</td>\n",
       "      <td>0.994000</td>\n",
       "    </tr>\n",
       "    <tr>\n",
       "      <th>liveness</th>\n",
       "      <td>32797.0</td>\n",
       "      <td>0.190071</td>\n",
       "      <td>0.154174</td>\n",
       "      <td>0.000000</td>\n",
       "      <td>0.092700</td>\n",
       "      <td>0.127000</td>\n",
       "      <td>0.248000</td>\n",
       "      <td>0.996000</td>\n",
       "    </tr>\n",
       "    <tr>\n",
       "      <th>valence</th>\n",
       "      <td>32797.0</td>\n",
       "      <td>0.510403</td>\n",
       "      <td>0.233109</td>\n",
       "      <td>0.000000</td>\n",
       "      <td>0.330000</td>\n",
       "      <td>0.512000</td>\n",
       "      <td>0.693000</td>\n",
       "      <td>0.991000</td>\n",
       "    </tr>\n",
       "    <tr>\n",
       "      <th>tempo</th>\n",
       "      <td>32797.0</td>\n",
       "      <td>120.879804</td>\n",
       "      <td>26.898016</td>\n",
       "      <td>0.000000</td>\n",
       "      <td>99.961000</td>\n",
       "      <td>121.984000</td>\n",
       "      <td>133.907000</td>\n",
       "      <td>239.440000</td>\n",
       "    </tr>\n",
       "    <tr>\n",
       "      <th>duration_ms</th>\n",
       "      <td>32797.0</td>\n",
       "      <td>225779.993932</td>\n",
       "      <td>59834.489338</td>\n",
       "      <td>4000.000000</td>\n",
       "      <td>187806.000000</td>\n",
       "      <td>216000.000000</td>\n",
       "      <td>253520.000000</td>\n",
       "      <td>517810.000000</td>\n",
       "    </tr>\n",
       "    <tr>\n",
       "      <th>album_age</th>\n",
       "      <td>32797.0</td>\n",
       "      <td>13.826844</td>\n",
       "      <td>11.360968</td>\n",
       "      <td>5.000000</td>\n",
       "      <td>6.000000</td>\n",
       "      <td>9.000000</td>\n",
       "      <td>17.000000</td>\n",
       "      <td>68.000000</td>\n",
       "    </tr>\n",
       "  </tbody>\n",
       "</table>\n",
       "</div>"
      ],
      "text/plain": [
       "                     count           mean           std          min  \\\n",
       "track_artist       32797.0      42.485138     18.567325     0.000000   \n",
       "track_album_name   32797.0      42.481568     23.005836     0.000000   \n",
       "playlist_name      32797.0      42.479473     15.889844     3.548387   \n",
       "playlist_genre     32797.0      42.477093      4.372066    34.833526   \n",
       "playlist_subgenre  32797.0      42.478749      8.683793    26.867883   \n",
       "danceability       32797.0       0.654963      0.145057     0.000000   \n",
       "energy             32797.0       0.698691      0.180850     0.000175   \n",
       "key                32797.0       5.374790      3.611741     0.000000   \n",
       "loudness           32797.0      -6.716466      2.987018   -46.448000   \n",
       "mode               32797.0       0.565692      0.495673     0.000000   \n",
       "speechiness        32797.0       0.107113      0.101334     0.000000   \n",
       "acousticness       32797.0       0.175223      0.219536     0.000000   \n",
       "instrumentalness   32797.0       0.084774      0.224290     0.000000   \n",
       "liveness           32797.0       0.190071      0.154174     0.000000   \n",
       "valence            32797.0       0.510403      0.233109     0.000000   \n",
       "tempo              32797.0     120.879804     26.898016     0.000000   \n",
       "duration_ms        32797.0  225779.993932  59834.489338  4000.000000   \n",
       "album_age          32797.0      13.826844     11.360968     5.000000   \n",
       "\n",
       "                             25%            50%            75%            max  \n",
       "track_artist           30.400000      43.222222      56.000000      97.000000  \n",
       "track_album_name       27.000000      44.500000      60.000000     100.000000  \n",
       "playlist_name          31.714286      41.888889      54.348361      83.186235  \n",
       "playlist_genre         41.223532      43.215454      47.026576      47.744870  \n",
       "playlist_subgenre      35.510258      42.725142      51.099842      56.825509  \n",
       "danceability            0.563000       0.672000       0.761000       0.983000  \n",
       "energy                  0.581000       0.721000       0.840000       1.000000  \n",
       "key                     2.000000       6.000000       9.000000      11.000000  \n",
       "loudness               -8.167000      -6.164000      -4.644000       1.275000  \n",
       "mode                    0.000000       1.000000       1.000000       1.000000  \n",
       "speechiness             0.041100       0.062600       0.132000       0.918000  \n",
       "acousticness            0.015100       0.080300       0.255000       0.994000  \n",
       "instrumentalness        0.000000       0.000016       0.004820       0.994000  \n",
       "liveness                0.092700       0.127000       0.248000       0.996000  \n",
       "valence                 0.330000       0.512000       0.693000       0.991000  \n",
       "tempo                  99.961000     121.984000     133.907000     239.440000  \n",
       "duration_ms        187806.000000  216000.000000  253520.000000  517810.000000  \n",
       "album_age               6.000000       9.000000      17.000000      68.000000  "
      ]
     },
     "execution_count": 437,
     "metadata": {},
     "output_type": "execute_result"
    }
   ],
   "source": [
    "X_spotify.describe().T"
   ]
  },
  {
   "cell_type": "markdown",
   "metadata": {},
   "source": [
    "# 2. SVM"
   ]
  },
  {
   "cell_type": "markdown",
   "metadata": {},
   "source": [
    "Predice la probabilidad de que una muestra pertenezca a una clase basándose en la independencia de las características.\n",
    "\n",
    "Imagina que tienes dos grupos de puntos en un papel y quieres dibujar una línea que los separe. SVM busca la mejor línea posible para dividirlos, maximizando la distancia entre la línea y los puntos más cercanos de cada grupo.\n",
    "\n",
    "- En 2D, es una línea.\n",
    "- En 3D, es un plano.\n",
    "- En más dimensiones, se llama hiperplano.\n",
    "\n",
    "**<p style=\"color: green;\">Ventajas</p>**\n",
    "\n",
    "- Funciona bien con datos complejos y alta dimensionalidad.\n",
    "- Puede usar diferentes funciones \"kernel\" para mejorar la separación.\n",
    "\n",
    "**<p style=\"color: crimson;\">Desventajas</p>**\n",
    "\n",
    "- Puede ser lento con grandes volúmenes de datos.\n",
    "- Sensible al ajuste de hiperparámetros como C y el tipo de kernel."
   ]
  },
  {
   "cell_type": "markdown",
   "metadata": {},
   "source": [
    "## 2.1. Phishing"
   ]
  },
  {
   "cell_type": "code",
   "execution_count": 438,
   "metadata": {
    "execution": {
     "iopub.execute_input": "2025-02-27T01:48:46.406196Z",
     "iopub.status.busy": "2025-02-27T01:48:46.405884Z",
     "iopub.status.idle": "2025-02-27T01:48:47.737170Z",
     "shell.execute_reply": "2025-02-27T01:48:47.735955Z",
     "shell.execute_reply.started": "2025-02-27T01:48:46.406169Z"
    },
    "trusted": true
   },
   "outputs": [
    {
     "name": "stdout",
     "output_type": "stream",
     "text": [
      "SVM: 0.9512\n",
      "              precision    recall  f1-score   support\n",
      "\n",
      "          -1       0.96      0.92      0.94       976\n",
      "           1       0.94      0.97      0.96      1235\n",
      "\n",
      "    accuracy                           0.95      2211\n",
      "   macro avg       0.95      0.95      0.95      2211\n",
      "weighted avg       0.95      0.95      0.95      2211\n",
      "\n"
     ]
    }
   ],
   "source": [
    "evaluar_modelo(X_phishing, y_phishing, list(modelos.items())[0])"
   ]
  },
  {
   "cell_type": "markdown",
   "metadata": {},
   "source": [
    "## 2.2. Cancer Breast"
   ]
  },
  {
   "cell_type": "code",
   "execution_count": 439,
   "metadata": {
    "execution": {
     "iopub.execute_input": "2025-02-27T01:48:47.738668Z",
     "iopub.status.busy": "2025-02-27T01:48:47.738273Z",
     "iopub.status.idle": "2025-02-27T01:48:47.764880Z",
     "shell.execute_reply": "2025-02-27T01:48:47.763835Z",
     "shell.execute_reply.started": "2025-02-27T01:48:47.738629Z"
    },
    "trusted": true
   },
   "outputs": [
    {
     "name": "stdout",
     "output_type": "stream",
     "text": [
      "SVM: 0.9298\n",
      "              precision    recall  f1-score   support\n",
      "\n",
      "          -1       0.92      0.97      0.95        71\n",
      "           1       0.95      0.86      0.90        43\n",
      "\n",
      "    accuracy                           0.93       114\n",
      "   macro avg       0.93      0.92      0.92       114\n",
      "weighted avg       0.93      0.93      0.93       114\n",
      "\n"
     ]
    }
   ],
   "source": [
    "evaluar_modelo(X_cancer, y_cancer, list(modelos.items())[0])"
   ]
  },
  {
   "cell_type": "markdown",
   "metadata": {},
   "source": [
    "## 2.3. Wine"
   ]
  },
  {
   "cell_type": "code",
   "execution_count": 440,
   "metadata": {
    "execution": {
     "iopub.execute_input": "2025-02-27T01:48:47.766358Z",
     "iopub.status.busy": "2025-02-27T01:48:47.765898Z",
     "iopub.status.idle": "2025-02-27T01:48:47.852414Z",
     "shell.execute_reply": "2025-02-27T01:48:47.850989Z",
     "shell.execute_reply.started": "2025-02-27T01:48:47.766309Z"
    },
    "trusted": true
   },
   "outputs": [
    {
     "name": "stdout",
     "output_type": "stream",
     "text": [
      "SVM: 0.5633\n",
      "              precision    recall  f1-score   support\n",
      "\n",
      "           4       0.00      0.00      0.00         6\n",
      "           5       0.73      0.43      0.54        96\n",
      "           6       0.51      0.88      0.64        99\n",
      "           7       1.00      0.04      0.07        26\n",
      "           8       0.00      0.00      0.00         2\n",
      "\n",
      "    accuracy                           0.56       229\n",
      "   macro avg       0.45      0.27      0.25       229\n",
      "weighted avg       0.64      0.56      0.51       229\n",
      "\n"
     ]
    }
   ],
   "source": [
    "evaluar_modelo(X_wine, y_wine, list(modelos.items())[0])"
   ]
  },
  {
   "cell_type": "markdown",
   "metadata": {},
   "source": [
    "## 2.4. Spotify"
   ]
  },
  {
   "cell_type": "code",
   "execution_count": 441,
   "metadata": {
    "execution": {
     "iopub.execute_input": "2025-02-27T01:48:47.853885Z",
     "iopub.status.busy": "2025-02-27T01:48:47.853560Z",
     "iopub.status.idle": "2025-02-27T01:50:17.623461Z",
     "shell.execute_reply": "2025-02-27T01:50:17.622375Z",
     "shell.execute_reply.started": "2025-02-27T01:48:47.853855Z"
    },
    "trusted": true
   },
   "outputs": [
    {
     "name": "stdout",
     "output_type": "stream",
     "text": [
      "SVM: 0.1812\n",
      "              precision    recall  f1-score   support\n",
      "\n",
      "           0       0.20      0.59      0.30      1013\n",
      "           1       0.00      0.00      0.00       392\n",
      "           2       0.00      0.00      0.00       439\n",
      "           3       0.00      0.00      0.00       853\n",
      "           4       0.28      0.02      0.04       937\n",
      "           5       0.16      0.56      0.25      1028\n",
      "           6       0.00      0.00      0.00       932\n",
      "           7       0.00      0.00      0.00       662\n",
      "           8       0.00      0.00      0.00       246\n",
      "           9       0.00      0.00      0.00        58\n",
      "\n",
      "    accuracy                           0.18      6560\n",
      "   macro avg       0.06      0.12      0.06      6560\n",
      "weighted avg       0.10      0.18      0.09      6560\n",
      "\n"
     ]
    }
   ],
   "source": [
    "evaluar_modelo(X_spotify, y_spotify, list(modelos.items())[0])"
   ]
  },
  {
   "cell_type": "markdown",
   "metadata": {},
   "source": [
    "# 3. Regresion Logistica"
   ]
  },
  {
   "cell_type": "markdown",
   "metadata": {},
   "source": [
    "Predice la probabilidad de que una muestra pertenezca a una clase basándose en una función logística (sigmoide).\n",
    "\n",
    "Imagina que tienes dos grupos de puntos en un papel y en lugar de dibujar una línea para separarlos, calculas una probabilidad de pertenecer a un grupo u otro.\n",
    "\n",
    "- Si la probabilidad es mayor a 0.5, lo clasifica en una clase.\n",
    "- Si es menor a 0.5, lo clasifica en la otra.\n",
    "\n",
    "**<p style=\"color: green;\">Ventajas</p>**\n",
    "- Funciona bien en problemas de clasificación binaria\n",
    "\n",
    "**<p style=\"color: crimson;\">Deventajas</p>**\n",
    "No funciona bien con datos no lineales"
   ]
  },
  {
   "cell_type": "markdown",
   "metadata": {},
   "source": [
    "## 3.1. Phishing"
   ]
  },
  {
   "cell_type": "code",
   "execution_count": 442,
   "metadata": {
    "execution": {
     "iopub.execute_input": "2025-02-27T01:50:17.624904Z",
     "iopub.status.busy": "2025-02-27T01:50:17.624548Z",
     "iopub.status.idle": "2025-02-27T01:50:17.711698Z",
     "shell.execute_reply": "2025-02-27T01:50:17.710643Z",
     "shell.execute_reply.started": "2025-02-27T01:50:17.624867Z"
    },
    "trusted": true
   },
   "outputs": [
    {
     "name": "stdout",
     "output_type": "stream",
     "text": [
      "Regresion Logistica: 0.9335\n",
      "              precision    recall  f1-score   support\n",
      "\n",
      "          -1       0.94      0.91      0.92       976\n",
      "           1       0.93      0.95      0.94      1235\n",
      "\n",
      "    accuracy                           0.93      2211\n",
      "   macro avg       0.93      0.93      0.93      2211\n",
      "weighted avg       0.93      0.93      0.93      2211\n",
      "\n"
     ]
    }
   ],
   "source": [
    "evaluar_modelo(X_phishing, y_phishing, list(modelos.items())[1])"
   ]
  },
  {
   "cell_type": "markdown",
   "metadata": {},
   "source": [
    "## 3.2. Cancer Breast"
   ]
  },
  {
   "cell_type": "code",
   "execution_count": 443,
   "metadata": {
    "execution": {
     "iopub.execute_input": "2025-02-27T01:50:17.713160Z",
     "iopub.status.busy": "2025-02-27T01:50:17.712753Z",
     "iopub.status.idle": "2025-02-27T01:50:17.754958Z",
     "shell.execute_reply": "2025-02-27T01:50:17.753915Z",
     "shell.execute_reply.started": "2025-02-27T01:50:17.713119Z"
    },
    "trusted": true
   },
   "outputs": [
    {
     "name": "stdout",
     "output_type": "stream",
     "text": [
      "Regresion Logistica: 0.9298\n",
      "              precision    recall  f1-score   support\n",
      "\n",
      "          -1       0.97      0.92      0.94        71\n",
      "           1       0.87      0.95      0.91        43\n",
      "\n",
      "    accuracy                           0.93       114\n",
      "   macro avg       0.92      0.93      0.93       114\n",
      "weighted avg       0.93      0.93      0.93       114\n",
      "\n"
     ]
    }
   ],
   "source": [
    "evaluar_modelo(X_cancer, y_cancer, list(modelos.items())[1])"
   ]
  },
  {
   "cell_type": "markdown",
   "metadata": {},
   "source": [
    "## 3.3. Wine"
   ]
  },
  {
   "cell_type": "code",
   "execution_count": 444,
   "metadata": {
    "execution": {
     "iopub.execute_input": "2025-02-27T01:50:17.756431Z",
     "iopub.status.busy": "2025-02-27T01:50:17.756050Z",
     "iopub.status.idle": "2025-02-27T01:50:17.827838Z",
     "shell.execute_reply": "2025-02-27T01:50:17.826513Z",
     "shell.execute_reply.started": "2025-02-27T01:50:17.756390Z"
    },
    "trusted": true
   },
   "outputs": [
    {
     "name": "stdout",
     "output_type": "stream",
     "text": [
      "Regresion Logistica: 0.6070\n",
      "              precision    recall  f1-score   support\n",
      "\n",
      "           4       0.00      0.00      0.00         6\n",
      "           5       0.64      0.74      0.69        96\n",
      "           6       0.58      0.65      0.61        99\n",
      "           7       0.50      0.15      0.24        26\n",
      "           8       0.00      0.00      0.00         2\n",
      "\n",
      "    accuracy                           0.61       229\n",
      "   macro avg       0.34      0.31      0.31       229\n",
      "weighted avg       0.58      0.61      0.58       229\n",
      "\n"
     ]
    }
   ],
   "source": [
    "evaluar_modelo(X_wine, y_wine, list(modelos.items())[1])"
   ]
  },
  {
   "cell_type": "markdown",
   "metadata": {},
   "source": [
    "## 3.4. Spotify"
   ]
  },
  {
   "cell_type": "code",
   "execution_count": 445,
   "metadata": {
    "execution": {
     "iopub.execute_input": "2025-02-27T01:50:17.829208Z",
     "iopub.status.busy": "2025-02-27T01:50:17.828890Z",
     "iopub.status.idle": "2025-02-27T01:50:18.754650Z",
     "shell.execute_reply": "2025-02-27T01:50:18.753533Z",
     "shell.execute_reply.started": "2025-02-27T01:50:17.829180Z"
    },
    "trusted": true
   },
   "outputs": [
    {
     "name": "stdout",
     "output_type": "stream",
     "text": [
      "Regresion Logistica: 0.3116\n",
      "              precision    recall  f1-score   support\n",
      "\n",
      "           0       0.55      0.75      0.64      1013\n",
      "           1       0.00      0.00      0.00       392\n",
      "           2       0.00      0.00      0.00       439\n",
      "           3       0.24      0.21      0.22       853\n",
      "           4       0.18      0.23      0.20       937\n",
      "           5       0.26      0.36      0.31      1028\n",
      "           6       0.28      0.55      0.37       932\n",
      "           7       0.00      0.00      0.00       662\n",
      "           8       0.00      0.00      0.00       246\n",
      "           9       0.00      0.00      0.00        58\n",
      "\n",
      "    accuracy                           0.31      6560\n",
      "   macro avg       0.15      0.21      0.17      6560\n",
      "weighted avg       0.22      0.31      0.26      6560\n",
      "\n"
     ]
    }
   ],
   "source": [
    "evaluar_modelo(X_spotify, y_spotify, list(modelos.items())[1])"
   ]
  },
  {
   "cell_type": "markdown",
   "metadata": {},
   "source": [
    "# 4. Arboles de decision"
   ]
  },
  {
   "cell_type": "markdown",
   "metadata": {},
   "source": [
    "Es un modelo que clasifica los datos mediante preguntas y respuestas en forma de árbol.  \n",
    "\n",
    "Imagina que quieres clasificar si un animal es doméstico o salvaje.  \n",
    "Cada nodo del árbol representa una pregunta y cada rama representa una posible respuesta.  \n",
    "\n",
    "**<p style=\"color: green;\">Ventajas</p>**\n",
    "\n",
    "- Fácil de interpretar, maneja datos no lineales.  \n",
    "\n",
    "**<p style=\"color: crimson;\">Desventajas</p>**\n",
    "\n",
    "- Puede sobreajustar los datos si es muy profundo.  \n",
    "\n"
   ]
  },
  {
   "cell_type": "markdown",
   "metadata": {},
   "source": [
    "## 4.1. Phishing"
   ]
  },
  {
   "cell_type": "code",
   "execution_count": 446,
   "metadata": {
    "execution": {
     "iopub.execute_input": "2025-02-27T01:50:18.755985Z",
     "iopub.status.busy": "2025-02-27T01:50:18.755672Z",
     "iopub.status.idle": "2025-02-27T01:50:18.800813Z",
     "shell.execute_reply": "2025-02-27T01:50:18.799669Z",
     "shell.execute_reply.started": "2025-02-27T01:50:18.755958Z"
    },
    "trusted": true
   },
   "outputs": [
    {
     "name": "stdout",
     "output_type": "stream",
     "text": [
      "Arbol de Decision: 0.9597\n",
      "              precision    recall  f1-score   support\n",
      "\n",
      "          -1       0.95      0.96      0.95       976\n",
      "           1       0.97      0.96      0.96      1235\n",
      "\n",
      "    accuracy                           0.96      2211\n",
      "   macro avg       0.96      0.96      0.96      2211\n",
      "weighted avg       0.96      0.96      0.96      2211\n",
      "\n"
     ]
    }
   ],
   "source": [
    "evaluar_modelo(X_phishing, y_phishing, list(modelos.items())[2])"
   ]
  },
  {
   "cell_type": "markdown",
   "metadata": {},
   "source": [
    "## 4.2. Cancer Breast"
   ]
  },
  {
   "cell_type": "code",
   "execution_count": 447,
   "metadata": {
    "execution": {
     "iopub.execute_input": "2025-02-27T01:50:18.802418Z",
     "iopub.status.busy": "2025-02-27T01:50:18.802048Z",
     "iopub.status.idle": "2025-02-27T01:50:18.830146Z",
     "shell.execute_reply": "2025-02-27T01:50:18.829119Z",
     "shell.execute_reply.started": "2025-02-27T01:50:18.802389Z"
    },
    "trusted": true
   },
   "outputs": [
    {
     "name": "stdout",
     "output_type": "stream",
     "text": [
      "Arbol de Decision: 0.9298\n",
      "              precision    recall  f1-score   support\n",
      "\n",
      "          -1       0.94      0.94      0.94        71\n",
      "           1       0.91      0.91      0.91        43\n",
      "\n",
      "    accuracy                           0.93       114\n",
      "   macro avg       0.93      0.93      0.93       114\n",
      "weighted avg       0.93      0.93      0.93       114\n",
      "\n"
     ]
    }
   ],
   "source": [
    "evaluar_modelo(X_cancer, y_cancer, list(modelos.items())[2])"
   ]
  },
  {
   "cell_type": "markdown",
   "metadata": {},
   "source": [
    "## 4.3. Wine"
   ]
  },
  {
   "cell_type": "code",
   "execution_count": 448,
   "metadata": {
    "execution": {
     "iopub.execute_input": "2025-02-27T01:50:18.831596Z",
     "iopub.status.busy": "2025-02-27T01:50:18.831304Z",
     "iopub.status.idle": "2025-02-27T01:50:18.858664Z",
     "shell.execute_reply": "2025-02-27T01:50:18.857495Z",
     "shell.execute_reply.started": "2025-02-27T01:50:18.831572Z"
    },
    "trusted": true
   },
   "outputs": [
    {
     "name": "stdout",
     "output_type": "stream",
     "text": [
      "Arbol de Decision: 0.5590\n",
      "              precision    recall  f1-score   support\n",
      "\n",
      "           3       0.00      0.00      0.00         0\n",
      "           4       0.11      0.17      0.13         6\n",
      "           5       0.64      0.60      0.62        96\n",
      "           6       0.56      0.53      0.54        99\n",
      "           7       0.55      0.62      0.58        26\n",
      "           8       0.33      0.50      0.40         2\n",
      "\n",
      "    accuracy                           0.56       229\n",
      "   macro avg       0.37      0.40      0.38       229\n",
      "weighted avg       0.58      0.56      0.57       229\n",
      "\n"
     ]
    }
   ],
   "source": [
    "evaluar_modelo(X_wine, y_wine, list(modelos.items())[2])"
   ]
  },
  {
   "cell_type": "markdown",
   "metadata": {},
   "source": [
    "## 4.4. Spotify"
   ]
  },
  {
   "cell_type": "code",
   "execution_count": 449,
   "metadata": {
    "execution": {
     "iopub.execute_input": "2025-02-27T01:50:18.859894Z",
     "iopub.status.busy": "2025-02-27T01:50:18.859621Z",
     "iopub.status.idle": "2025-02-27T01:50:19.492688Z",
     "shell.execute_reply": "2025-02-27T01:50:19.491535Z",
     "shell.execute_reply.started": "2025-02-27T01:50:18.859870Z"
    },
    "trusted": true
   },
   "outputs": [
    {
     "name": "stdout",
     "output_type": "stream",
     "text": [
      "Arbol de Decision: 0.6858\n",
      "              precision    recall  f1-score   support\n",
      "\n",
      "           0       0.81      0.82      0.82      1013\n",
      "           1       0.61      0.63      0.62       392\n",
      "           2       0.55      0.54      0.55       439\n",
      "           3       0.66      0.64      0.65       853\n",
      "           4       0.64      0.63      0.63       937\n",
      "           5       0.67      0.63      0.65      1028\n",
      "           6       0.68      0.67      0.68       932\n",
      "           7       0.70      0.77      0.73       662\n",
      "           8       0.81      0.85      0.83       246\n",
      "           9       0.89      0.88      0.89        58\n",
      "\n",
      "    accuracy                           0.69      6560\n",
      "   macro avg       0.70      0.71      0.70      6560\n",
      "weighted avg       0.69      0.69      0.69      6560\n",
      "\n"
     ]
    }
   ],
   "source": [
    "evaluar_modelo(X_spotify, y_spotify, list(modelos.items())[2])"
   ]
  },
  {
   "cell_type": "markdown",
   "metadata": {},
   "source": [
    "# 5. Bosques aleatorios"
   ]
  },
  {
   "cell_type": "markdown",
   "metadata": {},
   "source": [
    "Es un modelo de aprendizaje automático basado en la combinación de múltiples Árboles de Decisión. En lugar de confiar en un solo árbol, genera varios árboles con diferentes subconjuntos de datos y toma la predicción más votada (en clasificación) o el promedio (en regresión). Esto lo hace más preciso y robusto ante el sobreajuste.\n",
    "\n",
    "**<p style=\"color: green;\">Ventajas</p>**\n",
    "- Reduce el sobreajuste en comparación con un solo Árbol de Decisión\n",
    "- Funciona bien con datos complejos y con muchas variables\n",
    "- Puede manejar valores faltantes y datos ruidosos\n",
    "\n",
    "**<p style=\"color: crimson;\">Desventajas</p>**\n",
    "\n",
    "- Es más lento en entrenamiento y predicción que un solo árbol\n",
    "- Es menos interpretable debido a la combinación de múltiples modelos"
   ]
  },
  {
   "cell_type": "markdown",
   "metadata": {},
   "source": [
    "## 5.1. Phishing"
   ]
  },
  {
   "cell_type": "code",
   "execution_count": 450,
   "metadata": {
    "execution": {
     "iopub.execute_input": "2025-02-27T01:50:19.494143Z",
     "iopub.status.busy": "2025-02-27T01:50:19.493804Z",
     "iopub.status.idle": "2025-02-27T01:50:20.174267Z",
     "shell.execute_reply": "2025-02-27T01:50:20.173089Z",
     "shell.execute_reply.started": "2025-02-27T01:50:19.494114Z"
    },
    "trusted": true
   },
   "outputs": [
    {
     "name": "stdout",
     "output_type": "stream",
     "text": [
      "Random Forest: 0.9688\n",
      "              precision    recall  f1-score   support\n",
      "\n",
      "          -1       0.97      0.96      0.96       976\n",
      "           1       0.97      0.97      0.97      1235\n",
      "\n",
      "    accuracy                           0.97      2211\n",
      "   macro avg       0.97      0.97      0.97      2211\n",
      "weighted avg       0.97      0.97      0.97      2211\n",
      "\n"
     ]
    }
   ],
   "source": [
    "evaluar_modelo(X_phishing, y_phishing, list(modelos.items())[3])"
   ]
  },
  {
   "cell_type": "markdown",
   "metadata": {},
   "source": [
    "## 5.2. Cancer Breast"
   ]
  },
  {
   "cell_type": "code",
   "execution_count": 451,
   "metadata": {
    "execution": {
     "iopub.execute_input": "2025-02-27T01:50:20.175517Z",
     "iopub.status.busy": "2025-02-27T01:50:20.175244Z",
     "iopub.status.idle": "2025-02-27T01:50:20.440935Z",
     "shell.execute_reply": "2025-02-27T01:50:20.440037Z",
     "shell.execute_reply.started": "2025-02-27T01:50:20.175495Z"
    },
    "trusted": true
   },
   "outputs": [
    {
     "name": "stdout",
     "output_type": "stream",
     "text": [
      "Random Forest: 0.9474\n",
      "              precision    recall  f1-score   support\n",
      "\n",
      "          -1       0.95      0.97      0.96        71\n",
      "           1       0.95      0.91      0.93        43\n",
      "\n",
      "    accuracy                           0.95       114\n",
      "   macro avg       0.95      0.94      0.94       114\n",
      "weighted avg       0.95      0.95      0.95       114\n",
      "\n"
     ]
    }
   ],
   "source": [
    "evaluar_modelo(X_cancer, y_cancer, list(modelos.items())[3])"
   ]
  },
  {
   "cell_type": "markdown",
   "metadata": {},
   "source": [
    "## 5.3. Wine"
   ]
  },
  {
   "cell_type": "code",
   "execution_count": 452,
   "metadata": {
    "execution": {
     "iopub.execute_input": "2025-02-27T01:50:20.442173Z",
     "iopub.status.busy": "2025-02-27T01:50:20.441868Z",
     "iopub.status.idle": "2025-02-27T01:50:20.785682Z",
     "shell.execute_reply": "2025-02-27T01:50:20.784818Z",
     "shell.execute_reply.started": "2025-02-27T01:50:20.442148Z"
    },
    "trusted": true
   },
   "outputs": [
    {
     "name": "stdout",
     "output_type": "stream",
     "text": [
      "Random Forest: 0.7074\n",
      "              precision    recall  f1-score   support\n",
      "\n",
      "           4       0.00      0.00      0.00         6\n",
      "           5       0.72      0.79      0.75        96\n",
      "           6       0.68      0.69      0.68        99\n",
      "           7       0.78      0.69      0.73        26\n",
      "           8       0.00      0.00      0.00         2\n",
      "\n",
      "    accuracy                           0.71       229\n",
      "   macro avg       0.44      0.43      0.43       229\n",
      "weighted avg       0.68      0.71      0.69       229\n",
      "\n"
     ]
    }
   ],
   "source": [
    "evaluar_modelo(X_wine, y_wine, list(modelos.items())[3])"
   ]
  },
  {
   "cell_type": "markdown",
   "metadata": {},
   "source": [
    "## 5.4. Spotify"
   ]
  },
  {
   "cell_type": "code",
   "execution_count": 453,
   "metadata": {
    "execution": {
     "iopub.execute_input": "2025-02-27T01:50:20.786861Z",
     "iopub.status.busy": "2025-02-27T01:50:20.786603Z",
     "iopub.status.idle": "2025-02-27T01:50:30.818916Z",
     "shell.execute_reply": "2025-02-27T01:50:30.817770Z",
     "shell.execute_reply.started": "2025-02-27T01:50:20.786837Z"
    },
    "trusted": true
   },
   "outputs": [
    {
     "name": "stdout",
     "output_type": "stream",
     "text": [
      "Random Forest: 0.7729\n",
      "              precision    recall  f1-score   support\n",
      "\n",
      "           0       0.88      0.84      0.86      1013\n",
      "           1       0.75      0.68      0.71       392\n",
      "           2       0.65      0.67      0.66       439\n",
      "           3       0.74      0.77      0.75       853\n",
      "           4       0.70      0.78      0.74       937\n",
      "           5       0.76      0.77      0.76      1028\n",
      "           6       0.77      0.77      0.77       932\n",
      "           7       0.84      0.80      0.82       662\n",
      "           8       0.92      0.79      0.85       246\n",
      "           9       0.96      0.88      0.92        58\n",
      "\n",
      "    accuracy                           0.77      6560\n",
      "   macro avg       0.80      0.77      0.78      6560\n",
      "weighted avg       0.78      0.77      0.77      6560\n",
      "\n"
     ]
    }
   ],
   "source": [
    "evaluar_modelo(X_spotify, y_spotify, list(modelos.items())[3])"
   ]
  },
  {
   "cell_type": "markdown",
   "metadata": {},
   "source": [
    "# 6. kNN"
   ]
  },
  {
   "cell_type": "markdown",
   "metadata": {},
   "source": [
    "Es un algoritmo basado en la proximidad. Para predecir la clase de una nueva muestra, busca los k puntos más cercanos en los datos de entrenamiento y asigna la clase más común entre ellos. No crea un modelo previo, sino que almacena los datos y calcula distancias en el momento de la predicción.\n",
    "\n",
    "Ejemplo práctico\n",
    "Si queremos clasificar un correo como spam o no spam, kNN buscaría los k correos más similares en base a palabras clave y asignaría la categoría mayoritaria entre ellos.\n",
    "\n",
    "**<p style=\"color: green;\">Ventajas</p>**\n",
    "Fácil de entender e implementar\n",
    "No requiere entrenamiento, solo almacenamiento de datos\n",
    "Funciona bien con datos pequeños y bien distribuidos\n",
    "**<p style=\"color: crimson;\">Desventajas</p>**\n",
    "Puede ser lento con grandes volúmenes de datos\n",
    "Sensible a la elección de k y a la escala de las características\n",
    "No funciona bien con datos de alta dimensión sin preprocesamiento"
   ]
  },
  {
   "cell_type": "markdown",
   "metadata": {},
   "source": [
    "## 6.1. Phishing"
   ]
  },
  {
   "cell_type": "code",
   "execution_count": 454,
   "metadata": {
    "execution": {
     "iopub.execute_input": "2025-02-27T01:50:30.820205Z",
     "iopub.status.busy": "2025-02-27T01:50:30.819898Z",
     "iopub.status.idle": "2025-02-27T01:50:31.384674Z",
     "shell.execute_reply": "2025-02-27T01:50:31.383618Z",
     "shell.execute_reply.started": "2025-02-27T01:50:30.820179Z"
    },
    "trusted": true
   },
   "outputs": [
    {
     "name": "stdout",
     "output_type": "stream",
     "text": [
      "kNN: 0.9412\n",
      "              precision    recall  f1-score   support\n",
      "\n",
      "          -1       0.94      0.93      0.93       976\n",
      "           1       0.94      0.95      0.95      1235\n",
      "\n",
      "    accuracy                           0.94      2211\n",
      "   macro avg       0.94      0.94      0.94      2211\n",
      "weighted avg       0.94      0.94      0.94      2211\n",
      "\n"
     ]
    }
   ],
   "source": [
    "evaluar_modelo(X_phishing, y_phishing, list(modelos.items())[4])"
   ]
  },
  {
   "cell_type": "markdown",
   "metadata": {},
   "source": [
    "## 6.2. Cancer Breast"
   ]
  },
  {
   "cell_type": "code",
   "execution_count": 455,
   "metadata": {
    "execution": {
     "iopub.execute_input": "2025-02-27T01:50:31.386095Z",
     "iopub.status.busy": "2025-02-27T01:50:31.385719Z",
     "iopub.status.idle": "2025-02-27T01:50:31.508798Z",
     "shell.execute_reply": "2025-02-27T01:50:31.506648Z",
     "shell.execute_reply.started": "2025-02-27T01:50:31.386060Z"
    },
    "trusted": true
   },
   "outputs": [
    {
     "name": "stdout",
     "output_type": "stream",
     "text": [
      "kNN: 0.9386\n",
      "              precision    recall  f1-score   support\n",
      "\n",
      "          -1       0.96      0.94      0.95        71\n",
      "           1       0.91      0.93      0.92        43\n",
      "\n",
      "    accuracy                           0.94       114\n",
      "   macro avg       0.93      0.94      0.93       114\n",
      "weighted avg       0.94      0.94      0.94       114\n",
      "\n"
     ]
    }
   ],
   "source": [
    "evaluar_modelo(X_cancer, y_cancer, list(modelos.items())[4])"
   ]
  },
  {
   "cell_type": "markdown",
   "metadata": {},
   "source": [
    "## 6.3. Wine"
   ]
  },
  {
   "cell_type": "code",
   "execution_count": 456,
   "metadata": {
    "execution": {
     "iopub.execute_input": "2025-02-27T01:50:31.510133Z",
     "iopub.status.busy": "2025-02-27T01:50:31.509793Z",
     "iopub.status.idle": "2025-02-27T01:50:31.561044Z",
     "shell.execute_reply": "2025-02-27T01:50:31.560093Z",
     "shell.execute_reply.started": "2025-02-27T01:50:31.510104Z"
    },
    "trusted": true
   },
   "outputs": [
    {
     "name": "stdout",
     "output_type": "stream",
     "text": [
      "kNN: 0.5153\n",
      "              precision    recall  f1-score   support\n",
      "\n",
      "           4       0.00      0.00      0.00         6\n",
      "           5       0.53      0.71      0.61        96\n",
      "           6       0.50      0.43      0.46        99\n",
      "           7       0.54      0.27      0.36        26\n",
      "           8       0.00      0.00      0.00         2\n",
      "\n",
      "    accuracy                           0.52       229\n",
      "   macro avg       0.31      0.28      0.29       229\n",
      "weighted avg       0.50      0.52      0.50       229\n",
      "\n"
     ]
    }
   ],
   "source": [
    "evaluar_modelo(X_wine, y_wine, list(modelos.items())[4])"
   ]
  },
  {
   "cell_type": "markdown",
   "metadata": {},
   "source": [
    "## 6.4. Spotify"
   ]
  },
  {
   "cell_type": "code",
   "execution_count": 457,
   "metadata": {
    "execution": {
     "iopub.execute_input": "2025-02-27T01:50:31.562173Z",
     "iopub.status.busy": "2025-02-27T01:50:31.561823Z",
     "iopub.status.idle": "2025-02-27T01:50:32.259816Z",
     "shell.execute_reply": "2025-02-27T01:50:32.258588Z",
     "shell.execute_reply.started": "2025-02-27T01:50:31.562143Z"
    },
    "trusted": true
   },
   "outputs": [
    {
     "name": "stdout",
     "output_type": "stream",
     "text": [
      "kNN: 0.3128\n",
      "              precision    recall  f1-score   support\n",
      "\n",
      "           0       0.42      0.54      0.47      1013\n",
      "           1       0.17      0.15      0.16       392\n",
      "           2       0.15      0.15      0.15       439\n",
      "           3       0.24      0.26      0.25       853\n",
      "           4       0.23      0.28      0.25       937\n",
      "           5       0.28      0.27      0.27      1028\n",
      "           6       0.36      0.28      0.31       932\n",
      "           7       0.44      0.31      0.36       662\n",
      "           8       0.58      0.50      0.54       246\n",
      "           9       0.73      0.78      0.75        58\n",
      "\n",
      "    accuracy                           0.31      6560\n",
      "   macro avg       0.36      0.35      0.35      6560\n",
      "weighted avg       0.32      0.31      0.31      6560\n",
      "\n"
     ]
    }
   ],
   "source": [
    "evaluar_modelo(X_spotify, y_spotify, list(modelos.items())[4])"
   ]
  },
  {
   "cell_type": "markdown",
   "metadata": {},
   "source": [
    "# 7. Conclusiones\n",
    "## 7.1. SVM\n",
    "Este modelo consigue buenas metricas en el dataset de Phishing (95% de acierto) y en el de Cancer Breast (94%), reduce mucho su eficacia en el dataset de Wine donde consigue acertar poro mas de la mitad (56%) y fracasa por completo en el dataset de Spotify (18%)\n",
    "\n",
    "## 7.2. Regresion Logistica\n",
    "Este modelo sigue siendo bastante bueno con los dos primeros datasets, 93 y 95 de porcentaje de acierto, y predice mejor que SVM los otros dos dataset, conseguimos aumentar alrededor de un 10% en ambos, 61% en Wine y 31% en Spotify\n",
    "\n",
    "## 7.3. Arboles de decision\n",
    "Los primeros dos modelos siguen teniendo mas de un 90% de acierto, en Wine vemos como ha disminuido un poco respecto al modelo de Regresion Logistica con un 56% de acierto mientras que para el dataset de Spotify se consigue una gran mejora, un 68% de acierto\n",
    "\n",
    "## 7.4. Bosques aleatorios\n",
    "Este modelo es el que mejor funciona para estos datasets en su conjunto de momento, vemos como los dos primeros siguen prediciendo casi al 100% con unos valores de 97% y 94%, y los otros datasets aumentan ambos con un resultado sorprendente para Spotify. En Wine obtiene un 70% de aciertos y Spotify consigue un **77%** que es su mejor valor hasta ahora\n",
    "\n",
    "## 7.5. kNN\n",
    "Con este modelo seguimos teniendo buenos resultados para los datasets de phishing y Cancer Breast con un 94% en ambos pero nos encontramos con una peor precision para los otros dos modelos, un 52% de acierto con el dataframe de Wine y un 31% en el de Spotify\n",
    "\n",
    "## 7.6. Mejor modelo para cada parametro\n",
    "- Phishin &rarr; kNN (97%)\n",
    "- Cancer Breast &rarr; Regresion Logistica (95%)\n",
    "- Wine &rarr; Bosques aleatorios (70%)\n",
    "- Spotify &rarr; Bosques aleatorios (77%)"
   ]
  },
  {
   "cell_type": "markdown",
   "metadata": {},
   "source": [
    "# 8. Uso de hiperparametros"
   ]
  },
  {
   "cell_type": "markdown",
   "metadata": {},
   "source": [
    "Para ello vamos a definir una nueva funcion como hizimos antes para poder aplicar estos hiperparametros y obtener el mejor modelo"
   ]
  },
  {
   "cell_type": "code",
   "execution_count": 458,
   "metadata": {},
   "outputs": [],
   "source": [
    "def ajustar_y_evaluar_modelo(X, y, modelo_deseado, grid_params, random_search=False):\n",
    "    nombre = modelo_deseado[0]\n",
    "    modelo = modelo_deseado[1]\n",
    "\n",
    "    X_train, X_test, y_train, y_test = train_test_split(X, y, test_size=0.2, random_state=42)\n",
    "    \n",
    "    if random_search:\n",
    "        grid_search = RandomizedSearchCV(modelo, grid_params, n_iter=10, cv=5, random_state=42, n_jobs=-1)\n",
    "    else:\n",
    "        grid_search = GridSearchCV(modelo, grid_params, cv=5, n_jobs=-1)\n",
    "    \n",
    "    grid_search.fit(X_train, y_train)\n",
    "    \n",
    "    modelo_ajustado = grid_search.best_estimator_\n",
    "\n",
    "    y_pred = modelo_ajustado.predict(X_test)\n",
    "    acc = accuracy_score(y_test, y_pred)\n",
    "    print(f\"{nombre} con mejores parámetros: {grid_search.best_params_}\")\n",
    "    print(f\"Precisión: {acc:.4f}\")\n",
    "    print(classification_report(y_test, y_pred))\n",
    "    \n",
    "    return modelo_ajustado\n"
   ]
  },
  {
   "cell_type": "markdown",
   "metadata": {},
   "source": [
    "## 8.1. SVM"
   ]
  },
  {
   "cell_type": "markdown",
   "metadata": {},
   "source": [
    "- C: Valor de penalización  \n",
    "\n",
    "Este parámetro controla la regularización del modelo. Un valor pequeño permite que el modelo se ajuste más a los datos, pero puede sobreajustarse. Un valor grande evita que el modelo se ajuste a los errores, pero podría ser demasiado rígido.\n",
    "\n",
    "- kernel: Tipo de kernel \n",
    "\n",
    "El kernel define cómo se proyectan los datos en un espacio de mayor dimensión para hacerlos linealmente separables. linear es para datos que ya son separables de forma lineal, mientras que rbf es adecuado para datos no lineales.\n",
    "\n",
    "\"linear\" &rarr; Utiliza un hiperplano lineal para separar los datos en SVM. Es adecuado cuando los datos son linealmente separables, es decir, pueden ser divididos por una sola línea (o plano en dimensiones mayores).\n",
    "\n",
    "\"rbf\" &rarr Es un tipo de kernel no lineal que transforma los datos a un espacio de mayor dimensión para encontrar un hiperplano que los separe de forma no lineal. Es ideal para datos que no son linealmente separables y es ampliamente utilizado en SVM debido a su capacidad de manejar relaciones complejas entre las características.\n",
    "\n",
    "- gamma: Parámetro del kernel\n",
    "\n",
    "El parámetro gamma controla el impacto de un solo punto de entrenamiento en la decisión final del modelo cuando se usa un kernel no lineal, como el RBF (Radial Basis Function) o el sigmoide.\n",
    "\n",
    "\"scale\" &rarr; Ajusta el parámetro gamma de acuerdo con el número de características en los datos\n",
    "\n",
    "\"auto\" &rarr; útil cuando se quiere un valor simple y no se tiene suficiente conocimiento sobre la varianza de los datos.\n",
    "\n",
    "\"sin valor\" &rarr; Si no se especifica, el valor predeterminado de gamma en algunos modelos puede ser 'scale', dependiendo de la implementación del modelo (por ejemplo, en SVM)."
   ]
  },
  {
   "cell_type": "code",
   "execution_count": 459,
   "metadata": {},
   "outputs": [
    {
     "name": "stdout",
     "output_type": "stream",
     "text": [
      "================== PHISHING ==================\n",
      "SVM con mejores parámetros: {'C': 10, 'gamma': 'scale', 'kernel': 'rbf'}\n",
      "Precisión: 0.9629\n",
      "              precision    recall  f1-score   support\n",
      "\n",
      "          -1       0.97      0.95      0.96       976\n",
      "           1       0.96      0.97      0.97      1235\n",
      "\n",
      "    accuracy                           0.96      2211\n",
      "   macro avg       0.96      0.96      0.96      2211\n",
      "weighted avg       0.96      0.96      0.96      2211\n",
      "\n",
      "================== CANCER ==================\n",
      "SVM con mejores parámetros: {'C': 10, 'gamma': 'scale', 'kernel': 'linear'}\n",
      "Precisión: 0.9386\n",
      "              precision    recall  f1-score   support\n",
      "\n",
      "          -1       0.96      0.94      0.95        71\n",
      "           1       0.91      0.93      0.92        43\n",
      "\n",
      "    accuracy                           0.94       114\n",
      "   macro avg       0.93      0.94      0.93       114\n",
      "weighted avg       0.94      0.94      0.94       114\n",
      "\n",
      "================== WINE ==================\n",
      "SVM con mejores parámetros: {'C': 1, 'gamma': 'scale', 'kernel': 'linear'}\n",
      "Precisión: 0.6114\n",
      "              precision    recall  f1-score   support\n",
      "\n",
      "           4       0.00      0.00      0.00         6\n",
      "           5       0.66      0.77      0.71        96\n",
      "           6       0.56      0.67      0.61        99\n",
      "           7       0.00      0.00      0.00        26\n",
      "           8       0.00      0.00      0.00         2\n",
      "\n",
      "    accuracy                           0.61       229\n",
      "   macro avg       0.24      0.29      0.26       229\n",
      "weighted avg       0.52      0.61      0.56       229\n",
      "\n"
     ]
    }
   ],
   "source": [
    "grid_params_svm = {\n",
    "    'C': [0.1, 1, 10],\n",
    "    'kernel': ['linear', 'rbf'],\n",
    "    'gamma': ['scale', 'auto']\n",
    "}\n",
    "\n",
    "\n",
    "\n",
    "XsYs = {\n",
    "  \"PHISHING\": [X_phishing, y_phishing],\n",
    "  \"CANCER\": [X_cancer, y_cancer],\n",
    "  \"WINE\": [X_wine, y_wine],\n",
    "  # \"SPOTIFY\": [X_spotify, y_spotify]\n",
    "}\n",
    "\n",
    "modelos_ajustados_svm = {};\n",
    "\n",
    "for clave, valor in XsYs.items():\n",
    "    print(f\"================== {clave} ==================\")\n",
    "    modelo_ajustado = ajustar_y_evaluar_modelo(valor[0], valor[1], list(modelos.items())[0], grid_params_svm)\n",
    "    modelos_ajustados_svm[clave] = modelo_ajustado"
   ]
  },
  {
   "cell_type": "markdown",
   "metadata": {},
   "source": [
    "## 8.2. Regresion Logistica"
   ]
  },
  {
   "cell_type": "markdown",
   "metadata": {},
   "source": [
    "- C: Inversa de la regularización\n",
    "- solver: Método de optimización\n",
    "\n",
    "El parámetro solver define el algoritmo utilizado para optimizar la función de pérdida.\n",
    "\n",
    "\"liblinear\" &rarr; Es un algoritmo de optimización utilizado para resolver problemas de regresión logística y máquinas de soporte vectorial (SVM). Es eficiente para conjuntos de datos pequeños a medianos y funciona bien con problemas lineales, pero no maneja grandes volúmenes de datos de manera eficiente.\n",
    "\n",
    "\"saga\" &rarr; Es un algoritmo más moderno y eficiente para resolver regresión logística y otros problemas de optimización. Es adecuado para grandes conjuntos de datos, especialmente cuando se utilizan regularizaciones como L1 o ElasticNet, y es más rápido en problemas de alta dimensionalidad.\n",
    "\n",
    "- max_iter: Número máximo de iteraciones\n",
    "\n",
    "Define el número máximo de iteraciones del algoritmo de optimización antes de detenerse."
   ]
  },
  {
   "cell_type": "code",
   "execution_count": 460,
   "metadata": {},
   "outputs": [],
   "source": [
    "XsYs[\"SPOTIFY\"] = [X_spotify, y_spotify]"
   ]
  },
  {
   "cell_type": "code",
   "execution_count": 461,
   "metadata": {},
   "outputs": [
    {
     "name": "stdout",
     "output_type": "stream",
     "text": [
      "================== PHISHING ==================\n",
      "Regresion Logistica con mejores parámetros: {'C': 0.1, 'max_iter': 100, 'solver': 'saga'}\n",
      "Precisión: 0.9349\n",
      "              precision    recall  f1-score   support\n",
      "\n",
      "          -1       0.94      0.91      0.92       976\n",
      "           1       0.93      0.96      0.94      1235\n",
      "\n",
      "    accuracy                           0.93      2211\n",
      "   macro avg       0.94      0.93      0.93      2211\n",
      "weighted avg       0.94      0.93      0.93      2211\n",
      "\n",
      "================== CANCER ==================\n",
      "Regresion Logistica con mejores parámetros: {'C': 10, 'max_iter': 100, 'solver': 'liblinear'}\n",
      "Precisión: 0.9561\n",
      "              precision    recall  f1-score   support\n",
      "\n",
      "          -1       0.97      0.96      0.96        71\n",
      "           1       0.93      0.95      0.94        43\n",
      "\n",
      "    accuracy                           0.96       114\n",
      "   macro avg       0.95      0.96      0.95       114\n",
      "weighted avg       0.96      0.96      0.96       114\n",
      "\n",
      "================== WINE ==================\n",
      "Regresion Logistica con mejores parámetros: {'C': 10, 'max_iter': 100, 'solver': 'liblinear'}\n",
      "Precisión: 0.6332\n",
      "              precision    recall  f1-score   support\n",
      "\n",
      "           4       0.00      0.00      0.00         6\n",
      "           5       0.67      0.78      0.72        96\n",
      "           6       0.62      0.65      0.63        99\n",
      "           7       0.46      0.23      0.31        26\n",
      "           8       0.00      0.00      0.00         2\n",
      "\n",
      "    accuracy                           0.63       229\n",
      "   macro avg       0.35      0.33      0.33       229\n",
      "weighted avg       0.60      0.63      0.61       229\n",
      "\n",
      "================== SPOTIFY ==================\n",
      "Regresion Logistica con mejores parámetros: {'C': 0.1, 'max_iter': 100, 'solver': 'liblinear'}\n",
      "Precisión: 0.3858\n",
      "              precision    recall  f1-score   support\n",
      "\n",
      "           0       0.54      0.89      0.67      1013\n",
      "           1       0.00      0.00      0.00       392\n",
      "           2       0.00      0.00      0.00       439\n",
      "           3       0.41      0.17      0.24       853\n",
      "           4       0.27      0.43      0.33       937\n",
      "           5       0.34      0.37      0.35      1028\n",
      "           6       0.36      0.54      0.43       932\n",
      "           7       0.41      0.29      0.34       662\n",
      "           8       0.00      0.00      0.00       246\n",
      "           9       0.67      0.10      0.18        58\n",
      "\n",
      "    accuracy                           0.39      6560\n",
      "   macro avg       0.30      0.28      0.25      6560\n",
      "weighted avg       0.33      0.39      0.33      6560\n",
      "\n"
     ]
    }
   ],
   "source": [
    "\n",
    "grid_params_lr = {\n",
    "    'C': [0.1, 1, 10],\n",
    "    'solver': ['liblinear', 'saga'],\n",
    "    'max_iter': [100, 200, 300]\n",
    "}\n",
    "\n",
    "modelos_ajustados_lr = {};\n",
    "\n",
    "for clave, valor in XsYs.items():\n",
    "    print(f\"================== {clave} ==================\")\n",
    "    modelo_ajustado = ajustar_y_evaluar_modelo(valor[0], valor[1], list(modelos.items())[1], grid_params_lr)\n",
    "    modelos_ajustados_lr[clave] = modelo_ajustado\n",
    "\n"
   ]
  },
  {
   "cell_type": "markdown",
   "metadata": {},
   "source": [
    "## 8.3. Arboles de decision"
   ]
  },
  {
   "cell_type": "markdown",
   "metadata": {},
   "source": [
    "- Max Depth\n",
    "\n",
    "Controla la profundidad máxima de los árboles. Una mayor profundidad puede sobreajustarse, mientras que una menor puede no capturar toda la complejidad de los datos.\n",
    "\n",
    "- Min Samples Split\n",
    "\n",
    "El parámetro min_samples_split define el número mínimo de muestras necesarias en un nodo para que se realice una división (split).\n",
    "\n",
    "- Criterion\n",
    "\n",
    "El parámetro criterion define la métrica que el modelo usa para medir la calidad de una división en los nodos de los árboles de decisión o bosques aleatorios.  \n",
    "\n",
    "\"gini\" &rarr; Utiliza el índice de Gini para medir la impureza de los nodos en el árbol. Busca dividir los datos de manera que se reduzca la probabilidad de clasificación incorrecta.  \n",
    "\n",
    "\"entropy\" &rarr; Utiliza la entropía, que mide la incertidumbre o desorden en los nodos. Intenta reducir la entropía en cada división para obtener las mejores particiones de los datos.\n"
   ]
  },
  {
   "cell_type": "code",
   "execution_count": 462,
   "metadata": {},
   "outputs": [
    {
     "name": "stdout",
     "output_type": "stream",
     "text": [
      "================== PHISHING ==================\n",
      "Arbol de Decision con mejores parámetros: {'criterion': 'entropy', 'max_depth': 20, 'min_samples_split': 2}\n",
      "Precisión: 0.9607\n",
      "              precision    recall  f1-score   support\n",
      "\n",
      "          -1       0.96      0.95      0.96       976\n",
      "           1       0.96      0.97      0.96      1235\n",
      "\n",
      "    accuracy                           0.96      2211\n",
      "   macro avg       0.96      0.96      0.96      2211\n",
      "weighted avg       0.96      0.96      0.96      2211\n",
      "\n",
      "================== CANCER ==================\n",
      "Arbol de Decision con mejores parámetros: {'criterion': 'entropy', 'max_depth': None, 'min_samples_split': 2}\n",
      "Precisión: 0.9386\n",
      "              precision    recall  f1-score   support\n",
      "\n",
      "          -1       0.93      0.97      0.95        71\n",
      "           1       0.95      0.88      0.92        43\n",
      "\n",
      "    accuracy                           0.94       114\n",
      "   macro avg       0.94      0.93      0.93       114\n",
      "weighted avg       0.94      0.94      0.94       114\n",
      "\n",
      "================== WINE ==================\n",
      "Arbol de Decision con mejores parámetros: {'criterion': 'entropy', 'max_depth': None, 'min_samples_split': 2}\n",
      "Precisión: 0.5633\n",
      "              precision    recall  f1-score   support\n",
      "\n",
      "           3       0.00      0.00      0.00         0\n",
      "           4       0.00      0.00      0.00         6\n",
      "           5       0.62      0.58      0.60        96\n",
      "           6       0.56      0.60      0.58        99\n",
      "           7       0.67      0.54      0.60        26\n",
      "           8       0.00      0.00      0.00         2\n",
      "\n",
      "    accuracy                           0.56       229\n",
      "   macro avg       0.31      0.29      0.30       229\n",
      "weighted avg       0.57      0.56      0.57       229\n",
      "\n",
      "================== SPOTIFY ==================\n",
      "Arbol de Decision con mejores parámetros: {'criterion': 'gini', 'max_depth': 10, 'min_samples_split': 2}\n",
      "Precisión: 0.7402\n",
      "              precision    recall  f1-score   support\n",
      "\n",
      "           0       0.87      0.81      0.84      1013\n",
      "           1       0.70      0.60      0.65       392\n",
      "           2       0.59      0.70      0.64       439\n",
      "           3       0.73      0.76      0.74       853\n",
      "           4       0.70      0.76      0.73       937\n",
      "           5       0.73      0.73      0.73      1028\n",
      "           6       0.72      0.73      0.72       932\n",
      "           7       0.79      0.72      0.75       662\n",
      "           8       0.80      0.76      0.78       246\n",
      "           9       0.91      0.83      0.86        58\n",
      "\n",
      "    accuracy                           0.74      6560\n",
      "   macro avg       0.75      0.74      0.74      6560\n",
      "weighted avg       0.74      0.74      0.74      6560\n",
      "\n"
     ]
    }
   ],
   "source": [
    "grid_params_dt = {\n",
    "    'max_depth': [None, 10, 20],\n",
    "    'min_samples_split': [2, 10, 20],\n",
    "    'criterion': ['gini', 'entropy']\n",
    "}\n",
    "\n",
    "modelos_ajustados_dt = {};\n",
    "\n",
    "\n",
    "for clave, valor in XsYs.items():\n",
    "    print(f\"================== {clave} ==================\")\n",
    "    modelo_ajustado = ajustar_y_evaluar_modelo(valor[0], valor[1], list(modelos.items())[2], grid_params_dt)\n",
    "    modelos_ajustados_dt[clave] = modelo_ajustado"
   ]
  },
  {
   "cell_type": "markdown",
   "metadata": {},
   "source": [
    "## 8.4. Bosques aleatorios"
   ]
  },
  {
   "cell_type": "markdown",
   "metadata": {},
   "source": [
    "- N Estimators\n",
    "\n",
    "Número de árboles en el bosque. Un mayor número mejora la precisión, pero aumenta el tiempo de entrenamiento.\n",
    "\n",
    "- Max depth\n",
    "- Min Samples Split\n",
    "\n",
    "El parámetro min_samples_split define el número mínimo de muestras necesarias para dividir un nodo en un árbol de decisión o en un bosque aleatorio."
   ]
  },
  {
   "cell_type": "code",
   "execution_count": 463,
   "metadata": {},
   "outputs": [
    {
     "name": "stdout",
     "output_type": "stream",
     "text": [
      "================== PHISHING ==================\n",
      "Random Forest con mejores parámetros: {'max_depth': None, 'min_samples_split': 2, 'n_estimators': 300}\n",
      "Precisión: 0.9679\n",
      "              precision    recall  f1-score   support\n",
      "\n",
      "          -1       0.97      0.96      0.96       976\n",
      "           1       0.97      0.98      0.97      1235\n",
      "\n",
      "    accuracy                           0.97      2211\n",
      "   macro avg       0.97      0.97      0.97      2211\n",
      "weighted avg       0.97      0.97      0.97      2211\n",
      "\n",
      "================== CANCER ==================\n",
      "Random Forest con mejores parámetros: {'max_depth': 20, 'min_samples_split': 2, 'n_estimators': 100}\n",
      "Precisión: 0.9474\n",
      "              precision    recall  f1-score   support\n",
      "\n",
      "          -1       0.93      0.99      0.96        71\n",
      "           1       0.97      0.88      0.93        43\n",
      "\n",
      "    accuracy                           0.95       114\n",
      "   macro avg       0.95      0.93      0.94       114\n",
      "weighted avg       0.95      0.95      0.95       114\n",
      "\n",
      "================== WINE ==================\n",
      "Random Forest con mejores parámetros: {'max_depth': 20, 'min_samples_split': 2, 'n_estimators': 300}\n",
      "Precisión: 0.6812\n",
      "              precision    recall  f1-score   support\n",
      "\n",
      "           4       0.00      0.00      0.00         6\n",
      "           5       0.71      0.79      0.75        96\n",
      "           6       0.65      0.66      0.65        99\n",
      "           7       0.68      0.58      0.62        26\n",
      "           8       0.00      0.00      0.00         2\n",
      "\n",
      "    accuracy                           0.68       229\n",
      "   macro avg       0.41      0.41      0.41       229\n",
      "weighted avg       0.66      0.68      0.67       229\n",
      "\n",
      "================== SPOTIFY ==================\n",
      "Random Forest con mejores parámetros: {'max_depth': 20, 'min_samples_split': 2, 'n_estimators': 200}\n",
      "Precisión: 0.7742\n",
      "              precision    recall  f1-score   support\n",
      "\n",
      "           0       0.89      0.83      0.86      1013\n",
      "           1       0.75      0.71      0.73       392\n",
      "           2       0.64      0.66      0.65       439\n",
      "           3       0.74      0.77      0.75       853\n",
      "           4       0.71      0.78      0.74       937\n",
      "           5       0.75      0.78      0.76      1028\n",
      "           6       0.78      0.76      0.77       932\n",
      "           7       0.84      0.79      0.81       662\n",
      "           8       0.91      0.80      0.85       246\n",
      "           9       0.96      0.90      0.93        58\n",
      "\n",
      "    accuracy                           0.77      6560\n",
      "   macro avg       0.80      0.78      0.79      6560\n",
      "weighted avg       0.78      0.77      0.78      6560\n",
      "\n"
     ]
    }
   ],
   "source": [
    "grid_params_rf = {\n",
    "    'n_estimators': [100, 200, 300],\n",
    "    'max_depth': [None, 10, 20],\n",
    "    'min_samples_split': [2, 10, 20]\n",
    "}\n",
    "\n",
    "modelos_ajustados_rf = {};\n",
    "\n",
    "for clave, valor in XsYs.items():\n",
    "    print(f\"================== {clave} ==================\")\n",
    "    modelo_ajustado = ajustar_y_evaluar_modelo(valor[0], valor[1], list(modelos.items())[3], grid_params_rf)\n",
    "    modelos_ajustados_rf[clave] = modelo_ajustado"
   ]
  },
  {
   "cell_type": "markdown",
   "metadata": {},
   "source": [
    "## 8.5. nKK"
   ]
  },
  {
   "cell_type": "markdown",
   "metadata": {},
   "source": [
    "- N Neighbors\n",
    "\n",
    "Número de vecinos que se considerarán para la clasificación. Si es muy pequeño, el modelo podría ser muy sensible a los ruidos. Si es muy grande, podría perder detalles importantes.\n",
    "\n",
    "- Weights\n",
    "\n",
    "Controla cómo se ponderan los vecinos al tomar una decisión.  \n",
    "\n",
    "\"uniform\" &rarr; Todos los vecinos tienen el mismo peso en la votación, sin importar su distancia.  \n",
    "\n",
    "\"distance\" &rarr; Los vecinos más cercanos tienen mayor influencia en la clasificación, reduciendo el impacto de los más lejanos.\n",
    "\n",
    "- Metric\n",
    "\n",
    "Define la métrica de distancia usada para encontrar los vecinos más cercanos.  \n",
    "\n",
    "\"euclidean\" &rarr; cuando las características tienen la misma escala e importancia, y la distancia real entre puntos es relevante para la clasificación.\n",
    "\n",
    "\"manhattan\" &rarr; Si los datos tienen una estructura de cuadrícula (por ejemplo, calles de una ciudad)."
   ]
  },
  {
   "cell_type": "code",
   "execution_count": 464,
   "metadata": {},
   "outputs": [
    {
     "name": "stdout",
     "output_type": "stream",
     "text": [
      "================== PHISHING ==================\n",
      "kNN con mejores parámetros: {'metric': 'manhattan', 'n_neighbors': 3, 'weights': 'distance'}\n",
      "Precisión: 0.9607\n",
      "              precision    recall  f1-score   support\n",
      "\n",
      "          -1       0.97      0.94      0.95       976\n",
      "           1       0.96      0.97      0.97      1235\n",
      "\n",
      "    accuracy                           0.96      2211\n",
      "   macro avg       0.96      0.96      0.96      2211\n",
      "weighted avg       0.96      0.96      0.96      2211\n",
      "\n",
      "================== CANCER ==================\n",
      "kNN con mejores parámetros: {'metric': 'manhattan', 'n_neighbors': 7, 'weights': 'uniform'}\n",
      "Precisión: 0.9474\n",
      "              precision    recall  f1-score   support\n",
      "\n",
      "          -1       0.96      0.96      0.96        71\n",
      "           1       0.93      0.93      0.93        43\n",
      "\n",
      "    accuracy                           0.95       114\n",
      "   macro avg       0.94      0.94      0.94       114\n",
      "weighted avg       0.95      0.95      0.95       114\n",
      "\n",
      "================== WINE ==================\n",
      "kNN con mejores parámetros: {'metric': 'manhattan', 'n_neighbors': 7, 'weights': 'distance'}\n",
      "Precisión: 0.6245\n",
      "              precision    recall  f1-score   support\n",
      "\n",
      "           4       0.00      0.00      0.00         6\n",
      "           5       0.65      0.71      0.68        96\n",
      "           6       0.59      0.61      0.60        99\n",
      "           7       0.65      0.58      0.61        26\n",
      "           8       0.00      0.00      0.00         2\n",
      "\n",
      "    accuracy                           0.62       229\n",
      "   macro avg       0.38      0.38      0.38       229\n",
      "weighted avg       0.60      0.62      0.61       229\n",
      "\n",
      "================== SPOTIFY ==================\n",
      "kNN con mejores parámetros: {'metric': 'manhattan', 'n_neighbors': 3, 'weights': 'distance'}\n",
      "Precisión: 0.4372\n",
      "              precision    recall  f1-score   support\n",
      "\n",
      "           0       0.58      0.52      0.55      1013\n",
      "           1       0.26      0.21      0.24       392\n",
      "           2       0.24      0.27      0.25       439\n",
      "           3       0.33      0.34      0.33       853\n",
      "           4       0.33      0.35      0.34       937\n",
      "           5       0.39      0.39      0.39      1028\n",
      "           6       0.49      0.48      0.48       932\n",
      "           7       0.62      0.62      0.62       662\n",
      "           8       0.75      0.86      0.80       246\n",
      "           9       0.90      0.93      0.92        58\n",
      "\n",
      "    accuracy                           0.44      6560\n",
      "   macro avg       0.49      0.50      0.49      6560\n",
      "weighted avg       0.44      0.44      0.44      6560\n",
      "\n"
     ]
    }
   ],
   "source": [
    "grid_params_knn = {\n",
    "    'n_neighbors': [3, 5, 7],\n",
    "    'weights': ['uniform', 'distance'],\n",
    "    'metric': ['euclidean', 'manhattan']\n",
    "}\n",
    "\n",
    "modelos_ajustados_knn = {};\n",
    "\n",
    "\n",
    "for clave, valor in XsYs.items():\n",
    "    print(f\"================== {clave} ==================\")\n",
    "    modelo_ajustado = ajustar_y_evaluar_modelo(valor[0], valor[1], list(modelos.items())[4], grid_params_knn)\n",
    "    modelos_ajustados_knn[clave] = modelo_ajustado"
   ]
  },
  {
   "cell_type": "markdown",
   "metadata": {},
   "source": [
    "# 9. Conclusiones (hiperparametros)"
   ]
  },
  {
   "cell_type": "markdown",
   "metadata": {},
   "source": [
    "## 9.1. SVM\n",
    "Phishing mejora su precision un 1%  \n",
    "Cancer Breast reduce su precion un 2%  \n",
    "Wine aumenta su precision considerablemente, pasa de un 56% a un 74%\n",
    "\n",
    "Cada modelo usa unos hiperparametros distintos para conseguir su mejor version, siendo estos:\n",
    "\n",
    "C: [10, 10, 1] (respectivamente)  \n",
    "kernel: [rbf, linear, linear]  \n",
    "gamma: scale en todos\n",
    "\n",
    "## 9.2. Regresion Logistica\n",
    "Phishing se mantiene igual que sin parametrizar  \n",
    "Cancer Breast reduce su precision un 1%  \n",
    "Wine aumenta su precision considerablemente, pasa de un 61% a un 63%  \n",
    "Y Spotify consigue una pequena mejora, pasa de un 31% a un 39% de precision, pero sigue siendo un mal modelo\n",
    "\n",
    "C: [0.1, 10, 10, 0.1]  \n",
    "Max iter: 100 los 4  \n",
    "Solver: [saga, liblinear, liblinear, liblinear]\n",
    "\n",
    "## 9.3. Arboles de decision\n",
    "Phishing se mantiene igual que sin parametrizar  \n",
    "Cancer Breast disminuye su precion un 1%  \n",
    "Wine se mantiene igual que sin parametrizar  \n",
    "Y Spotify consigue una mejora, pasa de un 69% a un 74% de precision\n",
    "\n",
    "Criterion: [entropy, gini, entropy, gini]  \n",
    "Max depth: [None, 10, 20, 10]  \n",
    "Min samples split: [2, 20, 2, 2]\n",
    "\n",
    "## 9.4. Bosques aleatorios\n",
    "Phishing se mantiene igual que sin parametrizar  \n",
    "Cancer Breast aumenta su precision un 2%  \n",
    "Wine aumenta su precion un 1%  \n",
    "Y Spotify aumenta su precision un 1%\n",
    "\n",
    "Max depth: [None, 10, None, None]  \n",
    "Min samples split: 2 en todos los casos  \n",
    "N estimators: [200, 200, 200, 300]  \n",
    "\n",
    "## 9.5. kNN\n",
    "Phishing aumenta un 2%  \n",
    "Cancer Breast aumenta su precision un 1%  \n",
    "Wine y Spotify consiguen mejoras, Wine de 52% &rarr; 62% y Spotify de 31% &rarr; 44%\n",
    "\n",
    "Metric: manhattan en todos los casos  \n",
    "N neighbors: [3, 7, 7, 3]  \n",
    "Weights: [distance, uniform, distance, distance]  \n",
    "\n",
    "## 9.6. Mejor modelo para cada parametro\n",
    "\n",
    "    [PARAMETRIZADO] // [SIN PARAMETRIZAR]\n",
    "\n",
    "- Phishin &rarr; Bosques aleatorios (97%) // (kNN (97%))\n",
    "- Cancer Breast &rarr; Bosques aleatorios  y Regresion Logistica (96%) // (Regresion Logistica (95%))\n",
    "- Wine &rarr; Bosques aleatorios (71%) // (Bosques aleatorios (70%))\n",
    "- Spotify &rarr; Bosques aleatorios (78%) // (Bosques aleatorios (77%))"
   ]
  },
  {
   "cell_type": "markdown",
   "metadata": {},
   "source": [
    "# 10. Uso de hiperparametros, mostrando 2 metricas nuevas"
   ]
  },
  {
   "cell_type": "markdown",
   "metadata": {},
   "source": [
    "## 10.1. Redefinicion de la funcion para obtener 2 nuevas metricas"
   ]
  },
  {
   "cell_type": "markdown",
   "metadata": {},
   "source": [
    "Modificamos el codigo para evaluar en este caso un modelo con los hiperparametros fijos (los mejores del modelo que se mostraron arriba) y anadimos como metricas visibles:\n",
    "- Matriz de confusion: muestra una matriz donde se muestran los falsos y verdaderos positivos y negativos, los vp se encontrarian de manera horizontal de la parte superior izquierda a la inferior derecha\n",
    "- F1: Mide el equilibrio entre la precisión y el recall (sensibilidad) de un modelo."
   ]
  },
  {
   "cell_type": "code",
   "execution_count": 465,
   "metadata": {},
   "outputs": [],
   "source": [
    "def ajustar_y_evaluar_modelo2(X, y, modelo_deseado, grid_params, random_search=False):\n",
    "    nombre = modelo_deseado[0]\n",
    "    modelo = modelo_deseado[1]\n",
    "\n",
    "    X_train, X_test, y_train, y_test = train_test_split(X, y, test_size=0.2, random_state=42)\n",
    "\n",
    "    # Si no es necesario hacer búsqueda de hiperparámetros (es decir, solo hay un valor en grid_params)\n",
    "    if len(grid_params) == 1 and all(len(v) == 1 for v in grid_params.values()):\n",
    "        modelo.set_params(**grid_params[nombre])\n",
    "        modelo.fit(X_train, y_train)\n",
    "    else:\n",
    "        if random_search:\n",
    "            grid_search = RandomizedSearchCV(modelo, grid_params, n_iter=10, cv=5, random_state=42, n_jobs=-1)\n",
    "        else:\n",
    "            grid_search = GridSearchCV(modelo, grid_params, cv=5, n_jobs=-1)\n",
    "        \n",
    "        grid_search.fit(X_train, y_train)\n",
    "        modelo = grid_search.best_estimator_\n",
    "\n",
    "    y_pred = modelo.predict(X_test)\n",
    "\n",
    "    # Calcular F1-score (promedio ponderado)\n",
    "    f1 = f1_score(y_test, y_pred, average='weighted')\n",
    "    # Calcular Matriz de Confusión\n",
    "    confusion = confusion_matrix(y_test, y_pred)\n",
    "\n",
    "    print(f\"F1: {f1:.4f}\")\n",
    "    print(\"Matriz de Confusión:\")\n",
    "    print(confusion)\n",
    "    print(classification_report(y_test, y_pred))\n",
    "\n",
    "    return modelo\n"
   ]
  },
  {
   "cell_type": "markdown",
   "metadata": {},
   "source": [
    "## 10.2. SVM"
   ]
  },
  {
   "cell_type": "code",
   "execution_count": 466,
   "metadata": {},
   "outputs": [
    {
     "name": "stdout",
     "output_type": "stream",
     "text": [
      "kNN\n"
     ]
    }
   ],
   "source": [
    "print(list(modelos.items())[4][0])"
   ]
  },
  {
   "cell_type": "code",
   "execution_count": 467,
   "metadata": {},
   "outputs": [
    {
     "name": "stdout",
     "output_type": "stream",
     "text": [
      "========================= SVM =========================\n",
      "F1: 0.5747\n",
      "Matriz de Confusión:\n",
      "[[ 0  3  3  0  0]\n",
      " [ 0 75 21  0  0]\n",
      " [ 0 31 68  0  0]\n",
      " [ 0  2 24  0  0]\n",
      " [ 0  0  2  0  0]]\n",
      "              precision    recall  f1-score   support\n",
      "\n",
      "           4       0.00      0.00      0.00         6\n",
      "           5       0.68      0.78      0.72        96\n",
      "           6       0.58      0.69      0.63        99\n",
      "           7       0.00      0.00      0.00        26\n",
      "           8       0.00      0.00      0.00         2\n",
      "\n",
      "    accuracy                           0.62       229\n",
      "   macro avg       0.25      0.29      0.27       229\n",
      "weighted avg       0.53      0.62      0.57       229\n",
      "\n",
      "========================= Regresion Logistica =========================\n",
      "F1: 0.6098\n",
      "Matriz de Confusión:\n",
      "[[ 0  3  3  0  0]\n",
      " [ 0 75 19  2  0]\n",
      " [ 0 32 64  3  0]\n",
      " [ 0  2 18  6  0]\n",
      " [ 0  0  0  2  0]]\n",
      "              precision    recall  f1-score   support\n",
      "\n",
      "           4       0.00      0.00      0.00         6\n",
      "           5       0.67      0.78      0.72        96\n",
      "           6       0.62      0.65      0.63        99\n",
      "           7       0.46      0.23      0.31        26\n",
      "           8       0.00      0.00      0.00         2\n",
      "\n",
      "    accuracy                           0.63       229\n",
      "   macro avg       0.35      0.33      0.33       229\n",
      "weighted avg       0.60      0.63      0.61       229\n",
      "\n",
      "========================= Arbol de Decision =========================\n",
      "F1: 0.5862\n",
      "Matriz de Confusión:\n",
      "[[ 0  0  0  0  0  0]\n",
      " [ 0  0  2  3  1  0]\n",
      " [ 2  5 58 30  1  0]\n",
      " [ 1  3 30 61  3  1]\n",
      " [ 0  0  1 11 14  0]\n",
      " [ 0  0  0  0  2  0]]\n",
      "              precision    recall  f1-score   support\n",
      "\n",
      "           3       0.00      0.00      0.00         0\n",
      "           4       0.00      0.00      0.00         6\n",
      "           5       0.64      0.60      0.62        96\n",
      "           6       0.58      0.62      0.60        99\n",
      "           7       0.67      0.54      0.60        26\n",
      "           8       0.00      0.00      0.00         2\n",
      "\n",
      "    accuracy                           0.58       229\n",
      "   macro avg       0.31      0.29      0.30       229\n",
      "weighted avg       0.59      0.58      0.59       229\n",
      "\n",
      "========================= Random Forest =========================\n",
      "F1: 0.6764\n",
      "Matriz de Confusión:\n",
      "[[ 0  3  3  0  0]\n",
      " [ 0 76 19  1  0]\n",
      " [ 0 29 66  4  0]\n",
      " [ 0  0 10 16  0]\n",
      " [ 0  0  2  0  0]]\n",
      "              precision    recall  f1-score   support\n",
      "\n",
      "           4       0.00      0.00      0.00         6\n",
      "           5       0.70      0.79      0.75        96\n",
      "           6       0.66      0.67      0.66        99\n",
      "           7       0.76      0.62      0.68        26\n",
      "           8       0.00      0.00      0.00         2\n",
      "\n",
      "    accuracy                           0.69       229\n",
      "   macro avg       0.43      0.41      0.42       229\n",
      "weighted avg       0.67      0.69      0.68       229\n",
      "\n"
     ]
    }
   ],
   "source": [
    "grid_params = {\n",
    "    \"SVM\":\n",
    "        {\n",
    "            'C': [10],\n",
    "            'kernel': [\"linear\"],\n",
    "            'gamma': [\"scale\"]\n",
    "        },\n",
    "    \"Regresion Logistica\":\n",
    "        {\n",
    "            'C': [10],\n",
    "            'max_iter': [100],\n",
    "            'solver': [\"liblinear\"]\n",
    "        },\n",
    "    \"Arbol de Decision\":\n",
    "        {\n",
    "            'criterion': [\"entropy\"],\n",
    "            'max_depth': [None],\n",
    "            'min_samples_split': [2]\n",
    "        },\n",
    "    \"Random Forest\":\n",
    "        {\n",
    "            'n_estimators': [200],\n",
    "            'max_depth': [None],\n",
    "            'min_samples_split': [2]\n",
    "        },\n",
    "    \"kNN\": \n",
    "        {\n",
    "            \"n_neighbors\": [7],\n",
    "            \"weights\": [\"distance\"],\n",
    "            \"metric\": [\"manhattan\"]\n",
    "        }\n",
    "}\n",
    "\n",
    "for i in range(4):\n",
    "    model_name = list(modelos.items())[i][0]\n",
    "    print(f\"========================= {model_name} =========================\")\n",
    "    \n",
    "    ajustar_y_evaluar_modelo2(X_wine, y_wine, list(modelos.items())[i], grid_params[model_name])\n"
   ]
  },
  {
   "cell_type": "markdown",
   "metadata": {},
   "source": [
    "Los F1 de los modelos con este df varian entre 0.57 y 0.67, esto significa que los modelos para este dataset tienen un balance moderado entre precision y recall, y que no funciona demasiado bien que digamos\n",
    "\n",
    "En la matriz de confusion vemos como la diagonal de vp esta \"mas inflada\" que el el resto de la matriz, debido a que tiene mas aciertos que fallos"
   ]
  },
  {
   "cell_type": "markdown",
   "metadata": {},
   "source": [
    "# 11. Registros inventados por DataFrame"
   ]
  },
  {
   "cell_type": "markdown",
   "metadata": {},
   "source": [
    "## 11.1. Generar datos ficticios"
   ]
  },
  {
   "cell_type": "code",
   "execution_count": 468,
   "metadata": {},
   "outputs": [],
   "source": [
    "data = {\n",
    "    'UsingIP': [0, 1, 2, 1, 1, 0, 2, 0, 1, 1],\n",
    "    'LongURL': [1, 1, 0, 1, 1, 0, 1, 0, 1, 1],\n",
    "    'ShortURL': [1, 0, 1, 0, 1, 1, 0, 1, 1, 0],\n",
    "    'Symbol@': [1, 1, 0, 1, 0, 1, 1, 0, 0, 1],\n",
    "    'Redirecting//': [1, 0, 1, 1, 0, 1, 0, 1, 0, 1],\n",
    "    'PrefixSuffix-': [1, -1, 1, 0, 1, 1, 0, -1, 1, 0],\n",
    "    'SubDomains': [1, 0, -1, 1, 1, 1, 0, -1, 1, 0],\n",
    "    'HTTPS': [0, 1, 0, 1, 1, 0, 1, 0, 1, 1],\n",
    "    'DomainRegLen': [1, 0, 1, 1, 1, 1, 0, 0, 1, 1],\n",
    "    'Favicon': [0, 1, 1, 1, 0, 1, 1, 1, 1, 0],\n",
    "    'NonStdPort': [1, 0, 0, 1, 0, 1, 0, 1, 0, 1],\n",
    "    'HTTPSDomainURL': [0, 1, 0, 1, 1, 0, 1, 1, 0, 0],\n",
    "    'RequestURL': [1, 0, 1, 1, 0, 1, 0, 1, 1, 0],\n",
    "    'AnchorURL': [1, 1, 0, 1, 1, 0, 0, 1, 0, 1],\n",
    "    'LinksInScriptTags': [0, 1, 1, 0, 1, 0, 1, 1, 0, 1],\n",
    "    'ServerFormHandler': [1, 0, 0, 1, 0, 1, 0, 1, 0, 1],\n",
    "    'InfoEmail': [0, 1, 1, 0, 1, 0, 1, 0, 1, 0],\n",
    "    'AbnormalURL': [1, 1, 0, 1, 0, 0, 1, 0, 1, 1],\n",
    "    'WebsiteForwarding': [0, 1, 1, 0, 1, 1, 0, 1, 0, 1],\n",
    "    'StatusBarCust': [1, 0, 1, 0, 0, 1, 1, 0, 1, 1],\n",
    "    'DisableRightClick': [0, 1, 0, 1, 0, 1, 1, 0, 1, 0],\n",
    "    'UsingPopupWindow': [1, 0, 1, 0, 1, 0, 0, 1, 0, 1],\n",
    "    'IframeRedirection': [0, 1, 0, 0, 1, 1, 1, 0, 0, 1],\n",
    "    'AgeofDomain': [1, 0, 1, 0, 1, 0, 0, 1, 1, 0],\n",
    "    'DNSRecording': [0, 1, 1, 0, 1, 1, 0, 1, 0, 1],\n",
    "    'WebsiteTraffic': [1, 0, 0, 1, 1, 0, 1, 0, 1, 0],\n",
    "    'PageRank': [1, 0, 1, 1, 0, 1, 0, 1, 1, 0],\n",
    "    'GoogleIndex': [0, 1, 0, 1, 0, 1, 1, 1, 0, 1],\n",
    "    'LinksPointingToPage': [1, 0, 1, 0, 1, 0, 1, 1, 1, 0],\n",
    "    'StatsReport': [0, 1, 1, 0, 1, 0, 1, 0, 1, 1],\n",
    "}\n",
    "y_phishing_inventado = pd.DataFrame(data)\n",
    "\n",
    "data = {\n",
    "    \"x.radius_mean\": [12.11, 12.20, 7.91, 12.94, 11.43, 13.64, 13.48, 12.50, 9.05, 11.78],\n",
    "    \"x.texture_mean\": [15.60, 12.16, 16.43, 10.47, 18.82, 18.81, 11.95, 16.07, 16.10, 18.15],\n",
    "    \"x.perimeter_mean\": [75.44, 68.48, 67.20, 68.54, 84.38, 52.18, 96.62, 50.71, 82.36, 77.33],\n",
    "    \"x.area_mean\": [394.57, 337.60, 378.25, 443.46, 567.73, 216.31, 509.38, 422.89, 224.05, 400.79],\n",
    "    \"x.smoothness_mean\": [0.11, 0.14, 0.13, 0.10, 0.10, 0.15, 0.15, 0.09, 0.14, 0.13],\n",
    "    \"x.compactness_mean\": [0.15, 0.10, 0.08, 0.07, 0.13, 0.07, 0.14, 0.13, 0.09, 0.12],\n",
    "    \"x.concavity_mean\": [0.04, 0.03, 0.09, 0.04, 0.04, 0.02, 0.06, 0.09, 0.03, 0.08],\n",
    "    \"x.concave_pts_mean\": [0.02, 0.03, 0.04, 0.03, 0.03, 0.04, 0.04, 0.05, 0.02, 0.03],\n",
    "    \"x.symmetry_mean\": [0.15, 0.14, 0.14, 0.13, 0.19, 0.13, 0.11, 0.17, 0.19, 0.18],\n",
    "    \"x.fractal_dim_mean\": [0.05, 0.10, 0.09, 0.09, 0.08, 0.06, 0.09, 0.07, 0.07, 0.07],\n",
    "    \"x.radius_se\": [0.18, 0.19, 0.17, 0.15, 0.22, 0.14, 0.21, 0.19, 0.16, 0.18],\n",
    "    \"x.texture_se\": [0.65, 0.61, 0.71, 0.49, 0.78, 0.69, 0.65, 0.59, 0.61, 0.57],\n",
    "    \"x.perimeter_se\": [2.15, 1.87, 2.40, 2.12, 2.33, 1.56, 2.67, 1.96, 2.08, 2.43],\n",
    "    \"x.area_se\": [27.23, 25.56, 32.68, 24.45, 33.90, 20.48, 35.27, 22.66, 28.88, 26.35],\n",
    "    \"x.smoothness_se\": [0.006, 0.008, 0.005, 0.004, 0.006, 0.008, 0.009, 0.003, 0.007, 0.007],\n",
    "    \"x.compactness_se\": [0.008, 0.005, 0.006, 0.004, 0.007, 0.007, 0.007, 0.006, 0.006, 0.007],\n",
    "    \"x.concavity_se\": [0.02, 0.01, 0.03, 0.02, 0.02, 0.01, 0.03, 0.03, 0.02, 0.03],\n",
    "    \"x.concave_pts_se\": [0.01, 0.02, 0.02, 0.01, 0.02, 0.01, 0.02, 0.03, 0.02, 0.02],\n",
    "    \"x.symmetry_se\": [0.02, 0.01, 0.02, 0.01, 0.02, 0.02, 0.02, 0.03, 0.01, 0.02],\n",
    "    \"x.fractal_dim_se\": [0.02, 0.03, 0.02, 0.01, 0.02, 0.01, 0.03, 0.02, 0.02, 0.02],\n",
    "    \"x.radius_worst\": [16.99, 15.88, 11.23, 16.15, 18.43, 21.01, 19.85, 15.92, 16.47, 17.33],\n",
    "    \"x.texture_worst\": [22.30, 21.54, 23.70, 21.52, 22.83, 23.30, 22.02, 22.98, 21.70, 22.43],\n",
    "    \"x.perimeter_worst\": [114.78, 109.60, 105.62, 103.91, 122.47, 119.28, 121.17, 114.94, 118.22, 116.89],\n",
    "    \"x.area_worst\": [1400.23, 1322.43, 1303.95, 1354.87, 1512.25, 1600.41, 1458.39, 1372.98, 1420.50, 1390.63],\n",
    "    \"x.smoothness_worst\": [0.12, 0.14, 0.11, 0.13, 0.13, 0.12, 0.13, 0.14, 0.14, 0.13],\n",
    "    \"x.compactness_worst\": [0.16, 0.14, 0.13, 0.15, 0.16, 0.13, 0.15, 0.14, 0.12, 0.14],\n",
    "    \"x.concavity_worst\": [0.06, 0.04, 0.08, 0.06, 0.07, 0.04, 0.08, 0.09, 0.07, 0.07],\n",
    "    \"x.concave_pts_worst\": [0.04, 0.04, 0.05, 0.03, 0.05, 0.04, 0.05, 0.05, 0.04, 0.04],\n",
    "    \"x.symmetry_worst\": [0.20, 0.18, 0.22, 0.19, 0.21, 0.18, 0.19, 0.19, 0.18, 0.20],\n",
    "    \"x.fractal_dim_worst\": [0.08, 0.07, 0.09, 0.08, 0.07, 0.06, 0.08, 0.07, 0.08, 0.07],\n",
    "}\n",
    "y_cancer_inventado = pd.DataFrame(data)\n",
    "\n",
    "data = {\n",
    "    \"fixed acidity\": [7.4, 7.8, 7.8, 11.2, 7.4],\n",
    "    \"volatile acidity\": [0.700, 0.880, 0.760, 0.280, 0.700],\n",
    "    \"citric acid\": [0.00, 0.00, 0.04, 0.56, 0.00],\n",
    "    \"residual sugar\": [1.9, 2.6, 2.3, 1.9, 1.9],\n",
    "    \"chlorides\": [0.076, 0.098, 0.092, 0.075, 0.076],\n",
    "    \"free sulfur dioxide\": [11.0, 25.0, 15.0, 17.0, 11.0],\n",
    "    \"total sulfur dioxide\": [34.0, 67.0, 54.0, 60.0, 34.0],\n",
    "    \"density\": [0.99780, 0.99680, 0.99700, 0.99800, 0.99780],\n",
    "    \"pH\": [3.51, 3.20, 3.26, 3.16, 3.51],\n",
    "    \"sulphates\": [0.56, 0.68, 0.65, 0.58, 0.56],\n",
    "    \"alcohol\": [9.4, 9.8, 9.8, 9.8, 9.4],\n",
    "}\n",
    "y_wine_inventado = pd.DataFrame(data)\n",
    "\n",
    "data = {\n",
    "    \"track_artist\": [74.231884, 53.042254, 57.178571, 57.699187, 83.714286],\n",
    "    \"track_album_name\": [66.0, 67.0, 70.0, 59.0, 69.0],\n",
    "    \"playlist_name\": [59.628571, 59.628571, 59.628571, 59.628571, 59.628571],\n",
    "    \"playlist_genre\": [47.744870, 47.744870, 47.744870, 47.744870, 47.744870],\n",
    "    \"playlist_subgenre\": [52.079353, 52.079353, 52.079353, 52.079353, 52.079353],\n",
    "    \"danceability\": [0.748, 0.726, 0.675, 0.718, 0.650],\n",
    "    \"energy\": [0.916, 0.815, 0.931, 0.930, 0.833],\n",
    "    \"key\": [6, 11, 1, 7, 1],\n",
    "    \"loudness\": [-2.634, -4.969, -3.432, -3.778, -4.672],\n",
    "    \"mode\": [1, 1, 0, 1, 1],\n",
    "    \"speechiness\": [0.0583, 0.0373, 0.0742, 0.1020, 0.0359],\n",
    "    \"acousticness\": [0.102000, 0.072400, 0.079400, 0.028700, 0.080300],\n",
    "    \"instrumentalness\": [0.000000, 0.004210, 0.000023, 0.000009, 0.000000],\n",
    "    \"liveness\": [0.0653, 0.3570, 0.1100, 0.2040, 0.0833],\n",
    "    \"valence\": [0.5180, 0.6930, 0.6130, 0.2770, 0.7250],\n",
    "    \"tempo\": [122.036, 99.972, 124.008, 121.956, 123.976],\n",
    "    \"duration_ms\": [194754, 162600, 176616, 169093, 189052],\n",
    "    \"album_age\": [6.0, 6.0, 6.0, 6.0, 6.0]\n",
    "}\n",
    "y_spotify_inventado = pd.DataFrame(data)\n"
   ]
  },
  {
   "cell_type": "code",
   "execution_count": 469,
   "metadata": {},
   "outputs": [
    {
     "name": "stdout",
     "output_type": "stream",
     "text": [
      "{'PHISHING': SVC(C=10), 'CANCER': SVC(C=10, kernel='linear'), 'WINE': SVC(C=1, kernel='linear')}\n"
     ]
    }
   ],
   "source": [
    "y_inventadas = {\n",
    "    \"PHISHING\": y_phishing_inventado,\n",
    "    \"CANCER\": y_cancer_inventado,\n",
    "    \"WINE\": y_wine_inventado,\n",
    "    \"SPOTIFY\": y_spotify_inventado,\n",
    "}\n",
    "print(modelos_ajustados_svm)"
   ]
  },
  {
   "cell_type": "markdown",
   "metadata": {},
   "source": [
    "## 11.1. SVM"
   ]
  },
  {
   "cell_type": "code",
   "execution_count": 470,
   "metadata": {},
   "outputs": [
    {
     "name": "stdout",
     "output_type": "stream",
     "text": [
      "====================== PHISHING ======================\n",
      "[ 1 -1  1  1  1  1  1  1  1  1]\n",
      "====================== CANCER ======================\n",
      "[-1 -1  1 -1  1 -1  1 -1  1 -1]\n",
      "====================== WINE ======================\n",
      "[5 5 5 5 5]\n"
     ]
    }
   ],
   "source": [
    "for t, modelo in modelos_ajustados_svm.items():\n",
    "    print(f\"====================== {t} ======================\")\n",
    "    print(modelo.predict(y_inventadas[t]))"
   ]
  },
  {
   "cell_type": "markdown",
   "metadata": {},
   "source": [
    "## 11.2. Regresion logistica"
   ]
  },
  {
   "cell_type": "code",
   "execution_count": 471,
   "metadata": {},
   "outputs": [
    {
     "name": "stdout",
     "output_type": "stream",
     "text": [
      "====================== PHISHING ======================\n",
      "[1 1 1 1 1 1 1 1 1 1]\n",
      "====================== CANCER ======================\n",
      "[ 1  1  1 -1  1 -1  1 -1  1  1]\n",
      "====================== WINE ======================\n",
      "[5 5 5 5 5]\n",
      "====================== SPOTIFY ======================\n",
      "[6 6 6 6 6]\n"
     ]
    }
   ],
   "source": [
    "for t, modelo in modelos_ajustados_lr.items():\n",
    "    print(f\"====================== {t} ======================\")\n",
    "    print(modelo.predict(y_inventadas[t]))"
   ]
  },
  {
   "cell_type": "markdown",
   "metadata": {},
   "source": [
    "## 11.3. Arboles de decision"
   ]
  },
  {
   "cell_type": "code",
   "execution_count": 472,
   "metadata": {},
   "outputs": [
    {
     "name": "stdout",
     "output_type": "stream",
     "text": [
      "====================== PHISHING ======================\n",
      "[ 1  1  1 -1  1  1  1 -1  1  1]\n",
      "====================== CANCER ======================\n",
      "[-1  1 -1 -1 -1 -1 -1  1 -1 -1]\n",
      "====================== WINE ======================\n",
      "[5 5 5 5 5]\n",
      "====================== SPOTIFY ======================\n",
      "[6 6 7 5 6]\n"
     ]
    }
   ],
   "source": [
    "for t, modelo in modelos_ajustados_dt.items():\n",
    "    print(f\"====================== {t} ======================\")\n",
    "    print(modelo.predict(y_inventadas[t]))"
   ]
  },
  {
   "cell_type": "markdown",
   "metadata": {},
   "source": [
    "## 11.4. Bosques aleatorios"
   ]
  },
  {
   "cell_type": "code",
   "execution_count": 473,
   "metadata": {},
   "outputs": [
    {
     "name": "stdout",
     "output_type": "stream",
     "text": [
      "====================== PHISHING ======================\n",
      "[ 1  1  1  1  1  1  1 -1  1  1]\n",
      "====================== CANCER ======================\n",
      "[-1 -1 -1 -1  1 -1 -1 -1 -1 -1]\n",
      "====================== WINE ======================\n",
      "[5 5 5 5 5]\n",
      "====================== SPOTIFY ======================\n",
      "[6 6 7 6 6]\n"
     ]
    }
   ],
   "source": [
    "for t, modelo in modelos_ajustados_rf.items():\n",
    "    print(f\"====================== {t} ======================\")\n",
    "    print(modelo.predict(y_inventadas[t]))"
   ]
  },
  {
   "cell_type": "markdown",
   "metadata": {},
   "source": [
    "## 11.5. kNN"
   ]
  },
  {
   "cell_type": "code",
   "execution_count": 474,
   "metadata": {},
   "outputs": [
    {
     "name": "stdout",
     "output_type": "stream",
     "text": [
      "====================== PHISHING ======================\n",
      "[1 1 1 1 1 1 1 1 1 1]\n",
      "====================== CANCER ======================\n",
      "[1 1 1 1 1 1 1 1 1 1]\n",
      "====================== WINE ======================\n",
      "[5 5 5 6 5]\n",
      "====================== SPOTIFY ======================\n",
      "[6 6 7 6 6]\n"
     ]
    }
   ],
   "source": [
    "for t, modelo in modelos_ajustados_knn.items():\n",
    "    print(f\"====================== {t} ======================\")\n",
    "    print(modelo.predict(y_inventadas[t]))"
   ]
  },
  {
   "cell_type": "code",
   "execution_count": null,
   "metadata": {},
   "outputs": [],
   "source": []
  }
 ],
 "metadata": {
  "kaggle": {
   "accelerator": "none",
   "dataSources": [],
   "dockerImageVersionId": 30918,
   "isGpuEnabled": false,
   "isInternetEnabled": true,
   "language": "python",
   "sourceType": "notebook"
  },
  "kernelspec": {
   "display_name": "base",
   "language": "python",
   "name": "python3"
  },
  "language_info": {
   "codemirror_mode": {
    "name": "ipython",
    "version": 3
   },
   "file_extension": ".py",
   "mimetype": "text/x-python",
   "name": "python",
   "nbconvert_exporter": "python",
   "pygments_lexer": "ipython3",
   "version": "3.12.7"
  }
 },
 "nbformat": 4,
 "nbformat_minor": 4
}

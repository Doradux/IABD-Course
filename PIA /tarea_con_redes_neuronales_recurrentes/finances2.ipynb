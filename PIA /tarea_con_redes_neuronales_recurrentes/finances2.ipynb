{
  "cells": [
    {
      "cell_type": "markdown",
      "metadata": {
        "id": "view-in-github",
        "colab_type": "text"
      },
      "source": [
        "<a href=\"https://colab.research.google.com/github/Doradux/IABD-Course/blob/main/PIA%20/tarea_con_redes_neuronales_recurrentes/finances2.ipynb\" target=\"_parent\"><img src=\"https://colab.research.google.com/assets/colab-badge.svg\" alt=\"Open In Colab\"/></a>"
      ]
    },
    {
      "cell_type": "code",
      "execution_count": 1,
      "metadata": {
        "id": "u9mU6rK7DBoC"
      },
      "outputs": [],
      "source": [
        "import numpy as np\n",
        "import pandas as pd\n",
        "import matplotlib.pyplot as plt\n",
        "import yfinance as yf\n",
        "\n",
        "from sklearn.preprocessing import MinMaxScaler\n",
        "from sklearn.metrics import mean_squared_error\n",
        "\n",
        "from tensorflow.keras.models import Sequential\n",
        "from tensorflow.keras.layers import Dense, LSTM, Dropout, GRU, Bidirectional\n",
        "from tensorflow.keras.optimizers import SGD\n",
        "from tensorflow.random import set_seed"
      ]
    },
    {
      "cell_type": "code",
      "execution_count": 2,
      "metadata": {
        "id": "D1USAFDYDBoD"
      },
      "outputs": [],
      "source": [
        "ibex = yf.Ticker(\"^IBEX\")\n",
        "data = ibex.history(period=\"5y\")\n",
        "data.to_csv(\"ibex_1y.csv\")"
      ]
    },
    {
      "cell_type": "code",
      "execution_count": 3,
      "metadata": {
        "colab": {
          "base_uri": "https://localhost:8080/",
          "height": 238
        },
        "id": "J2-l35aoDBoD",
        "outputId": "21cd5355-4084-4e17-eac9-205c08ba7258"
      },
      "outputs": [
        {
          "output_type": "execute_result",
          "data": {
            "text/plain": [
              "                            Open         High          Low        Close  \\\n",
              "Date                                                                      \n",
              "2020-03-30 22:00:00  6746.799805  6802.000000  6624.700195  6785.399902   \n",
              "2020-03-31 22:00:00  6627.299805  6687.799805  6565.200195  6579.399902   \n",
              "2020-04-01 22:00:00  6633.700195  6658.899902  6424.500000  6574.100098   \n",
              "2020-04-02 22:00:00  6563.600098  6632.500000  6509.399902  6581.600098   \n",
              "2020-04-05 22:00:00  6807.899902  6874.899902  6728.600098  6844.299805   \n",
              "\n",
              "                        Volume  Dividends  Stock Splits  \n",
              "Date                                                     \n",
              "2020-03-30 22:00:00  258181200        0.0           0.0  \n",
              "2020-03-31 22:00:00  235113700        0.0           0.0  \n",
              "2020-04-01 22:00:00  233309800        0.0           0.0  \n",
              "2020-04-02 22:00:00  215387500        0.0           0.0  \n",
              "2020-04-05 22:00:00  225965400        0.0           0.0  "
            ],
            "text/html": [
              "\n",
              "  <div id=\"df-ea124b5c-5b40-4d96-8227-27b2b502e5ff\" class=\"colab-df-container\">\n",
              "    <div>\n",
              "<style scoped>\n",
              "    .dataframe tbody tr th:only-of-type {\n",
              "        vertical-align: middle;\n",
              "    }\n",
              "\n",
              "    .dataframe tbody tr th {\n",
              "        vertical-align: top;\n",
              "    }\n",
              "\n",
              "    .dataframe thead th {\n",
              "        text-align: right;\n",
              "    }\n",
              "</style>\n",
              "<table border=\"1\" class=\"dataframe\">\n",
              "  <thead>\n",
              "    <tr style=\"text-align: right;\">\n",
              "      <th></th>\n",
              "      <th>Open</th>\n",
              "      <th>High</th>\n",
              "      <th>Low</th>\n",
              "      <th>Close</th>\n",
              "      <th>Volume</th>\n",
              "      <th>Dividends</th>\n",
              "      <th>Stock Splits</th>\n",
              "    </tr>\n",
              "    <tr>\n",
              "      <th>Date</th>\n",
              "      <th></th>\n",
              "      <th></th>\n",
              "      <th></th>\n",
              "      <th></th>\n",
              "      <th></th>\n",
              "      <th></th>\n",
              "      <th></th>\n",
              "    </tr>\n",
              "  </thead>\n",
              "  <tbody>\n",
              "    <tr>\n",
              "      <th>2020-03-30 22:00:00</th>\n",
              "      <td>6746.799805</td>\n",
              "      <td>6802.000000</td>\n",
              "      <td>6624.700195</td>\n",
              "      <td>6785.399902</td>\n",
              "      <td>258181200</td>\n",
              "      <td>0.0</td>\n",
              "      <td>0.0</td>\n",
              "    </tr>\n",
              "    <tr>\n",
              "      <th>2020-03-31 22:00:00</th>\n",
              "      <td>6627.299805</td>\n",
              "      <td>6687.799805</td>\n",
              "      <td>6565.200195</td>\n",
              "      <td>6579.399902</td>\n",
              "      <td>235113700</td>\n",
              "      <td>0.0</td>\n",
              "      <td>0.0</td>\n",
              "    </tr>\n",
              "    <tr>\n",
              "      <th>2020-04-01 22:00:00</th>\n",
              "      <td>6633.700195</td>\n",
              "      <td>6658.899902</td>\n",
              "      <td>6424.500000</td>\n",
              "      <td>6574.100098</td>\n",
              "      <td>233309800</td>\n",
              "      <td>0.0</td>\n",
              "      <td>0.0</td>\n",
              "    </tr>\n",
              "    <tr>\n",
              "      <th>2020-04-02 22:00:00</th>\n",
              "      <td>6563.600098</td>\n",
              "      <td>6632.500000</td>\n",
              "      <td>6509.399902</td>\n",
              "      <td>6581.600098</td>\n",
              "      <td>215387500</td>\n",
              "      <td>0.0</td>\n",
              "      <td>0.0</td>\n",
              "    </tr>\n",
              "    <tr>\n",
              "      <th>2020-04-05 22:00:00</th>\n",
              "      <td>6807.899902</td>\n",
              "      <td>6874.899902</td>\n",
              "      <td>6728.600098</td>\n",
              "      <td>6844.299805</td>\n",
              "      <td>225965400</td>\n",
              "      <td>0.0</td>\n",
              "      <td>0.0</td>\n",
              "    </tr>\n",
              "  </tbody>\n",
              "</table>\n",
              "</div>\n",
              "    <div class=\"colab-df-buttons\">\n",
              "\n",
              "  <div class=\"colab-df-container\">\n",
              "    <button class=\"colab-df-convert\" onclick=\"convertToInteractive('df-ea124b5c-5b40-4d96-8227-27b2b502e5ff')\"\n",
              "            title=\"Convert this dataframe to an interactive table.\"\n",
              "            style=\"display:none;\">\n",
              "\n",
              "  <svg xmlns=\"http://www.w3.org/2000/svg\" height=\"24px\" viewBox=\"0 -960 960 960\">\n",
              "    <path d=\"M120-120v-720h720v720H120Zm60-500h600v-160H180v160Zm220 220h160v-160H400v160Zm0 220h160v-160H400v160ZM180-400h160v-160H180v160Zm440 0h160v-160H620v160ZM180-180h160v-160H180v160Zm440 0h160v-160H620v160Z\"/>\n",
              "  </svg>\n",
              "    </button>\n",
              "\n",
              "  <style>\n",
              "    .colab-df-container {\n",
              "      display:flex;\n",
              "      gap: 12px;\n",
              "    }\n",
              "\n",
              "    .colab-df-convert {\n",
              "      background-color: #E8F0FE;\n",
              "      border: none;\n",
              "      border-radius: 50%;\n",
              "      cursor: pointer;\n",
              "      display: none;\n",
              "      fill: #1967D2;\n",
              "      height: 32px;\n",
              "      padding: 0 0 0 0;\n",
              "      width: 32px;\n",
              "    }\n",
              "\n",
              "    .colab-df-convert:hover {\n",
              "      background-color: #E2EBFA;\n",
              "      box-shadow: 0px 1px 2px rgba(60, 64, 67, 0.3), 0px 1px 3px 1px rgba(60, 64, 67, 0.15);\n",
              "      fill: #174EA6;\n",
              "    }\n",
              "\n",
              "    .colab-df-buttons div {\n",
              "      margin-bottom: 4px;\n",
              "    }\n",
              "\n",
              "    [theme=dark] .colab-df-convert {\n",
              "      background-color: #3B4455;\n",
              "      fill: #D2E3FC;\n",
              "    }\n",
              "\n",
              "    [theme=dark] .colab-df-convert:hover {\n",
              "      background-color: #434B5C;\n",
              "      box-shadow: 0px 1px 3px 1px rgba(0, 0, 0, 0.15);\n",
              "      filter: drop-shadow(0px 1px 2px rgba(0, 0, 0, 0.3));\n",
              "      fill: #FFFFFF;\n",
              "    }\n",
              "  </style>\n",
              "\n",
              "    <script>\n",
              "      const buttonEl =\n",
              "        document.querySelector('#df-ea124b5c-5b40-4d96-8227-27b2b502e5ff button.colab-df-convert');\n",
              "      buttonEl.style.display =\n",
              "        google.colab.kernel.accessAllowed ? 'block' : 'none';\n",
              "\n",
              "      async function convertToInteractive(key) {\n",
              "        const element = document.querySelector('#df-ea124b5c-5b40-4d96-8227-27b2b502e5ff');\n",
              "        const dataTable =\n",
              "          await google.colab.kernel.invokeFunction('convertToInteractive',\n",
              "                                                    [key], {});\n",
              "        if (!dataTable) return;\n",
              "\n",
              "        const docLinkHtml = 'Like what you see? Visit the ' +\n",
              "          '<a target=\"_blank\" href=https://colab.research.google.com/notebooks/data_table.ipynb>data table notebook</a>'\n",
              "          + ' to learn more about interactive tables.';\n",
              "        element.innerHTML = '';\n",
              "        dataTable['output_type'] = 'display_data';\n",
              "        await google.colab.output.renderOutput(dataTable, element);\n",
              "        const docLink = document.createElement('div');\n",
              "        docLink.innerHTML = docLinkHtml;\n",
              "        element.appendChild(docLink);\n",
              "      }\n",
              "    </script>\n",
              "  </div>\n",
              "\n",
              "\n",
              "<div id=\"df-95c0c45f-74a3-4456-84cc-b73cfd5d9a71\">\n",
              "  <button class=\"colab-df-quickchart\" onclick=\"quickchart('df-95c0c45f-74a3-4456-84cc-b73cfd5d9a71')\"\n",
              "            title=\"Suggest charts\"\n",
              "            style=\"display:none;\">\n",
              "\n",
              "<svg xmlns=\"http://www.w3.org/2000/svg\" height=\"24px\"viewBox=\"0 0 24 24\"\n",
              "     width=\"24px\">\n",
              "    <g>\n",
              "        <path d=\"M19 3H5c-1.1 0-2 .9-2 2v14c0 1.1.9 2 2 2h14c1.1 0 2-.9 2-2V5c0-1.1-.9-2-2-2zM9 17H7v-7h2v7zm4 0h-2V7h2v10zm4 0h-2v-4h2v4z\"/>\n",
              "    </g>\n",
              "</svg>\n",
              "  </button>\n",
              "\n",
              "<style>\n",
              "  .colab-df-quickchart {\n",
              "      --bg-color: #E8F0FE;\n",
              "      --fill-color: #1967D2;\n",
              "      --hover-bg-color: #E2EBFA;\n",
              "      --hover-fill-color: #174EA6;\n",
              "      --disabled-fill-color: #AAA;\n",
              "      --disabled-bg-color: #DDD;\n",
              "  }\n",
              "\n",
              "  [theme=dark] .colab-df-quickchart {\n",
              "      --bg-color: #3B4455;\n",
              "      --fill-color: #D2E3FC;\n",
              "      --hover-bg-color: #434B5C;\n",
              "      --hover-fill-color: #FFFFFF;\n",
              "      --disabled-bg-color: #3B4455;\n",
              "      --disabled-fill-color: #666;\n",
              "  }\n",
              "\n",
              "  .colab-df-quickchart {\n",
              "    background-color: var(--bg-color);\n",
              "    border: none;\n",
              "    border-radius: 50%;\n",
              "    cursor: pointer;\n",
              "    display: none;\n",
              "    fill: var(--fill-color);\n",
              "    height: 32px;\n",
              "    padding: 0;\n",
              "    width: 32px;\n",
              "  }\n",
              "\n",
              "  .colab-df-quickchart:hover {\n",
              "    background-color: var(--hover-bg-color);\n",
              "    box-shadow: 0 1px 2px rgba(60, 64, 67, 0.3), 0 1px 3px 1px rgba(60, 64, 67, 0.15);\n",
              "    fill: var(--button-hover-fill-color);\n",
              "  }\n",
              "\n",
              "  .colab-df-quickchart-complete:disabled,\n",
              "  .colab-df-quickchart-complete:disabled:hover {\n",
              "    background-color: var(--disabled-bg-color);\n",
              "    fill: var(--disabled-fill-color);\n",
              "    box-shadow: none;\n",
              "  }\n",
              "\n",
              "  .colab-df-spinner {\n",
              "    border: 2px solid var(--fill-color);\n",
              "    border-color: transparent;\n",
              "    border-bottom-color: var(--fill-color);\n",
              "    animation:\n",
              "      spin 1s steps(1) infinite;\n",
              "  }\n",
              "\n",
              "  @keyframes spin {\n",
              "    0% {\n",
              "      border-color: transparent;\n",
              "      border-bottom-color: var(--fill-color);\n",
              "      border-left-color: var(--fill-color);\n",
              "    }\n",
              "    20% {\n",
              "      border-color: transparent;\n",
              "      border-left-color: var(--fill-color);\n",
              "      border-top-color: var(--fill-color);\n",
              "    }\n",
              "    30% {\n",
              "      border-color: transparent;\n",
              "      border-left-color: var(--fill-color);\n",
              "      border-top-color: var(--fill-color);\n",
              "      border-right-color: var(--fill-color);\n",
              "    }\n",
              "    40% {\n",
              "      border-color: transparent;\n",
              "      border-right-color: var(--fill-color);\n",
              "      border-top-color: var(--fill-color);\n",
              "    }\n",
              "    60% {\n",
              "      border-color: transparent;\n",
              "      border-right-color: var(--fill-color);\n",
              "    }\n",
              "    80% {\n",
              "      border-color: transparent;\n",
              "      border-right-color: var(--fill-color);\n",
              "      border-bottom-color: var(--fill-color);\n",
              "    }\n",
              "    90% {\n",
              "      border-color: transparent;\n",
              "      border-bottom-color: var(--fill-color);\n",
              "    }\n",
              "  }\n",
              "</style>\n",
              "\n",
              "  <script>\n",
              "    async function quickchart(key) {\n",
              "      const quickchartButtonEl =\n",
              "        document.querySelector('#' + key + ' button');\n",
              "      quickchartButtonEl.disabled = true;  // To prevent multiple clicks.\n",
              "      quickchartButtonEl.classList.add('colab-df-spinner');\n",
              "      try {\n",
              "        const charts = await google.colab.kernel.invokeFunction(\n",
              "            'suggestCharts', [key], {});\n",
              "      } catch (error) {\n",
              "        console.error('Error during call to suggestCharts:', error);\n",
              "      }\n",
              "      quickchartButtonEl.classList.remove('colab-df-spinner');\n",
              "      quickchartButtonEl.classList.add('colab-df-quickchart-complete');\n",
              "    }\n",
              "    (() => {\n",
              "      let quickchartButtonEl =\n",
              "        document.querySelector('#df-95c0c45f-74a3-4456-84cc-b73cfd5d9a71 button');\n",
              "      quickchartButtonEl.style.display =\n",
              "        google.colab.kernel.accessAllowed ? 'block' : 'none';\n",
              "    })();\n",
              "  </script>\n",
              "</div>\n",
              "\n",
              "    </div>\n",
              "  </div>\n"
            ],
            "application/vnd.google.colaboratory.intrinsic+json": {
              "type": "dataframe",
              "variable_name": "df",
              "summary": "{\n  \"name\": \"df\",\n  \"rows\": 1281,\n  \"fields\": [\n    {\n      \"column\": \"Date\",\n      \"properties\": {\n        \"dtype\": \"date\",\n        \"min\": \"2020-03-30 22:00:00\",\n        \"max\": \"2025-03-30 22:00:00\",\n        \"num_unique_values\": 1281,\n        \"samples\": [\n          \"2025-02-03 23:00:00\",\n          \"2023-03-19 23:00:00\",\n          \"2025-01-05 23:00:00\"\n        ],\n        \"semantic_type\": \"\",\n        \"description\": \"\"\n      }\n    },\n    {\n      \"column\": \"Open\",\n      \"properties\": {\n        \"dtype\": \"number\",\n        \"std\": 1512.026282416154,\n        \"min\": 6351.39990234375,\n        \"max\": 13484.900390625,\n        \"num_unique_values\": 1264,\n        \"samples\": [\n          11662.5,\n          9357.2001953125,\n          8636.7001953125\n        ],\n        \"semantic_type\": \"\",\n        \"description\": \"\"\n      }\n    },\n    {\n      \"column\": \"High\",\n      \"properties\": {\n        \"dtype\": \"number\",\n        \"std\": 1513.8286457444526,\n        \"min\": 6461.60009765625,\n        \"max\": 13515.099609375,\n        \"num_unique_values\": 1267,\n        \"samples\": [\n          11877.2001953125,\n          11160.0,\n          8850.099609375\n        ],\n        \"semantic_type\": \"\",\n        \"description\": \"\"\n      }\n    },\n    {\n      \"column\": \"Low\",\n      \"properties\": {\n        \"dtype\": \"number\",\n        \"std\": 1516.4380887447433,\n        \"min\": 6329.5,\n        \"max\": 13414.2998046875,\n        \"num_unique_values\": 1259,\n        \"samples\": [\n          7365.10009765625,\n          10820.5,\n          7448.89990234375\n        ],\n        \"semantic_type\": \"\",\n        \"description\": \"\"\n      }\n    },\n    {\n      \"column\": \"Close\",\n      \"properties\": {\n        \"dtype\": \"number\",\n        \"std\": 1517.2678775547067,\n        \"min\": 6411.7998046875,\n        \"max\": 13484.2998046875,\n        \"num_unique_values\": 1254,\n        \"samples\": [\n          13119.7001953125,\n          7109.10009765625,\n          7259.2998046875\n        ],\n        \"semantic_type\": \"\",\n        \"description\": \"\"\n      }\n    },\n    {\n      \"column\": \"Volume\",\n      \"properties\": {\n        \"dtype\": \"number\",\n        \"std\": 88428903,\n        \"min\": 30482300,\n        \"max\": 975212000,\n        \"num_unique_values\": 1281,\n        \"samples\": [\n          121115200,\n          359818300,\n          108994000\n        ],\n        \"semantic_type\": \"\",\n        \"description\": \"\"\n      }\n    },\n    {\n      \"column\": \"Dividends\",\n      \"properties\": {\n        \"dtype\": \"number\",\n        \"std\": 0.0,\n        \"min\": 0.0,\n        \"max\": 0.0,\n        \"num_unique_values\": 1,\n        \"samples\": [\n          0.0\n        ],\n        \"semantic_type\": \"\",\n        \"description\": \"\"\n      }\n    },\n    {\n      \"column\": \"Stock Splits\",\n      \"properties\": {\n        \"dtype\": \"number\",\n        \"std\": 0.0,\n        \"min\": 0.0,\n        \"max\": 0.0,\n        \"num_unique_values\": 1,\n        \"samples\": [\n          0.0\n        ],\n        \"semantic_type\": \"\",\n        \"description\": \"\"\n      }\n    }\n  ]\n}"
            }
          },
          "metadata": {},
          "execution_count": 3
        }
      ],
      "source": [
        "df = pd.read_csv(\"ibex_1y.csv\", index_col=\"Date\", parse_dates=True)\n",
        "df.index = pd.to_datetime(df.index, utc=True)\n",
        "df.index = df.index.tz_convert(None)\n",
        "df.head()"
      ]
    },
    {
      "cell_type": "code",
      "execution_count": 4,
      "metadata": {
        "colab": {
          "base_uri": "https://localhost:8080/",
          "height": 304
        },
        "id": "VgAVc0ErDBoD",
        "outputId": "500eb37a-736a-450a-fe26-c60a48bf7bac"
      },
      "outputs": [
        {
          "output_type": "execute_result",
          "data": {
            "text/plain": [
              "Open            0\n",
              "High            0\n",
              "Low             0\n",
              "Close           0\n",
              "Volume          0\n",
              "Dividends       0\n",
              "Stock Splits    0\n",
              "dtype: int64"
            ],
            "text/html": [
              "<div>\n",
              "<style scoped>\n",
              "    .dataframe tbody tr th:only-of-type {\n",
              "        vertical-align: middle;\n",
              "    }\n",
              "\n",
              "    .dataframe tbody tr th {\n",
              "        vertical-align: top;\n",
              "    }\n",
              "\n",
              "    .dataframe thead th {\n",
              "        text-align: right;\n",
              "    }\n",
              "</style>\n",
              "<table border=\"1\" class=\"dataframe\">\n",
              "  <thead>\n",
              "    <tr style=\"text-align: right;\">\n",
              "      <th></th>\n",
              "      <th>0</th>\n",
              "    </tr>\n",
              "  </thead>\n",
              "  <tbody>\n",
              "    <tr>\n",
              "      <th>Open</th>\n",
              "      <td>0</td>\n",
              "    </tr>\n",
              "    <tr>\n",
              "      <th>High</th>\n",
              "      <td>0</td>\n",
              "    </tr>\n",
              "    <tr>\n",
              "      <th>Low</th>\n",
              "      <td>0</td>\n",
              "    </tr>\n",
              "    <tr>\n",
              "      <th>Close</th>\n",
              "      <td>0</td>\n",
              "    </tr>\n",
              "    <tr>\n",
              "      <th>Volume</th>\n",
              "      <td>0</td>\n",
              "    </tr>\n",
              "    <tr>\n",
              "      <th>Dividends</th>\n",
              "      <td>0</td>\n",
              "    </tr>\n",
              "    <tr>\n",
              "      <th>Stock Splits</th>\n",
              "      <td>0</td>\n",
              "    </tr>\n",
              "  </tbody>\n",
              "</table>\n",
              "</div><br><label><b>dtype:</b> int64</label>"
            ]
          },
          "metadata": {},
          "execution_count": 4
        }
      ],
      "source": [
        "df.isna().sum()"
      ]
    },
    {
      "cell_type": "code",
      "execution_count": 5,
      "metadata": {
        "colab": {
          "base_uri": "https://localhost:8080/",
          "height": 300
        },
        "id": "0kCbbdW1DBoD",
        "outputId": "2d62fd98-79ad-413a-d7c4-9ff4f7c4eac4"
      },
      "outputs": [
        {
          "output_type": "execute_result",
          "data": {
            "text/plain": [
              "               Open          High           Low         Close        Volume  \\\n",
              "count   1281.000000   1281.000000   1281.000000   1281.000000  1.281000e+03   \n",
              "mean    9176.677978   9236.299774   9116.189471   9179.517712  1.748588e+08   \n",
              "std     1512.026282   1513.828646   1516.438089   1517.267878  8.842890e+07   \n",
              "min     6351.399902   6461.600098   6329.500000   6411.799805  3.048230e+07   \n",
              "25%     8201.200195   8259.900391   8134.100098   8194.299805  1.202729e+08   \n",
              "50%     8923.700195   8963.700195   8853.900391   8907.599609  1.545438e+08   \n",
              "75%     9987.799805  10024.299805   9928.599609  10001.299805  2.038544e+08   \n",
              "max    13484.900391  13515.099609  13414.299805  13484.299805  9.752120e+08   \n",
              "\n",
              "       Dividends  Stock Splits  \n",
              "count     1281.0        1281.0  \n",
              "mean         0.0           0.0  \n",
              "std          0.0           0.0  \n",
              "min          0.0           0.0  \n",
              "25%          0.0           0.0  \n",
              "50%          0.0           0.0  \n",
              "75%          0.0           0.0  \n",
              "max          0.0           0.0  "
            ],
            "text/html": [
              "\n",
              "  <div id=\"df-de48d13c-8a71-4c06-a11b-705af0375ddb\" class=\"colab-df-container\">\n",
              "    <div>\n",
              "<style scoped>\n",
              "    .dataframe tbody tr th:only-of-type {\n",
              "        vertical-align: middle;\n",
              "    }\n",
              "\n",
              "    .dataframe tbody tr th {\n",
              "        vertical-align: top;\n",
              "    }\n",
              "\n",
              "    .dataframe thead th {\n",
              "        text-align: right;\n",
              "    }\n",
              "</style>\n",
              "<table border=\"1\" class=\"dataframe\">\n",
              "  <thead>\n",
              "    <tr style=\"text-align: right;\">\n",
              "      <th></th>\n",
              "      <th>Open</th>\n",
              "      <th>High</th>\n",
              "      <th>Low</th>\n",
              "      <th>Close</th>\n",
              "      <th>Volume</th>\n",
              "      <th>Dividends</th>\n",
              "      <th>Stock Splits</th>\n",
              "    </tr>\n",
              "  </thead>\n",
              "  <tbody>\n",
              "    <tr>\n",
              "      <th>count</th>\n",
              "      <td>1281.000000</td>\n",
              "      <td>1281.000000</td>\n",
              "      <td>1281.000000</td>\n",
              "      <td>1281.000000</td>\n",
              "      <td>1.281000e+03</td>\n",
              "      <td>1281.0</td>\n",
              "      <td>1281.0</td>\n",
              "    </tr>\n",
              "    <tr>\n",
              "      <th>mean</th>\n",
              "      <td>9176.677978</td>\n",
              "      <td>9236.299774</td>\n",
              "      <td>9116.189471</td>\n",
              "      <td>9179.517712</td>\n",
              "      <td>1.748588e+08</td>\n",
              "      <td>0.0</td>\n",
              "      <td>0.0</td>\n",
              "    </tr>\n",
              "    <tr>\n",
              "      <th>std</th>\n",
              "      <td>1512.026282</td>\n",
              "      <td>1513.828646</td>\n",
              "      <td>1516.438089</td>\n",
              "      <td>1517.267878</td>\n",
              "      <td>8.842890e+07</td>\n",
              "      <td>0.0</td>\n",
              "      <td>0.0</td>\n",
              "    </tr>\n",
              "    <tr>\n",
              "      <th>min</th>\n",
              "      <td>6351.399902</td>\n",
              "      <td>6461.600098</td>\n",
              "      <td>6329.500000</td>\n",
              "      <td>6411.799805</td>\n",
              "      <td>3.048230e+07</td>\n",
              "      <td>0.0</td>\n",
              "      <td>0.0</td>\n",
              "    </tr>\n",
              "    <tr>\n",
              "      <th>25%</th>\n",
              "      <td>8201.200195</td>\n",
              "      <td>8259.900391</td>\n",
              "      <td>8134.100098</td>\n",
              "      <td>8194.299805</td>\n",
              "      <td>1.202729e+08</td>\n",
              "      <td>0.0</td>\n",
              "      <td>0.0</td>\n",
              "    </tr>\n",
              "    <tr>\n",
              "      <th>50%</th>\n",
              "      <td>8923.700195</td>\n",
              "      <td>8963.700195</td>\n",
              "      <td>8853.900391</td>\n",
              "      <td>8907.599609</td>\n",
              "      <td>1.545438e+08</td>\n",
              "      <td>0.0</td>\n",
              "      <td>0.0</td>\n",
              "    </tr>\n",
              "    <tr>\n",
              "      <th>75%</th>\n",
              "      <td>9987.799805</td>\n",
              "      <td>10024.299805</td>\n",
              "      <td>9928.599609</td>\n",
              "      <td>10001.299805</td>\n",
              "      <td>2.038544e+08</td>\n",
              "      <td>0.0</td>\n",
              "      <td>0.0</td>\n",
              "    </tr>\n",
              "    <tr>\n",
              "      <th>max</th>\n",
              "      <td>13484.900391</td>\n",
              "      <td>13515.099609</td>\n",
              "      <td>13414.299805</td>\n",
              "      <td>13484.299805</td>\n",
              "      <td>9.752120e+08</td>\n",
              "      <td>0.0</td>\n",
              "      <td>0.0</td>\n",
              "    </tr>\n",
              "  </tbody>\n",
              "</table>\n",
              "</div>\n",
              "    <div class=\"colab-df-buttons\">\n",
              "\n",
              "  <div class=\"colab-df-container\">\n",
              "    <button class=\"colab-df-convert\" onclick=\"convertToInteractive('df-de48d13c-8a71-4c06-a11b-705af0375ddb')\"\n",
              "            title=\"Convert this dataframe to an interactive table.\"\n",
              "            style=\"display:none;\">\n",
              "\n",
              "  <svg xmlns=\"http://www.w3.org/2000/svg\" height=\"24px\" viewBox=\"0 -960 960 960\">\n",
              "    <path d=\"M120-120v-720h720v720H120Zm60-500h600v-160H180v160Zm220 220h160v-160H400v160Zm0 220h160v-160H400v160ZM180-400h160v-160H180v160Zm440 0h160v-160H620v160ZM180-180h160v-160H180v160Zm440 0h160v-160H620v160Z\"/>\n",
              "  </svg>\n",
              "    </button>\n",
              "\n",
              "  <style>\n",
              "    .colab-df-container {\n",
              "      display:flex;\n",
              "      gap: 12px;\n",
              "    }\n",
              "\n",
              "    .colab-df-convert {\n",
              "      background-color: #E8F0FE;\n",
              "      border: none;\n",
              "      border-radius: 50%;\n",
              "      cursor: pointer;\n",
              "      display: none;\n",
              "      fill: #1967D2;\n",
              "      height: 32px;\n",
              "      padding: 0 0 0 0;\n",
              "      width: 32px;\n",
              "    }\n",
              "\n",
              "    .colab-df-convert:hover {\n",
              "      background-color: #E2EBFA;\n",
              "      box-shadow: 0px 1px 2px rgba(60, 64, 67, 0.3), 0px 1px 3px 1px rgba(60, 64, 67, 0.15);\n",
              "      fill: #174EA6;\n",
              "    }\n",
              "\n",
              "    .colab-df-buttons div {\n",
              "      margin-bottom: 4px;\n",
              "    }\n",
              "\n",
              "    [theme=dark] .colab-df-convert {\n",
              "      background-color: #3B4455;\n",
              "      fill: #D2E3FC;\n",
              "    }\n",
              "\n",
              "    [theme=dark] .colab-df-convert:hover {\n",
              "      background-color: #434B5C;\n",
              "      box-shadow: 0px 1px 3px 1px rgba(0, 0, 0, 0.15);\n",
              "      filter: drop-shadow(0px 1px 2px rgba(0, 0, 0, 0.3));\n",
              "      fill: #FFFFFF;\n",
              "    }\n",
              "  </style>\n",
              "\n",
              "    <script>\n",
              "      const buttonEl =\n",
              "        document.querySelector('#df-de48d13c-8a71-4c06-a11b-705af0375ddb button.colab-df-convert');\n",
              "      buttonEl.style.display =\n",
              "        google.colab.kernel.accessAllowed ? 'block' : 'none';\n",
              "\n",
              "      async function convertToInteractive(key) {\n",
              "        const element = document.querySelector('#df-de48d13c-8a71-4c06-a11b-705af0375ddb');\n",
              "        const dataTable =\n",
              "          await google.colab.kernel.invokeFunction('convertToInteractive',\n",
              "                                                    [key], {});\n",
              "        if (!dataTable) return;\n",
              "\n",
              "        const docLinkHtml = 'Like what you see? Visit the ' +\n",
              "          '<a target=\"_blank\" href=https://colab.research.google.com/notebooks/data_table.ipynb>data table notebook</a>'\n",
              "          + ' to learn more about interactive tables.';\n",
              "        element.innerHTML = '';\n",
              "        dataTable['output_type'] = 'display_data';\n",
              "        await google.colab.output.renderOutput(dataTable, element);\n",
              "        const docLink = document.createElement('div');\n",
              "        docLink.innerHTML = docLinkHtml;\n",
              "        element.appendChild(docLink);\n",
              "      }\n",
              "    </script>\n",
              "  </div>\n",
              "\n",
              "\n",
              "<div id=\"df-da899c68-c22c-443a-80fa-fb05e9664f15\">\n",
              "  <button class=\"colab-df-quickchart\" onclick=\"quickchart('df-da899c68-c22c-443a-80fa-fb05e9664f15')\"\n",
              "            title=\"Suggest charts\"\n",
              "            style=\"display:none;\">\n",
              "\n",
              "<svg xmlns=\"http://www.w3.org/2000/svg\" height=\"24px\"viewBox=\"0 0 24 24\"\n",
              "     width=\"24px\">\n",
              "    <g>\n",
              "        <path d=\"M19 3H5c-1.1 0-2 .9-2 2v14c0 1.1.9 2 2 2h14c1.1 0 2-.9 2-2V5c0-1.1-.9-2-2-2zM9 17H7v-7h2v7zm4 0h-2V7h2v10zm4 0h-2v-4h2v4z\"/>\n",
              "    </g>\n",
              "</svg>\n",
              "  </button>\n",
              "\n",
              "<style>\n",
              "  .colab-df-quickchart {\n",
              "      --bg-color: #E8F0FE;\n",
              "      --fill-color: #1967D2;\n",
              "      --hover-bg-color: #E2EBFA;\n",
              "      --hover-fill-color: #174EA6;\n",
              "      --disabled-fill-color: #AAA;\n",
              "      --disabled-bg-color: #DDD;\n",
              "  }\n",
              "\n",
              "  [theme=dark] .colab-df-quickchart {\n",
              "      --bg-color: #3B4455;\n",
              "      --fill-color: #D2E3FC;\n",
              "      --hover-bg-color: #434B5C;\n",
              "      --hover-fill-color: #FFFFFF;\n",
              "      --disabled-bg-color: #3B4455;\n",
              "      --disabled-fill-color: #666;\n",
              "  }\n",
              "\n",
              "  .colab-df-quickchart {\n",
              "    background-color: var(--bg-color);\n",
              "    border: none;\n",
              "    border-radius: 50%;\n",
              "    cursor: pointer;\n",
              "    display: none;\n",
              "    fill: var(--fill-color);\n",
              "    height: 32px;\n",
              "    padding: 0;\n",
              "    width: 32px;\n",
              "  }\n",
              "\n",
              "  .colab-df-quickchart:hover {\n",
              "    background-color: var(--hover-bg-color);\n",
              "    box-shadow: 0 1px 2px rgba(60, 64, 67, 0.3), 0 1px 3px 1px rgba(60, 64, 67, 0.15);\n",
              "    fill: var(--button-hover-fill-color);\n",
              "  }\n",
              "\n",
              "  .colab-df-quickchart-complete:disabled,\n",
              "  .colab-df-quickchart-complete:disabled:hover {\n",
              "    background-color: var(--disabled-bg-color);\n",
              "    fill: var(--disabled-fill-color);\n",
              "    box-shadow: none;\n",
              "  }\n",
              "\n",
              "  .colab-df-spinner {\n",
              "    border: 2px solid var(--fill-color);\n",
              "    border-color: transparent;\n",
              "    border-bottom-color: var(--fill-color);\n",
              "    animation:\n",
              "      spin 1s steps(1) infinite;\n",
              "  }\n",
              "\n",
              "  @keyframes spin {\n",
              "    0% {\n",
              "      border-color: transparent;\n",
              "      border-bottom-color: var(--fill-color);\n",
              "      border-left-color: var(--fill-color);\n",
              "    }\n",
              "    20% {\n",
              "      border-color: transparent;\n",
              "      border-left-color: var(--fill-color);\n",
              "      border-top-color: var(--fill-color);\n",
              "    }\n",
              "    30% {\n",
              "      border-color: transparent;\n",
              "      border-left-color: var(--fill-color);\n",
              "      border-top-color: var(--fill-color);\n",
              "      border-right-color: var(--fill-color);\n",
              "    }\n",
              "    40% {\n",
              "      border-color: transparent;\n",
              "      border-right-color: var(--fill-color);\n",
              "      border-top-color: var(--fill-color);\n",
              "    }\n",
              "    60% {\n",
              "      border-color: transparent;\n",
              "      border-right-color: var(--fill-color);\n",
              "    }\n",
              "    80% {\n",
              "      border-color: transparent;\n",
              "      border-right-color: var(--fill-color);\n",
              "      border-bottom-color: var(--fill-color);\n",
              "    }\n",
              "    90% {\n",
              "      border-color: transparent;\n",
              "      border-bottom-color: var(--fill-color);\n",
              "    }\n",
              "  }\n",
              "</style>\n",
              "\n",
              "  <script>\n",
              "    async function quickchart(key) {\n",
              "      const quickchartButtonEl =\n",
              "        document.querySelector('#' + key + ' button');\n",
              "      quickchartButtonEl.disabled = true;  // To prevent multiple clicks.\n",
              "      quickchartButtonEl.classList.add('colab-df-spinner');\n",
              "      try {\n",
              "        const charts = await google.colab.kernel.invokeFunction(\n",
              "            'suggestCharts', [key], {});\n",
              "      } catch (error) {\n",
              "        console.error('Error during call to suggestCharts:', error);\n",
              "      }\n",
              "      quickchartButtonEl.classList.remove('colab-df-spinner');\n",
              "      quickchartButtonEl.classList.add('colab-df-quickchart-complete');\n",
              "    }\n",
              "    (() => {\n",
              "      let quickchartButtonEl =\n",
              "        document.querySelector('#df-da899c68-c22c-443a-80fa-fb05e9664f15 button');\n",
              "      quickchartButtonEl.style.display =\n",
              "        google.colab.kernel.accessAllowed ? 'block' : 'none';\n",
              "    })();\n",
              "  </script>\n",
              "</div>\n",
              "\n",
              "    </div>\n",
              "  </div>\n"
            ],
            "application/vnd.google.colaboratory.intrinsic+json": {
              "type": "dataframe",
              "summary": "{\n  \"name\": \"df\",\n  \"rows\": 8,\n  \"fields\": [\n    {\n      \"column\": \"Open\",\n      \"properties\": {\n        \"dtype\": \"number\",\n        \"std\": 4192.560691379149,\n        \"min\": 1281.0,\n        \"max\": 13484.900390625,\n        \"num_unique_values\": 8,\n        \"samples\": [\n          9176.677978325039,\n          8923.7001953125,\n          1281.0\n        ],\n        \"semantic_type\": \"\",\n        \"description\": \"\"\n      }\n    },\n    {\n      \"column\": \"High\",\n      \"properties\": {\n        \"dtype\": \"number\",\n        \"std\": 4205.56360959929,\n        \"min\": 1281.0,\n        \"max\": 13515.099609375,\n        \"num_unique_values\": 8,\n        \"samples\": [\n          9236.299774193745,\n          8963.7001953125,\n          1281.0\n        ],\n        \"semantic_type\": \"\",\n        \"description\": \"\"\n      }\n    },\n    {\n      \"column\": \"Low\",\n      \"properties\": {\n        \"dtype\": \"number\",\n        \"std\": 4163.087891300969,\n        \"min\": 1281.0,\n        \"max\": 13414.2998046875,\n        \"num_unique_values\": 8,\n        \"samples\": [\n          9116.189470658908,\n          8853.900390625,\n          1281.0\n        ],\n        \"semantic_type\": \"\",\n        \"description\": \"\"\n      }\n    },\n    {\n      \"column\": \"Close\",\n      \"properties\": {\n        \"dtype\": \"number\",\n        \"std\": 4189.697283080782,\n        \"min\": 1281.0,\n        \"max\": 13484.2998046875,\n        \"num_unique_values\": 8,\n        \"samples\": [\n          9179.517711916349,\n          8907.599609375,\n          1281.0\n        ],\n        \"semantic_type\": \"\",\n        \"description\": \"\"\n      }\n    },\n    {\n      \"column\": \"Volume\",\n      \"properties\": {\n        \"dtype\": \"number\",\n        \"std\": 313615295.3926385,\n        \"min\": 1281.0,\n        \"max\": 975212000.0,\n        \"num_unique_values\": 8,\n        \"samples\": [\n          174858846.25370803,\n          154543800.0,\n          1281.0\n        ],\n        \"semantic_type\": \"\",\n        \"description\": \"\"\n      }\n    },\n    {\n      \"column\": \"Dividends\",\n      \"properties\": {\n        \"dtype\": \"number\",\n        \"std\": 452.9018933499837,\n        \"min\": 0.0,\n        \"max\": 1281.0,\n        \"num_unique_values\": 2,\n        \"samples\": [\n          0.0,\n          1281.0\n        ],\n        \"semantic_type\": \"\",\n        \"description\": \"\"\n      }\n    },\n    {\n      \"column\": \"Stock Splits\",\n      \"properties\": {\n        \"dtype\": \"number\",\n        \"std\": 452.9018933499837,\n        \"min\": 0.0,\n        \"max\": 1281.0,\n        \"num_unique_values\": 2,\n        \"samples\": [\n          0.0,\n          1281.0\n        ],\n        \"semantic_type\": \"\",\n        \"description\": \"\"\n      }\n    }\n  ]\n}"
            }
          },
          "metadata": {},
          "execution_count": 5
        }
      ],
      "source": [
        "df.describe()"
      ]
    },
    {
      "cell_type": "code",
      "execution_count": 6,
      "metadata": {
        "colab": {
          "base_uri": "https://localhost:8080/"
        },
        "id": "KVeUhfe6DBoE",
        "outputId": "35ea0102-e3d5-4b11-f824-4c37e271f704"
      },
      "outputs": [
        {
          "output_type": "stream",
          "name": "stdout",
          "text": [
            "<class 'pandas.core.frame.DataFrame'>\n",
            "DatetimeIndex: 1281 entries, 2020-03-30 22:00:00 to 2025-03-30 22:00:00\n",
            "Data columns (total 7 columns):\n",
            " #   Column        Non-Null Count  Dtype  \n",
            "---  ------        --------------  -----  \n",
            " 0   Open          1281 non-null   float64\n",
            " 1   High          1281 non-null   float64\n",
            " 2   Low           1281 non-null   float64\n",
            " 3   Close         1281 non-null   float64\n",
            " 4   Volume        1281 non-null   int64  \n",
            " 5   Dividends     1281 non-null   float64\n",
            " 6   Stock Splits  1281 non-null   float64\n",
            "dtypes: float64(6), int64(1)\n",
            "memory usage: 80.1 KB\n"
          ]
        }
      ],
      "source": [
        "df.info()"
      ]
    },
    {
      "cell_type": "code",
      "execution_count": 7,
      "metadata": {
        "colab": {
          "base_uri": "https://localhost:8080/"
        },
        "id": "jqXLi9J-DBoE",
        "outputId": "3451f22a-07e8-4fd9-d73c-95a3a2fdf20d"
      },
      "outputs": [
        {
          "output_type": "stream",
          "name": "stdout",
          "text": [
            "Desde: 2020-03-30 22:00:00 hasta: 2025-03-30 22:00:00\n"
          ]
        }
      ],
      "source": [
        "start_date = df.index.min()\n",
        "end_date = df.index.max()\n",
        "print(\"Desde:\", start_date, \"hasta:\", end_date)"
      ]
    },
    {
      "cell_type": "code",
      "execution_count": 8,
      "metadata": {
        "colab": {
          "base_uri": "https://localhost:8080/",
          "height": 390
        },
        "id": "1SjdPBgrDBoE",
        "outputId": "85de8ff4-8607-4d61-8882-2a559d018f5b"
      },
      "outputs": [
        {
          "output_type": "display_data",
          "data": {
            "text/plain": [
              "<Figure size 1600x400 with 1 Axes>"
            ],
            "image/png": "[encoded data removed]"
          },
          "metadata": {}
        }
      ],
      "source": [
        "df.index = pd.to_datetime(df.index)\n",
        "df.index = df.index.tz_localize(None)\n",
        "\n",
        "tstart = 2020\n",
        "tend = 2024\n",
        "\n",
        "def train_test_plot(dataset, tstart, tend):\n",
        "    dataset.loc[f\"{tstart}\":f\"{tend}\", \"High\"].plot(figsize=(16, 4), legend=True)\n",
        "    dataset.loc[f\"{tend+1}\":, \"High\"].plot(figsize=(16, 4), legend=True)\n",
        "    plt.legend([f\"Train (Before {tend+1})\", f\"Test ({tend+1} and beyond)\"])\n",
        "    plt.title(\"IBEX 35 High Price\")\n",
        "    plt.xlabel(\"Fecha\")\n",
        "    plt.ylabel(\"Precio\")\n",
        "    plt.grid(True)\n",
        "    plt.show()\n",
        "\n",
        "train_test_plot(df, tstart, tend)\n"
      ]
    },
    {
      "cell_type": "code",
      "execution_count": 9,
      "metadata": {
        "id": "gyuZmODWDBoE"
      },
      "outputs": [],
      "source": [
        "def train_test_split(dataset, tstart, tend):\n",
        "    train = dataset.loc[f\"{tstart}\":f\"{tend}\", \"High\"].values\n",
        "    test = dataset.loc[f\"{tend+1}\":, \"High\"].values\n",
        "    return train, test\n",
        "training_set, test_set = train_test_split(df, tstart, tend)"
      ]
    },
    {
      "cell_type": "code",
      "execution_count": 10,
      "metadata": {
        "id": "QmBKbamQDBoE"
      },
      "outputs": [],
      "source": [
        "sc = MinMaxScaler(feature_range=(0, 1))\n",
        "# Hacer el reshape es necesario porque MinMaxScaler\n",
        "# espera una entrada en forma de columnas, donde cada fila representa una muestra y cada columna una característica.\n",
        "training_set = training_set.reshape(-1, 1)\n",
        "training_set_scaled = sc.fit_transform(training_set)"
      ]
    },
    {
      "cell_type": "code",
      "execution_count": 11,
      "metadata": {
        "id": "WYH01f9ODBoE"
      },
      "outputs": [],
      "source": [
        "def split_sequence(sequence, n_steps):\n",
        "    X, y = list(), list()\n",
        "    for i in range(len(sequence)):\n",
        "        end_ix = i + n_steps\n",
        "        if end_ix > len(sequence) - 1:\n",
        "            break\n",
        "        seq_x, seq_y = sequence[i:end_ix], sequence[end_ix]\n",
        "        X.append(seq_x)\n",
        "        y.append(seq_y)\n",
        "    return np.array(X), np.array(y)\n",
        "\n",
        "n_steps = 60\n",
        "features = 1\n",
        "X_train, y_train = split_sequence(training_set_scaled, n_steps)"
      ]
    },
    {
      "cell_type": "code",
      "execution_count": 12,
      "metadata": {
        "colab": {
          "base_uri": "https://localhost:8080/"
        },
        "id": "7c6guQDrDBoF",
        "outputId": "c06b48f3-4ba4-4372-f5e1-d398d80a246f"
      },
      "outputs": [
        {
          "output_type": "stream",
          "name": "stdout",
          "text": [
            "(1158, 60, 1)\n"
          ]
        }
      ],
      "source": [
        "X_train = X_train.reshape(X_train.shape[0], X_train.shape[1], features)\n",
        "print(X_train.shape)"
      ]
    },
    {
      "cell_type": "code",
      "execution_count": 13,
      "metadata": {
        "colab": {
          "base_uri": "https://localhost:8080/"
        },
        "id": "EMvL5uIADBoF",
        "outputId": "638466e7-90b2-48cf-e1e1-78a157ebe3c8"
      },
      "outputs": [
        {
          "output_type": "execute_result",
          "data": {
            "text/plain": [
              "array([[[0.05980322],\n",
              "        [0.03973994],\n",
              "        [0.03466265],\n",
              "        ...,\n",
              "        [0.18157064],\n",
              "        [0.17204847],\n",
              "        [0.14655653]],\n",
              "\n",
              "       [[0.03973994],\n",
              "        [0.03466265],\n",
              "        [0.03002458],\n",
              "        ...,\n",
              "        [0.17204847],\n",
              "        [0.14655653],\n",
              "        [0.15518269]],\n",
              "\n",
              "       [[0.03466265],\n",
              "        [0.03002458],\n",
              "        [0.07261065],\n",
              "        ...,\n",
              "        [0.14655653],\n",
              "        [0.15518269],\n",
              "        [0.15050945]],\n",
              "\n",
              "       ...,\n",
              "\n",
              "       [[0.91600498],\n",
              "        [0.91403727],\n",
              "        [0.91475768],\n",
              "        ...,\n",
              "        [0.88327486],\n",
              "        [0.8807626 ],\n",
              "        [0.88265997]],\n",
              "\n",
              "       [[0.91403727],\n",
              "        [0.91475768],\n",
              "        [0.93457494],\n",
              "        ...,\n",
              "        [0.8807626 ],\n",
              "        [0.88265997],\n",
              "        [0.89072381]],\n",
              "\n",
              "       [[0.91475768],\n",
              "        [0.93457494],\n",
              "        [0.92640558],\n",
              "        ...,\n",
              "        [0.88265997],\n",
              "        [0.89072381],\n",
              "        [0.90281109]]])"
            ]
          },
          "metadata": {},
          "execution_count": 13
        }
      ],
      "source": [
        "X_train"
      ]
    },
    {
      "cell_type": "markdown",
      "metadata": {
        "id": "TpMT9tpuDBoF"
      },
      "source": [
        "## Modelo LSTM"
      ]
    },
    {
      "cell_type": "code",
      "execution_count": 14,
      "metadata": {
        "colab": {
          "base_uri": "https://localhost:8080/"
        },
        "id": "30u0Av-ZFBEJ",
        "outputId": "f8876725-e452-40b6-e0a0-4147d0f7663e"
      },
      "outputs": [
        {
          "output_type": "stream",
          "name": "stdout",
          "text": [
            "Collecting scikeras\n",
            "  Downloading scikeras-0.13.0-py3-none-any.whl.metadata (3.1 kB)\n",
            "Requirement already satisfied: keras>=3.2.0 in /usr/local/lib/python3.11/dist-packages (from scikeras) (3.8.0)\n",
            "Requirement already satisfied: scikit-learn>=1.4.2 in /usr/local/lib/python3.11/dist-packages (from scikeras) (1.6.1)\n",
            "Requirement already satisfied: absl-py in /usr/local/lib/python3.11/dist-packages (from keras>=3.2.0->scikeras) (1.4.0)\n",
            "Requirement already satisfied: numpy in /usr/local/lib/python3.11/dist-packages (from keras>=3.2.0->scikeras) (2.0.2)\n",
            "Requirement already satisfied: rich in /usr/local/lib/python3.11/dist-packages (from keras>=3.2.0->scikeras) (13.9.4)\n",
            "Requirement already satisfied: namex in /usr/local/lib/python3.11/dist-packages (from keras>=3.2.0->scikeras) (0.0.8)\n",
            "Requirement already satisfied: h5py in /usr/local/lib/python3.11/dist-packages (from keras>=3.2.0->scikeras) (3.13.0)\n",
            "Requirement already satisfied: optree in /usr/local/lib/python3.11/dist-packages (from keras>=3.2.0->scikeras) (0.14.1)\n",
            "Requirement already satisfied: ml-dtypes in /usr/local/lib/python3.11/dist-packages (from keras>=3.2.0->scikeras) (0.4.1)\n",
            "Requirement already satisfied: packaging in /usr/local/lib/python3.11/dist-packages (from keras>=3.2.0->scikeras) (24.2)\n",
            "Requirement already satisfied: scipy>=1.6.0 in /usr/local/lib/python3.11/dist-packages (from scikit-learn>=1.4.2->scikeras) (1.14.1)\n",
            "Requirement already satisfied: joblib>=1.2.0 in /usr/local/lib/python3.11/dist-packages (from scikit-learn>=1.4.2->scikeras) (1.4.2)\n",
            "Requirement already satisfied: threadpoolctl>=3.1.0 in /usr/local/lib/python3.11/dist-packages (from scikit-learn>=1.4.2->scikeras) (3.6.0)\n",
            "Requirement already satisfied: typing-extensions>=4.5.0 in /usr/local/lib/python3.11/dist-packages (from optree->keras>=3.2.0->scikeras) (4.12.2)\n",
            "Requirement already satisfied: markdown-it-py>=2.2.0 in /usr/local/lib/python3.11/dist-packages (from rich->keras>=3.2.0->scikeras) (3.0.0)\n",
            "Requirement already satisfied: pygments<3.0.0,>=2.13.0 in /usr/local/lib/python3.11/dist-packages (from rich->keras>=3.2.0->scikeras) (2.18.0)\n",
            "Requirement already satisfied: mdurl~=0.1 in /usr/local/lib/python3.11/dist-packages (from markdown-it-py>=2.2.0->rich->keras>=3.2.0->scikeras) (0.1.2)\n",
            "Downloading scikeras-0.13.0-py3-none-any.whl (26 kB)\n",
            "Installing collected packages: scikeras\n",
            "Successfully installed scikeras-0.13.0\n"
          ]
        }
      ],
      "source": [
        "!pip install scikeras"
      ]
    },
    {
      "cell_type": "code",
      "execution_count": 15,
      "metadata": {
        "colab": {
          "base_uri": "https://localhost:8080/"
        },
        "id": "y3HkTibcFOk8",
        "outputId": "d6d1e7eb-266e-46b4-a2fb-4b093e8fbd0f"
      },
      "outputs": [
        {
          "output_type": "stream",
          "name": "stdout",
          "text": [
            "Requirement already satisfied: scikit-learn in /usr/local/lib/python3.11/dist-packages (1.6.1)\n",
            "Requirement already satisfied: numpy>=1.19.5 in /usr/local/lib/python3.11/dist-packages (from scikit-learn) (2.0.2)\n",
            "Requirement already satisfied: scipy>=1.6.0 in /usr/local/lib/python3.11/dist-packages (from scikit-learn) (1.14.1)\n",
            "Requirement already satisfied: joblib>=1.2.0 in /usr/local/lib/python3.11/dist-packages (from scikit-learn) (1.4.2)\n",
            "Requirement already satisfied: threadpoolctl>=3.1.0 in /usr/local/lib/python3.11/dist-packages (from scikit-learn) (3.6.0)\n"
          ]
        }
      ],
      "source": [
        "!pip install -U scikit-learn"
      ]
    },
    {
      "cell_type": "code",
      "execution_count": 16,
      "metadata": {
        "id": "neh5WjkdDBoF"
      },
      "outputs": [],
      "source": [
        "import numpy as np\n",
        "import tensorflow as tf\n",
        "from tensorflow.keras.models import Sequential\n",
        "from tensorflow.keras.layers import Dense, LSTM\n",
        "from sklearn.model_selection import GridSearchCV\n",
        "from scikeras.wrappers import KerasRegressor\n",
        "\n",
        "def build_and_train_model(units, optimizer, batch_size, epochs, n_steps):\n",
        "    np.random.seed(455)\n",
        "    tf.random.set_seed(455)\n",
        "\n",
        "    inputs = keras.Input(shape=(n_steps, features))\n",
        "    x = layers.LSTM(units=units, activation=\"tanh\")(inputs)\n",
        "    outputs = layers.Dense(units=1)(x)\n",
        "    model = keras.Model(inputs=inputs, outputs=outputs)\n",
        "\n",
        "    model.compile(optimizer=optimizer, loss='mse')\n",
        "    model.fit(X_train_tmp, y_train_tmp, batch_size=batch_size, epochs=epochs, verbose=0)\n",
        "\n",
        "    return model\n"
      ]
    },
    {
      "cell_type": "code",
      "execution_count": 17,
      "metadata": {
        "colab": {
          "base_uri": "https://localhost:8080/"
        },
        "id": "_y7fY0-rFYeL",
        "outputId": "3a6ccdd0-31b3-489d-ca22-341a73f12b57"
      },
      "outputs": [
        {
          "output_type": "stream",
          "name": "stdout",
          "text": [
            "\n",
            "Probando 72 combinaciones...\n",
            "\n",
            "\n",
            "1/72 - n_steps=30, units=50, optimizer=adam, batch_size=16, epochs=30\n",
            "   RMSE: 0.0209\n",
            "\n",
            "2/72 - n_steps=30, units=50, optimizer=adam, batch_size=16, epochs=50\n",
            "   RMSE: 0.0179\n",
            "\n",
            "3/72 - n_steps=30, units=50, optimizer=adam, batch_size=32, epochs=30\n",
            "   RMSE: 0.0260\n",
            "\n",
            "4/72 - n_steps=30, units=50, optimizer=adam, batch_size=32, epochs=50\n",
            "   RMSE: 0.0240\n",
            "\n",
            "5/72 - n_steps=30, units=50, optimizer=RMSprop, batch_size=16, epochs=30\n",
            "   RMSE: 0.0205\n",
            "\n",
            "6/72 - n_steps=30, units=50, optimizer=RMSprop, batch_size=16, epochs=50\n",
            "   RMSE: 0.0186\n",
            "\n",
            "7/72 - n_steps=30, units=50, optimizer=RMSprop, batch_size=32, epochs=30\n",
            "   RMSE: 0.0216\n",
            "\n",
            "8/72 - n_steps=30, units=50, optimizer=RMSprop, batch_size=32, epochs=50\n",
            "   RMSE: 0.0206\n",
            "\n",
            "9/72 - n_steps=30, units=100, optimizer=adam, batch_size=16, epochs=30\n",
            "   RMSE: 0.0189\n",
            "\n",
            "10/72 - n_steps=30, units=100, optimizer=adam, batch_size=16, epochs=50\n",
            "   RMSE: 0.0153\n",
            "\n",
            "11/72 - n_steps=30, units=100, optimizer=adam, batch_size=32, epochs=30\n",
            "   RMSE: 0.0293\n",
            "\n",
            "12/72 - n_steps=30, units=100, optimizer=adam, batch_size=32, epochs=50\n",
            "   RMSE: 0.0255\n",
            "\n",
            "13/72 - n_steps=30, units=100, optimizer=RMSprop, batch_size=16, epochs=30\n",
            "   RMSE: 0.0217\n",
            "\n",
            "14/72 - n_steps=30, units=100, optimizer=RMSprop, batch_size=16, epochs=50\n",
            "   RMSE: 0.0178\n",
            "\n",
            "15/72 - n_steps=30, units=100, optimizer=RMSprop, batch_size=32, epochs=30\n",
            "   RMSE: 0.0205\n",
            "\n",
            "16/72 - n_steps=30, units=100, optimizer=RMSprop, batch_size=32, epochs=50\n",
            "   RMSE: 0.0196\n",
            "\n",
            "17/72 - n_steps=30, units=125, optimizer=adam, batch_size=16, epochs=30\n",
            "   RMSE: 0.0196\n",
            "\n",
            "18/72 - n_steps=30, units=125, optimizer=adam, batch_size=16, epochs=50\n",
            "   RMSE: 0.0156\n",
            "\n",
            "19/72 - n_steps=30, units=125, optimizer=adam, batch_size=32, epochs=30\n",
            "   RMSE: 0.0292\n",
            "\n",
            "20/72 - n_steps=30, units=125, optimizer=adam, batch_size=32, epochs=50\n",
            "   RMSE: 0.0256\n",
            "\n",
            "21/72 - n_steps=30, units=125, optimizer=RMSprop, batch_size=16, epochs=30\n",
            "   RMSE: 0.0208\n",
            "\n",
            "22/72 - n_steps=30, units=125, optimizer=RMSprop, batch_size=16, epochs=50\n",
            "   RMSE: 0.0175\n",
            "\n",
            "23/72 - n_steps=30, units=125, optimizer=RMSprop, batch_size=32, epochs=30\n",
            "   RMSE: 0.0204\n",
            "\n",
            "24/72 - n_steps=30, units=125, optimizer=RMSprop, batch_size=32, epochs=50\n",
            "   RMSE: 0.0190\n",
            "\n",
            "25/72 - n_steps=45, units=50, optimizer=adam, batch_size=16, epochs=30\n",
            "   RMSE: 0.0191\n",
            "\n",
            "26/72 - n_steps=45, units=50, optimizer=adam, batch_size=16, epochs=50\n",
            "   RMSE: 0.0186\n",
            "\n",
            "27/72 - n_steps=45, units=50, optimizer=adam, batch_size=32, epochs=30\n",
            "   RMSE: 0.0281\n",
            "\n",
            "28/72 - n_steps=45, units=50, optimizer=adam, batch_size=32, epochs=50\n",
            "   RMSE: 0.0223\n",
            "\n",
            "29/72 - n_steps=45, units=50, optimizer=RMSprop, batch_size=16, epochs=30\n",
            "   RMSE: 0.0185\n",
            "\n",
            "30/72 - n_steps=45, units=50, optimizer=RMSprop, batch_size=16, epochs=50\n",
            "   RMSE: 0.0173\n",
            "\n",
            "31/72 - n_steps=45, units=50, optimizer=RMSprop, batch_size=32, epochs=30\n",
            "   RMSE: 0.0234\n",
            "\n",
            "32/72 - n_steps=45, units=50, optimizer=RMSprop, batch_size=32, epochs=50\n",
            "   RMSE: 0.0222\n",
            "\n",
            "33/72 - n_steps=45, units=100, optimizer=adam, batch_size=16, epochs=30\n",
            "   RMSE: 0.0185\n",
            "\n",
            "34/72 - n_steps=45, units=100, optimizer=adam, batch_size=16, epochs=50\n",
            "   RMSE: 0.0159\n",
            "\n",
            "35/72 - n_steps=45, units=100, optimizer=adam, batch_size=32, epochs=30\n",
            "   RMSE: 0.0247\n",
            "\n",
            "36/72 - n_steps=45, units=100, optimizer=adam, batch_size=32, epochs=50\n",
            "   RMSE: 0.0222\n",
            "\n",
            "37/72 - n_steps=45, units=100, optimizer=RMSprop, batch_size=16, epochs=30\n",
            "   RMSE: 0.0181\n",
            "\n",
            "38/72 - n_steps=45, units=100, optimizer=RMSprop, batch_size=16, epochs=50\n",
            "   RMSE: 0.0168\n",
            "\n",
            "39/72 - n_steps=45, units=100, optimizer=RMSprop, batch_size=32, epochs=30\n",
            "   RMSE: 0.0250\n",
            "\n",
            "40/72 - n_steps=45, units=100, optimizer=RMSprop, batch_size=32, epochs=50\n",
            "   RMSE: 0.0229\n",
            "\n",
            "41/72 - n_steps=45, units=125, optimizer=adam, batch_size=16, epochs=30\n",
            "   RMSE: 0.0176\n",
            "\n",
            "42/72 - n_steps=45, units=125, optimizer=adam, batch_size=16, epochs=50\n",
            "   RMSE: 0.0153\n",
            "\n",
            "43/72 - n_steps=45, units=125, optimizer=adam, batch_size=32, epochs=30\n",
            "   RMSE: 0.0255\n",
            "\n",
            "44/72 - n_steps=45, units=125, optimizer=adam, batch_size=32, epochs=50\n",
            "   RMSE: 0.0187\n",
            "\n",
            "45/72 - n_steps=45, units=125, optimizer=RMSprop, batch_size=16, epochs=30\n",
            "   RMSE: 0.0178\n",
            "\n",
            "46/72 - n_steps=45, units=125, optimizer=RMSprop, batch_size=16, epochs=50\n",
            "   RMSE: 0.0164\n",
            "\n",
            "47/72 - n_steps=45, units=125, optimizer=RMSprop, batch_size=32, epochs=30\n",
            "   RMSE: 0.0250\n",
            "\n",
            "48/72 - n_steps=45, units=125, optimizer=RMSprop, batch_size=32, epochs=50\n",
            "   RMSE: 0.0225\n",
            "\n",
            "49/72 - n_steps=60, units=50, optimizer=adam, batch_size=16, epochs=30\n",
            "   RMSE: 0.0205\n",
            "\n",
            "50/72 - n_steps=60, units=50, optimizer=adam, batch_size=16, epochs=50\n",
            "   RMSE: 0.0153\n",
            "\n",
            "51/72 - n_steps=60, units=50, optimizer=adam, batch_size=32, epochs=30\n",
            "   RMSE: 0.0252\n",
            "\n",
            "52/72 - n_steps=60, units=50, optimizer=adam, batch_size=32, epochs=50\n",
            "   RMSE: 0.0219\n",
            "\n",
            "53/72 - n_steps=60, units=50, optimizer=RMSprop, batch_size=16, epochs=30\n",
            "   RMSE: 0.0304\n",
            "\n",
            "54/72 - n_steps=60, units=50, optimizer=RMSprop, batch_size=16, epochs=50\n",
            "   RMSE: 0.0273\n",
            "\n",
            "55/72 - n_steps=60, units=50, optimizer=RMSprop, batch_size=32, epochs=30\n",
            "   RMSE: 0.0312\n",
            "\n",
            "56/72 - n_steps=60, units=50, optimizer=RMSprop, batch_size=32, epochs=50\n",
            "   RMSE: 0.0327\n",
            "\n",
            "57/72 - n_steps=60, units=100, optimizer=adam, batch_size=16, epochs=30\n",
            "   RMSE: 0.0199\n",
            "\n",
            "58/72 - n_steps=60, units=100, optimizer=adam, batch_size=16, epochs=50\n",
            "   RMSE: 0.0156\n",
            "\n",
            "59/72 - n_steps=60, units=100, optimizer=adam, batch_size=32, epochs=30\n",
            "   RMSE: 0.0240\n",
            "\n",
            "60/72 - n_steps=60, units=100, optimizer=adam, batch_size=32, epochs=50\n",
            "   RMSE: 0.0214\n",
            "\n",
            "61/72 - n_steps=60, units=100, optimizer=RMSprop, batch_size=16, epochs=30\n",
            "   RMSE: 0.0286\n",
            "\n",
            "62/72 - n_steps=60, units=100, optimizer=RMSprop, batch_size=16, epochs=50\n",
            "   RMSE: 0.0284\n",
            "\n",
            "63/72 - n_steps=60, units=100, optimizer=RMSprop, batch_size=32, epochs=30\n",
            "   RMSE: 0.0384\n",
            "\n",
            "64/72 - n_steps=60, units=100, optimizer=RMSprop, batch_size=32, epochs=50\n",
            "   RMSE: 0.0355\n",
            "\n",
            "65/72 - n_steps=60, units=125, optimizer=adam, batch_size=16, epochs=30\n",
            "   RMSE: 0.0195\n",
            "\n",
            "66/72 - n_steps=60, units=125, optimizer=adam, batch_size=16, epochs=50\n",
            "   RMSE: 0.0151\n",
            "\n",
            "67/72 - n_steps=60, units=125, optimizer=adam, batch_size=32, epochs=30\n",
            "   RMSE: 0.0233\n",
            "\n",
            "68/72 - n_steps=60, units=125, optimizer=adam, batch_size=32, epochs=50\n",
            "   RMSE: 0.0202\n",
            "\n",
            "69/72 - n_steps=60, units=125, optimizer=RMSprop, batch_size=16, epochs=30\n",
            "   RMSE: 0.0259\n",
            "\n",
            "70/72 - n_steps=60, units=125, optimizer=RMSprop, batch_size=16, epochs=50\n",
            "   RMSE: 0.0273\n",
            "\n",
            "71/72 - n_steps=60, units=125, optimizer=RMSprop, batch_size=32, epochs=30\n",
            "   RMSE: 0.0416\n",
            "\n",
            "72/72 - n_steps=60, units=125, optimizer=RMSprop, batch_size=32, epochs=50\n",
            "   RMSE: 0.0361\n"
          ]
        }
      ],
      "source": [
        "from sklearn.metrics import mean_squared_error\n",
        "from tensorflow import keras\n",
        "from tensorflow.keras import layers\n",
        "\n",
        "param_grid = {\n",
        "    'n_steps': [30, 45, 60],\n",
        "    'units': [50, 100, 125],\n",
        "    'optimizer': ['adam', 'RMSprop'],\n",
        "    'batch_size': [16, 32],\n",
        "    'epochs': [30, 50]\n",
        "}\n",
        "\n",
        "best_rmse = float(\"inf\")\n",
        "best_params = None\n",
        "best_model = None\n",
        "\n",
        "combinations = [\n",
        "    (n, u, o, b, e)\n",
        "    for n in param_grid['n_steps']\n",
        "    for u in param_grid['units']\n",
        "    for o in param_grid['optimizer']\n",
        "    for b in param_grid['batch_size']\n",
        "    for e in param_grid['epochs']\n",
        "]\n",
        "\n",
        "print(f\"\\nProbando {len(combinations)} combinaciones...\\n\")\n",
        "\n",
        "for i, (n_steps, units, optimizer, batch_size, epochs) in enumerate(combinations, 1):\n",
        "    print(f\"\\n{i}/{len(combinations)} - n_steps={n_steps}, units={units}, optimizer={optimizer}, batch_size={batch_size}, epochs={epochs}\")\n",
        "\n",
        "    # Crear nuevas secuencias según el nuevo n_steps\n",
        "    X_train_tmp, y_train_tmp = split_sequence(training_set_scaled, n_steps)\n",
        "    X_train_tmp = X_train_tmp.reshape(X_train_tmp.shape[0], X_train_tmp.shape[1], features)\n",
        "\n",
        "    model = build_and_train_model(units, optimizer, batch_size, epochs, n_steps)  # modificamos esta función\n",
        "    predictions = model.predict(X_train_tmp, verbose=0)\n",
        "    rmse = np.sqrt(mean_squared_error(y_train_tmp, predictions))\n",
        "    print(f\"   RMSE: {rmse:.4f}\")\n",
        "\n",
        "    if rmse < best_rmse:\n",
        "        best_rmse = rmse\n",
        "        best_params = (n_steps, units, optimizer, batch_size, epochs)\n",
        "        best_model = model"
      ]
    },
    {
      "cell_type": "code",
      "execution_count": 18,
      "metadata": {
        "id": "wLOkeUUEqvqO"
      },
      "outputs": [],
      "source": [
        "# Preparar X_test otra vez si hace falta\n",
        "dataset_total = df.loc[:, \"High\"]\n",
        "inputs = dataset_total[len(dataset_total) - len(test_set) - n_steps:].values\n",
        "inputs = inputs.reshape(-1, 1)\n",
        "inputs = sc.transform(inputs)\n",
        "\n",
        "X_test, y_test = split_sequence(inputs, n_steps)\n",
        "X_test = X_test.reshape(X_test.shape[0], X_test.shape[1], features)\n",
        "\n",
        "# Predecir con el mejor modelo\n",
        "predicted_stock_price = best_model.predict(X_test, verbose=0)\n",
        "predicted_stock_price = sc.inverse_transform(predicted_stock_price)\n"
      ]
    },
    {
      "cell_type": "code",
      "execution_count": 19,
      "metadata": {
        "id": "ZLh6OoA2qxGC",
        "colab": {
          "base_uri": "https://localhost:8080/",
          "height": 489
        },
        "outputId": "ac6b2483-142e-484c-c4c3-389b5b2b021a"
      },
      "outputs": [
        {
          "output_type": "display_data",
          "data": {
            "text/plain": [
              "<Figure size 640x480 with 1 Axes>"
            ],
            "image/png": "[encoded data removed]"
          },
          "metadata": {}
        },
        {
          "output_type": "stream",
          "name": "stdout",
          "text": [
            "The root mean squared error is 106.02.\n"
          ]
        }
      ],
      "source": [
        "def plot_predictions(test, predicted):\n",
        "    plt.plot(test, color=\"gray\", label=\"Real\")\n",
        "    plt.plot(predicted, color=\"red\", label=\"Predicted\")\n",
        "    plt.title(\"Prediccion modelo\")\n",
        "    plt.xlabel(\"Time\")\n",
        "    plt.ylabel(\"Precio\")\n",
        "    plt.legend()\n",
        "    plt.show()\n",
        "\n",
        "def return_rmse(test, predicted):\n",
        "    rmse = np.sqrt(mean_squared_error(test, predicted))\n",
        "    print(\"The root mean squared error is {:.2f}.\".format(rmse))\n",
        "\n",
        "# Mostramos los resultados\n",
        "plot_predictions(test_set, predicted_stock_price)\n",
        "return_rmse(test_set, predicted_stock_price)\n"
      ]
    },
    {
      "cell_type": "markdown",
      "metadata": {
        "id": "lw9ivDibDBoG"
      },
      "source": [
        "## Modelo GRU"
      ]
    },
    {
      "cell_type": "code",
      "execution_count": 20,
      "metadata": {
        "id": "9ZhWiwh4DBoH"
      },
      "outputs": [],
      "source": [
        "from tensorflow.keras.layers import GRU\n",
        "from tqdm import tqdm  # mostrar el progreso bonito\n",
        "\n",
        "def build_and_train_gru_model(units, optimizer, batch_size, epochs, n_steps, X_train_tmp, y_train_tmp):\n",
        "    np.random.seed(455)\n",
        "    tf.random.set_seed(455)\n",
        "    random.seed(455)\n",
        "\n",
        "    # Definición con API funcional\n",
        "    inputs = keras.Input(shape=(n_steps, features))\n",
        "    x = layers.GRU(units=units, activation=\"tanh\")(inputs)\n",
        "    outputs = layers.Dense(units=1)(x)\n",
        "\n",
        "    model = keras.Model(inputs=inputs, outputs=outputs)\n",
        "    model.compile(optimizer=optimizer, loss=\"mse\")\n",
        "    model.fit(X_train_tmp, y_train_tmp, batch_size=batch_size, epochs=epochs, verbose=0)\n",
        "\n",
        "    return model"
      ]
    },
    {
      "cell_type": "code",
      "execution_count": 22,
      "metadata": {
        "id": "hLTbleqctInk",
        "colab": {
          "base_uri": "https://localhost:8080/",
          "height": 1000
        },
        "outputId": "e7bada8e-c057-447f-a96f-e7cc9823e135"
      },
      "outputs": [
        {
          "output_type": "stream",
          "name": "stdout",
          "text": [
            "\n",
            "Probando 72 combinaciones...\n",
            "\n"
          ]
        },
        {
          "output_type": "stream",
          "name": "stderr",
          "text": [
            "\r  0%|          | 0/72 [00:00<?, ?it/s]"
          ]
        },
        {
          "output_type": "stream",
          "name": "stdout",
          "text": [
            "\n",
            "1/72 - n_steps=30, units=50, optimizer=adam, batch_size=16, epochs=30\n"
          ]
        },
        {
          "output_type": "stream",
          "name": "stderr",
          "text": [
            "\r  1%|▏         | 1/72 [00:54<1:04:27, 54.47s/it]"
          ]
        },
        {
          "output_type": "stream",
          "name": "stdout",
          "text": [
            "   RMSE: 0.0169\n",
            "\n",
            "2/72 - n_steps=30, units=50, optimizer=adam, batch_size=16, epochs=50\n"
          ]
        },
        {
          "output_type": "stream",
          "name": "stderr",
          "text": [
            "\r  3%|▎         | 2/72 [02:05<1:15:12, 64.47s/it]"
          ]
        },
        {
          "output_type": "stream",
          "name": "stdout",
          "text": [
            "   RMSE: 0.0151\n",
            "\n",
            "3/72 - n_steps=30, units=50, optimizer=adam, batch_size=32, epochs=30\n"
          ]
        },
        {
          "output_type": "stream",
          "name": "stderr",
          "text": [
            "\r  4%|▍         | 3/72 [02:36<56:12, 48.88s/it]  "
          ]
        },
        {
          "output_type": "stream",
          "name": "stdout",
          "text": [
            "   RMSE: 0.0194\n",
            "\n",
            "4/72 - n_steps=30, units=50, optimizer=adam, batch_size=32, epochs=50\n"
          ]
        },
        {
          "output_type": "stream",
          "name": "stderr",
          "text": [
            "\r  6%|▌         | 4/72 [03:26<55:59, 49.41s/it]"
          ]
        },
        {
          "output_type": "stream",
          "name": "stdout",
          "text": [
            "   RMSE: 0.0189\n",
            "\n",
            "5/72 - n_steps=30, units=50, optimizer=RMSprop, batch_size=16, epochs=30\n"
          ]
        },
        {
          "output_type": "stream",
          "name": "stderr",
          "text": [
            "\r  7%|▋         | 5/72 [04:09<52:28, 47.00s/it]"
          ]
        },
        {
          "output_type": "stream",
          "name": "stdout",
          "text": [
            "   RMSE: 0.0181\n",
            "\n",
            "6/72 - n_steps=30, units=50, optimizer=RMSprop, batch_size=16, epochs=50\n"
          ]
        },
        {
          "output_type": "stream",
          "name": "stderr",
          "text": [
            "\r  8%|▊         | 6/72 [05:19<1:00:14, 54.76s/it]"
          ]
        },
        {
          "output_type": "stream",
          "name": "stdout",
          "text": [
            "   RMSE: 0.0159\n",
            "\n",
            "7/72 - n_steps=30, units=50, optimizer=RMSprop, batch_size=32, epochs=30\n"
          ]
        },
        {
          "output_type": "stream",
          "name": "stderr",
          "text": [
            "\r 10%|▉         | 7/72 [05:48<50:29, 46.61s/it]  "
          ]
        },
        {
          "output_type": "stream",
          "name": "stdout",
          "text": [
            "   RMSE: 0.0187\n",
            "\n",
            "8/72 - n_steps=30, units=50, optimizer=RMSprop, batch_size=32, epochs=50\n"
          ]
        },
        {
          "output_type": "stream",
          "name": "stderr",
          "text": [
            "\r 11%|█         | 8/72 [06:30<48:08, 45.13s/it]"
          ]
        },
        {
          "output_type": "stream",
          "name": "stdout",
          "text": [
            "   RMSE: 0.0173\n",
            "\n",
            "9/72 - n_steps=30, units=100, optimizer=adam, batch_size=16, epochs=30\n"
          ]
        },
        {
          "output_type": "stream",
          "name": "stderr",
          "text": [
            "\r 12%|█▎        | 9/72 [07:37<54:24, 51.82s/it]"
          ]
        },
        {
          "output_type": "stream",
          "name": "stdout",
          "text": [
            "   RMSE: 0.0162\n",
            "\n",
            "10/72 - n_steps=30, units=100, optimizer=adam, batch_size=16, epochs=50\n"
          ]
        },
        {
          "output_type": "stream",
          "name": "stderr",
          "text": [
            "\r 14%|█▍        | 10/72 [09:21<1:10:15, 67.98s/it]"
          ]
        },
        {
          "output_type": "stream",
          "name": "stdout",
          "text": [
            "   RMSE: 0.0150\n",
            "\n",
            "11/72 - n_steps=30, units=100, optimizer=adam, batch_size=32, epochs=30\n"
          ]
        },
        {
          "output_type": "stream",
          "name": "stderr",
          "text": [
            "\r 15%|█▌        | 11/72 [10:00<1:00:09, 59.17s/it]"
          ]
        },
        {
          "output_type": "stream",
          "name": "stdout",
          "text": [
            "   RMSE: 0.0205\n",
            "\n",
            "12/72 - n_steps=30, units=100, optimizer=adam, batch_size=32, epochs=50\n"
          ]
        },
        {
          "output_type": "stream",
          "name": "stderr",
          "text": [
            "\r 17%|█▋        | 12/72 [11:08<1:01:41, 61.69s/it]"
          ]
        },
        {
          "output_type": "stream",
          "name": "stdout",
          "text": [
            "   RMSE: 0.0173\n",
            "\n",
            "13/72 - n_steps=30, units=100, optimizer=RMSprop, batch_size=16, epochs=30\n"
          ]
        },
        {
          "output_type": "stream",
          "name": "stderr",
          "text": [
            "\r 18%|█▊        | 13/72 [12:10<1:00:54, 61.94s/it]"
          ]
        },
        {
          "output_type": "stream",
          "name": "stdout",
          "text": [
            "   RMSE: 0.0187\n",
            "\n",
            "14/72 - n_steps=30, units=100, optimizer=RMSprop, batch_size=16, epochs=50\n"
          ]
        },
        {
          "output_type": "stream",
          "name": "stderr",
          "text": [
            "\r 19%|█▉        | 14/72 [13:53<1:11:46, 74.25s/it]"
          ]
        },
        {
          "output_type": "stream",
          "name": "stdout",
          "text": [
            "   RMSE: 0.0175\n",
            "\n",
            "15/72 - n_steps=30, units=100, optimizer=RMSprop, batch_size=32, epochs=30\n"
          ]
        },
        {
          "output_type": "stream",
          "name": "stderr",
          "text": [
            "\r 21%|██        | 15/72 [14:30<1:00:00, 63.17s/it]"
          ]
        },
        {
          "output_type": "stream",
          "name": "stdout",
          "text": [
            "   RMSE: 0.0178\n",
            "\n",
            "16/72 - n_steps=30, units=100, optimizer=RMSprop, batch_size=32, epochs=50\n"
          ]
        },
        {
          "output_type": "stream",
          "name": "stderr",
          "text": [
            "\r 22%|██▏       | 16/72 [15:31<58:20, 62.51s/it]  "
          ]
        },
        {
          "output_type": "stream",
          "name": "stdout",
          "text": [
            "   RMSE: 0.0166\n",
            "\n",
            "17/72 - n_steps=30, units=125, optimizer=adam, batch_size=16, epochs=30\n"
          ]
        },
        {
          "output_type": "stream",
          "name": "stderr",
          "text": [
            "\r 24%|██▎       | 17/72 [16:35<57:29, 62.72s/it]"
          ]
        },
        {
          "output_type": "stream",
          "name": "stdout",
          "text": [
            "   RMSE: 0.0160\n",
            "\n",
            "18/72 - n_steps=30, units=125, optimizer=adam, batch_size=16, epochs=50\n"
          ]
        },
        {
          "output_type": "stream",
          "name": "stderr",
          "text": [
            "\r 25%|██▌       | 18/72 [18:24<1:09:13, 76.91s/it]"
          ]
        },
        {
          "output_type": "stream",
          "name": "stdout",
          "text": [
            "   RMSE: 0.0146\n",
            "\n",
            "19/72 - n_steps=30, units=125, optimizer=adam, batch_size=32, epochs=30\n"
          ]
        },
        {
          "output_type": "stream",
          "name": "stderr",
          "text": [
            "\r 26%|██▋       | 19/72 [19:08<59:07, 66.92s/it]  "
          ]
        },
        {
          "output_type": "stream",
          "name": "stdout",
          "text": [
            "   RMSE: 0.0190\n",
            "\n",
            "20/72 - n_steps=30, units=125, optimizer=adam, batch_size=32, epochs=50\n"
          ]
        },
        {
          "output_type": "stream",
          "name": "stderr",
          "text": [
            "\r 28%|██▊       | 20/72 [20:20<59:14, 68.35s/it]"
          ]
        },
        {
          "output_type": "stream",
          "name": "stdout",
          "text": [
            "   RMSE: 0.0158\n",
            "\n",
            "21/72 - n_steps=30, units=125, optimizer=RMSprop, batch_size=16, epochs=30\n"
          ]
        },
        {
          "output_type": "stream",
          "name": "stderr",
          "text": [
            "\r 29%|██▉       | 21/72 [21:21<56:12, 66.13s/it]"
          ]
        },
        {
          "output_type": "stream",
          "name": "stdout",
          "text": [
            "   RMSE: 0.0173\n",
            "\n",
            "22/72 - n_steps=30, units=125, optimizer=RMSprop, batch_size=16, epochs=50\n"
          ]
        },
        {
          "output_type": "stream",
          "name": "stderr",
          "text": [
            "\r 31%|███       | 22/72 [23:14<1:06:53, 80.27s/it]"
          ]
        },
        {
          "output_type": "stream",
          "name": "stdout",
          "text": [
            "   RMSE: 0.0154\n",
            "\n",
            "23/72 - n_steps=30, units=125, optimizer=RMSprop, batch_size=32, epochs=30\n"
          ]
        },
        {
          "output_type": "stream",
          "name": "stderr",
          "text": [
            "\r 32%|███▏      | 23/72 [24:01<57:22, 70.26s/it]  "
          ]
        },
        {
          "output_type": "stream",
          "name": "stdout",
          "text": [
            "   RMSE: 0.0176\n",
            "\n",
            "24/72 - n_steps=30, units=125, optimizer=RMSprop, batch_size=32, epochs=50\n"
          ]
        },
        {
          "output_type": "stream",
          "name": "stderr",
          "text": [
            "\r 33%|███▎      | 24/72 [25:11<56:04, 70.09s/it]"
          ]
        },
        {
          "output_type": "stream",
          "name": "stdout",
          "text": [
            "   RMSE: 0.0165\n",
            "\n",
            "25/72 - n_steps=45, units=50, optimizer=adam, batch_size=16, epochs=30\n"
          ]
        },
        {
          "output_type": "stream",
          "name": "stderr",
          "text": [
            "\r 35%|███▍      | 25/72 [26:16<53:43, 68.58s/it]"
          ]
        },
        {
          "output_type": "stream",
          "name": "stdout",
          "text": [
            "   RMSE: 0.0165\n",
            "\n",
            "26/72 - n_steps=45, units=50, optimizer=adam, batch_size=16, epochs=50\n"
          ]
        },
        {
          "output_type": "stream",
          "name": "stderr",
          "text": [
            "\r 36%|███▌      | 26/72 [28:09<1:02:54, 82.05s/it]"
          ]
        },
        {
          "output_type": "stream",
          "name": "stdout",
          "text": [
            "   RMSE: 0.0155\n",
            "\n",
            "27/72 - n_steps=45, units=50, optimizer=adam, batch_size=32, epochs=30\n"
          ]
        },
        {
          "output_type": "stream",
          "name": "stderr",
          "text": [
            "\r 38%|███▊      | 27/72 [28:48<51:42, 68.94s/it]  "
          ]
        },
        {
          "output_type": "stream",
          "name": "stdout",
          "text": [
            "   RMSE: 0.0181\n",
            "\n",
            "28/72 - n_steps=45, units=50, optimizer=adam, batch_size=32, epochs=50\n"
          ]
        },
        {
          "output_type": "stream",
          "name": "stderr",
          "text": [
            "\r 39%|███▉      | 28/72 [29:50<49:06, 66.96s/it]"
          ]
        },
        {
          "output_type": "stream",
          "name": "stdout",
          "text": [
            "   RMSE: 0.0170\n",
            "\n",
            "29/72 - n_steps=45, units=50, optimizer=RMSprop, batch_size=16, epochs=30\n"
          ]
        },
        {
          "output_type": "stream",
          "name": "stderr",
          "text": [
            "\r 40%|████      | 29/72 [30:52<46:50, 65.36s/it]"
          ]
        },
        {
          "output_type": "stream",
          "name": "stdout",
          "text": [
            "   RMSE: 0.0164\n",
            "\n",
            "30/72 - n_steps=45, units=50, optimizer=RMSprop, batch_size=16, epochs=50\n"
          ]
        },
        {
          "output_type": "stream",
          "name": "stderr",
          "text": [
            "\r 42%|████▏     | 30/72 [32:41<55:00, 78.59s/it]"
          ]
        },
        {
          "output_type": "stream",
          "name": "stdout",
          "text": [
            "   RMSE: 0.0155\n",
            "\n",
            "31/72 - n_steps=45, units=50, optimizer=RMSprop, batch_size=32, epochs=30\n"
          ]
        },
        {
          "output_type": "stream",
          "name": "stderr",
          "text": [
            "\r 43%|████▎     | 31/72 [33:23<46:15, 67.70s/it]"
          ]
        },
        {
          "output_type": "stream",
          "name": "stdout",
          "text": [
            "   RMSE: 0.0218\n",
            "\n",
            "32/72 - n_steps=45, units=50, optimizer=RMSprop, batch_size=32, epochs=50\n"
          ]
        },
        {
          "output_type": "stream",
          "name": "stderr",
          "text": [
            "\r 44%|████▍     | 32/72 [34:28<44:32, 66.81s/it]"
          ]
        },
        {
          "output_type": "stream",
          "name": "stdout",
          "text": [
            "   RMSE: 0.0200\n",
            "\n",
            "33/72 - n_steps=45, units=100, optimizer=adam, batch_size=16, epochs=30\n"
          ]
        },
        {
          "output_type": "stream",
          "name": "stderr",
          "text": [
            "\r 46%|████▌     | 33/72 [35:55<47:22, 72.87s/it]"
          ]
        },
        {
          "output_type": "stream",
          "name": "stdout",
          "text": [
            "   RMSE: 0.0161\n",
            "\n",
            "34/72 - n_steps=45, units=100, optimizer=adam, batch_size=16, epochs=50\n"
          ]
        },
        {
          "output_type": "stream",
          "name": "stderr",
          "text": [
            "\r 47%|████▋     | 34/72 [38:02<56:27, 89.15s/it]"
          ]
        },
        {
          "output_type": "stream",
          "name": "stdout",
          "text": [
            "   RMSE: 0.0148\n",
            "\n",
            "35/72 - n_steps=45, units=100, optimizer=adam, batch_size=32, epochs=30\n"
          ]
        },
        {
          "output_type": "stream",
          "name": "stderr",
          "text": [
            "\r 49%|████▊     | 35/72 [39:02<49:33, 80.36s/it]"
          ]
        },
        {
          "output_type": "stream",
          "name": "stdout",
          "text": [
            "   RMSE: 0.0191\n",
            "\n",
            "36/72 - n_steps=45, units=100, optimizer=adam, batch_size=32, epochs=50\n"
          ]
        },
        {
          "output_type": "stream",
          "name": "stderr",
          "text": [
            "\r 50%|█████     | 36/72 [40:27<49:00, 81.69s/it]"
          ]
        },
        {
          "output_type": "stream",
          "name": "stdout",
          "text": [
            "   RMSE: 0.0171\n",
            "\n",
            "37/72 - n_steps=45, units=100, optimizer=RMSprop, batch_size=16, epochs=30\n"
          ]
        },
        {
          "output_type": "stream",
          "name": "stderr",
          "text": [
            "\r 51%|█████▏    | 37/72 [41:43<46:36, 79.91s/it]"
          ]
        },
        {
          "output_type": "stream",
          "name": "stdout",
          "text": [
            "   RMSE: 0.0163\n",
            "\n",
            "38/72 - n_steps=45, units=100, optimizer=RMSprop, batch_size=16, epochs=50\n"
          ]
        },
        {
          "output_type": "stream",
          "name": "stderr",
          "text": [
            "\r 53%|█████▎    | 38/72 [43:53<53:53, 95.10s/it]"
          ]
        },
        {
          "output_type": "stream",
          "name": "stdout",
          "text": [
            "   RMSE: 0.0155\n",
            "\n",
            "39/72 - n_steps=45, units=100, optimizer=RMSprop, batch_size=32, epochs=30\n"
          ]
        },
        {
          "output_type": "stream",
          "name": "stderr",
          "text": [
            "\r 54%|█████▍    | 39/72 [44:39<44:16, 80.49s/it]"
          ]
        },
        {
          "output_type": "stream",
          "name": "stdout",
          "text": [
            "   RMSE: 0.0235\n",
            "\n",
            "40/72 - n_steps=45, units=100, optimizer=RMSprop, batch_size=32, epochs=50\n"
          ]
        },
        {
          "output_type": "stream",
          "name": "stderr",
          "text": [
            "\r 56%|█████▌    | 40/72 [45:57<42:26, 79.57s/it]"
          ]
        },
        {
          "output_type": "stream",
          "name": "stdout",
          "text": [
            "   RMSE: 0.0212\n",
            "\n",
            "41/72 - n_steps=45, units=125, optimizer=adam, batch_size=16, epochs=30\n"
          ]
        },
        {
          "output_type": "stream",
          "name": "stderr",
          "text": [
            "\r 57%|█████▋    | 41/72 [47:28<42:54, 83.06s/it]"
          ]
        },
        {
          "output_type": "stream",
          "name": "stdout",
          "text": [
            "   RMSE: 0.0157\n",
            "\n",
            "42/72 - n_steps=45, units=125, optimizer=adam, batch_size=16, epochs=50\n"
          ]
        },
        {
          "output_type": "stream",
          "name": "stderr",
          "text": [
            "\r 58%|█████▊    | 42/72 [50:03<52:16, 104.55s/it]"
          ]
        },
        {
          "output_type": "stream",
          "name": "stdout",
          "text": [
            "   RMSE: 0.0145\n",
            "\n",
            "43/72 - n_steps=45, units=125, optimizer=adam, batch_size=32, epochs=30\n"
          ]
        },
        {
          "output_type": "stream",
          "name": "stderr",
          "text": [
            "\r 60%|█████▉    | 43/72 [51:20<46:32, 96.30s/it] "
          ]
        },
        {
          "output_type": "stream",
          "name": "stdout",
          "text": [
            "   RMSE: 0.0189\n",
            "\n",
            "44/72 - n_steps=45, units=125, optimizer=adam, batch_size=32, epochs=50\n"
          ]
        },
        {
          "output_type": "stream",
          "name": "stderr",
          "text": [
            "\r 61%|██████    | 44/72 [53:13<47:22, 101.50s/it]"
          ]
        },
        {
          "output_type": "stream",
          "name": "stdout",
          "text": [
            "   RMSE: 0.0164\n",
            "\n",
            "45/72 - n_steps=45, units=125, optimizer=RMSprop, batch_size=16, epochs=30\n"
          ]
        },
        {
          "output_type": "stream",
          "name": "stderr",
          "text": [
            "\r 62%|██████▎   | 45/72 [54:46<44:30, 98.92s/it] "
          ]
        },
        {
          "output_type": "stream",
          "name": "stdout",
          "text": [
            "   RMSE: 0.0162\n",
            "\n",
            "46/72 - n_steps=45, units=125, optimizer=RMSprop, batch_size=16, epochs=50\n"
          ]
        },
        {
          "output_type": "stream",
          "name": "stderr",
          "text": [
            "\r 64%|██████▍   | 46/72 [57:15<49:20, 113.86s/it]"
          ]
        },
        {
          "output_type": "stream",
          "name": "stdout",
          "text": [
            "   RMSE: 0.0154\n",
            "\n",
            "47/72 - n_steps=45, units=125, optimizer=RMSprop, batch_size=32, epochs=30\n"
          ]
        },
        {
          "output_type": "stream",
          "name": "stderr",
          "text": [
            "\r 65%|██████▌   | 47/72 [58:32<42:46, 102.64s/it]"
          ]
        },
        {
          "output_type": "stream",
          "name": "stdout",
          "text": [
            "   RMSE: 0.0246\n",
            "\n",
            "48/72 - n_steps=45, units=125, optimizer=RMSprop, batch_size=32, epochs=50\n"
          ]
        },
        {
          "output_type": "stream",
          "name": "stderr",
          "text": [
            "\r 67%|██████▋   | 48/72 [1:00:37<43:45, 109.41s/it]"
          ]
        },
        {
          "output_type": "stream",
          "name": "stdout",
          "text": [
            "   RMSE: 0.0220\n",
            "\n",
            "49/72 - n_steps=60, units=50, optimizer=adam, batch_size=16, epochs=30\n"
          ]
        },
        {
          "output_type": "stream",
          "name": "stderr",
          "text": [
            "\r 68%|██████▊   | 49/72 [1:01:55<38:24, 100.18s/it]"
          ]
        },
        {
          "output_type": "stream",
          "name": "stdout",
          "text": [
            "   RMSE: 0.0161\n",
            "\n",
            "50/72 - n_steps=60, units=50, optimizer=adam, batch_size=16, epochs=50\n"
          ]
        },
        {
          "output_type": "stream",
          "name": "stderr",
          "text": [
            "\r 69%|██████▉   | 50/72 [1:03:59<39:18, 107.20s/it]"
          ]
        },
        {
          "output_type": "stream",
          "name": "stdout",
          "text": [
            "   RMSE: 0.0156\n",
            "\n",
            "51/72 - n_steps=60, units=50, optimizer=adam, batch_size=32, epochs=30\n"
          ]
        },
        {
          "output_type": "stream",
          "name": "stderr",
          "text": [
            "\r 71%|███████   | 51/72 [1:04:44<31:02, 88.67s/it] "
          ]
        },
        {
          "output_type": "stream",
          "name": "stdout",
          "text": [
            "   RMSE: 0.0181\n",
            "\n",
            "52/72 - n_steps=60, units=50, optimizer=adam, batch_size=32, epochs=50\n"
          ]
        },
        {
          "output_type": "stream",
          "name": "stderr",
          "text": [
            "\r 72%|███████▏  | 52/72 [1:05:58<28:02, 84.10s/it]"
          ]
        },
        {
          "output_type": "stream",
          "name": "stdout",
          "text": [
            "   RMSE: 0.0170\n",
            "\n",
            "53/72 - n_steps=60, units=50, optimizer=RMSprop, batch_size=16, epochs=30\n"
          ]
        },
        {
          "output_type": "stream",
          "name": "stderr",
          "text": [
            "\r 74%|███████▎  | 53/72 [1:07:31<27:26, 86.68s/it]"
          ]
        },
        {
          "output_type": "stream",
          "name": "stdout",
          "text": [
            "   RMSE: 0.0333\n",
            "\n",
            "54/72 - n_steps=60, units=50, optimizer=RMSprop, batch_size=16, epochs=50\n"
          ]
        },
        {
          "output_type": "stream",
          "name": "stderr",
          "text": [
            "\r 75%|███████▌  | 54/72 [1:09:58<31:30, 105.02s/it]"
          ]
        },
        {
          "output_type": "stream",
          "name": "stdout",
          "text": [
            "   RMSE: 0.0254\n",
            "\n",
            "55/72 - n_steps=60, units=50, optimizer=RMSprop, batch_size=32, epochs=30\n"
          ]
        },
        {
          "output_type": "stream",
          "name": "stderr",
          "text": [
            "\r 76%|███████▋  | 55/72 [1:11:04<26:22, 93.09s/it] "
          ]
        },
        {
          "output_type": "stream",
          "name": "stdout",
          "text": [
            "   RMSE: 0.0329\n",
            "\n",
            "56/72 - n_steps=60, units=50, optimizer=RMSprop, batch_size=32, epochs=50\n"
          ]
        },
        {
          "output_type": "stream",
          "name": "stderr",
          "text": [
            "\r 78%|███████▊  | 56/72 [1:12:20<23:27, 87.95s/it]"
          ]
        },
        {
          "output_type": "stream",
          "name": "stdout",
          "text": [
            "   RMSE: 0.0288\n",
            "\n",
            "57/72 - n_steps=60, units=100, optimizer=adam, batch_size=16, epochs=30\n"
          ]
        },
        {
          "output_type": "stream",
          "name": "stderr",
          "text": [
            "\r 79%|███████▉  | 57/72 [1:14:22<24:36, 98.44s/it]"
          ]
        },
        {
          "output_type": "stream",
          "name": "stdout",
          "text": [
            "   RMSE: 0.0165\n",
            "\n",
            "58/72 - n_steps=60, units=100, optimizer=adam, batch_size=16, epochs=50\n"
          ]
        },
        {
          "output_type": "stream",
          "name": "stderr",
          "text": [
            "\r 81%|████████  | 58/72 [1:17:44<30:10, 129.30s/it]"
          ]
        },
        {
          "output_type": "stream",
          "name": "stdout",
          "text": [
            "   RMSE: 0.0147\n",
            "\n",
            "59/72 - n_steps=60, units=100, optimizer=adam, batch_size=32, epochs=30\n"
          ]
        },
        {
          "output_type": "stream",
          "name": "stderr",
          "text": [
            "\r 82%|████████▏ | 59/72 [1:18:56<24:16, 112.03s/it]"
          ]
        },
        {
          "output_type": "stream",
          "name": "stdout",
          "text": [
            "   RMSE: 0.0180\n",
            "\n",
            "60/72 - n_steps=60, units=100, optimizer=adam, batch_size=32, epochs=50\n"
          ]
        },
        {
          "output_type": "stream",
          "name": "stderr",
          "text": [
            "\r 83%|████████▎ | 60/72 [1:20:48<22:27, 112.29s/it]"
          ]
        },
        {
          "output_type": "stream",
          "name": "stdout",
          "text": [
            "   RMSE: 0.0167\n",
            "\n",
            "61/72 - n_steps=60, units=100, optimizer=RMSprop, batch_size=16, epochs=30\n"
          ]
        },
        {
          "output_type": "stream",
          "name": "stderr",
          "text": [
            "\r 85%|████████▍ | 61/72 [1:22:29<19:55, 108.71s/it]"
          ]
        },
        {
          "output_type": "stream",
          "name": "stdout",
          "text": [
            "   RMSE: 0.0283\n",
            "\n",
            "62/72 - n_steps=60, units=100, optimizer=RMSprop, batch_size=16, epochs=50\n"
          ]
        },
        {
          "output_type": "stream",
          "name": "stderr",
          "text": [
            "\r 86%|████████▌ | 62/72 [1:25:05<20:29, 122.98s/it]"
          ]
        },
        {
          "output_type": "stream",
          "name": "stdout",
          "text": [
            "   RMSE: 0.0244\n",
            "\n",
            "63/72 - n_steps=60, units=100, optimizer=RMSprop, batch_size=32, epochs=30\n"
          ]
        },
        {
          "output_type": "stream",
          "name": "stderr",
          "text": [
            "\r 88%|████████▊ | 63/72 [1:26:13<15:57, 106.36s/it]"
          ]
        },
        {
          "output_type": "stream",
          "name": "stdout",
          "text": [
            "   RMSE: 0.0337\n",
            "\n",
            "64/72 - n_steps=60, units=100, optimizer=RMSprop, batch_size=32, epochs=50\n"
          ]
        },
        {
          "output_type": "stream",
          "name": "stderr",
          "text": [
            "\r 89%|████████▉ | 64/72 [1:28:07<14:31, 108.88s/it]"
          ]
        },
        {
          "output_type": "stream",
          "name": "stdout",
          "text": [
            "   RMSE: 0.0290\n",
            "\n",
            "65/72 - n_steps=60, units=125, optimizer=adam, batch_size=16, epochs=30\n"
          ]
        },
        {
          "output_type": "stream",
          "name": "stderr",
          "text": [
            "\r 90%|█████████ | 65/72 [1:30:24<13:40, 117.26s/it]"
          ]
        },
        {
          "output_type": "stream",
          "name": "stdout",
          "text": [
            "   RMSE: 0.0158\n",
            "\n",
            "66/72 - n_steps=60, units=125, optimizer=adam, batch_size=16, epochs=50\n"
          ]
        },
        {
          "output_type": "stream",
          "name": "stderr",
          "text": [
            "\r 92%|█████████▏| 66/72 [1:34:02<14:44, 147.39s/it]"
          ]
        },
        {
          "output_type": "stream",
          "name": "stdout",
          "text": [
            "   RMSE: 0.0143\n",
            "\n",
            "67/72 - n_steps=60, units=125, optimizer=adam, batch_size=32, epochs=30\n"
          ]
        },
        {
          "output_type": "stream",
          "name": "stderr",
          "text": [
            "\r 93%|█████████▎| 67/72 [1:35:31<10:49, 129.84s/it]"
          ]
        },
        {
          "output_type": "stream",
          "name": "stdout",
          "text": [
            "   RMSE: 0.0174\n",
            "\n",
            "68/72 - n_steps=60, units=125, optimizer=adam, batch_size=32, epochs=50\n"
          ]
        },
        {
          "output_type": "stream",
          "name": "stderr",
          "text": [
            "\r 94%|█████████▍| 68/72 [1:37:56<08:57, 134.38s/it]"
          ]
        },
        {
          "output_type": "stream",
          "name": "stdout",
          "text": [
            "   RMSE: 0.0167\n",
            "\n",
            "69/72 - n_steps=60, units=125, optimizer=RMSprop, batch_size=16, epochs=30\n"
          ]
        },
        {
          "output_type": "stream",
          "name": "stderr",
          "text": [
            "\r 96%|█████████▌| 69/72 [1:40:17<06:49, 136.57s/it]"
          ]
        },
        {
          "output_type": "stream",
          "name": "stdout",
          "text": [
            "   RMSE: 0.0272\n",
            "\n",
            "70/72 - n_steps=60, units=125, optimizer=RMSprop, batch_size=16, epochs=50\n"
          ]
        },
        {
          "output_type": "stream",
          "name": "stderr",
          "text": [
            "\r 97%|█████████▋| 70/72 [1:44:09<05:30, 165.19s/it]"
          ]
        },
        {
          "output_type": "stream",
          "name": "stdout",
          "text": [
            "   RMSE: 0.0244\n",
            "\n",
            "71/72 - n_steps=60, units=125, optimizer=RMSprop, batch_size=32, epochs=30\n"
          ]
        },
        {
          "output_type": "stream",
          "name": "stderr",
          "text": [
            "\r 99%|█████████▊| 71/72 [1:45:41<02:23, 143.02s/it]"
          ]
        },
        {
          "output_type": "stream",
          "name": "stdout",
          "text": [
            "   RMSE: 0.0340\n",
            "\n",
            "72/72 - n_steps=60, units=125, optimizer=RMSprop, batch_size=32, epochs=50\n"
          ]
        },
        {
          "output_type": "stream",
          "name": "stderr",
          "text": [
            "100%|██████████| 72/72 [1:48:04<00:00, 90.07s/it] "
          ]
        },
        {
          "output_type": "stream",
          "name": "stdout",
          "text": [
            "   RMSE: 0.0291\n"
          ]
        },
        {
          "output_type": "stream",
          "name": "stderr",
          "text": [
            "\n"
          ]
        },
        {
          "output_type": "display_data",
          "data": {
            "text/plain": [
              "<Figure size 640x480 with 1 Axes>"
            ],
            "image/png": "[encoded data removed]"
          },
          "metadata": {}
        },
        {
          "output_type": "stream",
          "name": "stdout",
          "text": [
            "The root mean squared error is 106.02.\n",
            "\n",
            "Mejores hiperparámetros GRU encontrados:\n",
            "n_steps=60, units=125, optimizer=adam, batch_size=16, epochs=50\n"
          ]
        }
      ],
      "source": [
        "from sklearn.metrics import mean_squared_error\n",
        "from tqdm import tqdm\n",
        "import random\n",
        "\n",
        "param_grid = {\n",
        "    'n_steps': [30, 45, 60],\n",
        "    'units': [50, 100, 125],\n",
        "    'optimizer': ['adam', 'RMSprop'],\n",
        "    'batch_size': [16, 32],\n",
        "    'epochs': [30, 50]\n",
        "}\n",
        "\n",
        "best_rmse = float(\"inf\")\n",
        "best_params = None\n",
        "best_model = None\n",
        "\n",
        "combinations = [\n",
        "    (n, u, o, b, e)\n",
        "    for n in param_grid['n_steps']\n",
        "    for u in param_grid['units']\n",
        "    for o in param_grid['optimizer']\n",
        "    for b in param_grid['batch_size']\n",
        "    for e in param_grid['epochs']\n",
        "]\n",
        "\n",
        "print(f\"\\nProbando {len(combinations)} combinaciones...\\n\")\n",
        "\n",
        "for i, (n_steps, units, optimizer, batch_size, epochs) in enumerate(tqdm(combinations), 1):\n",
        "    print(f\"\\n{i}/{len(combinations)} - n_steps={n_steps}, units={units}, optimizer={optimizer}, batch_size={batch_size}, epochs={epochs}\")\n",
        "\n",
        "    # Generar nuevas secuencias para cada n_steps\n",
        "    X_train_tmp, y_train_tmp = split_sequence(training_set_scaled, n_steps)\n",
        "    X_train_tmp = X_train_tmp.reshape(X_train_tmp.shape[0], X_train_tmp.shape[1], features)\n",
        "\n",
        "    model = build_and_train_gru_model(units, optimizer, batch_size, epochs, n_steps, X_train_tmp, y_train_tmp)\n",
        "    predictions = model.predict(X_train_tmp, verbose=0)\n",
        "    rmse = np.sqrt(mean_squared_error(y_train_tmp, predictions))\n",
        "    print(f\"   RMSE: {rmse:.4f}\")\n",
        "\n",
        "    if rmse < best_rmse:\n",
        "        best_rmse = rmse\n",
        "        best_params = (n_steps, units, optimizer, batch_size, epochs)\n",
        "        best_model = model\n",
        "\n",
        "plot_predictions(test_set, predicted_stock_price)\n",
        "return_rmse(test_set, predicted_stock_price)\n",
        "\n",
        "print(\"\\nMejores hiperparámetros GRU encontrados:\")\n",
        "print(f\"n_steps={best_params[0]}, units={best_params[1]}, optimizer={best_params[2]}, batch_size={best_params[3]}, epochs={best_params[4]}\")\n"
      ]
    },
    {
      "cell_type": "code",
      "execution_count": 23,
      "metadata": {
        "id": "9sH0RDBQtMqT"
      },
      "outputs": [],
      "source": [
        "best_n_steps = best_params[0]\n",
        "\n",
        "inputs = dataset_total[len(dataset_total) - len(test_set) - best_n_steps:].values\n",
        "inputs = inputs.reshape(-1, 1)\n",
        "inputs = sc.transform(inputs)\n",
        "\n",
        "X_test, y_test = split_sequence(inputs, best_n_steps)\n",
        "X_test = X_test.reshape(X_test.shape[0], X_test.shape[1], features)\n"
      ]
    },
    {
      "cell_type": "markdown",
      "metadata": {
        "id": "ODBAh2Y-BMN2"
      },
      "source": [
        "## Usando la API"
      ]
    },
    {
      "cell_type": "code",
      "execution_count": 25,
      "metadata": {
        "id": "g09HfYdgtYMi",
        "colab": {
          "base_uri": "https://localhost:8080/",
          "height": 238
        },
        "outputId": "a874e8dc-6dc6-4a65-959b-fe343b029bfc"
      },
      "outputs": [
        {
          "output_type": "display_data",
          "data": {
            "text/plain": [
              "\u001b[1mModel: \"functional_144\"\u001b[0m\n"
            ],
            "text/html": [
              "<pre style=\"white-space:pre;overflow-x:auto;line-height:normal;font-family:Menlo,'DejaVu Sans Mono',consolas,'Courier New',monospace\"><span style=\"font-weight: bold\">Model: \"functional_144\"</span>\n",
              "</pre>\n"
            ]
          },
          "metadata": {}
        },
        {
          "output_type": "display_data",
          "data": {
            "text/plain": [
              "┏━━━━━━━━━━━━━━━━━━━━━━━━━━━━━━━━━━━━━━┳━━━━━━━━━━━━━━━━━━━━━━━━━━━━━┳━━━━━━━━━━━━━━━━━┓\n",
              "┃\u001b[1m \u001b[0m\u001b[1mLayer (type)                        \u001b[0m\u001b[1m \u001b[0m┃\u001b[1m \u001b[0m\u001b[1mOutput Shape               \u001b[0m\u001b[1m \u001b[0m┃\u001b[1m \u001b[0m\u001b[1m        Param #\u001b[0m\u001b[1m \u001b[0m┃\n",
              "┡━━━━━━━━━━━━━━━━━━━━━━━━━━━━━━━━━━━━━━╇━━━━━━━━━━━━━━━━━━━━━━━━━━━━━╇━━━━━━━━━━━━━━━━━┩\n",
              "│ input_layer_144 (\u001b[38;5;33mInputLayer\u001b[0m)         │ (\u001b[38;5;45mNone\u001b[0m, \u001b[38;5;34m60\u001b[0m, \u001b[38;5;34m1\u001b[0m)               │               \u001b[38;5;34m0\u001b[0m │\n",
              "├──────────────────────────────────────┼─────────────────────────────┼─────────────────┤\n",
              "│ lstm_72 (\u001b[38;5;33mLSTM\u001b[0m)                       │ (\u001b[38;5;45mNone\u001b[0m, \u001b[38;5;34m100\u001b[0m)                 │          \u001b[38;5;34m40,800\u001b[0m │\n",
              "├──────────────────────────────────────┼─────────────────────────────┼─────────────────┤\n",
              "│ dense_144 (\u001b[38;5;33mDense\u001b[0m)                    │ (\u001b[38;5;45mNone\u001b[0m, \u001b[38;5;34m1\u001b[0m)                   │             \u001b[38;5;34m101\u001b[0m │\n",
              "└──────────────────────────────────────┴─────────────────────────────┴─────────────────┘\n"
            ],
            "text/html": [
              "<pre style=\"white-space:pre;overflow-x:auto;line-height:normal;font-family:Menlo,'DejaVu Sans Mono',consolas,'Courier New',monospace\">┏━━━━━━━━━━━━━━━━━━━━━━━━━━━━━━━━━━━━━━┳━━━━━━━━━━━━━━━━━━━━━━━━━━━━━┳━━━━━━━━━━━━━━━━━┓\n",
              "┃<span style=\"font-weight: bold\"> Layer (type)                         </span>┃<span style=\"font-weight: bold\"> Output Shape                </span>┃<span style=\"font-weight: bold\">         Param # </span>┃\n",
              "┡━━━━━━━━━━━━━━━━━━━━━━━━━━━━━━━━━━━━━━╇━━━━━━━━━━━━━━━━━━━━━━━━━━━━━╇━━━━━━━━━━━━━━━━━┩\n",
              "│ input_layer_144 (<span style=\"color: #0087ff; text-decoration-color: #0087ff\">InputLayer</span>)         │ (<span style=\"color: #00d7ff; text-decoration-color: #00d7ff\">None</span>, <span style=\"color: #00af00; text-decoration-color: #00af00\">60</span>, <span style=\"color: #00af00; text-decoration-color: #00af00\">1</span>)               │               <span style=\"color: #00af00; text-decoration-color: #00af00\">0</span> │\n",
              "├──────────────────────────────────────┼─────────────────────────────┼─────────────────┤\n",
              "│ lstm_72 (<span style=\"color: #0087ff; text-decoration-color: #0087ff\">LSTM</span>)                       │ (<span style=\"color: #00d7ff; text-decoration-color: #00d7ff\">None</span>, <span style=\"color: #00af00; text-decoration-color: #00af00\">100</span>)                 │          <span style=\"color: #00af00; text-decoration-color: #00af00\">40,800</span> │\n",
              "├──────────────────────────────────────┼─────────────────────────────┼─────────────────┤\n",
              "│ dense_144 (<span style=\"color: #0087ff; text-decoration-color: #0087ff\">Dense</span>)                    │ (<span style=\"color: #00d7ff; text-decoration-color: #00d7ff\">None</span>, <span style=\"color: #00af00; text-decoration-color: #00af00\">1</span>)                   │             <span style=\"color: #00af00; text-decoration-color: #00af00\">101</span> │\n",
              "└──────────────────────────────────────┴─────────────────────────────┴─────────────────┘\n",
              "</pre>\n"
            ]
          },
          "metadata": {}
        },
        {
          "output_type": "display_data",
          "data": {
            "text/plain": [
              "\u001b[1m Total params: \u001b[0m\u001b[38;5;34m40,901\u001b[0m (159.77 KB)\n"
            ],
            "text/html": [
              "<pre style=\"white-space:pre;overflow-x:auto;line-height:normal;font-family:Menlo,'DejaVu Sans Mono',consolas,'Courier New',monospace\"><span style=\"font-weight: bold\"> Total params: </span><span style=\"color: #00af00; text-decoration-color: #00af00\">40,901</span> (159.77 KB)\n",
              "</pre>\n"
            ]
          },
          "metadata": {}
        },
        {
          "output_type": "display_data",
          "data": {
            "text/plain": [
              "\u001b[1m Trainable params: \u001b[0m\u001b[38;5;34m40,901\u001b[0m (159.77 KB)\n"
            ],
            "text/html": [
              "<pre style=\"white-space:pre;overflow-x:auto;line-height:normal;font-family:Menlo,'DejaVu Sans Mono',consolas,'Courier New',monospace\"><span style=\"font-weight: bold\"> Trainable params: </span><span style=\"color: #00af00; text-decoration-color: #00af00\">40,901</span> (159.77 KB)\n",
              "</pre>\n"
            ]
          },
          "metadata": {}
        },
        {
          "output_type": "display_data",
          "data": {
            "text/plain": [
              "\u001b[1m Non-trainable params: \u001b[0m\u001b[38;5;34m0\u001b[0m (0.00 B)\n"
            ],
            "text/html": [
              "<pre style=\"white-space:pre;overflow-x:auto;line-height:normal;font-family:Menlo,'DejaVu Sans Mono',consolas,'Courier New',monospace\"><span style=\"font-weight: bold\"> Non-trainable params: </span><span style=\"color: #00af00; text-decoration-color: #00af00\">0</span> (0.00 B)\n",
              "</pre>\n"
            ]
          },
          "metadata": {}
        }
      ],
      "source": [
        "from tensorflow import keras\n",
        "from tensorflow.keras import layers\n",
        "import random\n",
        "\n",
        "# Semillas fijas para reproducibilidad\n",
        "np.random.seed(455)\n",
        "tf.random.set_seed(455)\n",
        "random.seed(455)\n",
        "\n",
        "# Mejores hiperparámetros encontrados\n",
        "best_units = 100\n",
        "best_optimizer = 'adam'\n",
        "best_batch_size = 16\n",
        "best_epochs = 50\n",
        "\n",
        "# Definir la entrada\n",
        "inputs = keras.Input(shape=(n_steps, features))\n",
        "\n",
        "# Capa LSTM\n",
        "x = layers.LSTM(units=best_units, activation=\"tanh\")(inputs)\n",
        "\n",
        "# Capa de salida\n",
        "outputs = layers.Dense(units=1)(x)\n",
        "\n",
        "# Crear modelo\n",
        "model_lstm = keras.Model(inputs=inputs, outputs=outputs)\n",
        "\n",
        "# Compilar modelo\n",
        "model_lstm.compile(optimizer=best_optimizer, loss=\"mse\")\n",
        "\n",
        "# Mostrar resumen\n",
        "model_lstm.summary()"
      ]
    },
    {
      "cell_type": "code",
      "execution_count": 26,
      "metadata": {
        "id": "I1SX-FZiB_Yp",
        "colab": {
          "base_uri": "https://localhost:8080/"
        },
        "outputId": "feeef852-e175-467d-fc1d-3eaab73ce902"
      },
      "outputs": [
        {
          "output_type": "stream",
          "name": "stdout",
          "text": [
            "Epoch 1/50\n",
            "\u001b[1m73/73\u001b[0m \u001b[32m━━━━━━━━━━━━━━━━━━━━\u001b[0m\u001b[37m\u001b[0m \u001b[1m5s\u001b[0m 28ms/step - loss: 0.0736\n",
            "Epoch 2/50\n",
            "\u001b[1m73/73\u001b[0m \u001b[32m━━━━━━━━━━━━━━━━━━━━\u001b[0m\u001b[37m\u001b[0m \u001b[1m3s\u001b[0m 28ms/step - loss: 0.0014\n",
            "Epoch 3/50\n",
            "\u001b[1m73/73\u001b[0m \u001b[32m━━━━━━━━━━━━━━━━━━━━\u001b[0m\u001b[37m\u001b[0m \u001b[1m2s\u001b[0m 28ms/step - loss: 0.0012\n",
            "Epoch 4/50\n",
            "\u001b[1m73/73\u001b[0m \u001b[32m━━━━━━━━━━━━━━━━━━━━\u001b[0m\u001b[37m\u001b[0m \u001b[1m3s\u001b[0m 28ms/step - loss: 0.0011\n",
            "Epoch 5/50\n",
            "\u001b[1m73/73\u001b[0m \u001b[32m━━━━━━━━━━━━━━━━━━━━\u001b[0m\u001b[37m\u001b[0m \u001b[1m4s\u001b[0m 43ms/step - loss: 0.0011\n",
            "Epoch 6/50\n",
            "\u001b[1m73/73\u001b[0m \u001b[32m━━━━━━━━━━━━━━━━━━━━\u001b[0m\u001b[37m\u001b[0m \u001b[1m4s\u001b[0m 28ms/step - loss: 0.0011\n",
            "Epoch 7/50\n",
            "\u001b[1m73/73\u001b[0m \u001b[32m━━━━━━━━━━━━━━━━━━━━\u001b[0m\u001b[37m\u001b[0m \u001b[1m3s\u001b[0m 28ms/step - loss: 0.0010\n",
            "Epoch 8/50\n",
            "\u001b[1m73/73\u001b[0m \u001b[32m━━━━━━━━━━━━━━━━━━━━\u001b[0m\u001b[37m\u001b[0m \u001b[1m2s\u001b[0m 30ms/step - loss: 9.6273e-04\n",
            "Epoch 9/50\n",
            "\u001b[1m73/73\u001b[0m \u001b[32m━━━━━━━━━━━━━━━━━━━━\u001b[0m\u001b[37m\u001b[0m \u001b[1m3s\u001b[0m 39ms/step - loss: 9.1384e-04\n",
            "Epoch 10/50\n",
            "\u001b[1m73/73\u001b[0m \u001b[32m━━━━━━━━━━━━━━━━━━━━\u001b[0m\u001b[37m\u001b[0m \u001b[1m2s\u001b[0m 32ms/step - loss: 8.7072e-04\n",
            "Epoch 11/50\n",
            "\u001b[1m73/73\u001b[0m \u001b[32m━━━━━━━━━━━━━━━━━━━━\u001b[0m\u001b[37m\u001b[0m \u001b[1m2s\u001b[0m 28ms/step - loss: 8.3412e-04\n",
            "Epoch 12/50\n",
            "\u001b[1m73/73\u001b[0m \u001b[32m━━━━━━━━━━━━━━━━━━━━\u001b[0m\u001b[37m\u001b[0m \u001b[1m3s\u001b[0m 28ms/step - loss: 8.0341e-04\n",
            "Epoch 13/50\n",
            "\u001b[1m73/73\u001b[0m \u001b[32m━━━━━━━━━━━━━━━━━━━━\u001b[0m\u001b[37m\u001b[0m \u001b[1m2s\u001b[0m 29ms/step - loss: 7.7703e-04\n",
            "Epoch 14/50\n",
            "\u001b[1m73/73\u001b[0m \u001b[32m━━━━━━━━━━━━━━━━━━━━\u001b[0m\u001b[37m\u001b[0m \u001b[1m2s\u001b[0m 32ms/step - loss: 7.5317e-04\n",
            "Epoch 15/50\n",
            "\u001b[1m73/73\u001b[0m \u001b[32m━━━━━━━━━━━━━━━━━━━━\u001b[0m\u001b[37m\u001b[0m \u001b[1m3s\u001b[0m 37ms/step - loss: 7.3060e-04\n",
            "Epoch 16/50\n",
            "\u001b[1m73/73\u001b[0m \u001b[32m━━━━━━━━━━━━━━━━━━━━\u001b[0m\u001b[37m\u001b[0m \u001b[1m2s\u001b[0m 28ms/step - loss: 7.0880e-04\n",
            "Epoch 17/50\n",
            "\u001b[1m73/73\u001b[0m \u001b[32m━━━━━━━━━━━━━━━━━━━━\u001b[0m\u001b[37m\u001b[0m \u001b[1m2s\u001b[0m 28ms/step - loss: 6.8763e-04\n",
            "Epoch 18/50\n",
            "\u001b[1m73/73\u001b[0m \u001b[32m━━━━━━━━━━━━━━━━━━━━\u001b[0m\u001b[37m\u001b[0m \u001b[1m3s\u001b[0m 29ms/step - loss: 6.6705e-04\n",
            "Epoch 19/50\n",
            "\u001b[1m73/73\u001b[0m \u001b[32m━━━━━━━━━━━━━━━━━━━━\u001b[0m\u001b[37m\u001b[0m \u001b[1m3s\u001b[0m 30ms/step - loss: 6.4703e-04\n",
            "Epoch 20/50\n",
            "\u001b[1m73/73\u001b[0m \u001b[32m━━━━━━━━━━━━━━━━━━━━\u001b[0m\u001b[37m\u001b[0m \u001b[1m3s\u001b[0m 39ms/step - loss: 6.2762e-04\n",
            "Epoch 21/50\n",
            "\u001b[1m73/73\u001b[0m \u001b[32m━━━━━━━━━━━━━━━━━━━━\u001b[0m\u001b[37m\u001b[0m \u001b[1m2s\u001b[0m 28ms/step - loss: 6.0892e-04\n",
            "Epoch 22/50\n",
            "\u001b[1m73/73\u001b[0m \u001b[32m━━━━━━━━━━━━━━━━━━━━\u001b[0m\u001b[37m\u001b[0m \u001b[1m3s\u001b[0m 28ms/step - loss: 5.9110e-04\n",
            "Epoch 23/50\n",
            "\u001b[1m73/73\u001b[0m \u001b[32m━━━━━━━━━━━━━━━━━━━━\u001b[0m\u001b[37m\u001b[0m \u001b[1m2s\u001b[0m 28ms/step - loss: 5.7433e-04\n",
            "Epoch 24/50\n",
            "\u001b[1m73/73\u001b[0m \u001b[32m━━━━━━━━━━━━━━━━━━━━\u001b[0m\u001b[37m\u001b[0m \u001b[1m2s\u001b[0m 28ms/step - loss: 5.5870e-04\n",
            "Epoch 25/50\n",
            "\u001b[1m73/73\u001b[0m \u001b[32m━━━━━━━━━━━━━━━━━━━━\u001b[0m\u001b[37m\u001b[0m \u001b[1m4s\u001b[0m 42ms/step - loss: 5.4418e-04\n",
            "Epoch 26/50\n",
            "\u001b[1m73/73\u001b[0m \u001b[32m━━━━━━━━━━━━━━━━━━━━\u001b[0m\u001b[37m\u001b[0m \u001b[1m2s\u001b[0m 28ms/step - loss: 5.3067e-04\n",
            "Epoch 27/50\n",
            "\u001b[1m73/73\u001b[0m \u001b[32m━━━━━━━━━━━━━━━━━━━━\u001b[0m\u001b[37m\u001b[0m \u001b[1m2s\u001b[0m 29ms/step - loss: 5.1806e-04\n",
            "Epoch 28/50\n",
            "\u001b[1m73/73\u001b[0m \u001b[32m━━━━━━━━━━━━━━━━━━━━\u001b[0m\u001b[37m\u001b[0m \u001b[1m2s\u001b[0m 28ms/step - loss: 5.0620e-04\n",
            "Epoch 29/50\n",
            "\u001b[1m73/73\u001b[0m \u001b[32m━━━━━━━━━━━━━━━━━━━━\u001b[0m\u001b[37m\u001b[0m \u001b[1m2s\u001b[0m 29ms/step - loss: 4.9497e-04\n",
            "Epoch 30/50\n",
            "\u001b[1m73/73\u001b[0m \u001b[32m━━━━━━━━━━━━━━━━━━━━\u001b[0m\u001b[37m\u001b[0m \u001b[1m3s\u001b[0m 41ms/step - loss: 4.8427e-04\n",
            "Epoch 31/50\n",
            "\u001b[1m73/73\u001b[0m \u001b[32m━━━━━━━━━━━━━━━━━━━━\u001b[0m\u001b[37m\u001b[0m \u001b[1m4s\u001b[0m 28ms/step - loss: 4.7399e-04\n",
            "Epoch 32/50\n",
            "\u001b[1m73/73\u001b[0m \u001b[32m━━━━━━━━━━━━━━━━━━━━\u001b[0m\u001b[37m\u001b[0m \u001b[1m2s\u001b[0m 28ms/step - loss: 4.6406e-04\n",
            "Epoch 33/50\n",
            "\u001b[1m73/73\u001b[0m \u001b[32m━━━━━━━━━━━━━━━━━━━━\u001b[0m\u001b[37m\u001b[0m \u001b[1m3s\u001b[0m 28ms/step - loss: 4.5440e-04\n",
            "Epoch 34/50\n",
            "\u001b[1m73/73\u001b[0m \u001b[32m━━━━━━━━━━━━━━━━━━━━\u001b[0m\u001b[37m\u001b[0m \u001b[1m3s\u001b[0m 37ms/step - loss: 4.4497e-04\n",
            "Epoch 35/50\n",
            "\u001b[1m73/73\u001b[0m \u001b[32m━━━━━━━━━━━━━━━━━━━━\u001b[0m\u001b[37m\u001b[0m \u001b[1m3s\u001b[0m 35ms/step - loss: 4.3572e-04\n",
            "Epoch 36/50\n",
            "\u001b[1m73/73\u001b[0m \u001b[32m━━━━━━━━━━━━━━━━━━━━\u001b[0m\u001b[37m\u001b[0m \u001b[1m5s\u001b[0m 28ms/step - loss: 4.2663e-04\n",
            "Epoch 37/50\n",
            "\u001b[1m73/73\u001b[0m \u001b[32m━━━━━━━━━━━━━━━━━━━━\u001b[0m\u001b[37m\u001b[0m \u001b[1m2s\u001b[0m 28ms/step - loss: 4.1770e-04\n",
            "Epoch 38/50\n",
            "\u001b[1m73/73\u001b[0m \u001b[32m━━━━━━━━━━━━━━━━━━━━\u001b[0m\u001b[37m\u001b[0m \u001b[1m3s\u001b[0m 32ms/step - loss: 4.0893e-04\n",
            "Epoch 39/50\n",
            "\u001b[1m73/73\u001b[0m \u001b[32m━━━━━━━━━━━━━━━━━━━━\u001b[0m\u001b[37m\u001b[0m \u001b[1m3s\u001b[0m 38ms/step - loss: 4.0033e-04\n",
            "Epoch 40/50\n",
            "\u001b[1m73/73\u001b[0m \u001b[32m━━━━━━━━━━━━━━━━━━━━\u001b[0m\u001b[37m\u001b[0m \u001b[1m5s\u001b[0m 33ms/step - loss: 3.9194e-04\n",
            "Epoch 41/50\n",
            "\u001b[1m73/73\u001b[0m \u001b[32m━━━━━━━━━━━━━━━━━━━━\u001b[0m\u001b[37m\u001b[0m \u001b[1m2s\u001b[0m 28ms/step - loss: 3.8375e-04\n",
            "Epoch 42/50\n",
            "\u001b[1m73/73\u001b[0m \u001b[32m━━━━━━━━━━━━━━━━━━━━\u001b[0m\u001b[37m\u001b[0m \u001b[1m3s\u001b[0m 32ms/step - loss: 3.7580e-04\n",
            "Epoch 43/50\n",
            "\u001b[1m73/73\u001b[0m \u001b[32m━━━━━━━━━━━━━━━━━━━━\u001b[0m\u001b[37m\u001b[0m \u001b[1m3s\u001b[0m 38ms/step - loss: 3.6811e-04\n",
            "Epoch 44/50\n",
            "\u001b[1m73/73\u001b[0m \u001b[32m━━━━━━━━━━━━━━━━━━━━\u001b[0m\u001b[37m\u001b[0m \u001b[1m4s\u001b[0m 28ms/step - loss: 3.6068e-04\n",
            "Epoch 45/50\n",
            "\u001b[1m73/73\u001b[0m \u001b[32m━━━━━━━━━━━━━━━━━━━━\u001b[0m\u001b[37m\u001b[0m \u001b[1m2s\u001b[0m 28ms/step - loss: 3.5355e-04\n",
            "Epoch 46/50\n",
            "\u001b[1m73/73\u001b[0m \u001b[32m━━━━━━━━━━━━━━━━━━━━\u001b[0m\u001b[37m\u001b[0m \u001b[1m3s\u001b[0m 28ms/step - loss: 3.4671e-04\n",
            "Epoch 47/50\n",
            "\u001b[1m73/73\u001b[0m \u001b[32m━━━━━━━━━━━━━━━━━━━━\u001b[0m\u001b[37m\u001b[0m \u001b[1m3s\u001b[0m 44ms/step - loss: 3.4019e-04\n",
            "Epoch 48/50\n",
            "\u001b[1m73/73\u001b[0m \u001b[32m━━━━━━━━━━━━━━━━━━━━\u001b[0m\u001b[37m\u001b[0m \u001b[1m4s\u001b[0m 28ms/step - loss: 3.3398e-04\n",
            "Epoch 49/50\n",
            "\u001b[1m73/73\u001b[0m \u001b[32m━━━━━━━━━━━━━━━━━━━━\u001b[0m\u001b[37m\u001b[0m \u001b[1m3s\u001b[0m 28ms/step - loss: 3.2810e-04\n",
            "Epoch 50/50\n",
            "\u001b[1m73/73\u001b[0m \u001b[32m━━━━━━━━━━━━━━━━━━━━\u001b[0m\u001b[37m\u001b[0m \u001b[1m3s\u001b[0m 29ms/step - loss: 3.2255e-04\n"
          ]
        },
        {
          "output_type": "execute_result",
          "data": {
            "text/plain": [
              "<keras.src.callbacks.history.History at 0x7c69e09af750>"
            ]
          },
          "metadata": {},
          "execution_count": 26
        }
      ],
      "source": [
        "model_lstm.fit(X_train, y_train, batch_size=best_batch_size, epochs=best_epochs, verbose=1)"
      ]
    },
    {
      "cell_type": "code",
      "execution_count": 27,
      "metadata": {
        "id": "1O-Hy-dvCKVS",
        "colab": {
          "base_uri": "https://localhost:8080/",
          "height": 507
        },
        "outputId": "2115f280-eea8-4d9a-d921-9d04e914c528"
      },
      "outputs": [
        {
          "output_type": "stream",
          "name": "stdout",
          "text": [
            "\u001b[1m2/2\u001b[0m \u001b[32m━━━━━━━━━━━━━━━━━━━━\u001b[0m\u001b[37m\u001b[0m \u001b[1m0s\u001b[0m 273ms/step\n"
          ]
        },
        {
          "output_type": "display_data",
          "data": {
            "text/plain": [
              "<Figure size 640x480 with 1 Axes>"
            ],
            "image/png": "[encoded data removed]"
          },
          "metadata": {}
        },
        {
          "output_type": "stream",
          "name": "stdout",
          "text": [
            "El RMSE (error cuadrático medio) es 129.64\n"
          ]
        }
      ],
      "source": [
        "# Predecir\n",
        "predicted_stock_price = model_lstm.predict(X_test)\n",
        "predicted_stock_price = sc.inverse_transform(predicted_stock_price)\n",
        "\n",
        "# Mostrar resultados\n",
        "plot_predictions(test_set, predicted_stock_price)\n",
        "return_rmse(test_set, predicted_stock_price)"
      ]
    },
    {
      "cell_type": "code",
      "execution_count": 27,
      "metadata": {
        "id": "1tIcrLCyCODJ"
      },
      "outputs": [],
      "source": []
    }
  ],
  "metadata": {
    "colab": {
      "toc_visible": true,
      "provenance": [],
      "include_colab_link": true
    },
    "kernelspec": {
      "display_name": "kafka",
      "language": "python",
      "name": "python3"
    },
    "language_info": {
      "codemirror_mode": {
        "name": "ipython",
        "version": 3
      },
      "file_extension": ".py",
      "mimetype": "text/x-python",
      "name": "python",
      "nbconvert_exporter": "python",
      "pygments_lexer": "ipython3",
      "version": "3.12.3"
    }
  },
  "nbformat": 4,
  "nbformat_minor": 0
}
{
 "cells": [
  {
   "cell_type": "markdown",
   "metadata": {},
   "source": [
    "# Imports"
   ]
  },
  {
   "cell_type": "code",
   "execution_count": 1259,
   "metadata": {},
   "outputs": [],
   "source": [
    "import pandas as pd\n",
    "pd.set_option('display.max_columns', None)\n",
    "import numpy as np\n",
    "import seaborn as sns\n",
    "import matplotlib.pyplot as plt\n",
    "from matplotlib.ticker import FuncFormatter\n",
    "from sklearn.preprocessing import MinMaxScaler, StandardScaler\n",
    "from sklearn.model_selection import train_test_split\n",
    "from sklearn.linear_model import LinearRegression\n",
    "from sklearn.metrics import mean_squared_error"
   ]
  },
  {
   "cell_type": "markdown",
   "metadata": {},
   "source": [
    "# Importar dataset"
   ]
  },
  {
   "cell_type": "code",
   "execution_count": 1260,
   "metadata": {},
   "outputs": [
    {
     "name": "stdout",
     "output_type": "stream",
     "text": [
      "Dataset URL: https://www.kaggle.com/datasets/itsnahm/baldness-probability\n",
      "License(s): unknown\n",
      "Downloading baldness-probability.zip to .\n",
      "\n"
     ]
    },
    {
     "name": "stderr",
     "output_type": "stream",
     "text": [
      "\n",
      "  0%|          | 0.00/373k [00:00<?, ?B/s]\n",
      "100%|██████████| 373k/373k [00:00<00:00, 927kB/s]\n",
      "100%|██████████| 373k/373k [00:00<00:00, 927kB/s]\n"
     ]
    }
   ],
   "source": [
    "!kaggle datasets download itsnahm/baldness-probability -p . --unzip"
   ]
  },
  {
   "cell_type": "code",
   "execution_count": 1261,
   "metadata": {},
   "outputs": [
    {
     "data": {
      "text/html": [
       "<div>\n",
       "<style scoped>\n",
       "    .dataframe tbody tr th:only-of-type {\n",
       "        vertical-align: middle;\n",
       "    }\n",
       "\n",
       "    .dataframe tbody tr th {\n",
       "        vertical-align: top;\n",
       "    }\n",
       "\n",
       "    .dataframe thead th {\n",
       "        text-align: right;\n",
       "    }\n",
       "</style>\n",
       "<table border=\"1\" class=\"dataframe\">\n",
       "  <thead>\n",
       "    <tr style=\"text-align: right;\">\n",
       "      <th></th>\n",
       "      <th>age</th>\n",
       "      <th>gender</th>\n",
       "      <th>job_role</th>\n",
       "      <th>province</th>\n",
       "      <th>salary</th>\n",
       "      <th>is_married</th>\n",
       "      <th>is_hereditary</th>\n",
       "      <th>weight</th>\n",
       "      <th>height</th>\n",
       "      <th>shampoo</th>\n",
       "      <th>is_smoker</th>\n",
       "      <th>education</th>\n",
       "      <th>stress</th>\n",
       "      <th>bald_prob</th>\n",
       "    </tr>\n",
       "  </thead>\n",
       "  <tbody>\n",
       "    <tr>\n",
       "      <th>0</th>\n",
       "      <td>27.0</td>\n",
       "      <td>female</td>\n",
       "      <td>Government Employee</td>\n",
       "      <td>Bengkulu</td>\n",
       "      <td>7.957453e+06</td>\n",
       "      <td>1.0</td>\n",
       "      <td>0.0</td>\n",
       "      <td>54.315053</td>\n",
       "      <td>170.428542</td>\n",
       "      <td>Pantone</td>\n",
       "      <td>1.0</td>\n",
       "      <td>Bachelor Degree</td>\n",
       "      <td>5.0</td>\n",
       "      <td>0.605974</td>\n",
       "    </tr>\n",
       "    <tr>\n",
       "      <th>1</th>\n",
       "      <td>53.0</td>\n",
       "      <td>female</td>\n",
       "      <td>Government Employee</td>\n",
       "      <td>Bandung</td>\n",
       "      <td>7.633003e+06</td>\n",
       "      <td>1.0</td>\n",
       "      <td>0.0</td>\n",
       "      <td>72.873404</td>\n",
       "      <td>165.530097</td>\n",
       "      <td>Pantone</td>\n",
       "      <td>0.0</td>\n",
       "      <td>Bachelor Degree</td>\n",
       "      <td>7.0</td>\n",
       "      <td>0.532860</td>\n",
       "    </tr>\n",
       "    <tr>\n",
       "      <th>2</th>\n",
       "      <td>37.0</td>\n",
       "      <td>female</td>\n",
       "      <td>Employee</td>\n",
       "      <td>Bandung</td>\n",
       "      <td>6.637625e+06</td>\n",
       "      <td>1.0</td>\n",
       "      <td>0.0</td>\n",
       "      <td>46.321533</td>\n",
       "      <td>154.599388</td>\n",
       "      <td>Moonsilk</td>\n",
       "      <td>0.0</td>\n",
       "      <td>Bachelor Degree</td>\n",
       "      <td>4.0</td>\n",
       "      <td>0.418442</td>\n",
       "    </tr>\n",
       "    <tr>\n",
       "      <th>3</th>\n",
       "      <td>36.0</td>\n",
       "      <td>female</td>\n",
       "      <td>Jobless</td>\n",
       "      <td>Palu</td>\n",
       "      <td>3.624871e+06</td>\n",
       "      <td>1.0</td>\n",
       "      <td>0.0</td>\n",
       "      <td>51.539781</td>\n",
       "      <td>167.340481</td>\n",
       "      <td>Deadbuoy</td>\n",
       "      <td>1.0</td>\n",
       "      <td>Elementary School</td>\n",
       "      <td>9.0</td>\n",
       "      <td>0.804050</td>\n",
       "    </tr>\n",
       "    <tr>\n",
       "      <th>4</th>\n",
       "      <td>38.0</td>\n",
       "      <td>male</td>\n",
       "      <td>NaN</td>\n",
       "      <td>Palangkaraya</td>\n",
       "      <td>6.031808e+06</td>\n",
       "      <td>1.0</td>\n",
       "      <td>0.0</td>\n",
       "      <td>60.726909</td>\n",
       "      <td>165.514773</td>\n",
       "      <td>Merpati</td>\n",
       "      <td>1.0</td>\n",
       "      <td>Magister Degree</td>\n",
       "      <td>1.0</td>\n",
       "      <td>0.368371</td>\n",
       "    </tr>\n",
       "  </tbody>\n",
       "</table>\n",
       "</div>"
      ],
      "text/plain": [
       "    age  gender             job_role      province        salary  is_married  \\\n",
       "0  27.0  female  Government Employee      Bengkulu  7.957453e+06         1.0   \n",
       "1  53.0  female  Government Employee       Bandung  7.633003e+06         1.0   \n",
       "2  37.0  female             Employee       Bandung  6.637625e+06         1.0   \n",
       "3  36.0  female              Jobless          Palu  3.624871e+06         1.0   \n",
       "4  38.0    male                  NaN  Palangkaraya  6.031808e+06         1.0   \n",
       "\n",
       "   is_hereditary     weight      height   shampoo  is_smoker  \\\n",
       "0            0.0  54.315053  170.428542   Pantone        1.0   \n",
       "1            0.0  72.873404  165.530097   Pantone        0.0   \n",
       "2            0.0  46.321533  154.599388  Moonsilk        0.0   \n",
       "3            0.0  51.539781  167.340481  Deadbuoy        1.0   \n",
       "4            0.0  60.726909  165.514773   Merpati        1.0   \n",
       "\n",
       "           education  stress  bald_prob  \n",
       "0    Bachelor Degree     5.0   0.605974  \n",
       "1    Bachelor Degree     7.0   0.532860  \n",
       "2    Bachelor Degree     4.0   0.418442  \n",
       "3  Elementary School     9.0   0.804050  \n",
       "4    Magister Degree     1.0   0.368371  "
      ]
     },
     "execution_count": 1261,
     "metadata": {},
     "output_type": "execute_result"
    }
   ],
   "source": [
    "df = pd.read_csv(\"./bald_probability.csv\")\n",
    "df.head(5)"
   ]
  },
  {
   "cell_type": "markdown",
   "metadata": {},
   "source": [
    "# Analisis del dataset"
   ]
  },
  {
   "cell_type": "markdown",
   "metadata": {},
   "source": [
    "## Descripcion del dataset\n",
    "Este dataset muestra la probabilidad que tienen las personas de quedarse calvas en Indonesia en base a varias caracteristicas como pueden ser, si es fumador, su edad, su genereo..., vamos a hacer un analisis de cada columna y asi comprender que nos muestra cada una de ellas y como puede afectar a la probabilidad de la calvicie.  \n",
    "\n",
    "A medida que hagamos ese analisis de columnas podremos ir aplicando algun que otro tipo de escalado, solo si es necesario para poder representar la caracteristica.\n",
    "\n",
    "Despues si buscaremos el reescalado de datos para facilitar el uso y la comprension de los datos de nuetro modelo de ML de regresion lineal."
   ]
  },
  {
   "cell_type": "markdown",
   "metadata": {},
   "source": [
    "## Nulos"
   ]
  },
  {
   "cell_type": "code",
   "execution_count": 1262,
   "metadata": {},
   "outputs": [
    {
     "name": "stdout",
     "output_type": "stream",
     "text": [
      "Filas totales: (7917, 14)\n",
      "Nulos:\n",
      "age                85\n",
      "gender             77\n",
      "job_role         1317\n",
      "province           86\n",
      "salary             74\n",
      "is_married         72\n",
      "is_hereditary      89\n",
      "weight             56\n",
      "height             74\n",
      "shampoo            59\n",
      "is_smoker          70\n",
      "education          70\n",
      "stress             64\n",
      "bald_prob          79\n",
      "dtype: int64\n"
     ]
    }
   ],
   "source": [
    "print(f\"Filas totales: {df.shape}\\nNulos:\")\n",
    "print(df.isnull().sum()[df.isnull().sum() > 0])"
   ]
  },
  {
   "cell_type": "code",
   "execution_count": 1263,
   "metadata": {},
   "outputs": [
    {
     "data": {
      "text/plain": [
       "array(['Government Employee', 'Employee', 'Jobless', nan], dtype=object)"
      ]
     },
     "execution_count": 1263,
     "metadata": {},
     "output_type": "execute_result"
    }
   ],
   "source": [
    "df[\"job_role\"].unique()"
   ]
  },
  {
   "cell_type": "markdown",
   "metadata": {},
   "source": [
    "Vamos a ver el porcentaje de cada uno y aplicarse a los nan con la misma proporcion"
   ]
  },
  {
   "cell_type": "code",
   "execution_count": 1264,
   "metadata": {},
   "outputs": [
    {
     "name": "stdout",
     "output_type": "stream",
     "text": [
      "Government Employee: 3108/6600 (0.47%)\n",
      "Employee: 3160/6600 (0.48%)\n",
      "Jobless: 332/6600 (0.05%)\n"
     ]
    },
    {
     "data": {
      "text/plain": [
       "[3108, 3160, 332]"
      ]
     },
     "execution_count": 1264,
     "metadata": {},
     "output_type": "execute_result"
    }
   ],
   "source": [
    "def mostrar_jobs():\n",
    "    gov = df[\"job_role\"][df[\"job_role\"] == \"Government Employee\"].count()\n",
    "    employee = df[\"job_role\"][df[\"job_role\"] == \"Employee\"].count()\n",
    "    jobless = df[\"job_role\"][df[\"job_role\"] == \"Jobless\"].count()\n",
    "    total = gov + employee + jobless\n",
    "\n",
    "    print(f\"Government Employee: {gov}/{total} ({gov/total:0.2f}%)\\nEmployee: {employee}/{total} ({employee/total:0.2f}%)\\nJobless: {jobless}/{total} ({jobless/total:0.2f}%)\")\n",
    "    return [gov, employee, jobless]\n",
    "mostrar_jobs()"
   ]
  },
  {
   "cell_type": "code",
   "execution_count": 1265,
   "metadata": {},
   "outputs": [],
   "source": [
    "proporciones = {\n",
    "    'Government Employee': 0.47,\n",
    "    'Employee': 0.48,\n",
    "    'Jobless': 0.05\n",
    "}\n",
    "\n",
    "n_nan = df['job_role'].isna().sum()\n",
    "\n",
    "categorias = list(proporciones.keys())\n",
    "probabilidades = list(proporciones.values())\n",
    "\n",
    "nan_indices = df['job_role'].isna()\n",
    "df.loc[nan_indices, 'job_role'] = np.random.choice(categorias, size=n_nan, p=probabilidades)"
   ]
  },
  {
   "cell_type": "code",
   "execution_count": 1266,
   "metadata": {},
   "outputs": [
    {
     "name": "stdout",
     "output_type": "stream",
     "text": [
      "0\n",
      "['Government Employee' 'Employee' 'Jobless']\n",
      "7917\n"
     ]
    }
   ],
   "source": [
    "print(df[\"job_role\"].isnull().sum())\n",
    "print(df[\"job_role\"].unique())\n",
    "print(df[\"job_role\"].count())"
   ]
  },
  {
   "cell_type": "code",
   "execution_count": 1267,
   "metadata": {},
   "outputs": [
    {
     "name": "stdout",
     "output_type": "stream",
     "text": [
      "Government Employee: 3729/7917 (0.47%)\n",
      "Employee: 3800/7917 (0.48%)\n",
      "Jobless: 388/7917 (0.05%)\n"
     ]
    },
    {
     "data": {
      "text/plain": [
       "[3729, 3800, 388]"
      ]
     },
     "execution_count": 1267,
     "metadata": {},
     "output_type": "execute_result"
    }
   ],
   "source": [
    "mostrar_jobs()"
   ]
  },
  {
   "cell_type": "markdown",
   "metadata": {},
   "source": [
    "Asi hemos conseguido rellenar los nulos de la columna proporcionalmente a los valores existentes sin tener que eliminar una gran parte de los registros"
   ]
  },
  {
   "cell_type": "code",
   "execution_count": 1268,
   "metadata": {},
   "outputs": [
    {
     "data": {
      "text/plain": [
       "(7018, 14)"
      ]
     },
     "execution_count": 1268,
     "metadata": {},
     "output_type": "execute_result"
    }
   ],
   "source": [
    "df.dropna(inplace=True)\n",
    "df.shape"
   ]
  },
  {
   "cell_type": "markdown",
   "metadata": {},
   "source": [
    "El resto de los nulos si han sido eliminados y hemos perdido alrededor de 900 registros"
   ]
  },
  {
   "cell_type": "markdown",
   "metadata": {},
   "source": [
    "## Columnas"
   ]
  },
  {
   "cell_type": "markdown",
   "metadata": {},
   "source": [
    "### Age"
   ]
  },
  {
   "cell_type": "markdown",
   "metadata": {},
   "source": [
    "La columna \"age\" nos indica la edad de la persona"
   ]
  },
  {
   "cell_type": "markdown",
   "metadata": {},
   "source": [
    "#### Describe"
   ]
  },
  {
   "cell_type": "code",
   "execution_count": 1269,
   "metadata": {},
   "outputs": [
    {
     "data": {
      "text/plain": [
       "count    7018.000000\n",
       "mean       39.514819\n",
       "std         9.885182\n",
       "min         2.000000\n",
       "25%        33.000000\n",
       "50%        39.000000\n",
       "75%        46.000000\n",
       "max        77.000000\n",
       "Name: age, dtype: float64"
      ]
     },
     "execution_count": 1269,
     "metadata": {},
     "output_type": "execute_result"
    }
   ],
   "source": [
    "df[\"age\"].describe()"
   ]
  },
  {
   "cell_type": "markdown",
   "metadata": {},
   "source": [
    "#### Analisis grafico"
   ]
  },
  {
   "cell_type": "code",
   "execution_count": 1270,
   "metadata": {},
   "outputs": [
    {
     "data": {
      "image/png": "[encoded data removed]",
      "text/plain": [
       "<Figure size 1200x600 with 1 Axes>"
      ]
     },
     "metadata": {},
     "output_type": "display_data"
    }
   ],
   "source": [
    "plt.figure(figsize=(12, 6))\n",
    "sns.countplot(x=\"age\", data=df)\n",
    "plt.title('Distribución de age')\n",
    "plt.xticks(rotation=90)\n",
    "plt.show()"
   ]
  },
  {
   "cell_type": "markdown",
   "metadata": {},
   "source": [
    "Esta grafica representa la cantidad de datos que tenemos de distintos rangos de edad, siendo el rango de edad entre 30 y 50 donde mas abundan los datos.\n",
    "A continuacion vamos a separar los datos, asimilaremos que mas de un 50% de probabilidades como bald para representar los bald y no bald de cada edad"
   ]
  },
  {
   "cell_type": "code",
   "execution_count": 1271,
   "metadata": {},
   "outputs": [
    {
     "data": {
      "image/png": "[encoded data removed]",
      "text/plain": [
       "<Figure size 1200x600 with 1 Axes>"
      ]
     },
     "metadata": {},
     "output_type": "display_data"
    }
   ],
   "source": [
    "df['baldness'] = df['bald_prob'].apply(lambda x: 'Si' if x > .50 else 'No')\n",
    "\n",
    "plt.figure(figsize=(12, 6))\n",
    "sns.countplot(x=\"age\", hue=\"baldness\", data=df)\n",
    "\n",
    "for p in plt.gca().patches:\n",
    "    height = p.get_height()\n",
    "    p.set_height(height)\n",
    "plt.title('Distribucion de age segun la probabilidad de calvicie')\n",
    "plt.xticks(rotation=90)\n",
    "plt.show()"
   ]
  },
  {
   "cell_type": "code",
   "execution_count": 1272,
   "metadata": {},
   "outputs": [
    {
     "name": "stdout",
     "output_type": "stream",
     "text": [
      "Proporcion de calvos mayores de 40 años: 82.07%\n"
     ]
    }
   ],
   "source": [
    "df_mayor_40 = df[\"baldness\"][df[\"age\"] > 40]\n",
    "calvos = df_mayor_40[df_mayor_40 == \"Si\"].count()\n",
    "no_calvos = df_mayor_40[df_mayor_40 == \"No\"].count()\n",
    "print (f\"Proporcion de calvos mayores de 40 años: {calvos / (calvos + no_calvos) * 100:.2f}%\")"
   ]
  },
  {
   "cell_type": "markdown",
   "metadata": {},
   "source": [
    "Esta representacion con un umbral del 50% muestra una mayor cantidad de no bald en edades tempranas (<20 anios), una cantidad pareja de balds y no balds entre los 20 y los 40 anios, y una cantidad de balds en edades mas tardias, un 80% esta bald.\n",
    "\n",
    "Con esto asumimos que la edad es una variable que tiene algo de correlacion con nuestra variable objetivo: bald_prob"
   ]
  },
  {
   "cell_type": "markdown",
   "metadata": {},
   "source": [
    "### Correlacion"
   ]
  },
  {
   "cell_type": "code",
   "execution_count": 1273,
   "metadata": {},
   "outputs": [
    {
     "data": {
      "text/plain": [
       "0.3627482002454027"
      ]
     },
     "execution_count": 1273,
     "metadata": {},
     "output_type": "execute_result"
    }
   ],
   "source": [
    "df['age'].corr(df['bald_prob'])"
   ]
  },
  {
   "cell_type": "markdown",
   "metadata": {},
   "source": [
    "No es una correlacion muy grande pero sigue siendo positiva"
   ]
  },
  {
   "cell_type": "markdown",
   "metadata": {},
   "source": [
    "## Gender"
   ]
  },
  {
   "cell_type": "markdown",
   "metadata": {},
   "source": [
    "La columna \"gender\" nos muestra el genero de la persona, male para masculino y female para femenino"
   ]
  },
  {
   "cell_type": "markdown",
   "metadata": {},
   "source": [
    "#### Describe"
   ]
  },
  {
   "cell_type": "code",
   "execution_count": 1274,
   "metadata": {},
   "outputs": [
    {
     "data": {
      "text/plain": [
       "count     7018\n",
       "unique       2\n",
       "top       male\n",
       "freq      4802\n",
       "Name: gender, dtype: object"
      ]
     },
     "execution_count": 1274,
     "metadata": {},
     "output_type": "execute_result"
    }
   ],
   "source": [
    "df[\"gender\"].describe()"
   ]
  },
  {
   "cell_type": "markdown",
   "metadata": {},
   "source": [
    "#### Analisis grafico"
   ]
  },
  {
   "cell_type": "code",
   "execution_count": 1275,
   "metadata": {},
   "outputs": [
    {
     "data": {
      "image/png": "[encoded data removed]",
      "text/plain": [
       "<Figure size 1200x600 with 1 Axes>"
      ]
     },
     "metadata": {},
     "output_type": "display_data"
    }
   ],
   "source": [
    "plt.figure(figsize=(12, 6))\n",
    "sns.countplot(x=\"gender\", data=df)\n",
    "plt.title('Distribución de age')\n",
    "plt.xticks(rotation=90)\n",
    "plt.show()"
   ]
  },
  {
   "cell_type": "markdown",
   "metadata": {},
   "source": [
    "Vemos que tenemos mas del doble de valores de hombres que de mujeres"
   ]
  },
  {
   "cell_type": "code",
   "execution_count": 1276,
   "metadata": {},
   "outputs": [
    {
     "data": {
      "image/png": "[encoded data removed]",
      "text/plain": [
       "<Figure size 1200x600 with 1 Axes>"
      ]
     },
     "metadata": {},
     "output_type": "display_data"
    }
   ],
   "source": [
    "plt.figure(figsize=(12, 6))\n",
    "sns.countplot(x=\"gender\", hue=\"baldness\", data=df)\n",
    "\n",
    "for p in plt.gca().patches:\n",
    "    height = p.get_height()\n",
    "    p.set_height(height)\n",
    "plt.title('Distribucion de genero segun la probabilidad de calvicie')\n",
    "plt.xticks(rotation=90)\n",
    "plt.show()"
   ]
  },
  {
   "cell_type": "code",
   "execution_count": 1277,
   "metadata": {},
   "outputs": [
    {
     "name": "stdout",
     "output_type": "stream",
     "text": [
      "gender\n",
      "female    0.508858\n",
      "male      0.603968\n",
      "Name: bald_prob, dtype: float64\n"
     ]
    }
   ],
   "source": [
    "media_prob_por_genero = df.groupby(df[\"gender\"])[\"bald_prob\"].mean()\n",
    "print(media_prob_por_genero)"
   ]
  },
  {
   "cell_type": "markdown",
   "metadata": {},
   "source": [
    "Tanto en la grafica como en la media, vemos que la probabilidad de bald es superior al 50% en ambos generos.  \n",
    "Veamos que relacion tiene cada genero con bald en base a la edad."
   ]
  },
  {
   "cell_type": "code",
   "execution_count": 1278,
   "metadata": {},
   "outputs": [
    {
     "data": {
      "image/png": "[encoded data removed]",
      "text/plain": [
       "<Figure size 1200x600 with 1 Axes>"
      ]
     },
     "metadata": {},
     "output_type": "display_data"
    },
    {
     "data": {
      "image/png": "[encoded data removed]",
      "text/plain": [
       "<Figure size 1200x600 with 1 Axes>"
      ]
     },
     "metadata": {},
     "output_type": "display_data"
    }
   ],
   "source": [
    "df_mujeres = df[df[\"gender\"] == \"female\"]\n",
    "df_hombres = df[df[\"gender\"] == \"male\"]\n",
    "\n",
    "plt.figure(figsize=(12, 6))\n",
    "sns.countplot(x=\"age\", hue=\"baldness\", data=df_mujeres)\n",
    "\n",
    "for p in plt.gca().patches:\n",
    "    height = p.get_height()\n",
    "    p.set_height(height)\n",
    "plt.title('Distribucion de edad segun la probabilidad de calvicie en mujeres')\n",
    "plt.xticks(rotation=90)\n",
    "plt.show()\n",
    "\n",
    "plt.figure(figsize=(12, 6))\n",
    "sns.countplot(x=\"age\", hue=\"baldness\", data=df_hombres)\n",
    "\n",
    "for p in plt.gca().patches:\n",
    "    height = p.get_height()\n",
    "    p.set_height(height)\n",
    "plt.title('Distribucion de edad segun la probabilidad de calvicie en hombres')\n",
    "plt.xticks(rotation=90)\n",
    "plt.show()"
   ]
  },
  {
   "cell_type": "markdown",
   "metadata": {},
   "source": [
    "- Hombres:  \n",
    "A partir de los 20 anios hay mas hombres con mas de un 50% de ser bald que <50%\n",
    "\n",
    "- Mujeres:  \n",
    "En las mujeres ese hecho no pasa hasta que se superan los 40 anios"
   ]
  },
  {
   "cell_type": "markdown",
   "metadata": {},
   "source": [
    "### Correlacion"
   ]
  },
  {
   "cell_type": "markdown",
   "metadata": {},
   "source": [
    "One Hot Encoding a gender"
   ]
  },
  {
   "cell_type": "code",
   "execution_count": 1279,
   "metadata": {},
   "outputs": [
    {
     "data": {
      "text/html": [
       "<div>\n",
       "<style scoped>\n",
       "    .dataframe tbody tr th:only-of-type {\n",
       "        vertical-align: middle;\n",
       "    }\n",
       "\n",
       "    .dataframe tbody tr th {\n",
       "        vertical-align: top;\n",
       "    }\n",
       "\n",
       "    .dataframe thead th {\n",
       "        text-align: right;\n",
       "    }\n",
       "</style>\n",
       "<table border=\"1\" class=\"dataframe\">\n",
       "  <thead>\n",
       "    <tr style=\"text-align: right;\">\n",
       "      <th></th>\n",
       "      <th>age</th>\n",
       "      <th>job_role</th>\n",
       "      <th>province</th>\n",
       "      <th>salary</th>\n",
       "      <th>is_married</th>\n",
       "      <th>is_hereditary</th>\n",
       "      <th>weight</th>\n",
       "      <th>height</th>\n",
       "      <th>shampoo</th>\n",
       "      <th>is_smoker</th>\n",
       "      <th>education</th>\n",
       "      <th>stress</th>\n",
       "      <th>bald_prob</th>\n",
       "      <th>baldness</th>\n",
       "      <th>gender_female</th>\n",
       "      <th>gender_male</th>\n",
       "    </tr>\n",
       "  </thead>\n",
       "  <tbody>\n",
       "    <tr>\n",
       "      <th>0</th>\n",
       "      <td>27.0</td>\n",
       "      <td>Government Employee</td>\n",
       "      <td>Bengkulu</td>\n",
       "      <td>7.957453e+06</td>\n",
       "      <td>1.0</td>\n",
       "      <td>0.0</td>\n",
       "      <td>54.315053</td>\n",
       "      <td>170.428542</td>\n",
       "      <td>Pantone</td>\n",
       "      <td>1.0</td>\n",
       "      <td>Bachelor Degree</td>\n",
       "      <td>5.0</td>\n",
       "      <td>0.605974</td>\n",
       "      <td>Si</td>\n",
       "      <td>1</td>\n",
       "      <td>0</td>\n",
       "    </tr>\n",
       "    <tr>\n",
       "      <th>1</th>\n",
       "      <td>53.0</td>\n",
       "      <td>Government Employee</td>\n",
       "      <td>Bandung</td>\n",
       "      <td>7.633003e+06</td>\n",
       "      <td>1.0</td>\n",
       "      <td>0.0</td>\n",
       "      <td>72.873404</td>\n",
       "      <td>165.530097</td>\n",
       "      <td>Pantone</td>\n",
       "      <td>0.0</td>\n",
       "      <td>Bachelor Degree</td>\n",
       "      <td>7.0</td>\n",
       "      <td>0.532860</td>\n",
       "      <td>Si</td>\n",
       "      <td>1</td>\n",
       "      <td>0</td>\n",
       "    </tr>\n",
       "    <tr>\n",
       "      <th>2</th>\n",
       "      <td>37.0</td>\n",
       "      <td>Employee</td>\n",
       "      <td>Bandung</td>\n",
       "      <td>6.637625e+06</td>\n",
       "      <td>1.0</td>\n",
       "      <td>0.0</td>\n",
       "      <td>46.321533</td>\n",
       "      <td>154.599388</td>\n",
       "      <td>Moonsilk</td>\n",
       "      <td>0.0</td>\n",
       "      <td>Bachelor Degree</td>\n",
       "      <td>4.0</td>\n",
       "      <td>0.418442</td>\n",
       "      <td>No</td>\n",
       "      <td>1</td>\n",
       "      <td>0</td>\n",
       "    </tr>\n",
       "    <tr>\n",
       "      <th>3</th>\n",
       "      <td>36.0</td>\n",
       "      <td>Jobless</td>\n",
       "      <td>Palu</td>\n",
       "      <td>3.624871e+06</td>\n",
       "      <td>1.0</td>\n",
       "      <td>0.0</td>\n",
       "      <td>51.539781</td>\n",
       "      <td>167.340481</td>\n",
       "      <td>Deadbuoy</td>\n",
       "      <td>1.0</td>\n",
       "      <td>Elementary School</td>\n",
       "      <td>9.0</td>\n",
       "      <td>0.804050</td>\n",
       "      <td>Si</td>\n",
       "      <td>1</td>\n",
       "      <td>0</td>\n",
       "    </tr>\n",
       "    <tr>\n",
       "      <th>4</th>\n",
       "      <td>38.0</td>\n",
       "      <td>Employee</td>\n",
       "      <td>Palangkaraya</td>\n",
       "      <td>6.031808e+06</td>\n",
       "      <td>1.0</td>\n",
       "      <td>0.0</td>\n",
       "      <td>60.726909</td>\n",
       "      <td>165.514773</td>\n",
       "      <td>Merpati</td>\n",
       "      <td>1.0</td>\n",
       "      <td>Magister Degree</td>\n",
       "      <td>1.0</td>\n",
       "      <td>0.368371</td>\n",
       "      <td>No</td>\n",
       "      <td>0</td>\n",
       "      <td>1</td>\n",
       "    </tr>\n",
       "  </tbody>\n",
       "</table>\n",
       "</div>"
      ],
      "text/plain": [
       "    age             job_role      province        salary  is_married  \\\n",
       "0  27.0  Government Employee      Bengkulu  7.957453e+06         1.0   \n",
       "1  53.0  Government Employee       Bandung  7.633003e+06         1.0   \n",
       "2  37.0             Employee       Bandung  6.637625e+06         1.0   \n",
       "3  36.0              Jobless          Palu  3.624871e+06         1.0   \n",
       "4  38.0             Employee  Palangkaraya  6.031808e+06         1.0   \n",
       "\n",
       "   is_hereditary     weight      height   shampoo  is_smoker  \\\n",
       "0            0.0  54.315053  170.428542   Pantone        1.0   \n",
       "1            0.0  72.873404  165.530097   Pantone        0.0   \n",
       "2            0.0  46.321533  154.599388  Moonsilk        0.0   \n",
       "3            0.0  51.539781  167.340481  Deadbuoy        1.0   \n",
       "4            0.0  60.726909  165.514773   Merpati        1.0   \n",
       "\n",
       "           education  stress  bald_prob baldness  gender_female  gender_male  \n",
       "0    Bachelor Degree     5.0   0.605974       Si              1            0  \n",
       "1    Bachelor Degree     7.0   0.532860       Si              1            0  \n",
       "2    Bachelor Degree     4.0   0.418442       No              1            0  \n",
       "3  Elementary School     9.0   0.804050       Si              1            0  \n",
       "4    Magister Degree     1.0   0.368371       No              0            1  "
      ]
     },
     "execution_count": 1279,
     "metadata": {},
     "output_type": "execute_result"
    }
   ],
   "source": [
    "df = pd.get_dummies(df, columns=['gender'], dtype=int)\n",
    "df.head(5)\n"
   ]
  },
  {
   "cell_type": "code",
   "execution_count": 1280,
   "metadata": {},
   "outputs": [
    {
     "data": {
      "text/html": [
       "<div>\n",
       "<style scoped>\n",
       "    .dataframe tbody tr th:only-of-type {\n",
       "        vertical-align: middle;\n",
       "    }\n",
       "\n",
       "    .dataframe tbody tr th {\n",
       "        vertical-align: top;\n",
       "    }\n",
       "\n",
       "    .dataframe thead th {\n",
       "        text-align: right;\n",
       "    }\n",
       "</style>\n",
       "<table border=\"1\" class=\"dataframe\">\n",
       "  <thead>\n",
       "    <tr style=\"text-align: right;\">\n",
       "      <th></th>\n",
       "      <th>gender_female</th>\n",
       "      <th>gender_male</th>\n",
       "      <th>bald_prob</th>\n",
       "    </tr>\n",
       "  </thead>\n",
       "  <tbody>\n",
       "    <tr>\n",
       "      <th>gender_female</th>\n",
       "      <td>1.000000</td>\n",
       "      <td>-1.000000</td>\n",
       "      <td>-0.255413</td>\n",
       "    </tr>\n",
       "    <tr>\n",
       "      <th>gender_male</th>\n",
       "      <td>-1.000000</td>\n",
       "      <td>1.000000</td>\n",
       "      <td>0.255413</td>\n",
       "    </tr>\n",
       "    <tr>\n",
       "      <th>bald_prob</th>\n",
       "      <td>-0.255413</td>\n",
       "      <td>0.255413</td>\n",
       "      <td>1.000000</td>\n",
       "    </tr>\n",
       "  </tbody>\n",
       "</table>\n",
       "</div>"
      ],
      "text/plain": [
       "               gender_female  gender_male  bald_prob\n",
       "gender_female       1.000000    -1.000000  -0.255413\n",
       "gender_male        -1.000000     1.000000   0.255413\n",
       "bald_prob          -0.255413     0.255413   1.000000"
      ]
     },
     "execution_count": 1280,
     "metadata": {},
     "output_type": "execute_result"
    }
   ],
   "source": [
    "df[['gender_female', 'gender_male', 'bald_prob']].corr()"
   ]
  },
  {
   "cell_type": "markdown",
   "metadata": {},
   "source": [
    "Se muestra una leve correlacion a la calvicie por ser hombre y las mujeres muestran una menor probabilidad de calvicie"
   ]
  },
  {
   "cell_type": "markdown",
   "metadata": {},
   "source": [
    "## Job role"
   ]
  },
  {
   "cell_type": "markdown",
   "metadata": {},
   "source": [
    "La columna \"job_role\" muestra 3 opciones posibles, trabajador del estado, empleado corriente o desempleado"
   ]
  },
  {
   "cell_type": "markdown",
   "metadata": {},
   "source": [
    "### Describe"
   ]
  },
  {
   "cell_type": "code",
   "execution_count": 1281,
   "metadata": {},
   "outputs": [
    {
     "data": {
      "text/plain": [
       "count         7018\n",
       "unique           3\n",
       "top       Employee\n",
       "freq          3375\n",
       "Name: job_role, dtype: object"
      ]
     },
     "execution_count": 1281,
     "metadata": {},
     "output_type": "execute_result"
    }
   ],
   "source": [
    "df[\"job_role\"].describe()"
   ]
  },
  {
   "cell_type": "markdown",
   "metadata": {},
   "source": [
    "### Analisis grafico"
   ]
  },
  {
   "cell_type": "code",
   "execution_count": 1282,
   "metadata": {},
   "outputs": [
    {
     "data": {
      "image/png": "[encoded data removed]",
      "text/plain": [
       "<Figure size 1200x600 with 1 Axes>"
      ]
     },
     "metadata": {},
     "output_type": "display_data"
    }
   ],
   "source": [
    "plt.figure(figsize=(12, 6))\n",
    "sns.countplot(x=\"job_role\", hue=\"baldness\", data=df)\n",
    "\n",
    "for p in plt.gca().patches:\n",
    "    height = p.get_height()\n",
    "    p.set_height(height)\n",
    "plt.title('Distribucion de bald segun el puesto de trabajo')\n",
    "plt.xticks(rotation=90)\n",
    "plt.show()"
   ]
  },
  {
   "cell_type": "markdown",
   "metadata": {},
   "source": [
    "#### Porcentajes"
   ]
  },
  {
   "cell_type": "code",
   "execution_count": 1283,
   "metadata": {},
   "outputs": [
    {
     "name": "stdout",
     "output_type": "stream",
     "text": [
      "Government Employee: 3308/7018 (0.47%)\n",
      "Employee: 3375/7018 (0.48%)\n",
      "Jobless: 335/7018 (0.05%)\n",
      "\n",
      "Porcentaje de personas con mas de un 50% de probabilidades de ser calvo en:\n",
      "\tGoverment Employee: 74.06%\n",
      "\tEmployee: 54.28%\n",
      "\tJobless: 89.85%\n"
     ]
    }
   ],
   "source": [
    "jobs = mostrar_jobs()\n",
    "baldPercentageGov = df[\"baldness\"][df[\"job_role\"] == \"Government Employee\"].value_counts(normalize=True)[\"Si\"]\n",
    "baldPercentageEmp = df[\"baldness\"][df[\"job_role\"] == \"Employee\"].value_counts(normalize=True)[\"Si\"]\n",
    "baldPercentageJobless = df[\"baldness\"][df[\"job_role\"] == \"Jobless\"].value_counts(normalize=True)[\"Si\"]\n",
    "print(\"\\nPorcentaje de personas con mas de un 50% de probabilidades de ser calvo en:\")\n",
    "print(f\"\\tGoverment Employee: {baldPercentageGov * 100:.2f}%\")\n",
    "print(f\"\\tEmployee: {baldPercentageEmp * 100:.2f}%\")\n",
    "print(f\"\\tJobless: {baldPercentageJobless * 100:.2f}%\")"
   ]
  },
  {
   "cell_type": "markdown",
   "metadata": {},
   "source": [
    "### Correlacion"
   ]
  },
  {
   "cell_type": "code",
   "execution_count": 1284,
   "metadata": {},
   "outputs": [
    {
     "data": {
      "text/html": [
       "<div>\n",
       "<style scoped>\n",
       "    .dataframe tbody tr th:only-of-type {\n",
       "        vertical-align: middle;\n",
       "    }\n",
       "\n",
       "    .dataframe tbody tr th {\n",
       "        vertical-align: top;\n",
       "    }\n",
       "\n",
       "    .dataframe thead th {\n",
       "        text-align: right;\n",
       "    }\n",
       "</style>\n",
       "<table border=\"1\" class=\"dataframe\">\n",
       "  <thead>\n",
       "    <tr style=\"text-align: right;\">\n",
       "      <th></th>\n",
       "      <th>age</th>\n",
       "      <th>province</th>\n",
       "      <th>salary</th>\n",
       "      <th>is_married</th>\n",
       "      <th>is_hereditary</th>\n",
       "      <th>weight</th>\n",
       "      <th>height</th>\n",
       "      <th>shampoo</th>\n",
       "      <th>is_smoker</th>\n",
       "      <th>education</th>\n",
       "      <th>stress</th>\n",
       "      <th>bald_prob</th>\n",
       "      <th>baldness</th>\n",
       "      <th>gender_female</th>\n",
       "      <th>gender_male</th>\n",
       "      <th>job_role_Employee</th>\n",
       "      <th>job_role_Government Employee</th>\n",
       "      <th>job_role_Jobless</th>\n",
       "    </tr>\n",
       "  </thead>\n",
       "  <tbody>\n",
       "    <tr>\n",
       "      <th>0</th>\n",
       "      <td>27.0</td>\n",
       "      <td>Bengkulu</td>\n",
       "      <td>7.957453e+06</td>\n",
       "      <td>1.0</td>\n",
       "      <td>0.0</td>\n",
       "      <td>54.315053</td>\n",
       "      <td>170.428542</td>\n",
       "      <td>Pantone</td>\n",
       "      <td>1.0</td>\n",
       "      <td>Bachelor Degree</td>\n",
       "      <td>5.0</td>\n",
       "      <td>0.605974</td>\n",
       "      <td>Si</td>\n",
       "      <td>1</td>\n",
       "      <td>0</td>\n",
       "      <td>0</td>\n",
       "      <td>1</td>\n",
       "      <td>0</td>\n",
       "    </tr>\n",
       "    <tr>\n",
       "      <th>1</th>\n",
       "      <td>53.0</td>\n",
       "      <td>Bandung</td>\n",
       "      <td>7.633003e+06</td>\n",
       "      <td>1.0</td>\n",
       "      <td>0.0</td>\n",
       "      <td>72.873404</td>\n",
       "      <td>165.530097</td>\n",
       "      <td>Pantone</td>\n",
       "      <td>0.0</td>\n",
       "      <td>Bachelor Degree</td>\n",
       "      <td>7.0</td>\n",
       "      <td>0.532860</td>\n",
       "      <td>Si</td>\n",
       "      <td>1</td>\n",
       "      <td>0</td>\n",
       "      <td>0</td>\n",
       "      <td>1</td>\n",
       "      <td>0</td>\n",
       "    </tr>\n",
       "    <tr>\n",
       "      <th>2</th>\n",
       "      <td>37.0</td>\n",
       "      <td>Bandung</td>\n",
       "      <td>6.637625e+06</td>\n",
       "      <td>1.0</td>\n",
       "      <td>0.0</td>\n",
       "      <td>46.321533</td>\n",
       "      <td>154.599388</td>\n",
       "      <td>Moonsilk</td>\n",
       "      <td>0.0</td>\n",
       "      <td>Bachelor Degree</td>\n",
       "      <td>4.0</td>\n",
       "      <td>0.418442</td>\n",
       "      <td>No</td>\n",
       "      <td>1</td>\n",
       "      <td>0</td>\n",
       "      <td>1</td>\n",
       "      <td>0</td>\n",
       "      <td>0</td>\n",
       "    </tr>\n",
       "    <tr>\n",
       "      <th>3</th>\n",
       "      <td>36.0</td>\n",
       "      <td>Palu</td>\n",
       "      <td>3.624871e+06</td>\n",
       "      <td>1.0</td>\n",
       "      <td>0.0</td>\n",
       "      <td>51.539781</td>\n",
       "      <td>167.340481</td>\n",
       "      <td>Deadbuoy</td>\n",
       "      <td>1.0</td>\n",
       "      <td>Elementary School</td>\n",
       "      <td>9.0</td>\n",
       "      <td>0.804050</td>\n",
       "      <td>Si</td>\n",
       "      <td>1</td>\n",
       "      <td>0</td>\n",
       "      <td>0</td>\n",
       "      <td>0</td>\n",
       "      <td>1</td>\n",
       "    </tr>\n",
       "    <tr>\n",
       "      <th>4</th>\n",
       "      <td>38.0</td>\n",
       "      <td>Palangkaraya</td>\n",
       "      <td>6.031808e+06</td>\n",
       "      <td>1.0</td>\n",
       "      <td>0.0</td>\n",
       "      <td>60.726909</td>\n",
       "      <td>165.514773</td>\n",
       "      <td>Merpati</td>\n",
       "      <td>1.0</td>\n",
       "      <td>Magister Degree</td>\n",
       "      <td>1.0</td>\n",
       "      <td>0.368371</td>\n",
       "      <td>No</td>\n",
       "      <td>0</td>\n",
       "      <td>1</td>\n",
       "      <td>1</td>\n",
       "      <td>0</td>\n",
       "      <td>0</td>\n",
       "    </tr>\n",
       "  </tbody>\n",
       "</table>\n",
       "</div>"
      ],
      "text/plain": [
       "    age      province        salary  is_married  is_hereditary     weight  \\\n",
       "0  27.0      Bengkulu  7.957453e+06         1.0            0.0  54.315053   \n",
       "1  53.0       Bandung  7.633003e+06         1.0            0.0  72.873404   \n",
       "2  37.0       Bandung  6.637625e+06         1.0            0.0  46.321533   \n",
       "3  36.0          Palu  3.624871e+06         1.0            0.0  51.539781   \n",
       "4  38.0  Palangkaraya  6.031808e+06         1.0            0.0  60.726909   \n",
       "\n",
       "       height   shampoo  is_smoker          education  stress  bald_prob  \\\n",
       "0  170.428542   Pantone        1.0    Bachelor Degree     5.0   0.605974   \n",
       "1  165.530097   Pantone        0.0    Bachelor Degree     7.0   0.532860   \n",
       "2  154.599388  Moonsilk        0.0    Bachelor Degree     4.0   0.418442   \n",
       "3  167.340481  Deadbuoy        1.0  Elementary School     9.0   0.804050   \n",
       "4  165.514773   Merpati        1.0    Magister Degree     1.0   0.368371   \n",
       "\n",
       "  baldness  gender_female  gender_male  job_role_Employee  \\\n",
       "0       Si              1            0                  0   \n",
       "1       Si              1            0                  0   \n",
       "2       No              1            0                  1   \n",
       "3       Si              1            0                  0   \n",
       "4       No              0            1                  1   \n",
       "\n",
       "   job_role_Government Employee  job_role_Jobless  \n",
       "0                             1                 0  \n",
       "1                             1                 0  \n",
       "2                             0                 0  \n",
       "3                             0                 1  \n",
       "4                             0                 0  "
      ]
     },
     "execution_count": 1284,
     "metadata": {},
     "output_type": "execute_result"
    }
   ],
   "source": [
    "df = pd.get_dummies(df, columns=['job_role'], dtype=int)\n",
    "df.head(5)"
   ]
  },
  {
   "cell_type": "code",
   "execution_count": 1285,
   "metadata": {},
   "outputs": [
    {
     "data": {
      "text/html": [
       "<div>\n",
       "<style scoped>\n",
       "    .dataframe tbody tr th:only-of-type {\n",
       "        vertical-align: middle;\n",
       "    }\n",
       "\n",
       "    .dataframe tbody tr th {\n",
       "        vertical-align: top;\n",
       "    }\n",
       "\n",
       "    .dataframe thead th {\n",
       "        text-align: right;\n",
       "    }\n",
       "</style>\n",
       "<table border=\"1\" class=\"dataframe\">\n",
       "  <thead>\n",
       "    <tr style=\"text-align: right;\">\n",
       "      <th></th>\n",
       "      <th>job_role_Government Employee</th>\n",
       "      <th>job_role_Employee</th>\n",
       "      <th>job_role_Jobless</th>\n",
       "      <th>bald_prob</th>\n",
       "    </tr>\n",
       "  </thead>\n",
       "  <tbody>\n",
       "    <tr>\n",
       "      <th>job_role_Government Employee</th>\n",
       "      <td>1.000000</td>\n",
       "      <td>-0.908873</td>\n",
       "      <td>-0.211413</td>\n",
       "      <td>0.162972</td>\n",
       "    </tr>\n",
       "    <tr>\n",
       "      <th>job_role_Employee</th>\n",
       "      <td>-0.908873</td>\n",
       "      <td>1.000000</td>\n",
       "      <td>-0.215498</td>\n",
       "      <td>-0.289183</td>\n",
       "    </tr>\n",
       "    <tr>\n",
       "      <th>job_role_Jobless</th>\n",
       "      <td>-0.211413</td>\n",
       "      <td>-0.215498</td>\n",
       "      <td>1.000000</td>\n",
       "      <td>0.296119</td>\n",
       "    </tr>\n",
       "    <tr>\n",
       "      <th>bald_prob</th>\n",
       "      <td>0.162972</td>\n",
       "      <td>-0.289183</td>\n",
       "      <td>0.296119</td>\n",
       "      <td>1.000000</td>\n",
       "    </tr>\n",
       "  </tbody>\n",
       "</table>\n",
       "</div>"
      ],
      "text/plain": [
       "                              job_role_Government Employee  job_role_Employee  \\\n",
       "job_role_Government Employee                      1.000000          -0.908873   \n",
       "job_role_Employee                                -0.908873           1.000000   \n",
       "job_role_Jobless                                 -0.211413          -0.215498   \n",
       "bald_prob                                         0.162972          -0.289183   \n",
       "\n",
       "                              job_role_Jobless  bald_prob  \n",
       "job_role_Government Employee         -0.211413   0.162972  \n",
       "job_role_Employee                    -0.215498  -0.289183  \n",
       "job_role_Jobless                      1.000000   0.296119  \n",
       "bald_prob                             0.296119   1.000000  "
      ]
     },
     "execution_count": 1285,
     "metadata": {},
     "output_type": "execute_result"
    }
   ],
   "source": [
    "df[['job_role_Government Employee', 'job_role_Employee', 'job_role_Jobless', 'bald_prob']].corr()"
   ]
  },
  {
   "cell_type": "markdown",
   "metadata": {},
   "source": [
    "La probabilidad de calvicie parece ser ligeramente mayor entre los desempleados y ligeramente menor entre los empleados. Sin embargo, la relacion no es tan fuerte."
   ]
  },
  {
   "cell_type": "markdown",
   "metadata": {},
   "source": [
    "## Is Married"
   ]
  },
  {
   "cell_type": "markdown",
   "metadata": {},
   "source": [
    "La columna \"is_married\" nos muestra si la persona esta casada (1) o no (0)"
   ]
  },
  {
   "cell_type": "markdown",
   "metadata": {},
   "source": [
    "### Describe"
   ]
  },
  {
   "cell_type": "code",
   "execution_count": 1286,
   "metadata": {},
   "outputs": [
    {
     "data": {
      "text/plain": [
       "count    7018.000000\n",
       "mean        0.979909\n",
       "std         0.140322\n",
       "min         0.000000\n",
       "25%         1.000000\n",
       "50%         1.000000\n",
       "75%         1.000000\n",
       "max         1.000000\n",
       "Name: is_married, dtype: float64"
      ]
     },
     "execution_count": 1286,
     "metadata": {},
     "output_type": "execute_result"
    }
   ],
   "source": [
    "df[\"is_married\"].describe()"
   ]
  },
  {
   "cell_type": "markdown",
   "metadata": {},
   "source": [
    "### Analisis grafico"
   ]
  },
  {
   "cell_type": "code",
   "execution_count": 1287,
   "metadata": {},
   "outputs": [
    {
     "data": {
      "image/png": "[encoded data removed]",
      "text/plain": [
       "<Figure size 1200x600 with 1 Axes>"
      ]
     },
     "metadata": {},
     "output_type": "display_data"
    }
   ],
   "source": [
    "plt.figure(figsize=(12, 6))\n",
    "sns.countplot(x=\"is_married\", hue=\"baldness\", data=df)\n",
    "\n",
    "for p in plt.gca().patches:\n",
    "    height = p.get_height()\n",
    "    p.set_height(height)\n",
    "plt.title('Distribucion de bald segun el estado civil (casado o no casado)')\n",
    "plt.xticks(rotation=90)\n",
    "plt.show()"
   ]
  },
  {
   "cell_type": "code",
   "execution_count": 1288,
   "metadata": {},
   "outputs": [
    {
     "name": "stdout",
     "output_type": "stream",
     "text": [
      "Casados: 6877/7018 (97.99%)\n",
      "No casados: 141/7018 (2.01%)\n",
      "\n",
      "Porcentaje de calvos en casados: 66.12%\n",
      "Porcentaje de calvos en no casados: 25.53%\n"
     ]
    }
   ],
   "source": [
    "married = df[\"is_married\"][df[\"is_married\"] == 1].count()\n",
    "notMarried = df[\"is_married\"][df[\"is_married\"] == 0].count()\n",
    "total = married + notMarried\n",
    "notMarriedBald = df[\"baldness\"][df[\"is_married\"] == 0].value_counts(normalize=True)[\"Si\"]\n",
    "marriedBald = df[\"baldness\"][df[\"is_married\"] == 1].value_counts(normalize=True)[\"Si\"]\n",
    "\n",
    "print(f\"Casados: {married}/{total} ({married/total*100:0.2f}%)\\nNo casados: {notMarried}/{total} ({notMarried/total*100:0.2f}%)\")\n",
    "print(f\"\\nPorcentaje de calvos en casados: {marriedBald*100:.2f}%\")\n",
    "print(f\"Porcentaje de calvos en no casados: {notMarriedBald*100:.2f}%\")"
   ]
  },
  {
   "cell_type": "markdown",
   "metadata": {},
   "source": [
    "Aunque no hay suficientes datos como para darlo por hecho, las personas no casadas muestran una menor probabilidad de quedarse calvos."
   ]
  },
  {
   "cell_type": "markdown",
   "metadata": {},
   "source": [
    "## Province"
   ]
  },
  {
   "cell_type": "markdown",
   "metadata": {},
   "source": [
    "Muestra la capital de Indonesia de la persona que se hizo el analisis."
   ]
  },
  {
   "cell_type": "code",
   "execution_count": 1289,
   "metadata": {},
   "outputs": [
    {
     "data": {
      "text/plain": [
       "array(['Bengkulu', 'Bandung', 'Palu', 'Palangkaraya', 'Serang',\n",
       "       'Banda Aceh', 'Palembang', 'Kupang', 'Sofifi', 'Ambon',\n",
       "       'Tanjungselor', 'Tanjung Pinang', 'Banjarmasin', 'Denpasar',\n",
       "       'Mamuju', 'Pangkalpinang', 'Yogyakarta', 'Makassar', 'Pontianak',\n",
       "       'Mataram', 'Manokwari', 'Gorontalo', 'Semarang', 'Surabaya',\n",
       "       'Jakarta', 'Banda Lampung', 'Jayapura', 'Pekanbaru', 'Jambi',\n",
       "       'Manado', 'Medan', 'Kendari', 'Samarinda', 'Padang'], dtype=object)"
      ]
     },
     "execution_count": 1289,
     "metadata": {},
     "output_type": "execute_result"
    }
   ],
   "source": [
    "df[\"province\"].unique()"
   ]
  },
  {
   "cell_type": "markdown",
   "metadata": {},
   "source": [
    "## Representacion grafica"
   ]
  },
  {
   "cell_type": "code",
   "execution_count": 1290,
   "metadata": {},
   "outputs": [
    {
     "data": {
      "image/png": "[encoded data removed]",
      "text/plain": [
       "<Figure size 1200x600 with 1 Axes>"
      ]
     },
     "metadata": {},
     "output_type": "display_data"
    }
   ],
   "source": [
    "ordenadoPorBaldPositivo = df[\"province\"][df[\"baldness\"] == \"Si\"].value_counts().index\n",
    "\n",
    "plt.figure(figsize=(12, 6))\n",
    "sns.countplot(x=\"province\", hue=\"baldness\", data=df, order=ordenadoPorBaldPositivo)\n",
    "\n",
    "for p in plt.gca().patches:\n",
    "    height = p.get_height()\n",
    "    p.set_height(height)\n",
    "plt.title('Distribucion de bald segun la provincia')\n",
    "plt.xticks(rotation=90)\n",
    "plt.show()"
   ]
  },
  {
   "cell_type": "markdown",
   "metadata": {},
   "source": [
    "En esta representacion descendente de personas con mas de un 50% de probabilidades de quedarse calvo, los datos no estan pronunciadamente sesgados."
   ]
  },
  {
   "cell_type": "markdown",
   "metadata": {},
   "source": [
    "### Vamos a mostrar la media de probabilidad de calvicie por provincia"
   ]
  },
  {
   "cell_type": "code",
   "execution_count": 1291,
   "metadata": {},
   "outputs": [
    {
     "data": {
      "text/plain": [
       "count    34.000000\n",
       "mean      0.573955\n",
       "std       0.010876\n",
       "min       0.538143\n",
       "25%       0.569712\n",
       "50%       0.574933\n",
       "75%       0.578098\n",
       "max       0.595227\n",
       "Name: bald_prob, dtype: float64"
      ]
     },
     "execution_count": 1291,
     "metadata": {},
     "output_type": "execute_result"
    }
   ],
   "source": [
    "mediasPorProvincia = df.groupby(df[\"province\"])[\"bald_prob\"].mean()\n",
    "mediasPorProvincia.describe()"
   ]
  },
  {
   "cell_type": "markdown",
   "metadata": {},
   "source": [
    "Como vemos, la media de cada provincia esta entre el 53% y el 59%"
   ]
  },
  {
   "cell_type": "markdown",
   "metadata": {},
   "source": [
    "### One hot encoding"
   ]
  },
  {
   "cell_type": "markdown",
   "metadata": {},
   "source": [
    "Como no hay provicias que sean mas propensas a tener mas probabilidad de calvos que otras, vamos a aplicar one hot encoding para no dar mas importancia a unas provincias que otras."
   ]
  },
  {
   "cell_type": "code",
   "execution_count": 1292,
   "metadata": {},
   "outputs": [
    {
     "data": {
      "text/html": [
       "<div>\n",
       "<style scoped>\n",
       "    .dataframe tbody tr th:only-of-type {\n",
       "        vertical-align: middle;\n",
       "    }\n",
       "\n",
       "    .dataframe tbody tr th {\n",
       "        vertical-align: top;\n",
       "    }\n",
       "\n",
       "    .dataframe thead th {\n",
       "        text-align: right;\n",
       "    }\n",
       "</style>\n",
       "<table border=\"1\" class=\"dataframe\">\n",
       "  <thead>\n",
       "    <tr style=\"text-align: right;\">\n",
       "      <th></th>\n",
       "      <th>age</th>\n",
       "      <th>salary</th>\n",
       "      <th>is_married</th>\n",
       "      <th>is_hereditary</th>\n",
       "      <th>weight</th>\n",
       "      <th>height</th>\n",
       "      <th>shampoo</th>\n",
       "      <th>is_smoker</th>\n",
       "      <th>education</th>\n",
       "      <th>stress</th>\n",
       "      <th>bald_prob</th>\n",
       "      <th>baldness</th>\n",
       "      <th>gender_female</th>\n",
       "      <th>gender_male</th>\n",
       "      <th>job_role_Employee</th>\n",
       "      <th>job_role_Government Employee</th>\n",
       "      <th>job_role_Jobless</th>\n",
       "      <th>province_Ambon</th>\n",
       "      <th>province_Banda Aceh</th>\n",
       "      <th>province_Banda Lampung</th>\n",
       "      <th>province_Bandung</th>\n",
       "      <th>province_Banjarmasin</th>\n",
       "      <th>province_Bengkulu</th>\n",
       "      <th>province_Denpasar</th>\n",
       "      <th>province_Gorontalo</th>\n",
       "      <th>province_Jakarta</th>\n",
       "      <th>province_Jambi</th>\n",
       "      <th>province_Jayapura</th>\n",
       "      <th>province_Kendari</th>\n",
       "      <th>province_Kupang</th>\n",
       "      <th>province_Makassar</th>\n",
       "      <th>province_Mamuju</th>\n",
       "      <th>province_Manado</th>\n",
       "      <th>province_Manokwari</th>\n",
       "      <th>province_Mataram</th>\n",
       "      <th>province_Medan</th>\n",
       "      <th>province_Padang</th>\n",
       "      <th>province_Palangkaraya</th>\n",
       "      <th>province_Palembang</th>\n",
       "      <th>province_Palu</th>\n",
       "      <th>province_Pangkalpinang</th>\n",
       "      <th>province_Pekanbaru</th>\n",
       "      <th>province_Pontianak</th>\n",
       "      <th>province_Samarinda</th>\n",
       "      <th>province_Semarang</th>\n",
       "      <th>province_Serang</th>\n",
       "      <th>province_Sofifi</th>\n",
       "      <th>province_Surabaya</th>\n",
       "      <th>province_Tanjung Pinang</th>\n",
       "      <th>province_Tanjungselor</th>\n",
       "      <th>province_Yogyakarta</th>\n",
       "    </tr>\n",
       "  </thead>\n",
       "  <tbody>\n",
       "    <tr>\n",
       "      <th>0</th>\n",
       "      <td>27.0</td>\n",
       "      <td>7.957453e+06</td>\n",
       "      <td>1.0</td>\n",
       "      <td>0.0</td>\n",
       "      <td>54.315053</td>\n",
       "      <td>170.428542</td>\n",
       "      <td>Pantone</td>\n",
       "      <td>1.0</td>\n",
       "      <td>Bachelor Degree</td>\n",
       "      <td>5.0</td>\n",
       "      <td>0.605974</td>\n",
       "      <td>Si</td>\n",
       "      <td>1</td>\n",
       "      <td>0</td>\n",
       "      <td>0</td>\n",
       "      <td>1</td>\n",
       "      <td>0</td>\n",
       "      <td>0</td>\n",
       "      <td>0</td>\n",
       "      <td>0</td>\n",
       "      <td>0</td>\n",
       "      <td>0</td>\n",
       "      <td>1</td>\n",
       "      <td>0</td>\n",
       "      <td>0</td>\n",
       "      <td>0</td>\n",
       "      <td>0</td>\n",
       "      <td>0</td>\n",
       "      <td>0</td>\n",
       "      <td>0</td>\n",
       "      <td>0</td>\n",
       "      <td>0</td>\n",
       "      <td>0</td>\n",
       "      <td>0</td>\n",
       "      <td>0</td>\n",
       "      <td>0</td>\n",
       "      <td>0</td>\n",
       "      <td>0</td>\n",
       "      <td>0</td>\n",
       "      <td>0</td>\n",
       "      <td>0</td>\n",
       "      <td>0</td>\n",
       "      <td>0</td>\n",
       "      <td>0</td>\n",
       "      <td>0</td>\n",
       "      <td>0</td>\n",
       "      <td>0</td>\n",
       "      <td>0</td>\n",
       "      <td>0</td>\n",
       "      <td>0</td>\n",
       "      <td>0</td>\n",
       "    </tr>\n",
       "    <tr>\n",
       "      <th>1</th>\n",
       "      <td>53.0</td>\n",
       "      <td>7.633003e+06</td>\n",
       "      <td>1.0</td>\n",
       "      <td>0.0</td>\n",
       "      <td>72.873404</td>\n",
       "      <td>165.530097</td>\n",
       "      <td>Pantone</td>\n",
       "      <td>0.0</td>\n",
       "      <td>Bachelor Degree</td>\n",
       "      <td>7.0</td>\n",
       "      <td>0.532860</td>\n",
       "      <td>Si</td>\n",
       "      <td>1</td>\n",
       "      <td>0</td>\n",
       "      <td>0</td>\n",
       "      <td>1</td>\n",
       "      <td>0</td>\n",
       "      <td>0</td>\n",
       "      <td>0</td>\n",
       "      <td>0</td>\n",
       "      <td>1</td>\n",
       "      <td>0</td>\n",
       "      <td>0</td>\n",
       "      <td>0</td>\n",
       "      <td>0</td>\n",
       "      <td>0</td>\n",
       "      <td>0</td>\n",
       "      <td>0</td>\n",
       "      <td>0</td>\n",
       "      <td>0</td>\n",
       "      <td>0</td>\n",
       "      <td>0</td>\n",
       "      <td>0</td>\n",
       "      <td>0</td>\n",
       "      <td>0</td>\n",
       "      <td>0</td>\n",
       "      <td>0</td>\n",
       "      <td>0</td>\n",
       "      <td>0</td>\n",
       "      <td>0</td>\n",
       "      <td>0</td>\n",
       "      <td>0</td>\n",
       "      <td>0</td>\n",
       "      <td>0</td>\n",
       "      <td>0</td>\n",
       "      <td>0</td>\n",
       "      <td>0</td>\n",
       "      <td>0</td>\n",
       "      <td>0</td>\n",
       "      <td>0</td>\n",
       "      <td>0</td>\n",
       "    </tr>\n",
       "    <tr>\n",
       "      <th>2</th>\n",
       "      <td>37.0</td>\n",
       "      <td>6.637625e+06</td>\n",
       "      <td>1.0</td>\n",
       "      <td>0.0</td>\n",
       "      <td>46.321533</td>\n",
       "      <td>154.599388</td>\n",
       "      <td>Moonsilk</td>\n",
       "      <td>0.0</td>\n",
       "      <td>Bachelor Degree</td>\n",
       "      <td>4.0</td>\n",
       "      <td>0.418442</td>\n",
       "      <td>No</td>\n",
       "      <td>1</td>\n",
       "      <td>0</td>\n",
       "      <td>1</td>\n",
       "      <td>0</td>\n",
       "      <td>0</td>\n",
       "      <td>0</td>\n",
       "      <td>0</td>\n",
       "      <td>0</td>\n",
       "      <td>1</td>\n",
       "      <td>0</td>\n",
       "      <td>0</td>\n",
       "      <td>0</td>\n",
       "      <td>0</td>\n",
       "      <td>0</td>\n",
       "      <td>0</td>\n",
       "      <td>0</td>\n",
       "      <td>0</td>\n",
       "      <td>0</td>\n",
       "      <td>0</td>\n",
       "      <td>0</td>\n",
       "      <td>0</td>\n",
       "      <td>0</td>\n",
       "      <td>0</td>\n",
       "      <td>0</td>\n",
       "      <td>0</td>\n",
       "      <td>0</td>\n",
       "      <td>0</td>\n",
       "      <td>0</td>\n",
       "      <td>0</td>\n",
       "      <td>0</td>\n",
       "      <td>0</td>\n",
       "      <td>0</td>\n",
       "      <td>0</td>\n",
       "      <td>0</td>\n",
       "      <td>0</td>\n",
       "      <td>0</td>\n",
       "      <td>0</td>\n",
       "      <td>0</td>\n",
       "      <td>0</td>\n",
       "    </tr>\n",
       "    <tr>\n",
       "      <th>3</th>\n",
       "      <td>36.0</td>\n",
       "      <td>3.624871e+06</td>\n",
       "      <td>1.0</td>\n",
       "      <td>0.0</td>\n",
       "      <td>51.539781</td>\n",
       "      <td>167.340481</td>\n",
       "      <td>Deadbuoy</td>\n",
       "      <td>1.0</td>\n",
       "      <td>Elementary School</td>\n",
       "      <td>9.0</td>\n",
       "      <td>0.804050</td>\n",
       "      <td>Si</td>\n",
       "      <td>1</td>\n",
       "      <td>0</td>\n",
       "      <td>0</td>\n",
       "      <td>0</td>\n",
       "      <td>1</td>\n",
       "      <td>0</td>\n",
       "      <td>0</td>\n",
       "      <td>0</td>\n",
       "      <td>0</td>\n",
       "      <td>0</td>\n",
       "      <td>0</td>\n",
       "      <td>0</td>\n",
       "      <td>0</td>\n",
       "      <td>0</td>\n",
       "      <td>0</td>\n",
       "      <td>0</td>\n",
       "      <td>0</td>\n",
       "      <td>0</td>\n",
       "      <td>0</td>\n",
       "      <td>0</td>\n",
       "      <td>0</td>\n",
       "      <td>0</td>\n",
       "      <td>0</td>\n",
       "      <td>0</td>\n",
       "      <td>0</td>\n",
       "      <td>0</td>\n",
       "      <td>0</td>\n",
       "      <td>1</td>\n",
       "      <td>0</td>\n",
       "      <td>0</td>\n",
       "      <td>0</td>\n",
       "      <td>0</td>\n",
       "      <td>0</td>\n",
       "      <td>0</td>\n",
       "      <td>0</td>\n",
       "      <td>0</td>\n",
       "      <td>0</td>\n",
       "      <td>0</td>\n",
       "      <td>0</td>\n",
       "    </tr>\n",
       "    <tr>\n",
       "      <th>4</th>\n",
       "      <td>38.0</td>\n",
       "      <td>6.031808e+06</td>\n",
       "      <td>1.0</td>\n",
       "      <td>0.0</td>\n",
       "      <td>60.726909</td>\n",
       "      <td>165.514773</td>\n",
       "      <td>Merpati</td>\n",
       "      <td>1.0</td>\n",
       "      <td>Magister Degree</td>\n",
       "      <td>1.0</td>\n",
       "      <td>0.368371</td>\n",
       "      <td>No</td>\n",
       "      <td>0</td>\n",
       "      <td>1</td>\n",
       "      <td>1</td>\n",
       "      <td>0</td>\n",
       "      <td>0</td>\n",
       "      <td>0</td>\n",
       "      <td>0</td>\n",
       "      <td>0</td>\n",
       "      <td>0</td>\n",
       "      <td>0</td>\n",
       "      <td>0</td>\n",
       "      <td>0</td>\n",
       "      <td>0</td>\n",
       "      <td>0</td>\n",
       "      <td>0</td>\n",
       "      <td>0</td>\n",
       "      <td>0</td>\n",
       "      <td>0</td>\n",
       "      <td>0</td>\n",
       "      <td>0</td>\n",
       "      <td>0</td>\n",
       "      <td>0</td>\n",
       "      <td>0</td>\n",
       "      <td>0</td>\n",
       "      <td>0</td>\n",
       "      <td>1</td>\n",
       "      <td>0</td>\n",
       "      <td>0</td>\n",
       "      <td>0</td>\n",
       "      <td>0</td>\n",
       "      <td>0</td>\n",
       "      <td>0</td>\n",
       "      <td>0</td>\n",
       "      <td>0</td>\n",
       "      <td>0</td>\n",
       "      <td>0</td>\n",
       "      <td>0</td>\n",
       "      <td>0</td>\n",
       "      <td>0</td>\n",
       "    </tr>\n",
       "  </tbody>\n",
       "</table>\n",
       "</div>"
      ],
      "text/plain": [
       "    age        salary  is_married  is_hereditary     weight      height  \\\n",
       "0  27.0  7.957453e+06         1.0            0.0  54.315053  170.428542   \n",
       "1  53.0  7.633003e+06         1.0            0.0  72.873404  165.530097   \n",
       "2  37.0  6.637625e+06         1.0            0.0  46.321533  154.599388   \n",
       "3  36.0  3.624871e+06         1.0            0.0  51.539781  167.340481   \n",
       "4  38.0  6.031808e+06         1.0            0.0  60.726909  165.514773   \n",
       "\n",
       "    shampoo  is_smoker          education  stress  bald_prob baldness  \\\n",
       "0   Pantone        1.0    Bachelor Degree     5.0   0.605974       Si   \n",
       "1   Pantone        0.0    Bachelor Degree     7.0   0.532860       Si   \n",
       "2  Moonsilk        0.0    Bachelor Degree     4.0   0.418442       No   \n",
       "3  Deadbuoy        1.0  Elementary School     9.0   0.804050       Si   \n",
       "4   Merpati        1.0    Magister Degree     1.0   0.368371       No   \n",
       "\n",
       "   gender_female  gender_male  job_role_Employee  \\\n",
       "0              1            0                  0   \n",
       "1              1            0                  0   \n",
       "2              1            0                  1   \n",
       "3              1            0                  0   \n",
       "4              0            1                  1   \n",
       "\n",
       "   job_role_Government Employee  job_role_Jobless  province_Ambon  \\\n",
       "0                             1                 0               0   \n",
       "1                             1                 0               0   \n",
       "2                             0                 0               0   \n",
       "3                             0                 1               0   \n",
       "4                             0                 0               0   \n",
       "\n",
       "   province_Banda Aceh  province_Banda Lampung  province_Bandung  \\\n",
       "0                    0                       0                 0   \n",
       "1                    0                       0                 1   \n",
       "2                    0                       0                 1   \n",
       "3                    0                       0                 0   \n",
       "4                    0                       0                 0   \n",
       "\n",
       "   province_Banjarmasin  province_Bengkulu  province_Denpasar  \\\n",
       "0                     0                  1                  0   \n",
       "1                     0                  0                  0   \n",
       "2                     0                  0                  0   \n",
       "3                     0                  0                  0   \n",
       "4                     0                  0                  0   \n",
       "\n",
       "   province_Gorontalo  province_Jakarta  province_Jambi  province_Jayapura  \\\n",
       "0                   0                 0               0                  0   \n",
       "1                   0                 0               0                  0   \n",
       "2                   0                 0               0                  0   \n",
       "3                   0                 0               0                  0   \n",
       "4                   0                 0               0                  0   \n",
       "\n",
       "   province_Kendari  province_Kupang  province_Makassar  province_Mamuju  \\\n",
       "0                 0                0                  0                0   \n",
       "1                 0                0                  0                0   \n",
       "2                 0                0                  0                0   \n",
       "3                 0                0                  0                0   \n",
       "4                 0                0                  0                0   \n",
       "\n",
       "   province_Manado  province_Manokwari  province_Mataram  province_Medan  \\\n",
       "0                0                   0                 0               0   \n",
       "1                0                   0                 0               0   \n",
       "2                0                   0                 0               0   \n",
       "3                0                   0                 0               0   \n",
       "4                0                   0                 0               0   \n",
       "\n",
       "   province_Padang  province_Palangkaraya  province_Palembang  province_Palu  \\\n",
       "0                0                      0                   0              0   \n",
       "1                0                      0                   0              0   \n",
       "2                0                      0                   0              0   \n",
       "3                0                      0                   0              1   \n",
       "4                0                      1                   0              0   \n",
       "\n",
       "   province_Pangkalpinang  province_Pekanbaru  province_Pontianak  \\\n",
       "0                       0                   0                   0   \n",
       "1                       0                   0                   0   \n",
       "2                       0                   0                   0   \n",
       "3                       0                   0                   0   \n",
       "4                       0                   0                   0   \n",
       "\n",
       "   province_Samarinda  province_Semarang  province_Serang  province_Sofifi  \\\n",
       "0                   0                  0                0                0   \n",
       "1                   0                  0                0                0   \n",
       "2                   0                  0                0                0   \n",
       "3                   0                  0                0                0   \n",
       "4                   0                  0                0                0   \n",
       "\n",
       "   province_Surabaya  province_Tanjung Pinang  province_Tanjungselor  \\\n",
       "0                  0                        0                      0   \n",
       "1                  0                        0                      0   \n",
       "2                  0                        0                      0   \n",
       "3                  0                        0                      0   \n",
       "4                  0                        0                      0   \n",
       "\n",
       "   province_Yogyakarta  \n",
       "0                    0  \n",
       "1                    0  \n",
       "2                    0  \n",
       "3                    0  \n",
       "4                    0  "
      ]
     },
     "execution_count": 1292,
     "metadata": {},
     "output_type": "execute_result"
    }
   ],
   "source": [
    "df = pd.get_dummies(df, columns=['province'], dtype=int)\n",
    "df.head(5)"
   ]
  },
  {
   "cell_type": "markdown",
   "metadata": {},
   "source": [
    "## Salary"
   ]
  },
  {
   "cell_type": "markdown",
   "metadata": {},
   "source": [
    "### Describe"
   ]
  },
  {
   "cell_type": "code",
   "execution_count": 1293,
   "metadata": {},
   "outputs": [
    {
     "data": {
      "text/plain": [
       "count    7.018000e+03\n",
       "mean     8.829976e+06\n",
       "std      4.483586e+06\n",
       "min      1.500000e+06\n",
       "25%      5.711825e+06\n",
       "50%      7.812835e+06\n",
       "75%      1.082371e+07\n",
       "max      5.000000e+07\n",
       "Name: salary, dtype: float64"
      ]
     },
     "execution_count": 1293,
     "metadata": {},
     "output_type": "execute_result"
    }
   ],
   "source": [
    "df[\"salary\"].describe()"
   ]
  },
  {
   "cell_type": "markdown",
   "metadata": {},
   "source": [
    "### Analisis grafico"
   ]
  },
  {
   "cell_type": "code",
   "execution_count": 1294,
   "metadata": {},
   "outputs": [
    {
     "data": {
      "text/plain": [
       "<bound method Series.unique of 0       7.957453e+06\n",
       "1       7.633003e+06\n",
       "2       6.637625e+06\n",
       "3       3.624871e+06\n",
       "4       6.031808e+06\n",
       "            ...     \n",
       "7911    5.326614e+06\n",
       "7912    6.024409e+06\n",
       "7913    1.007043e+07\n",
       "7914    8.010815e+06\n",
       "7916    1.769162e+07\n",
       "Name: salary, Length: 7018, dtype: float64>"
      ]
     },
     "execution_count": 1294,
     "metadata": {},
     "output_type": "execute_result"
    }
   ],
   "source": [
    "df['salary'].unique"
   ]
  },
  {
   "cell_type": "markdown",
   "metadata": {},
   "source": [
    "Primero vamos a separar los sueldos en grupos, debido a la gran cantidad de datos distintos que hay, mi objetivo sera separar los suelos en grupos, estos grupos seran el salarioMax / salarioActual"
   ]
  },
  {
   "cell_type": "code",
   "execution_count": 1295,
   "metadata": {},
   "outputs": [
    {
     "name": "stdout",
     "output_type": "stream",
     "text": [
      "33.333333333333336\n"
     ]
    }
   ],
   "source": [
    "salarioMax = df[\"salary\"].max()\n",
    "salarioMin = df[\"salary\"].min()\n",
    "\n",
    "cantidadDeGrupos = salarioMax / salarioMin\n",
    "print(cantidadDeGrupos)"
   ]
  },
  {
   "cell_type": "markdown",
   "metadata": {},
   "source": [
    "Con esto sabemos que el grupo mas grande de los salarios ha de ser 33"
   ]
  },
  {
   "cell_type": "code",
   "execution_count": 1296,
   "metadata": {},
   "outputs": [
    {
     "data": {
      "text/plain": [
       "count    7018.000000\n",
       "mean        6.530493\n",
       "std         3.347312\n",
       "min         1.000000\n",
       "25%         4.000000\n",
       "50%         6.000000\n",
       "75%         8.000000\n",
       "max        33.000000\n",
       "Name: salary, dtype: float64"
      ]
     },
     "execution_count": 1296,
     "metadata": {},
     "output_type": "execute_result"
    }
   ],
   "source": [
    "df[\"salary\"] = (salarioMax / df[\"salary\"]).astype(int)\n",
    "df[\"salary\"].describe()"
   ]
  },
  {
   "cell_type": "markdown",
   "metadata": {},
   "source": [
    "Ha salido bien, hemos reducido los datos de los sueldos sin perder su esencia"
   ]
  },
  {
   "cell_type": "code",
   "execution_count": 1297,
   "metadata": {},
   "outputs": [
    {
     "data": {
      "image/png": "[encoded data removed]",
      "text/plain": [
       "<Figure size 1200x600 with 1 Axes>"
      ]
     },
     "metadata": {},
     "output_type": "display_data"
    }
   ],
   "source": [
    "plt.figure(figsize=(12, 6))\n",
    "sns.countplot(x=\"salary\", hue=\"baldness\", data=df)\n",
    "\n",
    "for p in plt.gca().patches:\n",
    "    height = p.get_height()\n",
    "    p.set_height(height)\n",
    "plt.title('Distribucion de bald segun el salario')\n",
    "plt.xticks(rotation=90)\n",
    "plt.show()"
   ]
  },
  {
   "cell_type": "code",
   "execution_count": 1298,
   "metadata": {},
   "outputs": [],
   "source": [
    "grupos = df[\"salary\"].unique()\n",
    "grupos = np.sort(grupos)"
   ]
  },
  {
   "cell_type": "markdown",
   "metadata": {},
   "source": [
    "Vamos a comprobar los porcentajes de personas con mas de un 50% de posibilidades de ser bald de todos los grupos salariales para asi ver si realmente la caracteristica salario tiene importancia."
   ]
  },
  {
   "cell_type": "code",
   "execution_count": 1299,
   "metadata": {},
   "outputs": [
    {
     "name": "stdout",
     "output_type": "stream",
     "text": [
      "Porcentaje de calvos en el grupo de salario 1: 71.43%\n",
      "Porcentaje de calvos en el grupo de salario 2: 68.55%\n",
      "Porcentaje de calvos en el grupo de salario 3: 68.54%\n",
      "Porcentaje de calvos en el grupo de salario 4: 66.27%\n",
      "Porcentaje de calvos en el grupo de salario 5: 67.11%\n",
      "Porcentaje de calvos en el grupo de salario 6: 65.94%\n",
      "Porcentaje de calvos en el grupo de salario 7: 64.07%\n",
      "Porcentaje de calvos en el grupo de salario 8: 64.94%\n",
      "Porcentaje de calvos en el grupo de salario 9: 61.01%\n",
      "Porcentaje de calvos en el grupo de salario 10: 59.72%\n",
      "Porcentaje de calvos en el grupo de salario 11: 63.87%\n",
      "Porcentaje de calvos en el grupo de salario 12: 61.31%\n",
      "Porcentaje de calvos en el grupo de salario 13: 64.84%\n",
      "Porcentaje de calvos en el grupo de salario 14: 67.90%\n",
      "Porcentaje de calvos en el grupo de salario 15: 54.24%\n",
      "Porcentaje de calvos en el grupo de salario 16: 60.00%\n",
      "Porcentaje de calvos en el grupo de salario 17: 58.06%\n",
      "Porcentaje de calvos en el grupo de salario 18: 73.68%\n",
      "Porcentaje de calvos en el grupo de salario 19: 70.00%\n",
      "Porcentaje de calvos en el grupo de salario 20: 75.00%\n",
      "Porcentaje de calvos en el grupo de salario 22: 50.00%\n",
      "Porcentaje de calvos en el grupo de salario 23: 16.67%\n",
      "Porcentaje de calvos en el grupo de salario 24: 0.00%\n",
      "Porcentaje de calvos en el grupo de salario 25: 100.00%\n",
      "Porcentaje de calvos en el grupo de salario 29: 0.00%\n",
      "Porcentaje de calvos en el grupo de salario 30: 100.00%\n",
      "Porcentaje de calvos en el grupo de salario 33: 100.00%\n"
     ]
    }
   ],
   "source": [
    "for i in grupos:\n",
    "    bald_counts = df[\"baldness\"][df[\"salary\"] == i].value_counts(normalize=True)\n",
    "    baldPercentageSalary = bald_counts.get(\"Si\", 0)\n",
    "    print(f\"Porcentaje de calvos en el grupo de salario {i}: {baldPercentageSalary * 100:.2f}%\")"
   ]
  },
  {
   "cell_type": "markdown",
   "metadata": {},
   "source": [
    "### Correlacion"
   ]
  },
  {
   "cell_type": "code",
   "execution_count": 1300,
   "metadata": {},
   "outputs": [
    {
     "data": {
      "text/html": [
       "<div>\n",
       "<style scoped>\n",
       "    .dataframe tbody tr th:only-of-type {\n",
       "        vertical-align: middle;\n",
       "    }\n",
       "\n",
       "    .dataframe tbody tr th {\n",
       "        vertical-align: top;\n",
       "    }\n",
       "\n",
       "    .dataframe thead th {\n",
       "        text-align: right;\n",
       "    }\n",
       "</style>\n",
       "<table border=\"1\" class=\"dataframe\">\n",
       "  <thead>\n",
       "    <tr style=\"text-align: right;\">\n",
       "      <th></th>\n",
       "      <th>salary</th>\n",
       "      <th>bald_prob</th>\n",
       "    </tr>\n",
       "  </thead>\n",
       "  <tbody>\n",
       "    <tr>\n",
       "      <th>salary</th>\n",
       "      <td>1.000000</td>\n",
       "      <td>-0.044811</td>\n",
       "    </tr>\n",
       "    <tr>\n",
       "      <th>bald_prob</th>\n",
       "      <td>-0.044811</td>\n",
       "      <td>1.000000</td>\n",
       "    </tr>\n",
       "  </tbody>\n",
       "</table>\n",
       "</div>"
      ],
      "text/plain": [
       "             salary  bald_prob\n",
       "salary     1.000000  -0.044811\n",
       "bald_prob -0.044811   1.000000"
      ]
     },
     "execution_count": 1300,
     "metadata": {},
     "output_type": "execute_result"
    }
   ],
   "source": [
    "df[['salary', 'bald_prob']].corr()"
   ]
  },
  {
   "cell_type": "markdown",
   "metadata": {},
   "source": [
    "Esta columna no tiene ningun tipo de correlacion, siendo esta muy cercana al 0, (-0.04), vamos a prescindir de ella"
   ]
  },
  {
   "cell_type": "code",
   "execution_count": 1301,
   "metadata": {},
   "outputs": [],
   "source": [
    "df = df.drop(columns=['salary'])"
   ]
  },
  {
   "cell_type": "markdown",
   "metadata": {},
   "source": [
    "## Is hereditary"
   ]
  },
  {
   "cell_type": "markdown",
   "metadata": {},
   "source": [
    "### Describe"
   ]
  },
  {
   "cell_type": "code",
   "execution_count": 1302,
   "metadata": {},
   "outputs": [
    {
     "data": {
      "text/plain": [
       "count    7018.000000\n",
       "mean        0.204902\n",
       "std         0.403659\n",
       "min         0.000000\n",
       "25%         0.000000\n",
       "50%         0.000000\n",
       "75%         0.000000\n",
       "max         1.000000\n",
       "Name: is_hereditary, dtype: float64"
      ]
     },
     "execution_count": 1302,
     "metadata": {},
     "output_type": "execute_result"
    }
   ],
   "source": [
    "df[\"is_hereditary\"].describe()"
   ]
  },
  {
   "cell_type": "markdown",
   "metadata": {},
   "source": [
    "### Representacion grafica"
   ]
  },
  {
   "cell_type": "code",
   "execution_count": 1303,
   "metadata": {},
   "outputs": [
    {
     "data": {
      "image/png": "[encoded data removed]",
      "text/plain": [
       "<Figure size 1200x600 with 1 Axes>"
      ]
     },
     "metadata": {},
     "output_type": "display_data"
    }
   ],
   "source": [
    "plt.figure(figsize=(12, 6))\n",
    "sns.countplot(x=\"is_hereditary\", data=df)\n",
    "plt.title('Distribución de age')\n",
    "plt.xticks(rotation=90)\n",
    "plt.show()"
   ]
  },
  {
   "cell_type": "markdown",
   "metadata": {},
   "source": [
    "Vemos que de los datos que tenemos, la gran mayoria son no hereditario"
   ]
  },
  {
   "cell_type": "markdown",
   "metadata": {},
   "source": [
    "Vamos a ver la cantidad de personas con mas de un 50% de bald en personas con bald hereditario y no hereditario"
   ]
  },
  {
   "cell_type": "code",
   "execution_count": 1304,
   "metadata": {},
   "outputs": [
    {
     "name": "stdout",
     "output_type": "stream",
     "text": [
      "No hereditario: 5580/7018 (79.51%)\n",
      "Heredirario: 1438/7018 (20.49%)\n"
     ]
    }
   ],
   "source": [
    "noHeredirario = df[\"is_hereditary\"][df[\"is_hereditary\"] == 0].count()\n",
    "heredirario = df[\"is_hereditary\"][df[\"is_hereditary\"] == 1].count()\n",
    "\n",
    "print(f\"No hereditario: {noHeredirario}/{noHeredirario + heredirario} ({noHeredirario/(noHeredirario + heredirario)*100:.2f}%)\")\n",
    "print(f\"Heredirario: {heredirario}/{noHeredirario + heredirario} ({heredirario/(noHeredirario + heredirario)*100:.2f}%)\")"
   ]
  },
  {
   "cell_type": "code",
   "execution_count": 1305,
   "metadata": {},
   "outputs": [
    {
     "name": "stdout",
     "output_type": "stream",
     "text": [
      "\n",
      "Porcentaje de calvos en no hereditarios: 58.10%\n",
      "Porcentaje de calvos en hereditarios: 93.25%\n"
     ]
    }
   ],
   "source": [
    "noHeredirarioBald = df[\"baldness\"][df[\"is_hereditary\"] == 0].value_counts(normalize=True)[\"Si\"]\n",
    "heredirarioBald = df[\"baldness\"][df[\"is_hereditary\"] == 1].value_counts(normalize=True)[\"Si\"]\n",
    "print(f\"\\nPorcentaje de calvos en no hereditarios: {noHeredirarioBald*100:.2f}%\")\n",
    "print(f\"Porcentaje de calvos en hereditarios: {heredirarioBald*100:.2f}%\")"
   ]
  },
  {
   "cell_type": "markdown",
   "metadata": {},
   "source": [
    "Como vemos, la herencia de bald desarrolla un gran papel en las probabilidades de bald, las personas directamente herederas son muy propensas a tener bald, ya que el 93.25% de ellas tienen mas de un 50% de bald, y en personas no hereditarias, siguen siendo el 58% de las personas las que tienen mas de un 50% de probabilidades de ser bald"
   ]
  },
  {
   "cell_type": "markdown",
   "metadata": {},
   "source": [
    "## Weight"
   ]
  },
  {
   "cell_type": "markdown",
   "metadata": {},
   "source": [
    "### Describe"
   ]
  },
  {
   "cell_type": "code",
   "execution_count": 1306,
   "metadata": {},
   "outputs": [
    {
     "data": {
      "text/plain": [
       "count    7018.000000\n",
       "mean       55.904161\n",
       "std         9.538500\n",
       "min        40.319619\n",
       "25%        49.281156\n",
       "50%        53.808418\n",
       "75%        60.220508\n",
       "max       126.042823\n",
       "Name: weight, dtype: float64"
      ]
     },
     "execution_count": 1306,
     "metadata": {},
     "output_type": "execute_result"
    }
   ],
   "source": [
    "df['weight'].describe()"
   ]
  },
  {
   "cell_type": "markdown",
   "metadata": {},
   "source": [
    "### Analisis grafico"
   ]
  },
  {
   "cell_type": "code",
   "execution_count": 1307,
   "metadata": {},
   "outputs": [
    {
     "data": {
      "text/plain": [
       "<bound method Series.unique of 0       54\n",
       "1       72\n",
       "2       46\n",
       "3       51\n",
       "4       60\n",
       "        ..\n",
       "7911    50\n",
       "7912    44\n",
       "7913    49\n",
       "7914    54\n",
       "7916    81\n",
       "Name: weight, Length: 7018, dtype: int32>"
      ]
     },
     "execution_count": 1307,
     "metadata": {},
     "output_type": "execute_result"
    }
   ],
   "source": [
    "df['weight'] = df['weight'].astype(int)\n",
    "df['weight'].unique"
   ]
  },
  {
   "cell_type": "code",
   "execution_count": 1308,
   "metadata": {},
   "outputs": [
    {
     "data": {
      "image/png": "[encoded data removed]",
      "text/plain": [
       "<Figure size 1200x600 with 1 Axes>"
      ]
     },
     "metadata": {},
     "output_type": "display_data"
    }
   ],
   "source": [
    "plt.figure(figsize=(12, 6))\n",
    "sns.countplot(x=\"weight\", hue=\"baldness\", data=df)\n",
    "\n",
    "for p in plt.gca().patches:\n",
    "    height = p.get_height()\n",
    "    p.set_height(height)\n",
    "plt.title('Distribucion de bald segun el peso')\n",
    "plt.xticks(rotation=90)\n",
    "plt.show()"
   ]
  },
  {
   "cell_type": "markdown",
   "metadata": {},
   "source": [
    "### Vamos a comprobar la correlacion"
   ]
  },
  {
   "cell_type": "code",
   "execution_count": 1309,
   "metadata": {},
   "outputs": [
    {
     "data": {
      "text/html": [
       "<div>\n",
       "<style scoped>\n",
       "    .dataframe tbody tr th:only-of-type {\n",
       "        vertical-align: middle;\n",
       "    }\n",
       "\n",
       "    .dataframe tbody tr th {\n",
       "        vertical-align: top;\n",
       "    }\n",
       "\n",
       "    .dataframe thead th {\n",
       "        text-align: right;\n",
       "    }\n",
       "</style>\n",
       "<table border=\"1\" class=\"dataframe\">\n",
       "  <thead>\n",
       "    <tr style=\"text-align: right;\">\n",
       "      <th></th>\n",
       "      <th>weight</th>\n",
       "      <th>bald_prob</th>\n",
       "    </tr>\n",
       "  </thead>\n",
       "  <tbody>\n",
       "    <tr>\n",
       "      <th>weight</th>\n",
       "      <td>1.000000</td>\n",
       "      <td>-0.003643</td>\n",
       "    </tr>\n",
       "    <tr>\n",
       "      <th>bald_prob</th>\n",
       "      <td>-0.003643</td>\n",
       "      <td>1.000000</td>\n",
       "    </tr>\n",
       "  </tbody>\n",
       "</table>\n",
       "</div>"
      ],
      "text/plain": [
       "             weight  bald_prob\n",
       "weight     1.000000  -0.003643\n",
       "bald_prob -0.003643   1.000000"
      ]
     },
     "execution_count": 1309,
     "metadata": {},
     "output_type": "execute_result"
    }
   ],
   "source": [
    "df[['weight', 'bald_prob']].corr()"
   ]
  },
  {
   "cell_type": "markdown",
   "metadata": {},
   "source": [
    "Como vemos, esta columna tambien tiene una correlacion bajisima con nuestra variable objetivo asi que vamos a eliminarla tambien"
   ]
  },
  {
   "cell_type": "code",
   "execution_count": 1310,
   "metadata": {},
   "outputs": [],
   "source": [
    "df = df.drop(columns=['weight'])"
   ]
  },
  {
   "cell_type": "markdown",
   "metadata": {},
   "source": [
    "## Height"
   ]
  },
  {
   "cell_type": "markdown",
   "metadata": {},
   "source": [
    "Height muestra la altura de las personas en cm"
   ]
  },
  {
   "cell_type": "markdown",
   "metadata": {},
   "source": [
    "Describe"
   ]
  },
  {
   "cell_type": "code",
   "execution_count": 1311,
   "metadata": {},
   "outputs": [
    {
     "data": {
      "text/plain": [
       "count    7018.000000\n",
       "mean      167.255084\n",
       "std        10.922452\n",
       "min       127.993496\n",
       "25%       159.734349\n",
       "50%       167.155658\n",
       "75%       174.437997\n",
       "max       211.285582\n",
       "Name: height, dtype: float64"
      ]
     },
     "execution_count": 1311,
     "metadata": {},
     "output_type": "execute_result"
    }
   ],
   "source": [
    "df[\"height\"].describe()"
   ]
  },
  {
   "cell_type": "markdown",
   "metadata": {},
   "source": [
    "### Analisis grafico"
   ]
  },
  {
   "cell_type": "code",
   "execution_count": 1312,
   "metadata": {},
   "outputs": [
    {
     "data": {
      "image/png": "[encoded data removed]",
      "text/plain": [
       "<Figure size 1200x600 with 1 Axes>"
      ]
     },
     "metadata": {},
     "output_type": "display_data"
    }
   ],
   "source": [
    "df['height'] = df['height'].astype(int)\n",
    "\n",
    "plt.figure(figsize=(12, 6))\n",
    "sns.countplot(x=\"height\", hue=\"baldness\", data=df)\n",
    "\n",
    "for p in plt.gca().patches:\n",
    "    height = p.get_height()\n",
    "    p.set_height(height)\n",
    "plt.title('Distribucion de bald segun la altura')\n",
    "plt.xticks(rotation=90)\n",
    "plt.show()"
   ]
  },
  {
   "cell_type": "markdown",
   "metadata": {},
   "source": [
    "Vemos datos parecidos a los de weight solo que estos datos no estan segados y tienen forma de campana"
   ]
  },
  {
   "cell_type": "markdown",
   "metadata": {},
   "source": [
    "### Correlacion"
   ]
  },
  {
   "cell_type": "code",
   "execution_count": 1313,
   "metadata": {},
   "outputs": [
    {
     "data": {
      "text/plain": [
       "0.009780248547207262"
      ]
     },
     "execution_count": 1313,
     "metadata": {},
     "output_type": "execute_result"
    }
   ],
   "source": [
    "df[\"height\"].corr(df[\"bald_prob\"])"
   ]
  },
  {
   "cell_type": "markdown",
   "metadata": {},
   "source": [
    "Vemos que height tiene una correlacion bajisima, vamos a eliminarla"
   ]
  },
  {
   "cell_type": "code",
   "execution_count": 1314,
   "metadata": {},
   "outputs": [],
   "source": [
    "df = df.drop(columns=['height'])"
   ]
  },
  {
   "cell_type": "markdown",
   "metadata": {},
   "source": [
    "## Shampoo"
   ]
  },
  {
   "cell_type": "markdown",
   "metadata": {},
   "source": [
    "### Describe"
   ]
  },
  {
   "cell_type": "code",
   "execution_count": 1315,
   "metadata": {},
   "outputs": [
    {
     "name": "stdout",
     "output_type": "stream",
     "text": [
      "count         7018\n",
      "unique           5\n",
      "top       Deadbuoy\n",
      "freq          1450\n",
      "Name: shampoo, dtype: object\n"
     ]
    },
    {
     "data": {
      "text/plain": [
       "array(['Pantone', 'Moonsilk', 'Deadbuoy', 'Merpati', 'Shoulder & Head'],\n",
       "      dtype=object)"
      ]
     },
     "execution_count": 1315,
     "metadata": {},
     "output_type": "execute_result"
    }
   ],
   "source": [
    "print(df[\"shampoo\"].describe())\n",
    "df[\"shampoo\"].unique()"
   ]
  },
  {
   "cell_type": "markdown",
   "metadata": {},
   "source": [
    "### Analisis grafico"
   ]
  },
  {
   "cell_type": "code",
   "execution_count": 1316,
   "metadata": {},
   "outputs": [
    {
     "data": {
      "image/png": "[encoded data removed]",
      "text/plain": [
       "<Figure size 1200x600 with 1 Axes>"
      ]
     },
     "metadata": {},
     "output_type": "display_data"
    }
   ],
   "source": [
    "plt.figure(figsize=(12, 6))\n",
    "sns.countplot(x=\"shampoo\", hue=\"baldness\", data=df)\n",
    "\n",
    "for p in plt.gca().patches:\n",
    "    height = p.get_height()\n",
    "    p.set_height(height)\n",
    "plt.title('Distribucion de bald segun la altura')\n",
    "plt.xticks(rotation=90)\n",
    "plt.show()"
   ]
  },
  {
   "cell_type": "markdown",
   "metadata": {},
   "source": [
    "Vemos un reparto equitativo en los shampoo del estudio, donde los valores casi no varian"
   ]
  },
  {
   "cell_type": "markdown",
   "metadata": {},
   "source": [
    "## Is smoker"
   ]
  },
  {
   "cell_type": "markdown",
   "metadata": {},
   "source": [
    "Muestra si la persona fuma"
   ]
  },
  {
   "cell_type": "markdown",
   "metadata": {},
   "source": [
    "### Describe"
   ]
  },
  {
   "cell_type": "code",
   "execution_count": 1317,
   "metadata": {},
   "outputs": [
    {
     "data": {
      "text/plain": [
       "count    7018.000000\n",
       "mean        0.494443\n",
       "std         0.500005\n",
       "min         0.000000\n",
       "25%         0.000000\n",
       "50%         0.000000\n",
       "75%         1.000000\n",
       "max         1.000000\n",
       "Name: is_smoker, dtype: float64"
      ]
     },
     "execution_count": 1317,
     "metadata": {},
     "output_type": "execute_result"
    }
   ],
   "source": [
    "df[\"is_smoker\"].describe()"
   ]
  },
  {
   "cell_type": "markdown",
   "metadata": {},
   "source": [
    "Vemos que los datos estan representados en 0, no fuma, o 1, si fuma"
   ]
  },
  {
   "cell_type": "markdown",
   "metadata": {},
   "source": [
    "### Analisis grafico"
   ]
  },
  {
   "cell_type": "code",
   "execution_count": 1318,
   "metadata": {},
   "outputs": [
    {
     "data": {
      "image/png": "[encoded data removed]",
      "text/plain": [
       "<Figure size 1200x600 with 1 Axes>"
      ]
     },
     "metadata": {},
     "output_type": "display_data"
    }
   ],
   "source": [
    "plt.figure(figsize=(12, 6))\n",
    "sns.countplot(x=\"is_smoker\", hue=\"baldness\", data=df)\n",
    "\n",
    "for p in plt.gca().patches:\n",
    "    height = p.get_height()\n",
    "    p.set_height(height)\n",
    "plt.title('Distribucion de bald segun la altura')\n",
    "plt.xticks(rotation=90)\n",
    "plt.show()"
   ]
  },
  {
   "cell_type": "markdown",
   "metadata": {},
   "source": [
    "Vemos una clara relacion donde las personas que fuman tienen en su mayoria mas de un 50% de probabilidades de quedarse calvo"
   ]
  },
  {
   "cell_type": "markdown",
   "metadata": {},
   "source": [
    "## Education"
   ]
  },
  {
   "cell_type": "markdown",
   "metadata": {},
   "source": [
    "En education vemos los estudios de la persona"
   ]
  },
  {
   "cell_type": "code",
   "execution_count": 1319,
   "metadata": {},
   "outputs": [
    {
     "name": "stdout",
     "output_type": "stream",
     "text": [
      "count                7018\n",
      "unique                  6\n",
      "top       Bachelor Degree\n",
      "freq                 3874\n",
      "Name: education, dtype: object\n"
     ]
    },
    {
     "data": {
      "text/plain": [
       "array(['Bachelor Degree', 'Elementary School', 'Magister Degree',\n",
       "       'Senior High School', 'Junior High School', 'Doctoral Degree'],\n",
       "      dtype=object)"
      ]
     },
     "execution_count": 1319,
     "metadata": {},
     "output_type": "execute_result"
    }
   ],
   "source": [
    "print(df[\"education\"].describe())\n",
    "df[\"education\"].unique()"
   ]
  },
  {
   "cell_type": "markdown",
   "metadata": {},
   "source": [
    "### Analisis grafico"
   ]
  },
  {
   "cell_type": "code",
   "execution_count": 1320,
   "metadata": {},
   "outputs": [
    {
     "data": {
      "image/png": "[encoded data removed]",
      "text/plain": [
       "<Figure size 1200x600 with 1 Axes>"
      ]
     },
     "metadata": {},
     "output_type": "display_data"
    }
   ],
   "source": [
    "plt.figure(figsize=(12, 6))\n",
    "sns.countplot(x=\"education\", hue=\"baldness\", data=df)\n",
    "\n",
    "for p in plt.gca().patches:\n",
    "    height = p.get_height()\n",
    "    p.set_height(height)\n",
    "plt.title('Distribucion de bald segun la altura')\n",
    "plt.xticks(rotation=90)\n",
    "plt.show()"
   ]
  },
  {
   "cell_type": "code",
   "execution_count": 1321,
   "metadata": {},
   "outputs": [
    {
     "name": "stdout",
     "output_type": "stream",
     "text": [
      "\n",
      "Porcentaje de personas con mas de un 50% de probabilidades de ser calvo en:\n",
      "\tBachelor Degree: 65.46%\n",
      "\tElementary School: 61.27%\n",
      "\tMagister Degree: 64.98%\n",
      "\tSenior High School: 64.55%\n",
      "\tJunior High School: 67.52%\n",
      "\tDoctoral Degree: 69.18%\n"
     ]
    }
   ],
   "source": [
    "educationDicc = {\n",
    "    \"Bachelor Degree\" : df[\"baldness\"][df[\"education\"] == \"Bachelor Degree\"].value_counts(normalize=True)[\"Si\"],\n",
    "    \"Elementary School\" : df[\"baldness\"][df[\"education\"] == \"Elementary School\"].value_counts(normalize=True)[\"Si\"],\n",
    "    \"Magister Degree\" : df[\"baldness\"][df[\"education\"] == \"Magister Degree\"].value_counts(normalize=True)[\"Si\"],\n",
    "    \"Senior High School\" : df[\"baldness\"][df[\"education\"] == \"Senior High School\"].value_counts(normalize=True)[\"Si\"],\n",
    "    \"Junior High School\" : df[\"baldness\"][df[\"education\"] == \"Junior High School\"].value_counts(normalize=True)[\"Si\"],\n",
    "    \"Doctoral Degree\" : df[\"baldness\"][df[\"education\"] == \"Doctoral Degree\"].value_counts(normalize=True)[\"Si\"]\n",
    "}\n",
    "print(\"\\nPorcentaje de personas con mas de un 50% de probabilidades de ser calvo en:\")\n",
    "for key, value in educationDicc.items():\n",
    "    print(f\"\\t{key}: {value*100:.2f}%\")"
   ]
  },
  {
   "cell_type": "markdown",
   "metadata": {},
   "source": [
    "El porcentaje de personas con mas de un 50% es similar en todos los estudios"
   ]
  },
  {
   "cell_type": "markdown",
   "metadata": {},
   "source": [
    "### Correlacion"
   ]
  },
  {
   "cell_type": "code",
   "execution_count": 1322,
   "metadata": {},
   "outputs": [
    {
     "data": {
      "text/html": [
       "<div>\n",
       "<style scoped>\n",
       "    .dataframe tbody tr th:only-of-type {\n",
       "        vertical-align: middle;\n",
       "    }\n",
       "\n",
       "    .dataframe tbody tr th {\n",
       "        vertical-align: top;\n",
       "    }\n",
       "\n",
       "    .dataframe thead th {\n",
       "        text-align: right;\n",
       "    }\n",
       "</style>\n",
       "<table border=\"1\" class=\"dataframe\">\n",
       "  <thead>\n",
       "    <tr style=\"text-align: right;\">\n",
       "      <th></th>\n",
       "      <th>age</th>\n",
       "      <th>is_married</th>\n",
       "      <th>is_hereditary</th>\n",
       "      <th>shampoo</th>\n",
       "      <th>is_smoker</th>\n",
       "      <th>stress</th>\n",
       "      <th>bald_prob</th>\n",
       "      <th>baldness</th>\n",
       "      <th>gender_female</th>\n",
       "      <th>gender_male</th>\n",
       "      <th>job_role_Employee</th>\n",
       "      <th>job_role_Government Employee</th>\n",
       "      <th>job_role_Jobless</th>\n",
       "      <th>province_Ambon</th>\n",
       "      <th>province_Banda Aceh</th>\n",
       "      <th>province_Banda Lampung</th>\n",
       "      <th>province_Bandung</th>\n",
       "      <th>province_Banjarmasin</th>\n",
       "      <th>province_Bengkulu</th>\n",
       "      <th>province_Denpasar</th>\n",
       "      <th>province_Gorontalo</th>\n",
       "      <th>province_Jakarta</th>\n",
       "      <th>province_Jambi</th>\n",
       "      <th>province_Jayapura</th>\n",
       "      <th>province_Kendari</th>\n",
       "      <th>province_Kupang</th>\n",
       "      <th>province_Makassar</th>\n",
       "      <th>province_Mamuju</th>\n",
       "      <th>province_Manado</th>\n",
       "      <th>province_Manokwari</th>\n",
       "      <th>province_Mataram</th>\n",
       "      <th>province_Medan</th>\n",
       "      <th>province_Padang</th>\n",
       "      <th>province_Palangkaraya</th>\n",
       "      <th>province_Palembang</th>\n",
       "      <th>province_Palu</th>\n",
       "      <th>province_Pangkalpinang</th>\n",
       "      <th>province_Pekanbaru</th>\n",
       "      <th>province_Pontianak</th>\n",
       "      <th>province_Samarinda</th>\n",
       "      <th>province_Semarang</th>\n",
       "      <th>province_Serang</th>\n",
       "      <th>province_Sofifi</th>\n",
       "      <th>province_Surabaya</th>\n",
       "      <th>province_Tanjung Pinang</th>\n",
       "      <th>province_Tanjungselor</th>\n",
       "      <th>province_Yogyakarta</th>\n",
       "      <th>education_Bachelor Degree</th>\n",
       "      <th>education_Doctoral Degree</th>\n",
       "      <th>education_Elementary School</th>\n",
       "      <th>education_Junior High School</th>\n",
       "      <th>education_Magister Degree</th>\n",
       "      <th>education_Senior High School</th>\n",
       "    </tr>\n",
       "  </thead>\n",
       "  <tbody>\n",
       "    <tr>\n",
       "      <th>0</th>\n",
       "      <td>27.0</td>\n",
       "      <td>1.0</td>\n",
       "      <td>0.0</td>\n",
       "      <td>Pantone</td>\n",
       "      <td>1.0</td>\n",
       "      <td>5.0</td>\n",
       "      <td>0.605974</td>\n",
       "      <td>Si</td>\n",
       "      <td>1</td>\n",
       "      <td>0</td>\n",
       "      <td>0</td>\n",
       "      <td>1</td>\n",
       "      <td>0</td>\n",
       "      <td>0</td>\n",
       "      <td>0</td>\n",
       "      <td>0</td>\n",
       "      <td>0</td>\n",
       "      <td>0</td>\n",
       "      <td>1</td>\n",
       "      <td>0</td>\n",
       "      <td>0</td>\n",
       "      <td>0</td>\n",
       "      <td>0</td>\n",
       "      <td>0</td>\n",
       "      <td>0</td>\n",
       "      <td>0</td>\n",
       "      <td>0</td>\n",
       "      <td>0</td>\n",
       "      <td>0</td>\n",
       "      <td>0</td>\n",
       "      <td>0</td>\n",
       "      <td>0</td>\n",
       "      <td>0</td>\n",
       "      <td>0</td>\n",
       "      <td>0</td>\n",
       "      <td>0</td>\n",
       "      <td>0</td>\n",
       "      <td>0</td>\n",
       "      <td>0</td>\n",
       "      <td>0</td>\n",
       "      <td>0</td>\n",
       "      <td>0</td>\n",
       "      <td>0</td>\n",
       "      <td>0</td>\n",
       "      <td>0</td>\n",
       "      <td>0</td>\n",
       "      <td>0</td>\n",
       "      <td>1</td>\n",
       "      <td>0</td>\n",
       "      <td>0</td>\n",
       "      <td>0</td>\n",
       "      <td>0</td>\n",
       "      <td>0</td>\n",
       "    </tr>\n",
       "    <tr>\n",
       "      <th>1</th>\n",
       "      <td>53.0</td>\n",
       "      <td>1.0</td>\n",
       "      <td>0.0</td>\n",
       "      <td>Pantone</td>\n",
       "      <td>0.0</td>\n",
       "      <td>7.0</td>\n",
       "      <td>0.532860</td>\n",
       "      <td>Si</td>\n",
       "      <td>1</td>\n",
       "      <td>0</td>\n",
       "      <td>0</td>\n",
       "      <td>1</td>\n",
       "      <td>0</td>\n",
       "      <td>0</td>\n",
       "      <td>0</td>\n",
       "      <td>0</td>\n",
       "      <td>1</td>\n",
       "      <td>0</td>\n",
       "      <td>0</td>\n",
       "      <td>0</td>\n",
       "      <td>0</td>\n",
       "      <td>0</td>\n",
       "      <td>0</td>\n",
       "      <td>0</td>\n",
       "      <td>0</td>\n",
       "      <td>0</td>\n",
       "      <td>0</td>\n",
       "      <td>0</td>\n",
       "      <td>0</td>\n",
       "      <td>0</td>\n",
       "      <td>0</td>\n",
       "      <td>0</td>\n",
       "      <td>0</td>\n",
       "      <td>0</td>\n",
       "      <td>0</td>\n",
       "      <td>0</td>\n",
       "      <td>0</td>\n",
       "      <td>0</td>\n",
       "      <td>0</td>\n",
       "      <td>0</td>\n",
       "      <td>0</td>\n",
       "      <td>0</td>\n",
       "      <td>0</td>\n",
       "      <td>0</td>\n",
       "      <td>0</td>\n",
       "      <td>0</td>\n",
       "      <td>0</td>\n",
       "      <td>1</td>\n",
       "      <td>0</td>\n",
       "      <td>0</td>\n",
       "      <td>0</td>\n",
       "      <td>0</td>\n",
       "      <td>0</td>\n",
       "    </tr>\n",
       "  </tbody>\n",
       "</table>\n",
       "</div>"
      ],
      "text/plain": [
       "    age  is_married  is_hereditary  shampoo  is_smoker  stress  bald_prob  \\\n",
       "0  27.0         1.0            0.0  Pantone        1.0     5.0   0.605974   \n",
       "1  53.0         1.0            0.0  Pantone        0.0     7.0   0.532860   \n",
       "\n",
       "  baldness  gender_female  gender_male  job_role_Employee  \\\n",
       "0       Si              1            0                  0   \n",
       "1       Si              1            0                  0   \n",
       "\n",
       "   job_role_Government Employee  job_role_Jobless  province_Ambon  \\\n",
       "0                             1                 0               0   \n",
       "1                             1                 0               0   \n",
       "\n",
       "   province_Banda Aceh  province_Banda Lampung  province_Bandung  \\\n",
       "0                    0                       0                 0   \n",
       "1                    0                       0                 1   \n",
       "\n",
       "   province_Banjarmasin  province_Bengkulu  province_Denpasar  \\\n",
       "0                     0                  1                  0   \n",
       "1                     0                  0                  0   \n",
       "\n",
       "   province_Gorontalo  province_Jakarta  province_Jambi  province_Jayapura  \\\n",
       "0                   0                 0               0                  0   \n",
       "1                   0                 0               0                  0   \n",
       "\n",
       "   province_Kendari  province_Kupang  province_Makassar  province_Mamuju  \\\n",
       "0                 0                0                  0                0   \n",
       "1                 0                0                  0                0   \n",
       "\n",
       "   province_Manado  province_Manokwari  province_Mataram  province_Medan  \\\n",
       "0                0                   0                 0               0   \n",
       "1                0                   0                 0               0   \n",
       "\n",
       "   province_Padang  province_Palangkaraya  province_Palembang  province_Palu  \\\n",
       "0                0                      0                   0              0   \n",
       "1                0                      0                   0              0   \n",
       "\n",
       "   province_Pangkalpinang  province_Pekanbaru  province_Pontianak  \\\n",
       "0                       0                   0                   0   \n",
       "1                       0                   0                   0   \n",
       "\n",
       "   province_Samarinda  province_Semarang  province_Serang  province_Sofifi  \\\n",
       "0                   0                  0                0                0   \n",
       "1                   0                  0                0                0   \n",
       "\n",
       "   province_Surabaya  province_Tanjung Pinang  province_Tanjungselor  \\\n",
       "0                  0                        0                      0   \n",
       "1                  0                        0                      0   \n",
       "\n",
       "   province_Yogyakarta  education_Bachelor Degree  education_Doctoral Degree  \\\n",
       "0                    0                          1                          0   \n",
       "1                    0                          1                          0   \n",
       "\n",
       "   education_Elementary School  education_Junior High School  \\\n",
       "0                            0                             0   \n",
       "1                            0                             0   \n",
       "\n",
       "   education_Magister Degree  education_Senior High School  \n",
       "0                          0                             0  \n",
       "1                          0                             0  "
      ]
     },
     "execution_count": 1322,
     "metadata": {},
     "output_type": "execute_result"
    }
   ],
   "source": [
    "df = pd.get_dummies(df, columns=['education'], dtype=int)\n",
    "df.head(2)"
   ]
  },
  {
   "cell_type": "code",
   "execution_count": 1323,
   "metadata": {},
   "outputs": [
    {
     "data": {
      "text/html": [
       "<div>\n",
       "<style scoped>\n",
       "    .dataframe tbody tr th:only-of-type {\n",
       "        vertical-align: middle;\n",
       "    }\n",
       "\n",
       "    .dataframe tbody tr th {\n",
       "        vertical-align: top;\n",
       "    }\n",
       "\n",
       "    .dataframe thead th {\n",
       "        text-align: right;\n",
       "    }\n",
       "</style>\n",
       "<table border=\"1\" class=\"dataframe\">\n",
       "  <thead>\n",
       "    <tr style=\"text-align: right;\">\n",
       "      <th></th>\n",
       "      <th>education_Bachelor Degree</th>\n",
       "      <th>education_Elementary School</th>\n",
       "      <th>education_Magister Degree</th>\n",
       "      <th>education_Senior High School</th>\n",
       "      <th>education_Junior High School</th>\n",
       "      <th>education_Doctoral Degree</th>\n",
       "      <th>bald_prob</th>\n",
       "    </tr>\n",
       "  </thead>\n",
       "  <tbody>\n",
       "    <tr>\n",
       "      <th>education_Bachelor Degree</th>\n",
       "      <td>1.000000</td>\n",
       "      <td>-0.192067</td>\n",
       "      <td>-0.318557</td>\n",
       "      <td>-0.640273</td>\n",
       "      <td>-0.310084</td>\n",
       "      <td>-0.161798</td>\n",
       "      <td>0.002638</td>\n",
       "    </tr>\n",
       "    <tr>\n",
       "      <th>education_Elementary School</th>\n",
       "      <td>-0.192067</td>\n",
       "      <td>1.000000</td>\n",
       "      <td>-0.049655</td>\n",
       "      <td>-0.099802</td>\n",
       "      <td>-0.048334</td>\n",
       "      <td>-0.025220</td>\n",
       "      <td>-0.016519</td>\n",
       "    </tr>\n",
       "    <tr>\n",
       "      <th>education_Magister Degree</th>\n",
       "      <td>-0.318557</td>\n",
       "      <td>-0.049655</td>\n",
       "      <td>1.000000</td>\n",
       "      <td>-0.165530</td>\n",
       "      <td>-0.080166</td>\n",
       "      <td>-0.041830</td>\n",
       "      <td>0.003401</td>\n",
       "    </tr>\n",
       "    <tr>\n",
       "      <th>education_Senior High School</th>\n",
       "      <td>-0.640273</td>\n",
       "      <td>-0.099802</td>\n",
       "      <td>-0.165530</td>\n",
       "      <td>1.000000</td>\n",
       "      <td>-0.161127</td>\n",
       "      <td>-0.084074</td>\n",
       "      <td>-0.005128</td>\n",
       "    </tr>\n",
       "    <tr>\n",
       "      <th>education_Junior High School</th>\n",
       "      <td>-0.310084</td>\n",
       "      <td>-0.048334</td>\n",
       "      <td>-0.080166</td>\n",
       "      <td>-0.161127</td>\n",
       "      <td>1.000000</td>\n",
       "      <td>-0.040717</td>\n",
       "      <td>0.001105</td>\n",
       "    </tr>\n",
       "    <tr>\n",
       "      <th>education_Doctoral Degree</th>\n",
       "      <td>-0.161798</td>\n",
       "      <td>-0.025220</td>\n",
       "      <td>-0.041830</td>\n",
       "      <td>-0.084074</td>\n",
       "      <td>-0.040717</td>\n",
       "      <td>1.000000</td>\n",
       "      <td>0.017478</td>\n",
       "    </tr>\n",
       "    <tr>\n",
       "      <th>bald_prob</th>\n",
       "      <td>0.002638</td>\n",
       "      <td>-0.016519</td>\n",
       "      <td>0.003401</td>\n",
       "      <td>-0.005128</td>\n",
       "      <td>0.001105</td>\n",
       "      <td>0.017478</td>\n",
       "      <td>1.000000</td>\n",
       "    </tr>\n",
       "  </tbody>\n",
       "</table>\n",
       "</div>"
      ],
      "text/plain": [
       "                              education_Bachelor Degree  \\\n",
       "education_Bachelor Degree                      1.000000   \n",
       "education_Elementary School                   -0.192067   \n",
       "education_Magister Degree                     -0.318557   \n",
       "education_Senior High School                  -0.640273   \n",
       "education_Junior High School                  -0.310084   \n",
       "education_Doctoral Degree                     -0.161798   \n",
       "bald_prob                                      0.002638   \n",
       "\n",
       "                              education_Elementary School  \\\n",
       "education_Bachelor Degree                       -0.192067   \n",
       "education_Elementary School                      1.000000   \n",
       "education_Magister Degree                       -0.049655   \n",
       "education_Senior High School                    -0.099802   \n",
       "education_Junior High School                    -0.048334   \n",
       "education_Doctoral Degree                       -0.025220   \n",
       "bald_prob                                       -0.016519   \n",
       "\n",
       "                              education_Magister Degree  \\\n",
       "education_Bachelor Degree                     -0.318557   \n",
       "education_Elementary School                   -0.049655   \n",
       "education_Magister Degree                      1.000000   \n",
       "education_Senior High School                  -0.165530   \n",
       "education_Junior High School                  -0.080166   \n",
       "education_Doctoral Degree                     -0.041830   \n",
       "bald_prob                                      0.003401   \n",
       "\n",
       "                              education_Senior High School  \\\n",
       "education_Bachelor Degree                        -0.640273   \n",
       "education_Elementary School                      -0.099802   \n",
       "education_Magister Degree                        -0.165530   \n",
       "education_Senior High School                      1.000000   \n",
       "education_Junior High School                     -0.161127   \n",
       "education_Doctoral Degree                        -0.084074   \n",
       "bald_prob                                        -0.005128   \n",
       "\n",
       "                              education_Junior High School  \\\n",
       "education_Bachelor Degree                        -0.310084   \n",
       "education_Elementary School                      -0.048334   \n",
       "education_Magister Degree                        -0.080166   \n",
       "education_Senior High School                     -0.161127   \n",
       "education_Junior High School                      1.000000   \n",
       "education_Doctoral Degree                        -0.040717   \n",
       "bald_prob                                         0.001105   \n",
       "\n",
       "                              education_Doctoral Degree  bald_prob  \n",
       "education_Bachelor Degree                     -0.161798   0.002638  \n",
       "education_Elementary School                   -0.025220  -0.016519  \n",
       "education_Magister Degree                     -0.041830   0.003401  \n",
       "education_Senior High School                  -0.084074  -0.005128  \n",
       "education_Junior High School                  -0.040717   0.001105  \n",
       "education_Doctoral Degree                      1.000000   0.017478  \n",
       "bald_prob                                      0.017478   1.000000  "
      ]
     },
     "execution_count": 1323,
     "metadata": {},
     "output_type": "execute_result"
    }
   ],
   "source": [
    "df[['education_Bachelor Degree', 'education_Elementary School', 'education_Magister Degree', 'education_Senior High School', 'education_Junior High School', 'education_Doctoral Degree', 'bald_prob']].corr()"
   ]
  },
  {
   "cell_type": "markdown",
   "metadata": {},
   "source": [
    "Correlacion bajisima"
   ]
  },
  {
   "cell_type": "code",
   "execution_count": 1324,
   "metadata": {},
   "outputs": [],
   "source": [
    "df = df.drop(columns=['education_Bachelor Degree', 'education_Elementary School', 'education_Magister Degree', 'education_Senior High School', 'education_Junior High School', 'education_Doctoral Degree'])"
   ]
  },
  {
   "cell_type": "markdown",
   "metadata": {},
   "source": [
    "## Stress"
   ]
  },
  {
   "cell_type": "markdown",
   "metadata": {},
   "source": [
    "### Describe"
   ]
  },
  {
   "cell_type": "code",
   "execution_count": 1325,
   "metadata": {},
   "outputs": [
    {
     "data": {
      "text/plain": [
       "count    7018.000000\n",
       "mean        5.450271\n",
       "std         2.860570\n",
       "min         1.000000\n",
       "25%         3.000000\n",
       "50%         5.000000\n",
       "75%         8.000000\n",
       "max        10.000000\n",
       "Name: stress, dtype: float64"
      ]
     },
     "execution_count": 1325,
     "metadata": {},
     "output_type": "execute_result"
    }
   ],
   "source": [
    "df[\"stress\"].describe()"
   ]
  },
  {
   "cell_type": "markdown",
   "metadata": {},
   "source": [
    "### Analisis grafico"
   ]
  },
  {
   "cell_type": "code",
   "execution_count": 1326,
   "metadata": {},
   "outputs": [
    {
     "data": {
      "image/png": "[encoded data removed]",
      "text/plain": [
       "<Figure size 1200x600 with 1 Axes>"
      ]
     },
     "metadata": {},
     "output_type": "display_data"
    }
   ],
   "source": [
    "plt.figure(figsize=(12, 6))\n",
    "sns.countplot(x=\"stress\", hue=\"baldness\", data=df)\n",
    "\n",
    "for p in plt.gca().patches:\n",
    "    height = p.get_height()\n",
    "    p.set_height(height)\n",
    "plt.title('Distribucion de bald segun la altura')\n",
    "plt.xticks(rotation=90)\n",
    "plt.show()"
   ]
  },
  {
   "cell_type": "markdown",
   "metadata": {},
   "source": [
    "Esta variable es muy importante, se ve claramente que mientras mas estres, mas probabilidad de ser calvo hay"
   ]
  },
  {
   "cell_type": "markdown",
   "metadata": {},
   "source": [
    "## Tecnicas de encoding necesarias/oportunas"
   ]
  },
  {
   "cell_type": "code",
   "execution_count": 1327,
   "metadata": {},
   "outputs": [
    {
     "data": {
      "text/html": [
       "<div>\n",
       "<style scoped>\n",
       "    .dataframe tbody tr th:only-of-type {\n",
       "        vertical-align: middle;\n",
       "    }\n",
       "\n",
       "    .dataframe tbody tr th {\n",
       "        vertical-align: top;\n",
       "    }\n",
       "\n",
       "    .dataframe thead th {\n",
       "        text-align: right;\n",
       "    }\n",
       "</style>\n",
       "<table border=\"1\" class=\"dataframe\">\n",
       "  <thead>\n",
       "    <tr style=\"text-align: right;\">\n",
       "      <th></th>\n",
       "      <th>age</th>\n",
       "      <th>is_married</th>\n",
       "      <th>is_hereditary</th>\n",
       "      <th>shampoo</th>\n",
       "      <th>is_smoker</th>\n",
       "      <th>stress</th>\n",
       "      <th>bald_prob</th>\n",
       "      <th>baldness</th>\n",
       "      <th>gender_female</th>\n",
       "      <th>gender_male</th>\n",
       "      <th>job_role_Employee</th>\n",
       "      <th>job_role_Government Employee</th>\n",
       "      <th>job_role_Jobless</th>\n",
       "      <th>province_Ambon</th>\n",
       "      <th>province_Banda Aceh</th>\n",
       "      <th>province_Banda Lampung</th>\n",
       "      <th>province_Bandung</th>\n",
       "      <th>province_Banjarmasin</th>\n",
       "      <th>province_Bengkulu</th>\n",
       "      <th>province_Denpasar</th>\n",
       "      <th>province_Gorontalo</th>\n",
       "      <th>province_Jakarta</th>\n",
       "      <th>province_Jambi</th>\n",
       "      <th>province_Jayapura</th>\n",
       "      <th>province_Kendari</th>\n",
       "      <th>province_Kupang</th>\n",
       "      <th>province_Makassar</th>\n",
       "      <th>province_Mamuju</th>\n",
       "      <th>province_Manado</th>\n",
       "      <th>province_Manokwari</th>\n",
       "      <th>province_Mataram</th>\n",
       "      <th>province_Medan</th>\n",
       "      <th>province_Padang</th>\n",
       "      <th>province_Palangkaraya</th>\n",
       "      <th>province_Palembang</th>\n",
       "      <th>province_Palu</th>\n",
       "      <th>province_Pangkalpinang</th>\n",
       "      <th>province_Pekanbaru</th>\n",
       "      <th>province_Pontianak</th>\n",
       "      <th>province_Samarinda</th>\n",
       "      <th>province_Semarang</th>\n",
       "      <th>province_Serang</th>\n",
       "      <th>province_Sofifi</th>\n",
       "      <th>province_Surabaya</th>\n",
       "      <th>province_Tanjung Pinang</th>\n",
       "      <th>province_Tanjungselor</th>\n",
       "      <th>province_Yogyakarta</th>\n",
       "    </tr>\n",
       "  </thead>\n",
       "  <tbody>\n",
       "    <tr>\n",
       "      <th>0</th>\n",
       "      <td>27.0</td>\n",
       "      <td>1.0</td>\n",
       "      <td>0.0</td>\n",
       "      <td>Pantone</td>\n",
       "      <td>1.0</td>\n",
       "      <td>5.0</td>\n",
       "      <td>0.605974</td>\n",
       "      <td>Si</td>\n",
       "      <td>1</td>\n",
       "      <td>0</td>\n",
       "      <td>0</td>\n",
       "      <td>1</td>\n",
       "      <td>0</td>\n",
       "      <td>0</td>\n",
       "      <td>0</td>\n",
       "      <td>0</td>\n",
       "      <td>0</td>\n",
       "      <td>0</td>\n",
       "      <td>1</td>\n",
       "      <td>0</td>\n",
       "      <td>0</td>\n",
       "      <td>0</td>\n",
       "      <td>0</td>\n",
       "      <td>0</td>\n",
       "      <td>0</td>\n",
       "      <td>0</td>\n",
       "      <td>0</td>\n",
       "      <td>0</td>\n",
       "      <td>0</td>\n",
       "      <td>0</td>\n",
       "      <td>0</td>\n",
       "      <td>0</td>\n",
       "      <td>0</td>\n",
       "      <td>0</td>\n",
       "      <td>0</td>\n",
       "      <td>0</td>\n",
       "      <td>0</td>\n",
       "      <td>0</td>\n",
       "      <td>0</td>\n",
       "      <td>0</td>\n",
       "      <td>0</td>\n",
       "      <td>0</td>\n",
       "      <td>0</td>\n",
       "      <td>0</td>\n",
       "      <td>0</td>\n",
       "      <td>0</td>\n",
       "      <td>0</td>\n",
       "    </tr>\n",
       "    <tr>\n",
       "      <th>1</th>\n",
       "      <td>53.0</td>\n",
       "      <td>1.0</td>\n",
       "      <td>0.0</td>\n",
       "      <td>Pantone</td>\n",
       "      <td>0.0</td>\n",
       "      <td>7.0</td>\n",
       "      <td>0.532860</td>\n",
       "      <td>Si</td>\n",
       "      <td>1</td>\n",
       "      <td>0</td>\n",
       "      <td>0</td>\n",
       "      <td>1</td>\n",
       "      <td>0</td>\n",
       "      <td>0</td>\n",
       "      <td>0</td>\n",
       "      <td>0</td>\n",
       "      <td>1</td>\n",
       "      <td>0</td>\n",
       "      <td>0</td>\n",
       "      <td>0</td>\n",
       "      <td>0</td>\n",
       "      <td>0</td>\n",
       "      <td>0</td>\n",
       "      <td>0</td>\n",
       "      <td>0</td>\n",
       "      <td>0</td>\n",
       "      <td>0</td>\n",
       "      <td>0</td>\n",
       "      <td>0</td>\n",
       "      <td>0</td>\n",
       "      <td>0</td>\n",
       "      <td>0</td>\n",
       "      <td>0</td>\n",
       "      <td>0</td>\n",
       "      <td>0</td>\n",
       "      <td>0</td>\n",
       "      <td>0</td>\n",
       "      <td>0</td>\n",
       "      <td>0</td>\n",
       "      <td>0</td>\n",
       "      <td>0</td>\n",
       "      <td>0</td>\n",
       "      <td>0</td>\n",
       "      <td>0</td>\n",
       "      <td>0</td>\n",
       "      <td>0</td>\n",
       "      <td>0</td>\n",
       "    </tr>\n",
       "  </tbody>\n",
       "</table>\n",
       "</div>"
      ],
      "text/plain": [
       "    age  is_married  is_hereditary  shampoo  is_smoker  stress  bald_prob  \\\n",
       "0  27.0         1.0            0.0  Pantone        1.0     5.0   0.605974   \n",
       "1  53.0         1.0            0.0  Pantone        0.0     7.0   0.532860   \n",
       "\n",
       "  baldness  gender_female  gender_male  job_role_Employee  \\\n",
       "0       Si              1            0                  0   \n",
       "1       Si              1            0                  0   \n",
       "\n",
       "   job_role_Government Employee  job_role_Jobless  province_Ambon  \\\n",
       "0                             1                 0               0   \n",
       "1                             1                 0               0   \n",
       "\n",
       "   province_Banda Aceh  province_Banda Lampung  province_Bandung  \\\n",
       "0                    0                       0                 0   \n",
       "1                    0                       0                 1   \n",
       "\n",
       "   province_Banjarmasin  province_Bengkulu  province_Denpasar  \\\n",
       "0                     0                  1                  0   \n",
       "1                     0                  0                  0   \n",
       "\n",
       "   province_Gorontalo  province_Jakarta  province_Jambi  province_Jayapura  \\\n",
       "0                   0                 0               0                  0   \n",
       "1                   0                 0               0                  0   \n",
       "\n",
       "   province_Kendari  province_Kupang  province_Makassar  province_Mamuju  \\\n",
       "0                 0                0                  0                0   \n",
       "1                 0                0                  0                0   \n",
       "\n",
       "   province_Manado  province_Manokwari  province_Mataram  province_Medan  \\\n",
       "0                0                   0                 0               0   \n",
       "1                0                   0                 0               0   \n",
       "\n",
       "   province_Padang  province_Palangkaraya  province_Palembang  province_Palu  \\\n",
       "0                0                      0                   0              0   \n",
       "1                0                      0                   0              0   \n",
       "\n",
       "   province_Pangkalpinang  province_Pekanbaru  province_Pontianak  \\\n",
       "0                       0                   0                   0   \n",
       "1                       0                   0                   0   \n",
       "\n",
       "   province_Samarinda  province_Semarang  province_Serang  province_Sofifi  \\\n",
       "0                   0                  0                0                0   \n",
       "1                   0                  0                0                0   \n",
       "\n",
       "   province_Surabaya  province_Tanjung Pinang  province_Tanjungselor  \\\n",
       "0                  0                        0                      0   \n",
       "1                  0                        0                      0   \n",
       "\n",
       "   province_Yogyakarta  \n",
       "0                    0  \n",
       "1                    0  "
      ]
     },
     "execution_count": 1327,
     "metadata": {},
     "output_type": "execute_result"
    }
   ],
   "source": [
    "df.head(2)"
   ]
  },
  {
   "cell_type": "code",
   "execution_count": 1328,
   "metadata": {},
   "outputs": [],
   "source": [
    "df = pd.get_dummies(df, columns=['shampoo'], dtype=int)"
   ]
  },
  {
   "cell_type": "code",
   "execution_count": 1329,
   "metadata": {},
   "outputs": [
    {
     "data": {
      "text/html": [
       "<div>\n",
       "<style scoped>\n",
       "    .dataframe tbody tr th:only-of-type {\n",
       "        vertical-align: middle;\n",
       "    }\n",
       "\n",
       "    .dataframe tbody tr th {\n",
       "        vertical-align: top;\n",
       "    }\n",
       "\n",
       "    .dataframe thead th {\n",
       "        text-align: right;\n",
       "    }\n",
       "</style>\n",
       "<table border=\"1\" class=\"dataframe\">\n",
       "  <thead>\n",
       "    <tr style=\"text-align: right;\">\n",
       "      <th></th>\n",
       "      <th>age</th>\n",
       "      <th>is_married</th>\n",
       "      <th>is_hereditary</th>\n",
       "      <th>is_smoker</th>\n",
       "      <th>stress</th>\n",
       "      <th>bald_prob</th>\n",
       "      <th>gender_female</th>\n",
       "      <th>gender_male</th>\n",
       "      <th>job_role_Employee</th>\n",
       "      <th>job_role_Government Employee</th>\n",
       "      <th>job_role_Jobless</th>\n",
       "      <th>province_Ambon</th>\n",
       "      <th>province_Banda Aceh</th>\n",
       "      <th>province_Banda Lampung</th>\n",
       "      <th>province_Bandung</th>\n",
       "      <th>province_Banjarmasin</th>\n",
       "      <th>province_Bengkulu</th>\n",
       "      <th>province_Denpasar</th>\n",
       "      <th>province_Gorontalo</th>\n",
       "      <th>province_Jakarta</th>\n",
       "      <th>province_Jambi</th>\n",
       "      <th>province_Jayapura</th>\n",
       "      <th>province_Kendari</th>\n",
       "      <th>province_Kupang</th>\n",
       "      <th>province_Makassar</th>\n",
       "      <th>province_Mamuju</th>\n",
       "      <th>province_Manado</th>\n",
       "      <th>province_Manokwari</th>\n",
       "      <th>province_Mataram</th>\n",
       "      <th>province_Medan</th>\n",
       "      <th>province_Padang</th>\n",
       "      <th>province_Palangkaraya</th>\n",
       "      <th>province_Palembang</th>\n",
       "      <th>province_Palu</th>\n",
       "      <th>province_Pangkalpinang</th>\n",
       "      <th>province_Pekanbaru</th>\n",
       "      <th>province_Pontianak</th>\n",
       "      <th>province_Samarinda</th>\n",
       "      <th>province_Semarang</th>\n",
       "      <th>province_Serang</th>\n",
       "      <th>province_Sofifi</th>\n",
       "      <th>province_Surabaya</th>\n",
       "      <th>province_Tanjung Pinang</th>\n",
       "      <th>province_Tanjungselor</th>\n",
       "      <th>province_Yogyakarta</th>\n",
       "      <th>shampoo_Deadbuoy</th>\n",
       "      <th>shampoo_Merpati</th>\n",
       "      <th>shampoo_Moonsilk</th>\n",
       "      <th>shampoo_Pantone</th>\n",
       "      <th>shampoo_Shoulder &amp; Head</th>\n",
       "    </tr>\n",
       "  </thead>\n",
       "  <tbody>\n",
       "    <tr>\n",
       "      <th>count</th>\n",
       "      <td>7018.000000</td>\n",
       "      <td>7018.000000</td>\n",
       "      <td>7018.000000</td>\n",
       "      <td>7018.000000</td>\n",
       "      <td>7018.000000</td>\n",
       "      <td>7018.000000</td>\n",
       "      <td>7018.000000</td>\n",
       "      <td>7018.000000</td>\n",
       "      <td>7018.000000</td>\n",
       "      <td>7018.000000</td>\n",
       "      <td>7018.000000</td>\n",
       "      <td>7018.000000</td>\n",
       "      <td>7018.000000</td>\n",
       "      <td>7018.000000</td>\n",
       "      <td>7018.000000</td>\n",
       "      <td>7018.000000</td>\n",
       "      <td>7018.000000</td>\n",
       "      <td>7018.000000</td>\n",
       "      <td>7018.000000</td>\n",
       "      <td>7018.000000</td>\n",
       "      <td>7018.000000</td>\n",
       "      <td>7018.000000</td>\n",
       "      <td>7018.000000</td>\n",
       "      <td>7018.000000</td>\n",
       "      <td>7018.000000</td>\n",
       "      <td>7018.000000</td>\n",
       "      <td>7018.000000</td>\n",
       "      <td>7018.000000</td>\n",
       "      <td>7018.000000</td>\n",
       "      <td>7018.000000</td>\n",
       "      <td>7018.000000</td>\n",
       "      <td>7018.000000</td>\n",
       "      <td>7018.000000</td>\n",
       "      <td>7018.000000</td>\n",
       "      <td>7018.000000</td>\n",
       "      <td>7018.000000</td>\n",
       "      <td>7018.000000</td>\n",
       "      <td>7018.000000</td>\n",
       "      <td>7018.000000</td>\n",
       "      <td>7018.000000</td>\n",
       "      <td>7018.000000</td>\n",
       "      <td>7018.000000</td>\n",
       "      <td>7018.000000</td>\n",
       "      <td>7018.000000</td>\n",
       "      <td>7018.000000</td>\n",
       "      <td>7018.000000</td>\n",
       "      <td>7018.000000</td>\n",
       "      <td>7018.000000</td>\n",
       "      <td>7018.000000</td>\n",
       "      <td>7018.000000</td>\n",
       "    </tr>\n",
       "    <tr>\n",
       "      <th>mean</th>\n",
       "      <td>39.514819</td>\n",
       "      <td>0.979909</td>\n",
       "      <td>0.204902</td>\n",
       "      <td>0.494443</td>\n",
       "      <td>5.450271</td>\n",
       "      <td>0.573936</td>\n",
       "      <td>0.315759</td>\n",
       "      <td>0.684241</td>\n",
       "      <td>0.480906</td>\n",
       "      <td>0.471359</td>\n",
       "      <td>0.047734</td>\n",
       "      <td>0.029781</td>\n",
       "      <td>0.028641</td>\n",
       "      <td>0.028783</td>\n",
       "      <td>0.026361</td>\n",
       "      <td>0.031490</td>\n",
       "      <td>0.031775</td>\n",
       "      <td>0.032060</td>\n",
       "      <td>0.031063</td>\n",
       "      <td>0.029211</td>\n",
       "      <td>0.029496</td>\n",
       "      <td>0.029353</td>\n",
       "      <td>0.029781</td>\n",
       "      <td>0.034198</td>\n",
       "      <td>0.031918</td>\n",
       "      <td>0.029638</td>\n",
       "      <td>0.029496</td>\n",
       "      <td>0.028213</td>\n",
       "      <td>0.029353</td>\n",
       "      <td>0.028071</td>\n",
       "      <td>0.027358</td>\n",
       "      <td>0.027073</td>\n",
       "      <td>0.027786</td>\n",
       "      <td>0.027501</td>\n",
       "      <td>0.029068</td>\n",
       "      <td>0.029353</td>\n",
       "      <td>0.030208</td>\n",
       "      <td>0.029638</td>\n",
       "      <td>0.030778</td>\n",
       "      <td>0.029638</td>\n",
       "      <td>0.027928</td>\n",
       "      <td>0.025506</td>\n",
       "      <td>0.029496</td>\n",
       "      <td>0.031633</td>\n",
       "      <td>0.028356</td>\n",
       "      <td>0.206612</td>\n",
       "      <td>0.188230</td>\n",
       "      <td>0.204047</td>\n",
       "      <td>0.199487</td>\n",
       "      <td>0.201624</td>\n",
       "    </tr>\n",
       "    <tr>\n",
       "      <th>std</th>\n",
       "      <td>9.885182</td>\n",
       "      <td>0.140322</td>\n",
       "      <td>0.403659</td>\n",
       "      <td>0.500005</td>\n",
       "      <td>2.860570</td>\n",
       "      <td>0.173100</td>\n",
       "      <td>0.464851</td>\n",
       "      <td>0.464851</td>\n",
       "      <td>0.499671</td>\n",
       "      <td>0.499215</td>\n",
       "      <td>0.213219</td>\n",
       "      <td>0.169994</td>\n",
       "      <td>0.166806</td>\n",
       "      <td>0.167208</td>\n",
       "      <td>0.160217</td>\n",
       "      <td>0.174652</td>\n",
       "      <td>0.175414</td>\n",
       "      <td>0.176173</td>\n",
       "      <td>0.173500</td>\n",
       "      <td>0.168408</td>\n",
       "      <td>0.169203</td>\n",
       "      <td>0.168806</td>\n",
       "      <td>0.169994</td>\n",
       "      <td>0.181750</td>\n",
       "      <td>0.175794</td>\n",
       "      <td>0.169599</td>\n",
       "      <td>0.169203</td>\n",
       "      <td>0.165593</td>\n",
       "      <td>0.168806</td>\n",
       "      <td>0.165187</td>\n",
       "      <td>0.163137</td>\n",
       "      <td>0.162308</td>\n",
       "      <td>0.164370</td>\n",
       "      <td>0.163549</td>\n",
       "      <td>0.168009</td>\n",
       "      <td>0.168806</td>\n",
       "      <td>0.171172</td>\n",
       "      <td>0.169599</td>\n",
       "      <td>0.172728</td>\n",
       "      <td>0.169599</td>\n",
       "      <td>0.164779</td>\n",
       "      <td>0.157667</td>\n",
       "      <td>0.169203</td>\n",
       "      <td>0.175033</td>\n",
       "      <td>0.165999</td>\n",
       "      <td>0.404903</td>\n",
       "      <td>0.390924</td>\n",
       "      <td>0.403032</td>\n",
       "      <td>0.399643</td>\n",
       "      <td>0.401242</td>\n",
       "    </tr>\n",
       "    <tr>\n",
       "      <th>min</th>\n",
       "      <td>2.000000</td>\n",
       "      <td>0.000000</td>\n",
       "      <td>0.000000</td>\n",
       "      <td>0.000000</td>\n",
       "      <td>1.000000</td>\n",
       "      <td>0.064633</td>\n",
       "      <td>0.000000</td>\n",
       "      <td>0.000000</td>\n",
       "      <td>0.000000</td>\n",
       "      <td>0.000000</td>\n",
       "      <td>0.000000</td>\n",
       "      <td>0.000000</td>\n",
       "      <td>0.000000</td>\n",
       "      <td>0.000000</td>\n",
       "      <td>0.000000</td>\n",
       "      <td>0.000000</td>\n",
       "      <td>0.000000</td>\n",
       "      <td>0.000000</td>\n",
       "      <td>0.000000</td>\n",
       "      <td>0.000000</td>\n",
       "      <td>0.000000</td>\n",
       "      <td>0.000000</td>\n",
       "      <td>0.000000</td>\n",
       "      <td>0.000000</td>\n",
       "      <td>0.000000</td>\n",
       "      <td>0.000000</td>\n",
       "      <td>0.000000</td>\n",
       "      <td>0.000000</td>\n",
       "      <td>0.000000</td>\n",
       "      <td>0.000000</td>\n",
       "      <td>0.000000</td>\n",
       "      <td>0.000000</td>\n",
       "      <td>0.000000</td>\n",
       "      <td>0.000000</td>\n",
       "      <td>0.000000</td>\n",
       "      <td>0.000000</td>\n",
       "      <td>0.000000</td>\n",
       "      <td>0.000000</td>\n",
       "      <td>0.000000</td>\n",
       "      <td>0.000000</td>\n",
       "      <td>0.000000</td>\n",
       "      <td>0.000000</td>\n",
       "      <td>0.000000</td>\n",
       "      <td>0.000000</td>\n",
       "      <td>0.000000</td>\n",
       "      <td>0.000000</td>\n",
       "      <td>0.000000</td>\n",
       "      <td>0.000000</td>\n",
       "      <td>0.000000</td>\n",
       "      <td>0.000000</td>\n",
       "    </tr>\n",
       "    <tr>\n",
       "      <th>25%</th>\n",
       "      <td>33.000000</td>\n",
       "      <td>1.000000</td>\n",
       "      <td>0.000000</td>\n",
       "      <td>0.000000</td>\n",
       "      <td>3.000000</td>\n",
       "      <td>0.453578</td>\n",
       "      <td>0.000000</td>\n",
       "      <td>0.000000</td>\n",
       "      <td>0.000000</td>\n",
       "      <td>0.000000</td>\n",
       "      <td>0.000000</td>\n",
       "      <td>0.000000</td>\n",
       "      <td>0.000000</td>\n",
       "      <td>0.000000</td>\n",
       "      <td>0.000000</td>\n",
       "      <td>0.000000</td>\n",
       "      <td>0.000000</td>\n",
       "      <td>0.000000</td>\n",
       "      <td>0.000000</td>\n",
       "      <td>0.000000</td>\n",
       "      <td>0.000000</td>\n",
       "      <td>0.000000</td>\n",
       "      <td>0.000000</td>\n",
       "      <td>0.000000</td>\n",
       "      <td>0.000000</td>\n",
       "      <td>0.000000</td>\n",
       "      <td>0.000000</td>\n",
       "      <td>0.000000</td>\n",
       "      <td>0.000000</td>\n",
       "      <td>0.000000</td>\n",
       "      <td>0.000000</td>\n",
       "      <td>0.000000</td>\n",
       "      <td>0.000000</td>\n",
       "      <td>0.000000</td>\n",
       "      <td>0.000000</td>\n",
       "      <td>0.000000</td>\n",
       "      <td>0.000000</td>\n",
       "      <td>0.000000</td>\n",
       "      <td>0.000000</td>\n",
       "      <td>0.000000</td>\n",
       "      <td>0.000000</td>\n",
       "      <td>0.000000</td>\n",
       "      <td>0.000000</td>\n",
       "      <td>0.000000</td>\n",
       "      <td>0.000000</td>\n",
       "      <td>0.000000</td>\n",
       "      <td>0.000000</td>\n",
       "      <td>0.000000</td>\n",
       "      <td>0.000000</td>\n",
       "      <td>0.000000</td>\n",
       "    </tr>\n",
       "    <tr>\n",
       "      <th>50%</th>\n",
       "      <td>39.000000</td>\n",
       "      <td>1.000000</td>\n",
       "      <td>0.000000</td>\n",
       "      <td>0.000000</td>\n",
       "      <td>5.000000</td>\n",
       "      <td>0.567860</td>\n",
       "      <td>0.000000</td>\n",
       "      <td>1.000000</td>\n",
       "      <td>0.000000</td>\n",
       "      <td>0.000000</td>\n",
       "      <td>0.000000</td>\n",
       "      <td>0.000000</td>\n",
       "      <td>0.000000</td>\n",
       "      <td>0.000000</td>\n",
       "      <td>0.000000</td>\n",
       "      <td>0.000000</td>\n",
       "      <td>0.000000</td>\n",
       "      <td>0.000000</td>\n",
       "      <td>0.000000</td>\n",
       "      <td>0.000000</td>\n",
       "      <td>0.000000</td>\n",
       "      <td>0.000000</td>\n",
       "      <td>0.000000</td>\n",
       "      <td>0.000000</td>\n",
       "      <td>0.000000</td>\n",
       "      <td>0.000000</td>\n",
       "      <td>0.000000</td>\n",
       "      <td>0.000000</td>\n",
       "      <td>0.000000</td>\n",
       "      <td>0.000000</td>\n",
       "      <td>0.000000</td>\n",
       "      <td>0.000000</td>\n",
       "      <td>0.000000</td>\n",
       "      <td>0.000000</td>\n",
       "      <td>0.000000</td>\n",
       "      <td>0.000000</td>\n",
       "      <td>0.000000</td>\n",
       "      <td>0.000000</td>\n",
       "      <td>0.000000</td>\n",
       "      <td>0.000000</td>\n",
       "      <td>0.000000</td>\n",
       "      <td>0.000000</td>\n",
       "      <td>0.000000</td>\n",
       "      <td>0.000000</td>\n",
       "      <td>0.000000</td>\n",
       "      <td>0.000000</td>\n",
       "      <td>0.000000</td>\n",
       "      <td>0.000000</td>\n",
       "      <td>0.000000</td>\n",
       "      <td>0.000000</td>\n",
       "    </tr>\n",
       "    <tr>\n",
       "      <th>75%</th>\n",
       "      <td>46.000000</td>\n",
       "      <td>1.000000</td>\n",
       "      <td>0.000000</td>\n",
       "      <td>1.000000</td>\n",
       "      <td>8.000000</td>\n",
       "      <td>0.686587</td>\n",
       "      <td>1.000000</td>\n",
       "      <td>1.000000</td>\n",
       "      <td>1.000000</td>\n",
       "      <td>1.000000</td>\n",
       "      <td>0.000000</td>\n",
       "      <td>0.000000</td>\n",
       "      <td>0.000000</td>\n",
       "      <td>0.000000</td>\n",
       "      <td>0.000000</td>\n",
       "      <td>0.000000</td>\n",
       "      <td>0.000000</td>\n",
       "      <td>0.000000</td>\n",
       "      <td>0.000000</td>\n",
       "      <td>0.000000</td>\n",
       "      <td>0.000000</td>\n",
       "      <td>0.000000</td>\n",
       "      <td>0.000000</td>\n",
       "      <td>0.000000</td>\n",
       "      <td>0.000000</td>\n",
       "      <td>0.000000</td>\n",
       "      <td>0.000000</td>\n",
       "      <td>0.000000</td>\n",
       "      <td>0.000000</td>\n",
       "      <td>0.000000</td>\n",
       "      <td>0.000000</td>\n",
       "      <td>0.000000</td>\n",
       "      <td>0.000000</td>\n",
       "      <td>0.000000</td>\n",
       "      <td>0.000000</td>\n",
       "      <td>0.000000</td>\n",
       "      <td>0.000000</td>\n",
       "      <td>0.000000</td>\n",
       "      <td>0.000000</td>\n",
       "      <td>0.000000</td>\n",
       "      <td>0.000000</td>\n",
       "      <td>0.000000</td>\n",
       "      <td>0.000000</td>\n",
       "      <td>0.000000</td>\n",
       "      <td>0.000000</td>\n",
       "      <td>0.000000</td>\n",
       "      <td>0.000000</td>\n",
       "      <td>0.000000</td>\n",
       "      <td>0.000000</td>\n",
       "      <td>0.000000</td>\n",
       "    </tr>\n",
       "    <tr>\n",
       "      <th>max</th>\n",
       "      <td>77.000000</td>\n",
       "      <td>1.000000</td>\n",
       "      <td>1.000000</td>\n",
       "      <td>1.000000</td>\n",
       "      <td>10.000000</td>\n",
       "      <td>1.000000</td>\n",
       "      <td>1.000000</td>\n",
       "      <td>1.000000</td>\n",
       "      <td>1.000000</td>\n",
       "      <td>1.000000</td>\n",
       "      <td>1.000000</td>\n",
       "      <td>1.000000</td>\n",
       "      <td>1.000000</td>\n",
       "      <td>1.000000</td>\n",
       "      <td>1.000000</td>\n",
       "      <td>1.000000</td>\n",
       "      <td>1.000000</td>\n",
       "      <td>1.000000</td>\n",
       "      <td>1.000000</td>\n",
       "      <td>1.000000</td>\n",
       "      <td>1.000000</td>\n",
       "      <td>1.000000</td>\n",
       "      <td>1.000000</td>\n",
       "      <td>1.000000</td>\n",
       "      <td>1.000000</td>\n",
       "      <td>1.000000</td>\n",
       "      <td>1.000000</td>\n",
       "      <td>1.000000</td>\n",
       "      <td>1.000000</td>\n",
       "      <td>1.000000</td>\n",
       "      <td>1.000000</td>\n",
       "      <td>1.000000</td>\n",
       "      <td>1.000000</td>\n",
       "      <td>1.000000</td>\n",
       "      <td>1.000000</td>\n",
       "      <td>1.000000</td>\n",
       "      <td>1.000000</td>\n",
       "      <td>1.000000</td>\n",
       "      <td>1.000000</td>\n",
       "      <td>1.000000</td>\n",
       "      <td>1.000000</td>\n",
       "      <td>1.000000</td>\n",
       "      <td>1.000000</td>\n",
       "      <td>1.000000</td>\n",
       "      <td>1.000000</td>\n",
       "      <td>1.000000</td>\n",
       "      <td>1.000000</td>\n",
       "      <td>1.000000</td>\n",
       "      <td>1.000000</td>\n",
       "      <td>1.000000</td>\n",
       "    </tr>\n",
       "  </tbody>\n",
       "</table>\n",
       "</div>"
      ],
      "text/plain": [
       "               age   is_married  is_hereditary    is_smoker       stress  \\\n",
       "count  7018.000000  7018.000000    7018.000000  7018.000000  7018.000000   \n",
       "mean     39.514819     0.979909       0.204902     0.494443     5.450271   \n",
       "std       9.885182     0.140322       0.403659     0.500005     2.860570   \n",
       "min       2.000000     0.000000       0.000000     0.000000     1.000000   \n",
       "25%      33.000000     1.000000       0.000000     0.000000     3.000000   \n",
       "50%      39.000000     1.000000       0.000000     0.000000     5.000000   \n",
       "75%      46.000000     1.000000       0.000000     1.000000     8.000000   \n",
       "max      77.000000     1.000000       1.000000     1.000000    10.000000   \n",
       "\n",
       "         bald_prob  gender_female  gender_male  job_role_Employee  \\\n",
       "count  7018.000000    7018.000000  7018.000000        7018.000000   \n",
       "mean      0.573936       0.315759     0.684241           0.480906   \n",
       "std       0.173100       0.464851     0.464851           0.499671   \n",
       "min       0.064633       0.000000     0.000000           0.000000   \n",
       "25%       0.453578       0.000000     0.000000           0.000000   \n",
       "50%       0.567860       0.000000     1.000000           0.000000   \n",
       "75%       0.686587       1.000000     1.000000           1.000000   \n",
       "max       1.000000       1.000000     1.000000           1.000000   \n",
       "\n",
       "       job_role_Government Employee  job_role_Jobless  province_Ambon  \\\n",
       "count                   7018.000000       7018.000000     7018.000000   \n",
       "mean                       0.471359          0.047734        0.029781   \n",
       "std                        0.499215          0.213219        0.169994   \n",
       "min                        0.000000          0.000000        0.000000   \n",
       "25%                        0.000000          0.000000        0.000000   \n",
       "50%                        0.000000          0.000000        0.000000   \n",
       "75%                        1.000000          0.000000        0.000000   \n",
       "max                        1.000000          1.000000        1.000000   \n",
       "\n",
       "       province_Banda Aceh  province_Banda Lampung  province_Bandung  \\\n",
       "count          7018.000000             7018.000000       7018.000000   \n",
       "mean              0.028641                0.028783          0.026361   \n",
       "std               0.166806                0.167208          0.160217   \n",
       "min               0.000000                0.000000          0.000000   \n",
       "25%               0.000000                0.000000          0.000000   \n",
       "50%               0.000000                0.000000          0.000000   \n",
       "75%               0.000000                0.000000          0.000000   \n",
       "max               1.000000                1.000000          1.000000   \n",
       "\n",
       "       province_Banjarmasin  province_Bengkulu  province_Denpasar  \\\n",
       "count           7018.000000        7018.000000        7018.000000   \n",
       "mean               0.031490           0.031775           0.032060   \n",
       "std                0.174652           0.175414           0.176173   \n",
       "min                0.000000           0.000000           0.000000   \n",
       "25%                0.000000           0.000000           0.000000   \n",
       "50%                0.000000           0.000000           0.000000   \n",
       "75%                0.000000           0.000000           0.000000   \n",
       "max                1.000000           1.000000           1.000000   \n",
       "\n",
       "       province_Gorontalo  province_Jakarta  province_Jambi  \\\n",
       "count         7018.000000       7018.000000     7018.000000   \n",
       "mean             0.031063          0.029211        0.029496   \n",
       "std              0.173500          0.168408        0.169203   \n",
       "min              0.000000          0.000000        0.000000   \n",
       "25%              0.000000          0.000000        0.000000   \n",
       "50%              0.000000          0.000000        0.000000   \n",
       "75%              0.000000          0.000000        0.000000   \n",
       "max              1.000000          1.000000        1.000000   \n",
       "\n",
       "       province_Jayapura  province_Kendari  province_Kupang  \\\n",
       "count        7018.000000       7018.000000      7018.000000   \n",
       "mean            0.029353          0.029781         0.034198   \n",
       "std             0.168806          0.169994         0.181750   \n",
       "min             0.000000          0.000000         0.000000   \n",
       "25%             0.000000          0.000000         0.000000   \n",
       "50%             0.000000          0.000000         0.000000   \n",
       "75%             0.000000          0.000000         0.000000   \n",
       "max             1.000000          1.000000         1.000000   \n",
       "\n",
       "       province_Makassar  province_Mamuju  province_Manado  \\\n",
       "count        7018.000000      7018.000000      7018.000000   \n",
       "mean            0.031918         0.029638         0.029496   \n",
       "std             0.175794         0.169599         0.169203   \n",
       "min             0.000000         0.000000         0.000000   \n",
       "25%             0.000000         0.000000         0.000000   \n",
       "50%             0.000000         0.000000         0.000000   \n",
       "75%             0.000000         0.000000         0.000000   \n",
       "max             1.000000         1.000000         1.000000   \n",
       "\n",
       "       province_Manokwari  province_Mataram  province_Medan  province_Padang  \\\n",
       "count         7018.000000       7018.000000     7018.000000      7018.000000   \n",
       "mean             0.028213          0.029353        0.028071         0.027358   \n",
       "std              0.165593          0.168806        0.165187         0.163137   \n",
       "min              0.000000          0.000000        0.000000         0.000000   \n",
       "25%              0.000000          0.000000        0.000000         0.000000   \n",
       "50%              0.000000          0.000000        0.000000         0.000000   \n",
       "75%              0.000000          0.000000        0.000000         0.000000   \n",
       "max              1.000000          1.000000        1.000000         1.000000   \n",
       "\n",
       "       province_Palangkaraya  province_Palembang  province_Palu  \\\n",
       "count            7018.000000         7018.000000    7018.000000   \n",
       "mean                0.027073            0.027786       0.027501   \n",
       "std                 0.162308            0.164370       0.163549   \n",
       "min                 0.000000            0.000000       0.000000   \n",
       "25%                 0.000000            0.000000       0.000000   \n",
       "50%                 0.000000            0.000000       0.000000   \n",
       "75%                 0.000000            0.000000       0.000000   \n",
       "max                 1.000000            1.000000       1.000000   \n",
       "\n",
       "       province_Pangkalpinang  province_Pekanbaru  province_Pontianak  \\\n",
       "count             7018.000000         7018.000000         7018.000000   \n",
       "mean                 0.029068            0.029353            0.030208   \n",
       "std                  0.168009            0.168806            0.171172   \n",
       "min                  0.000000            0.000000            0.000000   \n",
       "25%                  0.000000            0.000000            0.000000   \n",
       "50%                  0.000000            0.000000            0.000000   \n",
       "75%                  0.000000            0.000000            0.000000   \n",
       "max                  1.000000            1.000000            1.000000   \n",
       "\n",
       "       province_Samarinda  province_Semarang  province_Serang  \\\n",
       "count         7018.000000        7018.000000      7018.000000   \n",
       "mean             0.029638           0.030778         0.029638   \n",
       "std              0.169599           0.172728         0.169599   \n",
       "min              0.000000           0.000000         0.000000   \n",
       "25%              0.000000           0.000000         0.000000   \n",
       "50%              0.000000           0.000000         0.000000   \n",
       "75%              0.000000           0.000000         0.000000   \n",
       "max              1.000000           1.000000         1.000000   \n",
       "\n",
       "       province_Sofifi  province_Surabaya  province_Tanjung Pinang  \\\n",
       "count      7018.000000        7018.000000              7018.000000   \n",
       "mean          0.027928           0.025506                 0.029496   \n",
       "std           0.164779           0.157667                 0.169203   \n",
       "min           0.000000           0.000000                 0.000000   \n",
       "25%           0.000000           0.000000                 0.000000   \n",
       "50%           0.000000           0.000000                 0.000000   \n",
       "75%           0.000000           0.000000                 0.000000   \n",
       "max           1.000000           1.000000                 1.000000   \n",
       "\n",
       "       province_Tanjungselor  province_Yogyakarta  shampoo_Deadbuoy  \\\n",
       "count            7018.000000          7018.000000       7018.000000   \n",
       "mean                0.031633             0.028356          0.206612   \n",
       "std                 0.175033             0.165999          0.404903   \n",
       "min                 0.000000             0.000000          0.000000   \n",
       "25%                 0.000000             0.000000          0.000000   \n",
       "50%                 0.000000             0.000000          0.000000   \n",
       "75%                 0.000000             0.000000          0.000000   \n",
       "max                 1.000000             1.000000          1.000000   \n",
       "\n",
       "       shampoo_Merpati  shampoo_Moonsilk  shampoo_Pantone  \\\n",
       "count      7018.000000       7018.000000      7018.000000   \n",
       "mean          0.188230          0.204047         0.199487   \n",
       "std           0.390924          0.403032         0.399643   \n",
       "min           0.000000          0.000000         0.000000   \n",
       "25%           0.000000          0.000000         0.000000   \n",
       "50%           0.000000          0.000000         0.000000   \n",
       "75%           0.000000          0.000000         0.000000   \n",
       "max           1.000000          1.000000         1.000000   \n",
       "\n",
       "       shampoo_Shoulder & Head  \n",
       "count              7018.000000  \n",
       "mean                  0.201624  \n",
       "std                   0.401242  \n",
       "min                   0.000000  \n",
       "25%                   0.000000  \n",
       "50%                   0.000000  \n",
       "75%                   0.000000  \n",
       "max                   1.000000  "
      ]
     },
     "execution_count": 1329,
     "metadata": {},
     "output_type": "execute_result"
    }
   ],
   "source": [
    "df.describe()"
   ]
  },
  {
   "cell_type": "markdown",
   "metadata": {},
   "source": [
    "Age es la unica columna a la que no le hemos hecho nada, vamos a aplicarle min max scaler"
   ]
  },
  {
   "cell_type": "code",
   "execution_count": 1330,
   "metadata": {},
   "outputs": [],
   "source": [
    "min_max_scaler = MinMaxScaler()\n",
    "df[\"age\"] = min_max_scaler.fit_transform(df[[\"age\"]])"
   ]
  },
  {
   "cell_type": "markdown",
   "metadata": {},
   "source": [
    "# Pruebas con modelo de regresion lineal"
   ]
  },
  {
   "cell_type": "markdown",
   "metadata": {},
   "source": [
    "## Con datos sin escalar"
   ]
  },
  {
   "cell_type": "markdown",
   "metadata": {},
   "source": [
    "Para ello vamos a volver a importar el df en una variable con otro nombre y vamos a aplicarle los preprocesados necesarios, como la conversion de categorias a numericos"
   ]
  },
  {
   "cell_type": "code",
   "execution_count": 1331,
   "metadata": {},
   "outputs": [
    {
     "data": {
      "text/html": [
       "<div>\n",
       "<style scoped>\n",
       "    .dataframe tbody tr th:only-of-type {\n",
       "        vertical-align: middle;\n",
       "    }\n",
       "\n",
       "    .dataframe tbody tr th {\n",
       "        vertical-align: top;\n",
       "    }\n",
       "\n",
       "    .dataframe thead th {\n",
       "        text-align: right;\n",
       "    }\n",
       "</style>\n",
       "<table border=\"1\" class=\"dataframe\">\n",
       "  <thead>\n",
       "    <tr style=\"text-align: right;\">\n",
       "      <th></th>\n",
       "      <th>age</th>\n",
       "      <th>salary</th>\n",
       "      <th>is_married</th>\n",
       "      <th>is_hereditary</th>\n",
       "      <th>weight</th>\n",
       "      <th>height</th>\n",
       "      <th>is_smoker</th>\n",
       "      <th>stress</th>\n",
       "      <th>bald_prob</th>\n",
       "      <th>gender_female</th>\n",
       "      <th>gender_male</th>\n",
       "      <th>job_role_Employee</th>\n",
       "      <th>job_role_Government Employee</th>\n",
       "      <th>job_role_Jobless</th>\n",
       "      <th>province_Ambon</th>\n",
       "      <th>province_Banda Aceh</th>\n",
       "      <th>province_Banda Lampung</th>\n",
       "      <th>province_Bandung</th>\n",
       "      <th>province_Banjarmasin</th>\n",
       "      <th>province_Bengkulu</th>\n",
       "      <th>province_Denpasar</th>\n",
       "      <th>province_Gorontalo</th>\n",
       "      <th>province_Jakarta</th>\n",
       "      <th>province_Jambi</th>\n",
       "      <th>province_Jayapura</th>\n",
       "      <th>province_Kendari</th>\n",
       "      <th>province_Kupang</th>\n",
       "      <th>province_Makassar</th>\n",
       "      <th>province_Mamuju</th>\n",
       "      <th>province_Manado</th>\n",
       "      <th>province_Manokwari</th>\n",
       "      <th>province_Mataram</th>\n",
       "      <th>province_Medan</th>\n",
       "      <th>province_Padang</th>\n",
       "      <th>province_Palangkaraya</th>\n",
       "      <th>province_Palembang</th>\n",
       "      <th>province_Palu</th>\n",
       "      <th>province_Pangkalpinang</th>\n",
       "      <th>province_Pekanbaru</th>\n",
       "      <th>province_Pontianak</th>\n",
       "      <th>province_Samarinda</th>\n",
       "      <th>province_Semarang</th>\n",
       "      <th>province_Serang</th>\n",
       "      <th>province_Sofifi</th>\n",
       "      <th>province_Surabaya</th>\n",
       "      <th>province_Tanjung Pinang</th>\n",
       "      <th>province_Tanjungselor</th>\n",
       "      <th>province_Yogyakarta</th>\n",
       "      <th>education_Bachelor Degree</th>\n",
       "      <th>education_Doctoral Degree</th>\n",
       "      <th>education_Elementary School</th>\n",
       "      <th>education_Junior High School</th>\n",
       "      <th>education_Magister Degree</th>\n",
       "      <th>education_Senior High School</th>\n",
       "      <th>shampoo_Deadbuoy</th>\n",
       "      <th>shampoo_Merpati</th>\n",
       "      <th>shampoo_Moonsilk</th>\n",
       "      <th>shampoo_Pantone</th>\n",
       "      <th>shampoo_Shoulder &amp; Head</th>\n",
       "    </tr>\n",
       "  </thead>\n",
       "  <tbody>\n",
       "    <tr>\n",
       "      <th>0</th>\n",
       "      <td>27.0</td>\n",
       "      <td>7.957453e+06</td>\n",
       "      <td>1.0</td>\n",
       "      <td>0.0</td>\n",
       "      <td>54.315053</td>\n",
       "      <td>170.428542</td>\n",
       "      <td>1.0</td>\n",
       "      <td>5.0</td>\n",
       "      <td>0.605974</td>\n",
       "      <td>1</td>\n",
       "      <td>0</td>\n",
       "      <td>0</td>\n",
       "      <td>1</td>\n",
       "      <td>0</td>\n",
       "      <td>0</td>\n",
       "      <td>0</td>\n",
       "      <td>0</td>\n",
       "      <td>0</td>\n",
       "      <td>0</td>\n",
       "      <td>1</td>\n",
       "      <td>0</td>\n",
       "      <td>0</td>\n",
       "      <td>0</td>\n",
       "      <td>0</td>\n",
       "      <td>0</td>\n",
       "      <td>0</td>\n",
       "      <td>0</td>\n",
       "      <td>0</td>\n",
       "      <td>0</td>\n",
       "      <td>0</td>\n",
       "      <td>0</td>\n",
       "      <td>0</td>\n",
       "      <td>0</td>\n",
       "      <td>0</td>\n",
       "      <td>0</td>\n",
       "      <td>0</td>\n",
       "      <td>0</td>\n",
       "      <td>0</td>\n",
       "      <td>0</td>\n",
       "      <td>0</td>\n",
       "      <td>0</td>\n",
       "      <td>0</td>\n",
       "      <td>0</td>\n",
       "      <td>0</td>\n",
       "      <td>0</td>\n",
       "      <td>0</td>\n",
       "      <td>0</td>\n",
       "      <td>0</td>\n",
       "      <td>1</td>\n",
       "      <td>0</td>\n",
       "      <td>0</td>\n",
       "      <td>0</td>\n",
       "      <td>0</td>\n",
       "      <td>0</td>\n",
       "      <td>0</td>\n",
       "      <td>0</td>\n",
       "      <td>0</td>\n",
       "      <td>1</td>\n",
       "      <td>0</td>\n",
       "    </tr>\n",
       "    <tr>\n",
       "      <th>1</th>\n",
       "      <td>53.0</td>\n",
       "      <td>7.633003e+06</td>\n",
       "      <td>1.0</td>\n",
       "      <td>0.0</td>\n",
       "      <td>72.873404</td>\n",
       "      <td>165.530097</td>\n",
       "      <td>0.0</td>\n",
       "      <td>7.0</td>\n",
       "      <td>0.532860</td>\n",
       "      <td>1</td>\n",
       "      <td>0</td>\n",
       "      <td>0</td>\n",
       "      <td>1</td>\n",
       "      <td>0</td>\n",
       "      <td>0</td>\n",
       "      <td>0</td>\n",
       "      <td>0</td>\n",
       "      <td>1</td>\n",
       "      <td>0</td>\n",
       "      <td>0</td>\n",
       "      <td>0</td>\n",
       "      <td>0</td>\n",
       "      <td>0</td>\n",
       "      <td>0</td>\n",
       "      <td>0</td>\n",
       "      <td>0</td>\n",
       "      <td>0</td>\n",
       "      <td>0</td>\n",
       "      <td>0</td>\n",
       "      <td>0</td>\n",
       "      <td>0</td>\n",
       "      <td>0</td>\n",
       "      <td>0</td>\n",
       "      <td>0</td>\n",
       "      <td>0</td>\n",
       "      <td>0</td>\n",
       "      <td>0</td>\n",
       "      <td>0</td>\n",
       "      <td>0</td>\n",
       "      <td>0</td>\n",
       "      <td>0</td>\n",
       "      <td>0</td>\n",
       "      <td>0</td>\n",
       "      <td>0</td>\n",
       "      <td>0</td>\n",
       "      <td>0</td>\n",
       "      <td>0</td>\n",
       "      <td>0</td>\n",
       "      <td>1</td>\n",
       "      <td>0</td>\n",
       "      <td>0</td>\n",
       "      <td>0</td>\n",
       "      <td>0</td>\n",
       "      <td>0</td>\n",
       "      <td>0</td>\n",
       "      <td>0</td>\n",
       "      <td>0</td>\n",
       "      <td>1</td>\n",
       "      <td>0</td>\n",
       "    </tr>\n",
       "  </tbody>\n",
       "</table>\n",
       "</div>"
      ],
      "text/plain": [
       "    age        salary  is_married  is_hereditary     weight      height  \\\n",
       "0  27.0  7.957453e+06         1.0            0.0  54.315053  170.428542   \n",
       "1  53.0  7.633003e+06         1.0            0.0  72.873404  165.530097   \n",
       "\n",
       "   is_smoker  stress  bald_prob  gender_female  gender_male  \\\n",
       "0        1.0     5.0   0.605974              1            0   \n",
       "1        0.0     7.0   0.532860              1            0   \n",
       "\n",
       "   job_role_Employee  job_role_Government Employee  job_role_Jobless  \\\n",
       "0                  0                             1                 0   \n",
       "1                  0                             1                 0   \n",
       "\n",
       "   province_Ambon  province_Banda Aceh  province_Banda Lampung  \\\n",
       "0               0                    0                       0   \n",
       "1               0                    0                       0   \n",
       "\n",
       "   province_Bandung  province_Banjarmasin  province_Bengkulu  \\\n",
       "0                 0                     0                  1   \n",
       "1                 1                     0                  0   \n",
       "\n",
       "   province_Denpasar  province_Gorontalo  province_Jakarta  province_Jambi  \\\n",
       "0                  0                   0                 0               0   \n",
       "1                  0                   0                 0               0   \n",
       "\n",
       "   province_Jayapura  province_Kendari  province_Kupang  province_Makassar  \\\n",
       "0                  0                 0                0                  0   \n",
       "1                  0                 0                0                  0   \n",
       "\n",
       "   province_Mamuju  province_Manado  province_Manokwari  province_Mataram  \\\n",
       "0                0                0                   0                 0   \n",
       "1                0                0                   0                 0   \n",
       "\n",
       "   province_Medan  province_Padang  province_Palangkaraya  province_Palembang  \\\n",
       "0               0                0                      0                   0   \n",
       "1               0                0                      0                   0   \n",
       "\n",
       "   province_Palu  province_Pangkalpinang  province_Pekanbaru  \\\n",
       "0              0                       0                   0   \n",
       "1              0                       0                   0   \n",
       "\n",
       "   province_Pontianak  province_Samarinda  province_Semarang  province_Serang  \\\n",
       "0                   0                   0                  0                0   \n",
       "1                   0                   0                  0                0   \n",
       "\n",
       "   province_Sofifi  province_Surabaya  province_Tanjung Pinang  \\\n",
       "0                0                  0                        0   \n",
       "1                0                  0                        0   \n",
       "\n",
       "   province_Tanjungselor  province_Yogyakarta  education_Bachelor Degree  \\\n",
       "0                      0                    0                          1   \n",
       "1                      0                    0                          1   \n",
       "\n",
       "   education_Doctoral Degree  education_Elementary School  \\\n",
       "0                          0                            0   \n",
       "1                          0                            0   \n",
       "\n",
       "   education_Junior High School  education_Magister Degree  \\\n",
       "0                             0                          0   \n",
       "1                             0                          0   \n",
       "\n",
       "   education_Senior High School  shampoo_Deadbuoy  shampoo_Merpati  \\\n",
       "0                             0                 0                0   \n",
       "1                             0                 0                0   \n",
       "\n",
       "   shampoo_Moonsilk  shampoo_Pantone  shampoo_Shoulder & Head  \n",
       "0                 0                1                        0  \n",
       "1                 0                1                        0  "
      ]
     },
     "execution_count": 1331,
     "metadata": {},
     "output_type": "execute_result"
    }
   ],
   "source": [
    "df2 = pd.read_csv(\"./bald_probability.csv\")\n",
    "\n",
    "proporciones = {\n",
    "    'Government Employee': 0.47,\n",
    "    'Employee': 0.48,\n",
    "    'Jobless': 0.05\n",
    "}\n",
    "\n",
    "n_nan = df2['job_role'].isna().sum()\n",
    "categorias = list(proporciones.keys())\n",
    "probabilidades = list(proporciones.values())\n",
    "nan_indices = df2['job_role'].isna()\n",
    "df2.loc[nan_indices, 'job_role'] = np.random.choice(categorias, size=n_nan, p=probabilidades)\n",
    "\n",
    "df2.dropna(inplace=True)\n",
    "\n",
    "df2 = pd.get_dummies(df2, columns=['gender'], dtype=int)\n",
    "df2 = pd.get_dummies(df2, columns=['job_role'], dtype=int)\n",
    "df2 = pd.get_dummies(df2, columns=['province'], dtype=int)\n",
    "df2 = pd.get_dummies(df2, columns=['education'], dtype=int)\n",
    "df2 = pd.get_dummies(df2, columns=['shampoo'], dtype=int)\n",
    "\n",
    "df2.head(2)"
   ]
  },
  {
   "cell_type": "markdown",
   "metadata": {},
   "source": [
    "### Obtener modelo"
   ]
  },
  {
   "cell_type": "code",
   "execution_count": 1332,
   "metadata": {},
   "outputs": [
    {
     "name": "stdout",
     "output_type": "stream",
     "text": [
      "Precisión del modelo (R²): 0.68\n",
      "Fallo cuadrático medio (MSE): 0.01\n",
      "RMSE: 0.09663109917611344\n"
     ]
    }
   ],
   "source": [
    "X = df2.drop(columns=['bald_prob'])\n",
    "X_miTest_sinProcesar = X.iloc[-1]\n",
    "X = X.iloc[:-1]\n",
    "y = df2['bald_prob']\n",
    "y_miTest_sinProcesar = y.iloc[-1]\n",
    "y = y.iloc[:-1]\n",
    "\n",
    "X_train, X_test, y_train, y_test = train_test_split(X, y, test_size=0.2, random_state=42)\n",
    "\n",
    "modelo = LinearRegression()\n",
    "modeloSinProcesar = modelo.fit(X_train, y_train)\n",
    "\n",
    "y_pred = modeloSinProcesar.predict(X_test)\n",
    "\n",
    "r21 = modeloSinProcesar.score(X_test, y_test)\n",
    "mse1 = mean_squared_error(y_test, y_pred)\n",
    "\n",
    "print(f\"Precisión del modelo (R²): {r21:.2f}\")\n",
    "print(f\"Fallo cuadrático medio (MSE): {mse1:.2f}\")\n",
    "rmse1 = np.sqrt(mse1)\n",
    "\n",
    "print(\"RMSE:\", rmse1)"
   ]
  },
  {
   "cell_type": "markdown",
   "metadata": {},
   "source": [
    "## Con datos escalados"
   ]
  },
  {
   "cell_type": "code",
   "execution_count": 1333,
   "metadata": {},
   "outputs": [],
   "source": [
    "df = df.drop(columns=['baldness'])"
   ]
  },
  {
   "cell_type": "code",
   "execution_count": 1334,
   "metadata": {},
   "outputs": [
    {
     "data": {
      "text/html": [
       "<div>\n",
       "<style scoped>\n",
       "    .dataframe tbody tr th:only-of-type {\n",
       "        vertical-align: middle;\n",
       "    }\n",
       "\n",
       "    .dataframe tbody tr th {\n",
       "        vertical-align: top;\n",
       "    }\n",
       "\n",
       "    .dataframe thead th {\n",
       "        text-align: right;\n",
       "    }\n",
       "</style>\n",
       "<table border=\"1\" class=\"dataframe\">\n",
       "  <thead>\n",
       "    <tr style=\"text-align: right;\">\n",
       "      <th></th>\n",
       "      <th>age</th>\n",
       "      <th>salary</th>\n",
       "      <th>is_married</th>\n",
       "      <th>is_hereditary</th>\n",
       "      <th>weight</th>\n",
       "      <th>height</th>\n",
       "      <th>is_smoker</th>\n",
       "      <th>stress</th>\n",
       "      <th>gender_female</th>\n",
       "      <th>gender_male</th>\n",
       "      <th>job_role_Employee</th>\n",
       "      <th>job_role_Government Employee</th>\n",
       "      <th>job_role_Jobless</th>\n",
       "      <th>province_Ambon</th>\n",
       "      <th>province_Banda Aceh</th>\n",
       "      <th>province_Banda Lampung</th>\n",
       "      <th>province_Bandung</th>\n",
       "      <th>province_Banjarmasin</th>\n",
       "      <th>province_Bengkulu</th>\n",
       "      <th>province_Denpasar</th>\n",
       "      <th>province_Gorontalo</th>\n",
       "      <th>province_Jakarta</th>\n",
       "      <th>province_Jambi</th>\n",
       "      <th>province_Jayapura</th>\n",
       "      <th>province_Kendari</th>\n",
       "      <th>province_Kupang</th>\n",
       "      <th>province_Makassar</th>\n",
       "      <th>province_Mamuju</th>\n",
       "      <th>province_Manado</th>\n",
       "      <th>province_Manokwari</th>\n",
       "      <th>province_Mataram</th>\n",
       "      <th>province_Medan</th>\n",
       "      <th>province_Padang</th>\n",
       "      <th>province_Palangkaraya</th>\n",
       "      <th>province_Palembang</th>\n",
       "      <th>province_Palu</th>\n",
       "      <th>province_Pangkalpinang</th>\n",
       "      <th>province_Pekanbaru</th>\n",
       "      <th>province_Pontianak</th>\n",
       "      <th>province_Samarinda</th>\n",
       "      <th>province_Semarang</th>\n",
       "      <th>province_Serang</th>\n",
       "      <th>province_Sofifi</th>\n",
       "      <th>province_Surabaya</th>\n",
       "      <th>province_Tanjung Pinang</th>\n",
       "      <th>province_Tanjungselor</th>\n",
       "      <th>province_Yogyakarta</th>\n",
       "      <th>education_Bachelor Degree</th>\n",
       "      <th>education_Doctoral Degree</th>\n",
       "      <th>education_Elementary School</th>\n",
       "      <th>education_Junior High School</th>\n",
       "      <th>education_Magister Degree</th>\n",
       "      <th>education_Senior High School</th>\n",
       "      <th>shampoo_Deadbuoy</th>\n",
       "      <th>shampoo_Merpati</th>\n",
       "      <th>shampoo_Moonsilk</th>\n",
       "      <th>shampoo_Pantone</th>\n",
       "      <th>shampoo_Shoulder &amp; Head</th>\n",
       "    </tr>\n",
       "  </thead>\n",
       "  <tbody>\n",
       "    <tr>\n",
       "      <th>0</th>\n",
       "      <td>27.0</td>\n",
       "      <td>7.957453e+06</td>\n",
       "      <td>1.0</td>\n",
       "      <td>0.0</td>\n",
       "      <td>54.315053</td>\n",
       "      <td>170.428542</td>\n",
       "      <td>1.0</td>\n",
       "      <td>5.0</td>\n",
       "      <td>1</td>\n",
       "      <td>0</td>\n",
       "      <td>0</td>\n",
       "      <td>1</td>\n",
       "      <td>0</td>\n",
       "      <td>0</td>\n",
       "      <td>0</td>\n",
       "      <td>0</td>\n",
       "      <td>0</td>\n",
       "      <td>0</td>\n",
       "      <td>1</td>\n",
       "      <td>0</td>\n",
       "      <td>0</td>\n",
       "      <td>0</td>\n",
       "      <td>0</td>\n",
       "      <td>0</td>\n",
       "      <td>0</td>\n",
       "      <td>0</td>\n",
       "      <td>0</td>\n",
       "      <td>0</td>\n",
       "      <td>0</td>\n",
       "      <td>0</td>\n",
       "      <td>0</td>\n",
       "      <td>0</td>\n",
       "      <td>0</td>\n",
       "      <td>0</td>\n",
       "      <td>0</td>\n",
       "      <td>0</td>\n",
       "      <td>0</td>\n",
       "      <td>0</td>\n",
       "      <td>0</td>\n",
       "      <td>0</td>\n",
       "      <td>0</td>\n",
       "      <td>0</td>\n",
       "      <td>0</td>\n",
       "      <td>0</td>\n",
       "      <td>0</td>\n",
       "      <td>0</td>\n",
       "      <td>0</td>\n",
       "      <td>1</td>\n",
       "      <td>0</td>\n",
       "      <td>0</td>\n",
       "      <td>0</td>\n",
       "      <td>0</td>\n",
       "      <td>0</td>\n",
       "      <td>0</td>\n",
       "      <td>0</td>\n",
       "      <td>0</td>\n",
       "      <td>1</td>\n",
       "      <td>0</td>\n",
       "    </tr>\n",
       "    <tr>\n",
       "      <th>1</th>\n",
       "      <td>53.0</td>\n",
       "      <td>7.633003e+06</td>\n",
       "      <td>1.0</td>\n",
       "      <td>0.0</td>\n",
       "      <td>72.873404</td>\n",
       "      <td>165.530097</td>\n",
       "      <td>0.0</td>\n",
       "      <td>7.0</td>\n",
       "      <td>1</td>\n",
       "      <td>0</td>\n",
       "      <td>0</td>\n",
       "      <td>1</td>\n",
       "      <td>0</td>\n",
       "      <td>0</td>\n",
       "      <td>0</td>\n",
       "      <td>0</td>\n",
       "      <td>1</td>\n",
       "      <td>0</td>\n",
       "      <td>0</td>\n",
       "      <td>0</td>\n",
       "      <td>0</td>\n",
       "      <td>0</td>\n",
       "      <td>0</td>\n",
       "      <td>0</td>\n",
       "      <td>0</td>\n",
       "      <td>0</td>\n",
       "      <td>0</td>\n",
       "      <td>0</td>\n",
       "      <td>0</td>\n",
       "      <td>0</td>\n",
       "      <td>0</td>\n",
       "      <td>0</td>\n",
       "      <td>0</td>\n",
       "      <td>0</td>\n",
       "      <td>0</td>\n",
       "      <td>0</td>\n",
       "      <td>0</td>\n",
       "      <td>0</td>\n",
       "      <td>0</td>\n",
       "      <td>0</td>\n",
       "      <td>0</td>\n",
       "      <td>0</td>\n",
       "      <td>0</td>\n",
       "      <td>0</td>\n",
       "      <td>0</td>\n",
       "      <td>0</td>\n",
       "      <td>0</td>\n",
       "      <td>1</td>\n",
       "      <td>0</td>\n",
       "      <td>0</td>\n",
       "      <td>0</td>\n",
       "      <td>0</td>\n",
       "      <td>0</td>\n",
       "      <td>0</td>\n",
       "      <td>0</td>\n",
       "      <td>0</td>\n",
       "      <td>1</td>\n",
       "      <td>0</td>\n",
       "    </tr>\n",
       "  </tbody>\n",
       "</table>\n",
       "</div>"
      ],
      "text/plain": [
       "    age        salary  is_married  is_hereditary     weight      height  \\\n",
       "0  27.0  7.957453e+06         1.0            0.0  54.315053  170.428542   \n",
       "1  53.0  7.633003e+06         1.0            0.0  72.873404  165.530097   \n",
       "\n",
       "   is_smoker  stress  gender_female  gender_male  job_role_Employee  \\\n",
       "0        1.0     5.0              1            0                  0   \n",
       "1        0.0     7.0              1            0                  0   \n",
       "\n",
       "   job_role_Government Employee  job_role_Jobless  province_Ambon  \\\n",
       "0                             1                 0               0   \n",
       "1                             1                 0               0   \n",
       "\n",
       "   province_Banda Aceh  province_Banda Lampung  province_Bandung  \\\n",
       "0                    0                       0                 0   \n",
       "1                    0                       0                 1   \n",
       "\n",
       "   province_Banjarmasin  province_Bengkulu  province_Denpasar  \\\n",
       "0                     0                  1                  0   \n",
       "1                     0                  0                  0   \n",
       "\n",
       "   province_Gorontalo  province_Jakarta  province_Jambi  province_Jayapura  \\\n",
       "0                   0                 0               0                  0   \n",
       "1                   0                 0               0                  0   \n",
       "\n",
       "   province_Kendari  province_Kupang  province_Makassar  province_Mamuju  \\\n",
       "0                 0                0                  0                0   \n",
       "1                 0                0                  0                0   \n",
       "\n",
       "   province_Manado  province_Manokwari  province_Mataram  province_Medan  \\\n",
       "0                0                   0                 0               0   \n",
       "1                0                   0                 0               0   \n",
       "\n",
       "   province_Padang  province_Palangkaraya  province_Palembang  province_Palu  \\\n",
       "0                0                      0                   0              0   \n",
       "1                0                      0                   0              0   \n",
       "\n",
       "   province_Pangkalpinang  province_Pekanbaru  province_Pontianak  \\\n",
       "0                       0                   0                   0   \n",
       "1                       0                   0                   0   \n",
       "\n",
       "   province_Samarinda  province_Semarang  province_Serang  province_Sofifi  \\\n",
       "0                   0                  0                0                0   \n",
       "1                   0                  0                0                0   \n",
       "\n",
       "   province_Surabaya  province_Tanjung Pinang  province_Tanjungselor  \\\n",
       "0                  0                        0                      0   \n",
       "1                  0                        0                      0   \n",
       "\n",
       "   province_Yogyakarta  education_Bachelor Degree  education_Doctoral Degree  \\\n",
       "0                    0                          1                          0   \n",
       "1                    0                          1                          0   \n",
       "\n",
       "   education_Elementary School  education_Junior High School  \\\n",
       "0                            0                             0   \n",
       "1                            0                             0   \n",
       "\n",
       "   education_Magister Degree  education_Senior High School  shampoo_Deadbuoy  \\\n",
       "0                          0                             0                 0   \n",
       "1                          0                             0                 0   \n",
       "\n",
       "   shampoo_Merpati  shampoo_Moonsilk  shampoo_Pantone  shampoo_Shoulder & Head  \n",
       "0                0                 0                1                        0  \n",
       "1                0                 0                1                        0  "
      ]
     },
     "execution_count": 1334,
     "metadata": {},
     "output_type": "execute_result"
    }
   ],
   "source": [
    "X.head(2)"
   ]
  },
  {
   "cell_type": "code",
   "execution_count": 1335,
   "metadata": {},
   "outputs": [
    {
     "name": "stdout",
     "output_type": "stream",
     "text": [
      "Precisión del modelo (R²): 0.68\n",
      "Fallo cuadrático medio (MSE): 0.01\n",
      "RMSE: 0.09572798214588357\n"
     ]
    }
   ],
   "source": [
    "X = df.drop(columns=['bald_prob'])\n",
    "X_miTest_Procesado = X.iloc[-1]\n",
    "X = X.iloc[:-1]\n",
    "y = df['bald_prob']\n",
    "y_miTest_Procesado = y.iloc[-1]\n",
    "y = y.iloc[:-1]\n",
    "\n",
    "X_train, X_test, y_train, y_test = train_test_split(X, y, test_size=0.2, random_state=42)\n",
    "\n",
    "modelo = LinearRegression()\n",
    "modeloProcesado = modelo.fit(X_train, y_train)\n",
    "\n",
    "y_pred = modeloProcesado.predict(X_test)\n",
    "\n",
    "r22 = modeloProcesado.score(X_test, y_test)\n",
    "mse2 = mean_squared_error(y_test, y_pred)\n",
    "\n",
    "print(f\"Precisión del modelo (R²): {r22:.2f}\")\n",
    "print(f\"Fallo cuadrático medio (MSE): {mse2:.2f}\")\n",
    "rmse2 = np.sqrt(mse2)\n",
    "\n",
    "print(\"RMSE:\", rmse2)"
   ]
  },
  {
   "cell_type": "markdown",
   "metadata": {},
   "source": [
    "## Escalando la salida de ambos modelos"
   ]
  },
  {
   "cell_type": "markdown",
   "metadata": {},
   "source": [
    "### Modelo sin escalar"
   ]
  },
  {
   "cell_type": "code",
   "execution_count": 1336,
   "metadata": {},
   "outputs": [
    {
     "name": "stdout",
     "output_type": "stream",
     "text": [
      "Precisión del modelo (R²): 0.68\n",
      "Fallo cuadrático medio (MSE): 0.31\n",
      "RMSE: 0.5582791658047158\n"
     ]
    }
   ],
   "source": [
    "X = df2.drop(columns=['bald_prob'])\n",
    "X_miTest_sinProcesar_yEscalado = X.iloc[-1]\n",
    "X = X.iloc[:-1]\n",
    "y = df2['bald_prob']\n",
    "\n",
    "standardScaler = StandardScaler()\n",
    "y = standardScaler.fit_transform(y.values.reshape(-1, 1))\n",
    "\n",
    "y_miTest_sinProcesar_yEscalado = y[-1]\n",
    "y = y[:-1]\n",
    "\n",
    "\n",
    "X_train, X_test, y_train, y_test = train_test_split(X, y, test_size=0.2, random_state=42)\n",
    "\n",
    "modelo = LinearRegression()\n",
    "modeloSinProcesar_yEscalada = modelo.fit(X_train, y_train)\n",
    "\n",
    "y_pred = modeloSinProcesar_yEscalada.predict(X_test)\n",
    "\n",
    "r23 = modeloSinProcesar_yEscalada.score(X_test, y_test)\n",
    "mse3 = mean_squared_error(y_test, y_pred)\n",
    "\n",
    "print(f\"Precisión del modelo (R²): {r23:.2f}\")\n",
    "print(f\"Fallo cuadrático medio (MSE): {mse3:.2f}\")\n",
    "rmse3 = np.sqrt(mse3)\n",
    "\n",
    "print(\"RMSE:\", rmse3)"
   ]
  },
  {
   "cell_type": "markdown",
   "metadata": {},
   "source": [
    "### Modelo escalado"
   ]
  },
  {
   "cell_type": "code",
   "execution_count": 1337,
   "metadata": {},
   "outputs": [
    {
     "name": "stdout",
     "output_type": "stream",
     "text": [
      "Precisión del modelo (R²): 0.68\n",
      "Fallo cuadrático medio (MSE): 0.31\n",
      "RMSE: 0.5530729632630665\n"
     ]
    }
   ],
   "source": [
    "X = df.drop(columns=['bald_prob'])\n",
    "X_miTest_Procesado_yEscalado = X.iloc[-1]\n",
    "X = X.iloc[:-1]\n",
    "y = df['bald_prob']\n",
    "\n",
    "y = standardScaler.fit_transform(y.values.reshape(-1, 1))\n",
    "\n",
    "y_miTest_Procesado_yEscalado = y[-1]\n",
    "y = y[:-1]\n",
    "\n",
    "X_train, X_test, y_train, y_test = train_test_split(X, y, test_size=0.2, random_state=42)\n",
    "\n",
    "modelo = LinearRegression()\n",
    "modeloProcesado_yEscalada = modelo.fit(X_train, y_train)\n",
    "\n",
    "y_pred = modeloProcesado_yEscalada.predict(X_test)\n",
    "\n",
    "r24 = modeloProcesado_yEscalada.score(X_test, y_test)\n",
    "mse4 = mean_squared_error(y_test, y_pred)\n",
    "\n",
    "print(f\"Precisión del modelo (R²): {r24:.2f}\")\n",
    "print(f\"Fallo cuadrático medio (MSE): {mse4:.2f}\")\n",
    "rmse4 = np.sqrt(mse4)\n",
    "\n",
    "print(\"RMSE:\", rmse4)"
   ]
  },
  {
   "cell_type": "code",
   "execution_count": 1338,
   "metadata": {},
   "outputs": [
    {
     "name": "stdout",
     "output_type": "stream",
     "text": [
      "Predicción sin procesar:\n",
      "[0.86103645]\n",
      "Reultado esperado: 0.8721238515964617 \n",
      "\n",
      "Predicción procesada:\n",
      "[0.84823608]\n",
      "Reultado esperado: 0.8721238515964617 \n",
      "\n",
      "Predicción sin procesar y escalada:\n",
      "[[1.65869984]]\n",
      "Reultado esperado: [1.72275651] \n",
      "\n",
      "Predicción procesada y escalada:\n",
      "[[1.58508301]]\n",
      "Reultado esperado: [1.72275651] \n",
      "\n"
     ]
    },
    {
     "name": "stderr",
     "output_type": "stream",
     "text": [
      "c:\\Users\\marco\\anaconda3\\Lib\\site-packages\\sklearn\\base.py:493: UserWarning: X does not have valid feature names, but LinearRegression was fitted with feature names\n",
      "  warnings.warn(\n",
      "c:\\Users\\marco\\anaconda3\\Lib\\site-packages\\sklearn\\base.py:493: UserWarning: X does not have valid feature names, but LinearRegression was fitted with feature names\n",
      "  warnings.warn(\n",
      "c:\\Users\\marco\\anaconda3\\Lib\\site-packages\\sklearn\\base.py:493: UserWarning: X does not have valid feature names, but LinearRegression was fitted with feature names\n",
      "  warnings.warn(\n",
      "c:\\Users\\marco\\anaconda3\\Lib\\site-packages\\sklearn\\base.py:493: UserWarning: X does not have valid feature names, but LinearRegression was fitted with feature names\n",
      "  warnings.warn(\n"
     ]
    }
   ],
   "source": [
    "print(\"Predicción sin procesar:\")\n",
    "print(modeloSinProcesar.predict([X_miTest_sinProcesar]))\n",
    "print(\"Reultado esperado:\", y_miTest_sinProcesar, \"\\n\")\n",
    "\n",
    "print(\"Predicción procesada:\")\n",
    "print(modeloProcesado.predict([X_miTest_Procesado]))\n",
    "print(\"Reultado esperado:\", y_miTest_Procesado, \"\\n\")\n",
    "\n",
    "print(\"Predicción sin procesar y escalada:\")\n",
    "print(modeloSinProcesar_yEscalada.predict([X_miTest_sinProcesar_yEscalado]))\n",
    "print(\"Reultado esperado:\", y_miTest_sinProcesar_yEscalado, \"\\n\")\n",
    "\n",
    "print(\"Predicción procesada y escalada:\")\n",
    "print(modeloProcesado_yEscalada.predict([X_miTest_Procesado_yEscalado]))\n",
    "print(\"Reultado esperado:\", y_miTest_Procesado_yEscalado, \"\\n\")"
   ]
  },
  {
   "cell_type": "code",
   "execution_count": 1340,
   "metadata": {},
   "outputs": [
    {
     "data": {
      "text/html": [
       "<div>\n",
       "<style scoped>\n",
       "    .dataframe tbody tr th:only-of-type {\n",
       "        vertical-align: middle;\n",
       "    }\n",
       "\n",
       "    .dataframe tbody tr th {\n",
       "        vertical-align: top;\n",
       "    }\n",
       "\n",
       "    .dataframe thead th {\n",
       "        text-align: right;\n",
       "    }\n",
       "</style>\n",
       "<table border=\"1\" class=\"dataframe\">\n",
       "  <thead>\n",
       "    <tr style=\"text-align: right;\">\n",
       "      <th></th>\n",
       "      <th>Modelo</th>\n",
       "      <th>R²</th>\n",
       "      <th>MSE</th>\n",
       "      <th>RMSE</th>\n",
       "    </tr>\n",
       "  </thead>\n",
       "  <tbody>\n",
       "    <tr>\n",
       "      <th>0</th>\n",
       "      <td>Sin procesar</td>\n",
       "      <td>0.676607</td>\n",
       "      <td>0.009338</td>\n",
       "      <td>0.096631</td>\n",
       "    </tr>\n",
       "    <tr>\n",
       "      <th>1</th>\n",
       "      <td>Procesado</td>\n",
       "      <td>0.682624</td>\n",
       "      <td>0.009164</td>\n",
       "      <td>0.095728</td>\n",
       "    </tr>\n",
       "    <tr>\n",
       "      <th>2</th>\n",
       "      <td>Sin procesar y escalado</td>\n",
       "      <td>0.676607</td>\n",
       "      <td>0.311676</td>\n",
       "      <td>0.558279</td>\n",
       "    </tr>\n",
       "    <tr>\n",
       "      <th>3</th>\n",
       "      <td>Procesado y escalado</td>\n",
       "      <td>0.682611</td>\n",
       "      <td>0.305890</td>\n",
       "      <td>0.553073</td>\n",
       "    </tr>\n",
       "  </tbody>\n",
       "</table>\n",
       "</div>"
      ],
      "text/plain": [
       "                    Modelo        R²       MSE      RMSE\n",
       "0             Sin procesar  0.676607  0.009338  0.096631\n",
       "1                Procesado  0.682624  0.009164  0.095728\n",
       "2  Sin procesar y escalado  0.676607  0.311676  0.558279\n",
       "3     Procesado y escalado  0.682611  0.305890  0.553073"
      ]
     },
     "execution_count": 1340,
     "metadata": {},
     "output_type": "execute_result"
    }
   ],
   "source": [
    "data = {\n",
    "    \"Modelo\": [\"Sin procesar\", \"Procesado\", \"Sin procesar y escalado\", \"Procesado y escalado\"],\n",
    "    \"R²\": [r21, r22, r23, r24],\n",
    "    \"MSE\": [mse1, mse2, mse3, mse4],\n",
    "    \"RMSE\": [rmse1, rmse2, rmse3, rmse4]\n",
    "}\n",
    "\n",
    "df_resultados = pd.DataFrame(data)\n",
    "df_resultados"
   ]
  },
  {
   "cell_type": "code",
   "execution_count": null,
   "metadata": {},
   "outputs": [],
   "source": []
  }
 ],
 "metadata": {
  "kernelspec": {
   "display_name": "base",
   "language": "python",
   "name": "python3"
  },
  "language_info": {
   "codemirror_mode": {
    "name": "ipython",
    "version": 3
   },
   "file_extension": ".py",
   "mimetype": "text/x-python",
   "name": "python",
   "nbconvert_exporter": "python",
   "pygments_lexer": "ipython3",
   "version": "3.12.7"
  }
 },
 "nbformat": 4,
 "nbformat_minor": 2
}

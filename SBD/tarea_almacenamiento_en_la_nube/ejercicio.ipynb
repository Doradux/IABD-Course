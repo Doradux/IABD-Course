{
 "cells": [
  {
   "cell_type": "markdown",
   "metadata": {},
   "source": [
    "## Crear una instancia EC2, ejecutarla, pararla y eliminarla"
   ]
  },
  {
   "cell_type": "code",
   "execution_count": 101,
   "metadata": {},
   "outputs": [],
   "source": [
    "import boto3\n",
    "import os\n",
    "from dotenv import load_dotenv\n",
    "\n",
    "load_dotenv(override=True)\n",
    "\n",
    "aws_access_key = os.getenv(\"aws_access_key_id\")\n",
    "aws_secret_key = os.getenv(\"aws_secret_access_key\")\n",
    "aws_session_token = os.getenv(\"aws_session_token\")\n",
    "region = os.getenv(\"aws_region\")\n",
    "\n",
    "ec2_res = boto3.resource(\n",
    "    \"ec2\",\n",
    "    aws_access_key_id=aws_access_key,\n",
    "    aws_secret_access_key=aws_secret_key,\n",
    "    aws_session_token=aws_session_token,\n",
    "    region_name=region\n",
    ")\n",
    "\n",
    "ec2_cli = boto3.client(\n",
    "    \"ec2\",\n",
    "    aws_access_key_id=aws_access_key,\n",
    "    aws_secret_access_key=aws_secret_key,\n",
    "    aws_session_token=aws_session_token,\n",
    "    region_name=region,\n",
    ")\n",
    "\n",
    "def obtener_estado_instancia(id):\n",
    "    response = ec2_cli.describe_instances(InstanceIds=[id])\n",
    "    state = response[\"Reservations\"][0][\"Instances\"][0][\"State\"][\"Name\"]\n",
    "    print(f\"Estado actual de {id}: {state}\")"
   ]
  },
  {
   "cell_type": "markdown",
   "metadata": {},
   "source": [
    "#### Crear instancia"
   ]
  },
  {
   "cell_type": "code",
   "execution_count": 2,
   "metadata": {},
   "outputs": [
    {
     "name": "stdout",
     "output_type": "stream",
     "text": [
      "id instancia: i-08ba4628df822ef87\n"
     ]
    }
   ],
   "source": [
    "instances = ec2_res.create_instances(\n",
    "    ImageId=\"ami-08b5b3a93ed654d19\",\n",
    "    InstanceType=\"t2.micro\",\n",
    "    MinCount=1,\n",
    "    MaxCount=1,\n",
    "    TagSpecifications=[\n",
    "        {\n",
    "            \"ResourceType\": \"instance\",\n",
    "            \"Tags\": [{\"Key\": \"Name\", \"Value\": \"InstanciaBoto3\"}],\n",
    "        }\n",
    "    ],\n",
    ")\n",
    "\n",
    "instance = instances[0]\n",
    "\n",
    "print(f\"id instancia: {instance.id}\")"
   ]
  },
  {
   "cell_type": "markdown",
   "metadata": {},
   "source": [
    "#### Parar la instancia"
   ]
  },
  {
   "cell_type": "code",
   "execution_count": 4,
   "metadata": {},
   "outputs": [
    {
     "name": "stdout",
     "output_type": "stream",
     "text": [
      "{'StoppingInstances': [{'InstanceId': 'i-08ba4628df822ef87', 'CurrentState': {'Code': 64, 'Name': 'stopping'}, 'PreviousState': {'Code': 16, 'Name': 'running'}}], 'ResponseMetadata': {'RequestId': '545cf9fe-252e-4d4c-8ea0-670483c1ecfc', 'HTTPStatusCode': 200, 'HTTPHeaders': {'x-amzn-requestid': '545cf9fe-252e-4d4c-8ea0-670483c1ecfc', 'cache-control': 'no-cache, no-store', 'strict-transport-security': 'max-age=31536000; includeSubDomains', 'content-type': 'text/xml;charset=UTF-8', 'content-length': '411', 'date': 'Mon, 24 Mar 2025 15:34:29 GMT', 'server': 'AmazonEC2'}, 'RetryAttempts': 0}}\n"
     ]
    }
   ],
   "source": [
    "response = ec2_cli.stop_instances(InstanceIds=[instance.id])\n",
    "print(response)"
   ]
  },
  {
   "cell_type": "code",
   "execution_count": 5,
   "metadata": {},
   "outputs": [
    {
     "name": "stdout",
     "output_type": "stream",
     "text": [
      "Estado actual de i-08ba4628df822ef87: stopping\n"
     ]
    }
   ],
   "source": [
    "obtener_estado_instancia(instance.id)"
   ]
  },
  {
   "cell_type": "markdown",
   "metadata": {},
   "source": [
    "#### Eliminar instancia"
   ]
  },
  {
   "cell_type": "code",
   "execution_count": 6,
   "metadata": {},
   "outputs": [
    {
     "name": "stdout",
     "output_type": "stream",
     "text": [
      "Estado: shutting-down\n"
     ]
    }
   ],
   "source": [
    "response = ec2_cli.terminate_instances(InstanceIds=[instance.id])\n",
    "state = response[\"TerminatingInstances\"][0][\"CurrentState\"][\"Name\"]\n",
    "print(f\"Estado: {state}\")"
   ]
  },
  {
   "cell_type": "markdown",
   "metadata": {},
   "source": [
    "## Cerar un EBS y asociarlo a un EC2 y añadir una archivo"
   ]
  },
  {
   "cell_type": "code",
   "execution_count": 38,
   "metadata": {},
   "outputs": [
    {
     "name": "stdout",
     "output_type": "stream",
     "text": [
      "🧾 Profile name: AmazonSSMRoleForInstancesQuickSetup\n",
      "🧾 Profile name: deomeo\n",
      "🧾 Profile name: EC2-SSM-Role\n",
      "🧾 Profile name: EMR_EC2_DefaultRole\n",
      "    ↪ Rol IAM: EMR_EC2_DefaultRole\n",
      "🧾 Profile name: LabInstanceProfile\n",
      "    ↪ Rol IAM: LabRole\n"
     ]
    }
   ],
   "source": [
    "import boto3\n",
    "\n",
    "iam = boto3.client(\"iam\")\n",
    "response = iam.list_instance_profiles()\n",
    "\n",
    "for profile in response[\"InstanceProfiles\"]:\n",
    "    print(f\"🧾 Profile name: {profile['InstanceProfileName']}\")\n",
    "    for role in profile[\"Roles\"]:\n",
    "        print(f\"    ↪ Rol IAM: {role['RoleName']}\")\n"
   ]
  },
  {
   "cell_type": "code",
   "execution_count": 102,
   "metadata": {},
   "outputs": [
    {
     "name": "stdout",
     "output_type": "stream",
     "text": [
      "id instancia: i-0250e7b735313be7c\n"
     ]
    }
   ],
   "source": [
    "instances = ec2_res.create_instances(\n",
    "    ImageId=\"ami-08b5b3a93ed654d19\",\n",
    "    InstanceType=\"t2.micro\",\n",
    "    IamInstanceProfile={\"Name\": \"LabInstanceProfile\"},\n",
    "    KeyName=\"mirsa\",\n",
    "    MinCount=1,\n",
    "    MaxCount=1,\n",
    "    TagSpecifications=[\n",
    "        {\n",
    "            \"ResourceType\": \"instance\",\n",
    "            \"Tags\": [{\"Key\": \"Name\", \"Value\": \"InstanciaBoto3\"}],\n",
    "        }\n",
    "    ],\n",
    ")\n",
    "\n",
    "instance = instances[0]\n",
    "\n",
    "print(f\"id instancia: {instance.id}\")"
   ]
  },
  {
   "cell_type": "markdown",
   "metadata": {},
   "source": [
    "#### Crear y asociar"
   ]
  },
  {
   "cell_type": "code",
   "execution_count": 18,
   "metadata": {},
   "outputs": [],
   "source": [
    "response = ec2_cli.describe_instances(InstanceIds=[instance.id])\n",
    "availability_zone = response[\"Reservations\"][0][\"Instances\"][0][\"Placement\"][\"AvailabilityZone\"]"
   ]
  },
  {
   "cell_type": "code",
   "execution_count": 19,
   "metadata": {},
   "outputs": [
    {
     "name": "stdout",
     "output_type": "stream",
     "text": [
      "id ebs: vol-09b836c1a90f6b53f\n"
     ]
    }
   ],
   "source": [
    "volume_response = ec2_cli.create_volume(\n",
    "    AvailabilityZone=availability_zone,\n",
    "    Size=8,\n",
    "    VolumeType=\"gp2\",\n",
    "    TagSpecifications=[\n",
    "        {\n",
    "            \"ResourceType\": \"volume\",\n",
    "            \"Tags\": [{\"Key\": \"Name\", \"Value\": \"miEBS\"}],\n",
    "        }\n",
    "    ],\n",
    ")\n",
    "\n",
    "print(f\"id ebs: {volume_response[\"VolumeId\"]}\")"
   ]
  },
  {
   "cell_type": "code",
   "execution_count": 20,
   "metadata": {},
   "outputs": [
    {
     "name": "stdout",
     "output_type": "stream",
     "text": [
      "vinculado\n"
     ]
    }
   ],
   "source": [
    "vol_status = ec2_cli.describe_volumes(VolumeIds=[volume_response[\"VolumeId\"]])[\"Volumes\"][0][\"State\"]\n",
    "if (vol_status == \"available\"):\n",
    "    ec2_cli.attach_volume(\n",
    "        VolumeId=volume_response[\"VolumeId\"],\n",
    "        InstanceId=instance.id,\n",
    "        Device=\"/dev/sdf\"\n",
    "    )\n",
    "    print(\"vinculado\")\n",
    "elif (vol_status == \"in-use\"):\n",
    "    print(\"ya asociado\")\n",
    "else:\n",
    "    print(\"ebs no esta disponible aun\")"
   ]
  },
  {
   "cell_type": "markdown",
   "metadata": {},
   "source": [
    "#### Anadir archivo (ssh)"
   ]
  },
  {
   "cell_type": "code",
   "execution_count": 21,
   "metadata": {},
   "outputs": [
    {
     "name": "stdout",
     "output_type": "stream",
     "text": [
      "35.173.133.38\n"
     ]
    }
   ],
   "source": [
    "response = ec2_cli.describe_instances(InstanceIds=[instance.id])\n",
    "EC2_PUBLIC_IP = response[\"Reservations\"][0][\"Instances\"][0][\"PublicIpAddress\"]\n",
    "print(EC2_PUBLIC_IP)\n",
    "\n",
    "SSH_KEY_PATH = \"mirsa.pem\"\n",
    "EC2_USER = \"ec2-user\"\n",
    "\n",
    "VOLUME_DEVICE = \"/dev/xvdf\"\n",
    "MOUNT_POINT = \"/mnt/ebs\"\n",
    "LOCAL_FILE_PATH = \"skere.txt\"  "
   ]
  },
  {
   "cell_type": "markdown",
   "metadata": {},
   "source": [
    "#### Subir el archivo"
   ]
  },
  {
   "cell_type": "code",
   "execution_count": 24,
   "metadata": {},
   "outputs": [
    {
     "name": "stdout",
     "output_type": "stream",
     "text": [
      "Archivo subido con éxito.\n",
      "-rw-rw-r--. 1 ec2-user ec2-user 60 Mar 24 15:43 /home/ec2-user/skere.txt\n",
      "\n",
      "\n"
     ]
    }
   ],
   "source": [
    "import paramiko\n",
    "\n",
    "key = paramiko.RSAKey.from_private_key_file(SSH_KEY_PATH)\n",
    "\n",
    "ssh = paramiko.SSHClient()\n",
    "ssh.set_missing_host_key_policy(paramiko.AutoAddPolicy())\n",
    "\n",
    "ssh.connect(EC2_PUBLIC_IP, username=EC2_USER, pkey=key)\n",
    "\n",
    "sftp = ssh.open_sftp()\n",
    "sftp.put(\"skere.txt\", f\"/home/{EC2_USER}/skere.txt\")\n",
    "sftp.close()\n",
    "\n",
    "print(\"Archivo subido con éxito.\")\n",
    "stdin, stdout, stderr = ssh.exec_command(f\"ls -l /home/{EC2_USER}/skere.txt\")\n",
    "print(stdout.read().decode())\n",
    "print(stderr.read().decode())\n",
    "\n",
    "ssh.close()"
   ]
  },
  {
   "cell_type": "markdown",
   "metadata": {},
   "source": [
    "## Crear un EFS, montarlo y añadir un archivo"
   ]
  },
  {
   "cell_type": "code",
   "execution_count": 30,
   "metadata": {},
   "outputs": [],
   "source": [
    "KEY_NAME = \"mirsa\""
   ]
  },
  {
   "cell_type": "markdown",
   "metadata": {},
   "source": [
    "#### Crear efs"
   ]
  },
  {
   "cell_type": "code",
   "execution_count": 40,
   "metadata": {},
   "outputs": [
    {
     "name": "stdout",
     "output_type": "stream",
     "text": [
      "id efs: fs-0a0deb8f96874a749\n"
     ]
    }
   ],
   "source": [
    "efs_client = boto3.client(\n",
    "    \"efs\",\n",
    "    aws_access_key_id=aws_access_key,\n",
    "    aws_secret_access_key=aws_secret_key,\n",
    "    aws_session_token=aws_session_token,\n",
    "    region_name=region\n",
    ")\n",
    "\n",
    "response = efs_client.create_file_system(\n",
    "    PerformanceMode=\"generalPurpose\",\n",
    "    ThroughputMode=\"bursting\",\n",
    "    Tags=[{\"Key\": \"Name\", \"Value\": \"miEFS\"}],\n",
    ")\n",
    "\n",
    "EFS_ID = response[\"FileSystemId\"]\n",
    "print(f\"id efs: {EFS_ID}\")\n"
   ]
  },
  {
   "cell_type": "markdown",
   "metadata": {},
   "source": [
    "#### Montaje"
   ]
  },
  {
   "cell_type": "code",
   "execution_count": 41,
   "metadata": {},
   "outputs": [
    {
     "name": "stdout",
     "output_type": "stream",
     "text": [
      "Punto de montaje en subred subnet-0873db01c53d03f44\n"
     ]
    }
   ],
   "source": [
    "# Obtener la VPC y una subred disponible\n",
    "vpcs = ec2_cli.describe_vpcs()\n",
    "vpc_id = vpcs[\"Vpcs\"][0][\"VpcId\"]\n",
    "\n",
    "subnets = ec2_cli.describe_subnets(Filters=[{\"Name\": \"vpc-id\", \"Values\": [vpc_id]}])\n",
    "subnet_id = subnets[\"Subnets\"][0][\"SubnetId\"]\n",
    "\n",
    "# Crear punto de acceso para el EFS en la subred\n",
    "response = efs_client.create_mount_target(\n",
    "    FileSystemId=EFS_ID,\n",
    "    SubnetId=subnet_id,\n",
    "    SecurityGroups=[\"sg-0e4ebccba24ef9c17\"],\n",
    ")\n",
    "\n",
    "print(f\"Punto de montaje en subred {subnet_id}\")"
   ]
  },
  {
   "cell_type": "code",
   "execution_count": 42,
   "metadata": {},
   "outputs": [
    {
     "name": "stdout",
     "output_type": "stream",
     "text": [
      "i-01b3e12c7db51a3e1\n"
     ]
    }
   ],
   "source": [
    "print(instance.id)"
   ]
  },
  {
   "cell_type": "code",
   "execution_count": 43,
   "metadata": {},
   "outputs": [],
   "source": [
    "import time\n",
    "\n",
    "ssm_client = boto3.client(\"ssm\", region_name=os.getenv(\"AWS_REGION\"))\n",
    "\n",
    "MOUNT_POINT = \"/mnt/efs\"\n",
    "\n",
    "# Comandos para instalar el cliente NFS y montar el EFS\n",
    "commands = [\n",
    "    \"sudo yum install -y amazon-efs-utils\",\n",
    "    f\"sudo mkdir -p {MOUNT_POINT}\",\n",
    "    f\"sudo mount -t efs {EFS_ID}:/ {MOUNT_POINT}\",\n",
    "    f\"echo '{EFS_ID}:/ {MOUNT_POINT} efs defaults,_netdev 0 0' | sudo tee -a /etc/fstab\",\n",
    "]\n"
   ]
  },
  {
   "cell_type": "code",
   "execution_count": 44,
   "metadata": {},
   "outputs": [],
   "source": [
    "waiter = ec2_cli.get_waiter(\"instance_status_ok\")\n",
    "waiter.wait(InstanceIds=[instance.id])\n"
   ]
  },
  {
   "cell_type": "code",
   "execution_count": 35,
   "metadata": {},
   "outputs": [
    {
     "name": "stdout",
     "output_type": "stream",
     "text": [
      "AWSServiceRoleForAmazonElasticFileSystem\n",
      "AWSServiceRoleForAPIGateway\n",
      "AWSServiceRoleForAWSCloud9\n",
      "AWSServiceRoleForBackup\n",
      "AWSServiceRoleForCloudWatchEvents\n",
      "AWSServiceRoleForElastiCache\n",
      "AWSServiceRoleForGlobalAccelerator\n",
      "AWSServiceRoleForOrganizations\n",
      "AWSServiceRoleForRDS\n",
      "AWSServiceRoleForSupport\n",
      "AWSServiceRoleForTrustedAdvisor\n",
      "c138268a3527251l9013214t1w93229969186-LambdaSLRRole-59rcU2yW9Wxs\n",
      "EMR_AutoScaling_DefaultRole\n",
      "EMR_DefaultRole\n",
      "EMR_EC2_DefaultRole\n",
      "EMR_Notebooks_DefaultRole\n",
      "LabRole\n",
      "myRedshiftRole\n",
      "RedshiftRole\n",
      "RoleForLambdaModLabRole\n",
      "vocareum\n",
      "vocareum-eventbridge\n",
      "voclabs\n"
     ]
    }
   ],
   "source": [
    "import boto3\n",
    "\n",
    "iam = boto3.client(\"iam\")\n",
    "roles = iam.list_roles()\n",
    "\n",
    "for role in roles[\"Roles\"]:\n",
    "    print(role[\"RoleName\"])"
   ]
  },
  {
   "cell_type": "code",
   "execution_count": 36,
   "metadata": {},
   "outputs": [
    {
     "name": "stdout",
     "output_type": "stream",
     "text": [
      "🔍 Políticas asociadas a 'LabRole':\n",
      "- AmazonSSMManagedInstanceCore\n",
      "- AmazonEKSClusterPolicy\n",
      "- AmazonEC2ContainerRegistryReadOnly\n",
      "- AmazonEKSWorkerNodePolicy\n",
      "- c138268a3527251l9013214t1w932299691865-VocLabPolicy2-FM4j2M3FdvLy\n",
      "- c138268a3527251l9013214t1w932299691865-VocLabPolicy3-nchaIkrPaKuE\n",
      "- c138268a3527251l9013214t1w932299691865-VocLabPolicy1-bXRztVcoQlrt\n"
     ]
    }
   ],
   "source": [
    "import boto3\n",
    "\n",
    "iam = boto3.client(\"iam\")\n",
    "\n",
    "attached = iam.list_attached_role_policies(RoleName=\"LabRole\")\n",
    "print(\"🔍 Políticas asociadas a 'LabRole':\")\n",
    "for policy in attached[\"AttachedPolicies\"]:\n",
    "    print(f\"- {policy['PolicyName']}\")\n"
   ]
  },
  {
   "cell_type": "code",
   "execution_count": 45,
   "metadata": {},
   "outputs": [
    {
     "name": "stdout",
     "output_type": "stream",
     "text": [
      "📤 Comando enviado. Command ID: 99b63b41-bd9c-4390-a357-bf0ca9f6a02d\n"
     ]
    }
   ],
   "source": [
    "response = ssm_client.send_command(\n",
    "    InstanceIds=[instance.id],\n",
    "    DocumentName=\"AWS-RunShellScript\",\n",
    "    Parameters={\"commands\": commands},\n",
    ")\n",
    "command_id = response[\"Command\"][\"CommandId\"]\n",
    "print(f\"📤 Comando enviado. Command ID: {command_id}\")"
   ]
  },
  {
   "cell_type": "code",
   "execution_count": 48,
   "metadata": {},
   "outputs": [
    {
     "name": "stdout",
     "output_type": "stream",
     "text": [
      "Comando enviado para crear archivo. ID: e98484cf-2bbd-4557-b9b4-125b7e3fbe69\n",
      "Estado: Success\n"
     ]
    }
   ],
   "source": [
    "create_file_commands = [\n",
    "    f\"echo 'holabotoholabotoholabotoholaboto' | sudo tee {MOUNT_POINT}/holaboto.txt\",\n",
    "    f\"ls -l {MOUNT_POINT}\"\n",
    "]\n",
    "\n",
    "response = ssm_client.send_command(\n",
    "    InstanceIds=[instance.id],\n",
    "    DocumentName=\"AWS-RunShellScript\",\n",
    "    Parameters={\"commands\": create_file_commands},\n",
    ")\n",
    "\n",
    "command_id = response[\"Command\"][\"CommandId\"]\n",
    "print(f\"Comando enviado para crear archivo. ID: {command_id}\")\n",
    "\n",
    "# Esperar la salida\n",
    "while True:\n",
    "    output = ssm_client.get_command_invocation(\n",
    "        CommandId=command_id,\n",
    "        InstanceId=instance.id,\n",
    "    )\n",
    "    status = output[\"Status\"]\n",
    "    if status in [\"Success\", \"Failed\", \"Cancelled\", \"TimedOut\"]:\n",
    "        print(f\"Estado: {status}\")\n",
    "        break\n",
    "\n",
    "    time.sleep(5)\n"
   ]
  },
  {
   "cell_type": "code",
   "execution_count": 55,
   "metadata": {},
   "outputs": [
    {
     "name": "stdout",
     "output_type": "stream",
     "text": [
      "Success\n",
      "total 4\n",
      "-rw-r--r--. 1 root root 33 Mar 24 16:28 holaboto.txt\n",
      "\n"
     ]
    }
   ],
   "source": [
    "verify_command = [\n",
    "    \"ls -l /mnt/efs\"\n",
    "]\n",
    "\n",
    "response = ssm_client.send_command(\n",
    "    InstanceIds=[instance.id],\n",
    "    DocumentName=\"AWS-RunShellScript\",\n",
    "    Parameters={\"commands\": verify_command},\n",
    ")\n",
    "\n",
    "command_id = response[\"Command\"][\"CommandId\"]\n",
    "\n",
    "while True:\n",
    "    output = ssm_client.get_command_invocation(\n",
    "        CommandId=command_id,\n",
    "        InstanceId=instance.id,\n",
    "    )\n",
    "    status = output[\"Status\"]\n",
    "    if status in [\"Success\", \"Failed\", \"Cancelled\", \"TimedOut\"]:\n",
    "        print(output[\"Status\"])\n",
    "        print(output[\"StandardOutputContent\"])\n",
    "        break\n",
    "\n",
    "    time.sleep(5)"
   ]
  },
  {
   "cell_type": "markdown",
   "metadata": {},
   "source": [
    "# Crear un S3 Estándar, crear un cubo y añadir varias carpetas con un objeto que sea un archivo csv con varios datos para trabajar con él a posteriori y obtener le objeto"
   ]
  },
  {
   "cell_type": "code",
   "execution_count": 60,
   "metadata": {},
   "outputs": [
    {
     "data": {
      "text/plain": [
       "{'ResponseMetadata': {'RequestId': 'CA71JSE6RPNRYV83',\n",
       "  'HostId': '9Xvwmd75aCp4P/UjXF6C4z0bXPHCorQqTBYeV42rkU9n584znZ24vJT05QG/V2/+b+paLOOb1Eo=',\n",
       "  'HTTPStatusCode': 200,\n",
       "  'HTTPHeaders': {'x-amz-id-2': '9Xvwmd75aCp4P/UjXF6C4z0bXPHCorQqTBYeV42rkU9n584znZ24vJT05QG/V2/+b+paLOOb1Eo=',\n",
       "   'x-amz-request-id': 'CA71JSE6RPNRYV83',\n",
       "   'date': 'Mon, 24 Mar 2025 17:15:30 GMT',\n",
       "   'location': '/miesetresdorado',\n",
       "   'content-length': '0',\n",
       "   'server': 'AmazonS3'},\n",
       "  'RetryAttempts': 0},\n",
       " 'Location': '/miesetresdorado'}"
      ]
     },
     "execution_count": 60,
     "metadata": {},
     "output_type": "execute_result"
    }
   ],
   "source": [
    "s3 = boto3.client(\"s3\", region_name=region)\n",
    "\n",
    "s3.create_bucket(\n",
    "    Bucket=\"miesetresdorado\",\n",
    ")"
   ]
  },
  {
   "cell_type": "code",
   "execution_count": 61,
   "metadata": {},
   "outputs": [],
   "source": [
    "import pandas as pd\n",
    "\n",
    "folders = [\n",
    "    \"dataset/ventas/\",\n",
    "    \"dataset/clientes/\",\n",
    "    \"dataset/productos/\"\n",
    "]\n",
    "\n",
    "df = pd.DataFrame({\n",
    "    \"Producto\": [\"A\", \"B\", \"C\"],\n",
    "    \"Cantidad\": [10, 5, 7],\n",
    "    \"Precio\": [100.5, 200.0, 150.75]\n",
    "})\n",
    "csv_file = \"ventas.csv\"\n",
    "df.to_csv(csv_file, index=False)"
   ]
  },
  {
   "cell_type": "code",
   "execution_count": 65,
   "metadata": {},
   "outputs": [
    {
     "name": "stdout",
     "output_type": "stream",
     "text": [
      "dataset/ventas/ventas.csv\n",
      "dataset/clientes/ventas.csv\n",
      "dataset/productos/ventas.csv\n"
     ]
    }
   ],
   "source": [
    "for folder in folders:\n",
    "    object_key = folder + csv_file\n",
    "    s3.upload_file(csv_file, \"miesetresdorado\", object_key)\n",
    "    print(f\"{object_key}\")"
   ]
  },
  {
   "cell_type": "code",
   "execution_count": 66,
   "metadata": {},
   "outputs": [],
   "source": [
    "response = s3.list_objects_v2(Bucket=\"miesetresdorado\", Prefix=\"dataset/\")"
   ]
  },
  {
   "cell_type": "code",
   "execution_count": 67,
   "metadata": {},
   "outputs": [
    {
     "name": "stdout",
     "output_type": "stream",
     "text": [
      "CSV S3:\n",
      "  Producto  Cantidad  Precio\n",
      "0        A        10  100.50\n",
      "1        B         5  200.00\n",
      "2        C         7  150.75\n"
     ]
    }
   ],
   "source": [
    "import io\n",
    "\n",
    "object_key = \"dataset/ventas/ventas.csv\"\n",
    "obj = s3.get_object(Bucket=\"miesetresdorado\", Key=object_key)\n",
    "df_leido = pd.read_csv(io.BytesIO(obj[\"Body\"].read()))\n",
    "print(\"CSV S3:\")\n",
    "print(df_leido)\n"
   ]
  },
  {
   "cell_type": "markdown",
   "metadata": {},
   "source": [
    "# Crear S3 Estándar - Acceso poco frecuente, crear un cubo y añadir un objeto y obtener le objeto"
   ]
  },
  {
   "cell_type": "code",
   "execution_count": 68,
   "metadata": {},
   "outputs": [
    {
     "data": {
      "text/plain": [
       "{'ResponseMetadata': {'RequestId': 'Z514XXEH9NQBKM38',\n",
       "  'HostId': '4NHzBYsK78Gnz+58EcVEkL55P0Ctt8qRQ7gBWQezPIQEvUVsGib02q1JuGNThTjeItPR4y8ckxg=',\n",
       "  'HTTPStatusCode': 200,\n",
       "  'HTTPHeaders': {'x-amz-id-2': '4NHzBYsK78Gnz+58EcVEkL55P0Ctt8qRQ7gBWQezPIQEvUVsGib02q1JuGNThTjeItPR4y8ckxg=',\n",
       "   'x-amz-request-id': 'Z514XXEH9NQBKM38',\n",
       "   'date': 'Mon, 24 Mar 2025 17:21:52 GMT',\n",
       "   'location': '/miesetresdorado2',\n",
       "   'content-length': '0',\n",
       "   'server': 'AmazonS3'},\n",
       "  'RetryAttempts': 0},\n",
       " 'Location': '/miesetresdorado2'}"
      ]
     },
     "execution_count": 68,
     "metadata": {},
     "output_type": "execute_result"
    }
   ],
   "source": [
    "bucket_name = \"miesetresdorado2\"\n",
    "\n",
    "s3 = boto3.client(\"s3\", region_name=region)\n",
    "s3.create_bucket(Bucket=bucket_name)"
   ]
  },
  {
   "cell_type": "code",
   "execution_count": 69,
   "metadata": {},
   "outputs": [],
   "source": [
    "file_name = \"ejemplo.txt\"\n",
    "with open(file_name, \"w\") as f:\n",
    "    f.write(\"ejemploejemploejemploejemploejemplo\")"
   ]
  },
  {
   "cell_type": "code",
   "execution_count": 70,
   "metadata": {},
   "outputs": [],
   "source": [
    "object_key = \"docs/ejemplo.txt\"\n",
    "\n",
    "s3.upload_file(\n",
    "    Filename=file_name,\n",
    "    Bucket=bucket_name,\n",
    "    Key=object_key,\n",
    "    ExtraArgs={\"StorageClass\": \"STANDARD_IA\"}\n",
    ")"
   ]
  },
  {
   "cell_type": "code",
   "execution_count": 71,
   "metadata": {},
   "outputs": [
    {
     "name": "stdout",
     "output_type": "stream",
     "text": [
      "ejemploejemploejemploejemploejemplo\n"
     ]
    }
   ],
   "source": [
    "response = s3.get_object(Bucket=bucket_name, Key=object_key)\n",
    "contenido = response[\"Body\"].read().decode(\"utf-8\")\n",
    "print(contenido)\n"
   ]
  },
  {
   "cell_type": "markdown",
   "metadata": {},
   "source": [
    "# Crear S3 Intelligent-Tiering, crear un cubo y añadir un objeto y obtener le objeto"
   ]
  },
  {
   "cell_type": "code",
   "execution_count": 72,
   "metadata": {},
   "outputs": [
    {
     "data": {
      "text/plain": [
       "{'ResponseMetadata': {'RequestId': 'A1F7PEGA9R5WAE8Q',\n",
       "  'HostId': 'pOV2VC0taBsPcg6hEHIRgw61b+721o0igvBH84hjxEkCL4LdHDaLYJIrkGmTQUn5aeMEKRobNjFGQZ/OAr2F4DVJedAivZs2',\n",
       "  'HTTPStatusCode': 200,\n",
       "  'HTTPHeaders': {'x-amz-id-2': 'pOV2VC0taBsPcg6hEHIRgw61b+721o0igvBH84hjxEkCL4LdHDaLYJIrkGmTQUn5aeMEKRobNjFGQZ/OAr2F4DVJedAivZs2',\n",
       "   'x-amz-request-id': 'A1F7PEGA9R5WAE8Q',\n",
       "   'date': 'Mon, 24 Mar 2025 17:24:38 GMT',\n",
       "   'location': '/miesetresdorado3',\n",
       "   'content-length': '0',\n",
       "   'server': 'AmazonS3'},\n",
       "  'RetryAttempts': 0},\n",
       " 'Location': '/miesetresdorado3'}"
      ]
     },
     "execution_count": 72,
     "metadata": {},
     "output_type": "execute_result"
    }
   ],
   "source": [
    "bucket_name = \"miesetresdorado3\"\n",
    "\n",
    "s3 = boto3.client(\"s3\", region_name=region)\n",
    "s3.create_bucket(Bucket=bucket_name)"
   ]
  },
  {
   "cell_type": "code",
   "execution_count": 74,
   "metadata": {},
   "outputs": [],
   "source": [
    "file_name = \"intelligent.txt\"\n",
    "with open(file_name, \"w\") as f:\n",
    "    f.write(\"intelligentintelligentintelligentintelligent\")"
   ]
  },
  {
   "cell_type": "code",
   "execution_count": 75,
   "metadata": {},
   "outputs": [],
   "source": [
    "object_key = \"ejemplos/intelligent.txt\"\n",
    "\n",
    "s3.upload_file(\n",
    "    Filename=file_name,\n",
    "    Bucket=bucket_name,\n",
    "    Key=object_key,\n",
    "    ExtraArgs={\"StorageClass\": \"INTELLIGENT_TIERING\"}\n",
    ")"
   ]
  },
  {
   "cell_type": "code",
   "execution_count": 76,
   "metadata": {},
   "outputs": [
    {
     "name": "stdout",
     "output_type": "stream",
     "text": [
      "intelligentintelligentintelligentintelligent\n"
     ]
    }
   ],
   "source": [
    "response = s3.get_object(Bucket=bucket_name, Key=object_key)\n",
    "contenido = response[\"Body\"].read().decode(\"utf-8\")\n",
    "print(contenido)\n"
   ]
  },
  {
   "cell_type": "markdown",
   "metadata": {},
   "source": [
    "# Crear S3 Glacier, crear un cubo y añadir un objeto y obtener le objeto"
   ]
  },
  {
   "cell_type": "code",
   "execution_count": 77,
   "metadata": {},
   "outputs": [
    {
     "data": {
      "text/plain": [
       "{'ResponseMetadata': {'RequestId': 'BB5CKEV1FSMYVXAA',\n",
       "  'HostId': '1TvjIXIueHq/9rEAi3/U3MfXBdmG2K4zsctE+zkCHmY+NciyewzPxh2tVgdCd27ppLAA6Rcyuwg=',\n",
       "  'HTTPStatusCode': 200,\n",
       "  'HTTPHeaders': {'x-amz-id-2': '1TvjIXIueHq/9rEAi3/U3MfXBdmG2K4zsctE+zkCHmY+NciyewzPxh2tVgdCd27ppLAA6Rcyuwg=',\n",
       "   'x-amz-request-id': 'BB5CKEV1FSMYVXAA',\n",
       "   'date': 'Mon, 24 Mar 2025 17:38:39 GMT',\n",
       "   'location': '/miesetresdorado4',\n",
       "   'content-length': '0',\n",
       "   'server': 'AmazonS3'},\n",
       "  'RetryAttempts': 0},\n",
       " 'Location': '/miesetresdorado4'}"
      ]
     },
     "execution_count": 77,
     "metadata": {},
     "output_type": "execute_result"
    }
   ],
   "source": [
    "bucket_name = \"miesetresdorado4\"\n",
    "\n",
    "s3 = boto3.client(\"s3\", region_name=region)\n",
    "s3.create_bucket(Bucket=bucket_name)"
   ]
  },
  {
   "cell_type": "code",
   "execution_count": 78,
   "metadata": {},
   "outputs": [],
   "source": [
    "file_name = \"archivo-glacier.txt\"\n",
    "with open(file_name, \"w\") as f:\n",
    "    f.write(\"glacierglacierglacierglacierglacierglacier\")"
   ]
  },
  {
   "cell_type": "code",
   "execution_count": 79,
   "metadata": {},
   "outputs": [],
   "source": [
    "object_key = \"archivos/archivo-glacier.txt\"\n",
    "\n",
    "s3.upload_file(\n",
    "    Filename=file_name,\n",
    "    Bucket=bucket_name,\n",
    "    Key=object_key,\n",
    "    ExtraArgs={\"StorageClass\": \"GLACIER\"}\n",
    ")"
   ]
  },
  {
   "cell_type": "markdown",
   "metadata": {},
   "source": [
    "Este script enviaria un correo cuando el archivo se restaure"
   ]
  },
  {
   "cell_type": "code",
   "execution_count": null,
   "metadata": {},
   "outputs": [],
   "source": [
    "import boto3\n",
    "import time\n",
    "import smtplib\n",
    "from email.message import EmailMessage\n",
    "\n",
    "object_key = \"archivos/archivo-glacier.txt\"\n",
    "intervalo = 60 #s\n",
    "\n",
    "destinatario = \"uncorreo\"\n",
    "asunto = \"Archivo restaurado\"\n",
    "mensaje = f\"El objeto '{object_key}' ya ha sido restaurado y está disponible en el bucket '{bucket_name}'.\"\n",
    "\n",
    "s3 = boto3.client(\"s3\")\n",
    "\n",
    "def objeto_restaurado():\n",
    "    metadata = s3.head_object(Bucket=bucket_name, Key=object_key)\n",
    "    restored = metadata.get(\"Restore\", \"\")\n",
    "    return \"ongoing-request=\\\"false\\\"\" in restored\n",
    "\n",
    "def enviar_correo_simulado():\n",
    "    smtp_server = \"smtp.gmail.com\"\n",
    "    smtp_port = 587\n",
    "    remitente = \"tucuenta@gmail.com\"\n",
    "    password = \"tu_contraseña\"\n",
    "\n",
    "    msg = EmailMessage()\n",
    "    msg[\"Subject\"] = asunto\n",
    "    msg[\"From\"] = remitente\n",
    "    msg[\"To\"] = destinatario\n",
    "    msg.set_content(mensaje)\n",
    "\n",
    "    with smtplib.SMTP(smtp_server, smtp_port) as server:\n",
    "        server.starttls()\n",
    "        server.login(remitente, password)\n",
    "        server.send_message(msg)\n",
    "\n",
    "while True:\n",
    "    try:\n",
    "        if objeto_restaurado():\n",
    "            print(\"El objeto ha sido restaurado.\")\n",
    "            enviar_correo_simulado()\n",
    "            break\n",
    "        else:\n",
    "            print(\"Aún no restaurado... esperando otro intento.\")\n",
    "    except Exception as e:\n",
    "        print(f\"Error al consultar el estado: {e}\")\n",
    "    \n",
    "    time.sleep(intervalo)\n"
   ]
  },
  {
   "cell_type": "markdown",
   "metadata": {},
   "source": [
    "# Crear S3 Glacier Deep Archive, crear un cubo y añadir un objeto y obtener le objeto"
   ]
  },
  {
   "cell_type": "code",
   "execution_count": 80,
   "metadata": {},
   "outputs": [
    {
     "data": {
      "text/plain": [
       "{'ResponseMetadata': {'RequestId': 'VADRBKHRQ0T14FZF',\n",
       "  'HostId': 'n2Y+gtNshDnej7OrZ+gvLSFkgqg0EPls4WOLHTMMZEhMvI5cJvMTHkpY4rU3BqQ5zcoNCuuWXCE5jyPReUxbUs1nQvUDWDH6sp5sOetZq20=',\n",
       "  'HTTPStatusCode': 200,\n",
       "  'HTTPHeaders': {'x-amz-id-2': 'n2Y+gtNshDnej7OrZ+gvLSFkgqg0EPls4WOLHTMMZEhMvI5cJvMTHkpY4rU3BqQ5zcoNCuuWXCE5jyPReUxbUs1nQvUDWDH6sp5sOetZq20=',\n",
       "   'x-amz-request-id': 'VADRBKHRQ0T14FZF',\n",
       "   'date': 'Mon, 24 Mar 2025 17:44:52 GMT',\n",
       "   'location': '/miesetresdorado5',\n",
       "   'content-length': '0',\n",
       "   'server': 'AmazonS3'},\n",
       "  'RetryAttempts': 0},\n",
       " 'Location': '/miesetresdorado5'}"
      ]
     },
     "execution_count": 80,
     "metadata": {},
     "output_type": "execute_result"
    }
   ],
   "source": [
    "bucket_name = \"miesetresdorado5\"\n",
    "\n",
    "s3 = boto3.client(\"s3\", region_name=region)\n",
    "s3.create_bucket(Bucket=bucket_name)"
   ]
  },
  {
   "cell_type": "code",
   "execution_count": 81,
   "metadata": {},
   "outputs": [],
   "source": [
    "file_name = \"deep_archive.txt\"\n",
    "with open(file_name, \"w\") as f:\n",
    "    f.write(\"deep_archivedeep_archivedeep_archivedeep_archivedeep_archive\")"
   ]
  },
  {
   "cell_type": "code",
   "execution_count": 82,
   "metadata": {},
   "outputs": [],
   "source": [
    "object_key = \"archivos/deep_archive.txt\"\n",
    "\n",
    "s3.upload_file(\n",
    "    Filename=file_name,\n",
    "    Bucket=bucket_name,\n",
    "    Key=object_key,\n",
    "    ExtraArgs={\"StorageClass\": \"DEEP_ARCHIVE\"}\n",
    ")"
   ]
  },
  {
   "cell_type": "markdown",
   "metadata": {},
   "source": [
    "Script que avisa*"
   ]
  },
  {
   "cell_type": "code",
   "execution_count": null,
   "metadata": {},
   "outputs": [],
   "source": [
    "object_key = \"archivos/deep_archive.txt\"\n",
    "intervalo = 300 #s\n",
    "\n",
    "s3 = boto3.client(\"s3\", region_name=region)\n",
    "\n",
    "try:\n",
    "    s3.restore_object(\n",
    "        Bucket=bucket_name,\n",
    "        Key=object_key,\n",
    "        RestoreRequest={\n",
    "            \"Days\": 1,\n",
    "            \"GlacierJobParameters\": {\n",
    "                \"Tier\": \"Standard\"\n",
    "            }\n",
    "        }\n",
    "    )\n",
    "    print(\"Restauración solicitada correctamente.\")\n",
    "except s3.exceptions.ClientError as e:\n",
    "    if \"RestoreAlreadyInProgress\" in str(e):\n",
    "        print(\"ℹRestauración ya en curso.\")\n",
    "    elif \"is not archived\" in str(e):\n",
    "        print(\"El objeto no está archivado. Ya se puede leer.\")\n",
    "    else:\n",
    "        raise e\n",
    "\n",
    "print(f\"Comprobando cada {intervalo} segundos si el archivo está disponible...\")\n",
    "\n",
    "while True:\n",
    "    try:\n",
    "        metadata = s3.head_object(Bucket=bucket_name, Key=object_key)\n",
    "        restored = metadata.get(\"Restore\", \"\")\n",
    "\n",
    "        if \"ongoing-request=\\\"false\\\"\" in restored:\n",
    "            print(\"\\n✅ El objeto ha sido restaurado correctamente.\")\n",
    "            print(\"📧 Enviando notificación simulada por correo...\\n\")\n",
    "\n",
    "            smtp_server = \"smtp.gmail.com\"\n",
    "            smtp_port = 587\n",
    "            remitente = \"tucuenta@gmail.com\"\n",
    "            password = \"tu_contraseña\"\n",
    "        \n",
    "            msg = EmailMessage()\n",
    "            msg[\"Subject\"] = asunto\n",
    "            msg[\"From\"] = remitente\n",
    "            msg[\"To\"] = destinatario\n",
    "            msg.set_content(mensaje)\n",
    "        \n",
    "            with smtplib.SMTP(smtp_server, smtp_port) as server:\n",
    "                server.starttls()\n",
    "                server.login(remitente, password)\n",
    "                server.send_message(msg)\n",
    "            break\n",
    "        else:\n",
    "            print(\"Aún se está restaurando...\")\n",
    "    except Exception as e:\n",
    "        print(f\"Error al verificar restauración: {e}\")\n",
    "\n",
    "    time.sleep(intervalo)\n"
   ]
  },
  {
   "cell_type": "markdown",
   "metadata": {},
   "source": [
    "# Hablitar el control de versiones de S3 mediante comandos y mostrar un ejemplo de un objeto modificado y mostrar dos versiones"
   ]
  },
  {
   "cell_type": "code",
   "execution_count": 83,
   "metadata": {},
   "outputs": [
    {
     "data": {
      "text/plain": [
       "{'ResponseMetadata': {'RequestId': '0TVDHS71MFB6QJNW',\n",
       "  'HostId': 'Ot0wn9TS2rlwOTaA6X80JS2EnnvwrAFTDw3DK/RIozl4ntQqUpMmaye2vPJJnONWgXpHDtJjlAY=',\n",
       "  'HTTPStatusCode': 200,\n",
       "  'HTTPHeaders': {'x-amz-id-2': 'Ot0wn9TS2rlwOTaA6X80JS2EnnvwrAFTDw3DK/RIozl4ntQqUpMmaye2vPJJnONWgXpHDtJjlAY=',\n",
       "   'x-amz-request-id': '0TVDHS71MFB6QJNW',\n",
       "   'date': 'Mon, 24 Mar 2025 17:50:13 GMT',\n",
       "   'location': '/miesetresdorado6',\n",
       "   'content-length': '0',\n",
       "   'server': 'AmazonS3'},\n",
       "  'RetryAttempts': 0},\n",
       " 'Location': '/miesetresdorado6'}"
      ]
     },
     "execution_count": 83,
     "metadata": {},
     "output_type": "execute_result"
    }
   ],
   "source": [
    "bucket_name = \"miesetresdorado6\"\n",
    "\n",
    "s3 = boto3.client(\"s3\", region_name=region)\n",
    "s3.create_bucket(Bucket=bucket_name)"
   ]
  },
  {
   "cell_type": "code",
   "execution_count": 84,
   "metadata": {},
   "outputs": [
    {
     "data": {
      "text/plain": [
       "{'ResponseMetadata': {'RequestId': 'AN9JWEF38961VGP8',\n",
       "  'HostId': 'ZJxhQCvXy4kYYHjuRyOA90OLrxg+7YGKOeoi9JVjxszblG+/9caA2qVOhgeuya220TwiqnkRU/Y=',\n",
       "  'HTTPStatusCode': 200,\n",
       "  'HTTPHeaders': {'x-amz-id-2': 'ZJxhQCvXy4kYYHjuRyOA90OLrxg+7YGKOeoi9JVjxszblG+/9caA2qVOhgeuya220TwiqnkRU/Y=',\n",
       "   'x-amz-request-id': 'AN9JWEF38961VGP8',\n",
       "   'date': 'Mon, 24 Mar 2025 17:50:31 GMT',\n",
       "   'content-length': '0',\n",
       "   'server': 'AmazonS3'},\n",
       "  'RetryAttempts': 0}}"
      ]
     },
     "execution_count": 84,
     "metadata": {},
     "output_type": "execute_result"
    }
   ],
   "source": [
    "s3.put_bucket_versioning(\n",
    "    Bucket=bucket_name,\n",
    "    VersioningConfiguration={\"Status\": \"Enabled\"}\n",
    ")"
   ]
  },
  {
   "cell_type": "code",
   "execution_count": 85,
   "metadata": {},
   "outputs": [],
   "source": [
    "file_name = \"versionado.txt\"\n",
    "object_key = \"documentos/versionado.txt\"\n",
    "\n",
    "with open(file_name, \"w\") as f:\n",
    "    f.write(\"primeraversion\")\n",
    "\n",
    "s3.upload_file(file_name, bucket_name, object_key)"
   ]
  },
  {
   "cell_type": "code",
   "execution_count": 86,
   "metadata": {},
   "outputs": [],
   "source": [
    "with open(file_name, \"w\") as f:\n",
    "    f.write(\"segundaversion\")\n",
    "\n",
    "s3.upload_file(file_name, bucket_name, object_key)"
   ]
  },
  {
   "cell_type": "code",
   "execution_count": 87,
   "metadata": {},
   "outputs": [
    {
     "name": "stdout",
     "output_type": "stream",
     "text": [
      "- ID: _bqsKnO3I9SBE3iROOcQ0ZBnBf3TW7zN | Última modificación: 2025-03-24 17:51:22+00:00 | Última: True\n",
      "- ID: TgNbn5X8kj9PJ1HnRPK_nwUebf51hNjV | Última modificación: 2025-03-24 17:51:00+00:00 | Última: False\n"
     ]
    }
   ],
   "source": [
    "response = s3.list_object_versions(Bucket=bucket_name, Prefix=object_key)\n",
    "\n",
    "for v in response.get(\"Versions\", []):\n",
    "    print(f\"- ID: {v['VersionId']} | Última modificación: {v['LastModified']} | Última: {v['IsLatest']}\")\n"
   ]
  },
  {
   "cell_type": "code",
   "execution_count": 88,
   "metadata": {},
   "outputs": [
    {
     "name": "stdout",
     "output_type": "stream",
     "text": [
      "\n",
      "Versión ID: _bqsKnO3I9SBE3iROOcQ0ZBnBf3TW7zN (última)\n",
      "segundaversion\n",
      "\n",
      "Versión ID: TgNbn5X8kj9PJ1HnRPK_nwUebf51hNjV \n",
      "primeraversion\n"
     ]
    }
   ],
   "source": [
    "for v in response.get(\"Versions\", []):\n",
    "    version_id = v[\"VersionId\"]\n",
    "    is_latest = v[\"IsLatest\"]\n",
    "\n",
    "    obj = s3.get_object(Bucket=bucket_name, Key=object_key, VersionId=version_id)\n",
    "    content = obj[\"Body\"].read().decode(\"utf-8\")\n",
    "\n",
    "    print(f\"\\nVersión ID: {version_id} {'(última)' if is_latest else ''}\")\n",
    "    print(content)\n"
   ]
  },
  {
   "cell_type": "markdown",
   "metadata": {},
   "source": [
    "# Realizar 3 consultas diferentes sobre el objeto .csv del S3 usando AWS Athena"
   ]
  },
  {
   "cell_type": "code",
   "execution_count": 98,
   "metadata": {},
   "outputs": [],
   "source": [
    "athena = boto3.client(\"athena\", region_name=region)\n",
    "\n",
    "s3_csv_path = \"s3://miesetresdorado/dataset/ventas/ventas.csv\"\n",
    "s3_output = \"s3://mi-bucket-datos/athena-results/\"\n",
    "database = \"default\"\n"
   ]
  },
  {
   "cell_type": "code",
   "execution_count": 103,
   "metadata": {},
   "outputs": [
    {
     "ename": "ClientError",
     "evalue": "An error occurred (AccessDeniedException) when calling the StartQueryExecution operation: You are not authorized to perform: athena:StartQueryExecution on the resource. After your AWS administrator or you have updated your permissions, please try again.",
     "output_type": "error",
     "traceback": [
      "\u001b[31m---------------------------------------------------------------------------\u001b[39m",
      "\u001b[31mClientError\u001b[39m                               Traceback (most recent call last)",
      "\u001b[36mCell\u001b[39m\u001b[36m \u001b[39m\u001b[32mIn[103]\u001b[39m\u001b[32m, line 13\u001b[39m\n\u001b[32m      1\u001b[39m create_table_query = \u001b[33mf\u001b[39m\u001b[33m\"\"\"\u001b[39m\n\u001b[32m      2\u001b[39m \u001b[33mCREATE EXTERNAL TABLE IF NOT EXISTS ventas (\u001b[39m\n\u001b[32m      3\u001b[39m \u001b[33m    producto STRING,\u001b[39m\n\u001b[32m   (...)\u001b[39m\u001b[32m     10\u001b[39m \u001b[33mTBLPROPERTIES (\u001b[39m\u001b[33m'\u001b[39m\u001b[33mhas_encrypted_data\u001b[39m\u001b[33m'\u001b[39m\u001b[33m=\u001b[39m\u001b[33m'\u001b[39m\u001b[33mfalse\u001b[39m\u001b[33m'\u001b[39m\u001b[33m);\u001b[39m\n\u001b[32m     11\u001b[39m \u001b[33m\"\"\"\u001b[39m\n\u001b[32m---> \u001b[39m\u001b[32m13\u001b[39m \u001b[43mathena\u001b[49m\u001b[43m.\u001b[49m\u001b[43mstart_query_execution\u001b[49m\u001b[43m(\u001b[49m\n\u001b[32m     14\u001b[39m \u001b[43m    \u001b[49m\u001b[43mQueryString\u001b[49m\u001b[43m=\u001b[49m\u001b[43mcreate_table_query\u001b[49m\u001b[43m,\u001b[49m\n\u001b[32m     15\u001b[39m \u001b[43m    \u001b[49m\u001b[43mQueryExecutionContext\u001b[49m\u001b[43m=\u001b[49m\u001b[43m{\u001b[49m\u001b[33;43m\"\u001b[39;49m\u001b[33;43mDatabase\u001b[39;49m\u001b[33;43m\"\u001b[39;49m\u001b[43m:\u001b[49m\u001b[43m \u001b[49m\u001b[43mdatabase\u001b[49m\u001b[43m}\u001b[49m\u001b[43m,\u001b[49m\n\u001b[32m     16\u001b[39m \u001b[43m    \u001b[49m\u001b[43mResultConfiguration\u001b[49m\u001b[43m=\u001b[49m\u001b[43m{\u001b[49m\u001b[33;43m\"\u001b[39;49m\u001b[33;43mOutputLocation\u001b[39;49m\u001b[33;43m\"\u001b[39;49m\u001b[43m:\u001b[49m\u001b[43m \u001b[49m\u001b[43ms3_output\u001b[49m\u001b[43m}\u001b[49m\u001b[43m,\u001b[49m\n\u001b[32m     17\u001b[39m \u001b[43m)\u001b[49m\n",
      "\u001b[36mFile \u001b[39m\u001b[32mc:\\Users\\Marcos\\AppData\\Local\\Programs\\Python\\Python313\\Lib\\site-packages\\botocore\\client.py:570\u001b[39m, in \u001b[36mClientCreator._create_api_method.<locals>._api_call\u001b[39m\u001b[34m(self, *args, **kwargs)\u001b[39m\n\u001b[32m    566\u001b[39m     \u001b[38;5;28;01mraise\u001b[39;00m \u001b[38;5;167;01mTypeError\u001b[39;00m(\n\u001b[32m    567\u001b[39m         \u001b[33mf\u001b[39m\u001b[33m\"\u001b[39m\u001b[38;5;132;01m{\u001b[39;00mpy_operation_name\u001b[38;5;132;01m}\u001b[39;00m\u001b[33m() only accepts keyword arguments.\u001b[39m\u001b[33m\"\u001b[39m\n\u001b[32m    568\u001b[39m     )\n\u001b[32m    569\u001b[39m \u001b[38;5;66;03m# The \"self\" in this scope is referring to the BaseClient.\u001b[39;00m\n\u001b[32m--> \u001b[39m\u001b[32m570\u001b[39m \u001b[38;5;28;01mreturn\u001b[39;00m \u001b[38;5;28;43mself\u001b[39;49m\u001b[43m.\u001b[49m\u001b[43m_make_api_call\u001b[49m\u001b[43m(\u001b[49m\u001b[43moperation_name\u001b[49m\u001b[43m,\u001b[49m\u001b[43m \u001b[49m\u001b[43mkwargs\u001b[49m\u001b[43m)\u001b[49m\n",
      "\u001b[36mFile \u001b[39m\u001b[32mc:\\Users\\Marcos\\AppData\\Local\\Programs\\Python\\Python313\\Lib\\site-packages\\botocore\\context.py:124\u001b[39m, in \u001b[36mwith_current_context.<locals>.decorator.<locals>.wrapper\u001b[39m\u001b[34m(*args, **kwargs)\u001b[39m\n\u001b[32m    122\u001b[39m \u001b[38;5;28;01mif\u001b[39;00m hook:\n\u001b[32m    123\u001b[39m     hook()\n\u001b[32m--> \u001b[39m\u001b[32m124\u001b[39m \u001b[38;5;28;01mreturn\u001b[39;00m \u001b[43mfunc\u001b[49m\u001b[43m(\u001b[49m\u001b[43m*\u001b[49m\u001b[43margs\u001b[49m\u001b[43m,\u001b[49m\u001b[43m \u001b[49m\u001b[43m*\u001b[49m\u001b[43m*\u001b[49m\u001b[43mkwargs\u001b[49m\u001b[43m)\u001b[49m\n",
      "\u001b[36mFile \u001b[39m\u001b[32mc:\\Users\\Marcos\\AppData\\Local\\Programs\\Python\\Python313\\Lib\\site-packages\\botocore\\client.py:1031\u001b[39m, in \u001b[36mBaseClient._make_api_call\u001b[39m\u001b[34m(self, operation_name, api_params)\u001b[39m\n\u001b[32m   1027\u001b[39m     error_code = error_info.get(\u001b[33m\"\u001b[39m\u001b[33mQueryErrorCode\u001b[39m\u001b[33m\"\u001b[39m) \u001b[38;5;129;01mor\u001b[39;00m error_info.get(\n\u001b[32m   1028\u001b[39m         \u001b[33m\"\u001b[39m\u001b[33mCode\u001b[39m\u001b[33m\"\u001b[39m\n\u001b[32m   1029\u001b[39m     )\n\u001b[32m   1030\u001b[39m     error_class = \u001b[38;5;28mself\u001b[39m.exceptions.from_code(error_code)\n\u001b[32m-> \u001b[39m\u001b[32m1031\u001b[39m     \u001b[38;5;28;01mraise\u001b[39;00m error_class(parsed_response, operation_name)\n\u001b[32m   1032\u001b[39m \u001b[38;5;28;01melse\u001b[39;00m:\n\u001b[32m   1033\u001b[39m     \u001b[38;5;28;01mreturn\u001b[39;00m parsed_response\n",
      "\u001b[31mClientError\u001b[39m: An error occurred (AccessDeniedException) when calling the StartQueryExecution operation: You are not authorized to perform: athena:StartQueryExecution on the resource. After your AWS administrator or you have updated your permissions, please try again."
     ]
    }
   ],
   "source": [
    "create_table_query = f\"\"\"\n",
    "CREATE EXTERNAL TABLE IF NOT EXISTS ventas (\n",
    "    producto STRING,\n",
    "    cantidad INT,\n",
    "    precio DOUBLE\n",
    ")\n",
    "ROW FORMAT SERDE 'org.apache.hadoop.hive.serde2.lazy.LazySimpleSerDe'\n",
    "WITH SERDEPROPERTIES ('serialization.format' = ',', 'field.delim' = ',')\n",
    "LOCATION '{s3_csv_path}'\n",
    "TBLPROPERTIES ('has_encrypted_data'='false');\n",
    "\"\"\"\n",
    "\n",
    "athena.start_query_execution(\n",
    "    QueryString=create_table_query,\n",
    "    QueryExecutionContext={\"Database\": database},\n",
    "    ResultConfiguration={\"OutputLocation\": s3_output},\n",
    ")"
   ]
  },
  {
   "cell_type": "markdown",
   "metadata": {},
   "source": [
    "error de permisos (?)"
   ]
  }
 ],
 "metadata": {
  "kernelspec": {
   "display_name": "Python 3",
   "language": "python",
   "name": "python3"
  },
  "language_info": {
   "codemirror_mode": {
    "name": "ipython",
    "version": 3
   },
   "file_extension": ".py",
   "mimetype": "text/x-python",
   "name": "python",
   "nbconvert_exporter": "python",
   "pygments_lexer": "ipython3",
   "version": "3.13.2"
  }
 },
 "nbformat": 4,
 "nbformat_minor": 2
}

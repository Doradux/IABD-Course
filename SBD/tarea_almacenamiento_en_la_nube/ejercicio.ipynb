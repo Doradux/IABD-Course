{
 "cells": [
  {
   "cell_type": "markdown",
   "metadata": {},
   "source": [
    "## Crear una instancia EC2, ejecutarla, pararla y eliminarla"
   ]
  },
  {
   "cell_type": "code",
   "execution_count": 2,
   "metadata": {},
   "outputs": [],
   "source": [
    "import boto3\n",
    "import os\n",
    "from dotenv import load_dotenv\n",
    "\n",
    "load_dotenv()\n",
    "\n",
    "aws_access_key = os.getenv(\"aws_access_key_id\")\n",
    "aws_secret_key = os.getenv(\"aws_secret_access_key\")\n",
    "aws_session_token = os.getenv(\"aws_session_token\")\n",
    "region = os.getenv(\"aws_default_region\")\n",
    "\n",
    "ec2_res = boto3.resource(\n",
    "    \"ec2\",\n",
    "    aws_access_key_id=aws_access_key,\n",
    "    aws_secret_access_key=aws_secret_key,\n",
    "    aws_session_token=aws_session_token,\n",
    "    region_name=region\n",
    ")\n",
    "\n",
    "ec2_cli = boto3.client(\n",
    "    \"ec2\",\n",
    "    aws_access_key_id=aws_access_key,\n",
    "    aws_secret_access_key=aws_secret_key,\n",
    "    aws_session_token=aws_session_token,\n",
    "    region_name=region,\n",
    ")\n",
    "\n",
    "def obtener_estado_instancia(id):\n",
    "    response = ec2_cli.describe_instances(InstanceIds=[id])\n",
    "    state = response[\"Reservations\"][0][\"Instances\"][0][\"State\"][\"Name\"]\n",
    "    print(f\"Estado actual de {id}: {state}\")"
   ]
  },
  {
   "cell_type": "markdown",
   "metadata": {},
   "source": [
    "#### Crear instancia"
   ]
  },
  {
   "cell_type": "code",
   "execution_count": 3,
   "metadata": {},
   "outputs": [
    {
     "name": "stdout",
     "output_type": "stream",
     "text": [
      "id instancia: i-03c48d90e51224fcb\n"
     ]
    }
   ],
   "source": [
    "instances = ec2_res.create_instances(\n",
    "    ImageId=\"ami-08b5b3a93ed654d19\",\n",
    "    InstanceType=\"t2.micro\",\n",
    "    MinCount=1,\n",
    "    MaxCount=1,\n",
    "    TagSpecifications=[\n",
    "        {\n",
    "            \"ResourceType\": \"instance\",\n",
    "            \"Tags\": [{\"Key\": \"Name\", \"Value\": \"InstanciaBoto3\"}],\n",
    "        }\n",
    "    ],\n",
    ")\n",
    "\n",
    "instance = instances[0]\n",
    "\n",
    "print(f\"id instancia: {instance.id}\")"
   ]
  },
  {
   "cell_type": "markdown",
   "metadata": {},
   "source": [
    "#### Parar la instancia"
   ]
  },
  {
   "cell_type": "code",
   "execution_count": 6,
   "metadata": {},
   "outputs": [
    {
     "name": "stdout",
     "output_type": "stream",
     "text": [
      "{'StoppingInstances': [{'CurrentState': {'Code': 64, 'Name': 'stopping'}, 'InstanceId': 'i-03c48d90e51224fcb', 'PreviousState': {'Code': 16, 'Name': 'running'}}], 'ResponseMetadata': {'RequestId': '3a5d3ce6-036d-4933-a1a1-63b60a477063', 'HTTPStatusCode': 200, 'HTTPHeaders': {'x-amzn-requestid': '3a5d3ce6-036d-4933-a1a1-63b60a477063', 'cache-control': 'no-cache, no-store', 'strict-transport-security': 'max-age=31536000; includeSubDomains', 'content-type': 'text/xml;charset=UTF-8', 'content-length': '411', 'date': 'Sat, 15 Mar 2025 15:30:02 GMT', 'server': 'AmazonEC2'}, 'RetryAttempts': 0}}\n"
     ]
    }
   ],
   "source": [
    "response = ec2_cli.stop_instances(InstanceIds=[instance.id])\n",
    "print(response)"
   ]
  },
  {
   "cell_type": "code",
   "execution_count": 7,
   "metadata": {},
   "outputs": [
    {
     "name": "stdout",
     "output_type": "stream",
     "text": [
      "Estado actual de i-03c48d90e51224fcb: stopping\n"
     ]
    }
   ],
   "source": [
    "obtener_estado_instancia(instance.id)"
   ]
  },
  {
   "cell_type": "markdown",
   "metadata": {},
   "source": [
    "#### Eliminar instancia"
   ]
  },
  {
   "cell_type": "code",
   "execution_count": 8,
   "metadata": {},
   "outputs": [
    {
     "name": "stdout",
     "output_type": "stream",
     "text": [
      "Estado: shutting-down\n"
     ]
    }
   ],
   "source": [
    "response = ec2_cli.terminate_instances(InstanceIds=[instance.id])\n",
    "state = response[\"TerminatingInstances\"][0][\"CurrentState\"][\"Name\"]\n",
    "print(f\"Estado: {state}\")"
   ]
  },
  {
   "cell_type": "markdown",
   "metadata": {},
   "source": [
    "## Cerar un EBS y asociarlo a un EC2 y añadir una archivo"
   ]
  },
  {
   "cell_type": "code",
   "execution_count": 9,
   "metadata": {},
   "outputs": [
    {
     "name": "stdout",
     "output_type": "stream",
     "text": [
      "id instancia: i-060d20dcf8942a636\n"
     ]
    }
   ],
   "source": [
    "instances = ec2_res.create_instances(\n",
    "    ImageId=\"ami-08b5b3a93ed654d19\",\n",
    "    InstanceType=\"t2.micro\",\n",
    "    MinCount=1,\n",
    "    MaxCount=1,\n",
    "    TagSpecifications=[\n",
    "        {\n",
    "            \"ResourceType\": \"instance\",\n",
    "            \"Tags\": [{\"Key\": \"Name\", \"Value\": \"InstanciaBoto3\"}],\n",
    "        }\n",
    "    ],\n",
    ")\n",
    "\n",
    "instance = instances[0]\n",
    "\n",
    "print(f\"id instancia: {instance.id}\")"
   ]
  },
  {
   "cell_type": "markdown",
   "metadata": {},
   "source": [
    "#### Crear y asociar"
   ]
  },
  {
   "cell_type": "code",
   "execution_count": 10,
   "metadata": {},
   "outputs": [],
   "source": [
    "response = ec2_cli.describe_instances(InstanceIds=[instance.id])\n",
    "availability_zone = response[\"Reservations\"][0][\"Instances\"][0][\"Placement\"][\"AvailabilityZone\"]"
   ]
  },
  {
   "cell_type": "code",
   "execution_count": 11,
   "metadata": {},
   "outputs": [
    {
     "name": "stdout",
     "output_type": "stream",
     "text": [
      "id ebs: vol-0272207ce16fd5221\n"
     ]
    }
   ],
   "source": [
    "volume_response = ec2_cli.create_volume(\n",
    "    AvailabilityZone=availability_zone,\n",
    "    Size=8,\n",
    "    VolumeType=\"gp2\",\n",
    "    TagSpecifications=[\n",
    "        {\n",
    "            \"ResourceType\": \"volume\",\n",
    "            \"Tags\": [{\"Key\": \"Name\", \"Value\": \"miEBS\"}],\n",
    "        }\n",
    "    ],\n",
    ")\n",
    "\n",
    "print(f\"id ebs: {volume_response[\"VolumeId\"]}\")"
   ]
  },
  {
   "cell_type": "code",
   "execution_count": 15,
   "metadata": {},
   "outputs": [
    {
     "name": "stdout",
     "output_type": "stream",
     "text": [
      "vinculado\n"
     ]
    }
   ],
   "source": [
    "vol_status = ec2_cli.describe_volumes(VolumeIds=[volume_response[\"VolumeId\"]])[\"Volumes\"][0][\"State\"]\n",
    "if (vol_status == \"available\"):\n",
    "    ec2_cli.attach_volume(\n",
    "        VolumeId=volume_response[\"VolumeId\"],\n",
    "        InstanceId=instance.id,\n",
    "        Device=\"/dev/sdf\"\n",
    "    )\n",
    "    print(\"vinculado\")\n",
    "elif (vol_status == \"in-use\"):\n",
    "    print(\"ya asociado\")\n",
    "else:\n",
    "    print(\"ebs no esta disponible aun\")"
   ]
  },
  {
   "cell_type": "markdown",
   "metadata": {},
   "source": [
    "#### Anadir archivo (ssh)"
   ]
  },
  {
   "cell_type": "code",
   "execution_count": 16,
   "metadata": {},
   "outputs": [
    {
     "name": "stdout",
     "output_type": "stream",
     "text": [
      "34.236.150.180\n"
     ]
    }
   ],
   "source": [
    "response = ec2_cli.describe_instances(InstanceIds=[instance.id])\n",
    "EC2_PUBLIC_IP = response[\"Reservations\"][0][\"Instances\"][0][\"PublicIpAddress\"]\n",
    "print(EC2_PUBLIC_IP)\n",
    "\n",
    "SSH_KEY_PATH = \"labsuser.pem\"\n",
    "EC2_USER = \"ec2-user\"\n",
    "\n",
    "VOLUME_DEVICE = \"/dev/xvdf\"\n",
    "MOUNT_POINT = \"/mnt/ebs\"\n",
    "LOCAL_FILE_PATH = \"skere.txt\"  "
   ]
  },
  {
   "cell_type": "code",
   "execution_count": 14,
   "metadata": {},
   "outputs": [],
   "source": [
    "# import paramiko\n",
    "\n",
    "# ssh = paramiko.SSHClient()\n",
    "# ssh.set_missing_host_key_policy(paramiko.AutoAddPolicy())\n",
    "# ssh.connect(EC2_PUBLIC_IP, username=EC2_USER, key_filename=SSH_KEY_PATH)"
   ]
  },
  {
   "cell_type": "markdown",
   "metadata": {},
   "source": [
    "## Crear un EFS, montarlo y añadir un archivo"
   ]
  },
  {
   "cell_type": "markdown",
   "metadata": {},
   "source": [
    "#### Crear efs"
   ]
  },
  {
   "cell_type": "code",
   "execution_count": 17,
   "metadata": {},
   "outputs": [
    {
     "name": "stdout",
     "output_type": "stream",
     "text": [
      "id efs: fs-01fdd7cba6b6f4bb2\n"
     ]
    }
   ],
   "source": [
    "efs_client = boto3.client(\n",
    "    \"efs\",\n",
    "    aws_access_key_id=aws_access_key,\n",
    "    aws_secret_access_key=aws_secret_key,\n",
    "    aws_session_token=aws_session_token,\n",
    "    region_name=region\n",
    ")\n",
    "\n",
    "response = efs_client.create_file_system(\n",
    "    PerformanceMode=\"generalPurpose\",\n",
    "    ThroughputMode=\"bursting\",\n",
    "    Tags=[{\"Key\": \"Name\", \"Value\": \"miEFS\"}],\n",
    ")\n",
    "\n",
    "EFS_ID = response[\"FileSystemId\"]\n",
    "print(f\"id efs: {EFS_ID}\")\n"
   ]
  },
  {
   "cell_type": "markdown",
   "metadata": {},
   "source": [
    "#### Montaje"
   ]
  },
  {
   "cell_type": "code",
   "execution_count": 18,
   "metadata": {},
   "outputs": [
    {
     "name": "stdout",
     "output_type": "stream",
     "text": [
      "Punto de montaje en subred subnet-0873db01c53d03f44\n"
     ]
    }
   ],
   "source": [
    "# Obtener la VPC y una subred disponible\n",
    "vpcs = ec2_cli.describe_vpcs()\n",
    "vpc_id = vpcs[\"Vpcs\"][0][\"VpcId\"]\n",
    "\n",
    "subnets = ec2_cli.describe_subnets(Filters=[{\"Name\": \"vpc-id\", \"Values\": [vpc_id]}])\n",
    "subnet_id = subnets[\"Subnets\"][0][\"SubnetId\"]\n",
    "\n",
    "# Crear punto de acceso para el EFS en la subred\n",
    "response = efs_client.create_mount_target(\n",
    "    FileSystemId=EFS_ID,\n",
    "    SubnetId=subnet_id,\n",
    "    SecurityGroups=[\"sg-0e4ebccba24ef9c17\"],\n",
    ")\n",
    "\n",
    "print(f\"Punto de montaje en subred {subnet_id}\")"
   ]
  },
  {
   "cell_type": "code",
   "execution_count": 20,
   "metadata": {},
   "outputs": [
    {
     "name": "stdout",
     "output_type": "stream",
     "text": [
      "i-060d20dcf8942a636\n"
     ]
    }
   ],
   "source": [
    "print(instance.id)"
   ]
  },
  {
   "cell_type": "code",
   "execution_count": 21,
   "metadata": {},
   "outputs": [
    {
     "ename": "InvalidInstanceId",
     "evalue": "An error occurred (InvalidInstanceId) when calling the SendCommand operation: Instances [[i-060d20dcf8942a636]] not in a valid state for account 932299691865",
     "output_type": "error",
     "traceback": [
      "\u001b[1;31m---------------------------------------------------------------------------\u001b[0m",
      "\u001b[1;31mInvalidInstanceId\u001b[0m                         Traceback (most recent call last)",
      "Cell \u001b[1;32mIn[21], line 16\u001b[0m\n\u001b[0;32m      8\u001b[0m commands \u001b[38;5;241m=\u001b[39m [\n\u001b[0;32m      9\u001b[0m     \u001b[38;5;124m\"\u001b[39m\u001b[38;5;124msudo yum install -y amazon-efs-utils\u001b[39m\u001b[38;5;124m\"\u001b[39m,\n\u001b[0;32m     10\u001b[0m     \u001b[38;5;124mf\u001b[39m\u001b[38;5;124m\"\u001b[39m\u001b[38;5;124msudo mkdir -p \u001b[39m\u001b[38;5;132;01m{\u001b[39;00mMOUNT_POINT\u001b[38;5;132;01m}\u001b[39;00m\u001b[38;5;124m\"\u001b[39m,\n\u001b[0;32m     11\u001b[0m     \u001b[38;5;124mf\u001b[39m\u001b[38;5;124m\"\u001b[39m\u001b[38;5;124msudo mount -t efs \u001b[39m\u001b[38;5;132;01m{\u001b[39;00mEFS_ID\u001b[38;5;132;01m}\u001b[39;00m\u001b[38;5;124m:/ \u001b[39m\u001b[38;5;132;01m{\u001b[39;00mMOUNT_POINT\u001b[38;5;132;01m}\u001b[39;00m\u001b[38;5;124m\"\u001b[39m,\n\u001b[0;32m     12\u001b[0m     \u001b[38;5;124mf\u001b[39m\u001b[38;5;124m\"\u001b[39m\u001b[38;5;124mecho \u001b[39m\u001b[38;5;124m'\u001b[39m\u001b[38;5;132;01m{\u001b[39;00mEFS_ID\u001b[38;5;132;01m}\u001b[39;00m\u001b[38;5;124m:/ \u001b[39m\u001b[38;5;132;01m{\u001b[39;00mMOUNT_POINT\u001b[38;5;132;01m}\u001b[39;00m\u001b[38;5;124m efs defaults,_netdev 0 0\u001b[39m\u001b[38;5;124m'\u001b[39m\u001b[38;5;124m | sudo tee -a /etc/fstab\u001b[39m\u001b[38;5;124m\"\u001b[39m,\n\u001b[0;32m     13\u001b[0m ]\n\u001b[0;32m     15\u001b[0m \u001b[38;5;66;03m# Ejecutar el comando en EC2 con AWS SSM\u001b[39;00m\n\u001b[1;32m---> 16\u001b[0m response \u001b[38;5;241m=\u001b[39m ssm_client\u001b[38;5;241m.\u001b[39msend_command(\n\u001b[0;32m     17\u001b[0m     InstanceIds\u001b[38;5;241m=\u001b[39m[instance\u001b[38;5;241m.\u001b[39mid],\n\u001b[0;32m     18\u001b[0m     DocumentName\u001b[38;5;241m=\u001b[39m\u001b[38;5;124m\"\u001b[39m\u001b[38;5;124mAWS-RunShellScript\u001b[39m\u001b[38;5;124m\"\u001b[39m,\n\u001b[0;32m     19\u001b[0m     Parameters\u001b[38;5;241m=\u001b[39m{\u001b[38;5;124m\"\u001b[39m\u001b[38;5;124mcommands\u001b[39m\u001b[38;5;124m\"\u001b[39m: commands},\n\u001b[0;32m     20\u001b[0m )\n\u001b[0;32m     22\u001b[0m \u001b[38;5;66;03m# Esperar a que se complete el montaje\u001b[39;00m\n\u001b[0;32m     23\u001b[0m command_id \u001b[38;5;241m=\u001b[39m response[\u001b[38;5;124m\"\u001b[39m\u001b[38;5;124mCommand\u001b[39m\u001b[38;5;124m\"\u001b[39m][\u001b[38;5;124m\"\u001b[39m\u001b[38;5;124mCommandId\u001b[39m\u001b[38;5;124m\"\u001b[39m]\n",
      "File \u001b[1;32mc:\\Users\\marco\\anaconda3\\Lib\\site-packages\\botocore\\client.py:530\u001b[0m, in \u001b[0;36mClientCreator._create_api_method.<locals>._api_call\u001b[1;34m(self, *args, **kwargs)\u001b[0m\n\u001b[0;32m    526\u001b[0m     \u001b[38;5;28;01mraise\u001b[39;00m \u001b[38;5;167;01mTypeError\u001b[39;00m(\n\u001b[0;32m    527\u001b[0m         \u001b[38;5;124mf\u001b[39m\u001b[38;5;124m\"\u001b[39m\u001b[38;5;132;01m{\u001b[39;00mpy_operation_name\u001b[38;5;132;01m}\u001b[39;00m\u001b[38;5;124m() only accepts keyword arguments.\u001b[39m\u001b[38;5;124m\"\u001b[39m\n\u001b[0;32m    528\u001b[0m     )\n\u001b[0;32m    529\u001b[0m \u001b[38;5;66;03m# The \"self\" in this scope is referring to the BaseClient.\u001b[39;00m\n\u001b[1;32m--> 530\u001b[0m \u001b[38;5;28;01mreturn\u001b[39;00m \u001b[38;5;28mself\u001b[39m\u001b[38;5;241m.\u001b[39m_make_api_call(operation_name, kwargs)\n",
      "File \u001b[1;32mc:\\Users\\marco\\anaconda3\\Lib\\site-packages\\botocore\\client.py:960\u001b[0m, in \u001b[0;36mBaseClient._make_api_call\u001b[1;34m(self, operation_name, api_params)\u001b[0m\n\u001b[0;32m    958\u001b[0m     error_code \u001b[38;5;241m=\u001b[39m parsed_response\u001b[38;5;241m.\u001b[39mget(\u001b[38;5;124m\"\u001b[39m\u001b[38;5;124mError\u001b[39m\u001b[38;5;124m\"\u001b[39m, {})\u001b[38;5;241m.\u001b[39mget(\u001b[38;5;124m\"\u001b[39m\u001b[38;5;124mCode\u001b[39m\u001b[38;5;124m\"\u001b[39m)\n\u001b[0;32m    959\u001b[0m     error_class \u001b[38;5;241m=\u001b[39m \u001b[38;5;28mself\u001b[39m\u001b[38;5;241m.\u001b[39mexceptions\u001b[38;5;241m.\u001b[39mfrom_code(error_code)\n\u001b[1;32m--> 960\u001b[0m     \u001b[38;5;28;01mraise\u001b[39;00m error_class(parsed_response, operation_name)\n\u001b[0;32m    961\u001b[0m \u001b[38;5;28;01melse\u001b[39;00m:\n\u001b[0;32m    962\u001b[0m     \u001b[38;5;28;01mreturn\u001b[39;00m parsed_response\n",
      "\u001b[1;31mInvalidInstanceId\u001b[0m: An error occurred (InvalidInstanceId) when calling the SendCommand operation: Instances [[i-060d20dcf8942a636]] not in a valid state for account 932299691865"
     ]
    }
   ],
   "source": [
    "import time\n",
    "\n",
    "ssm_client = boto3.client(\"ssm\", region_name=os.getenv(\"AWS_DEFAULT_REGION\"))\n",
    "\n",
    "MOUNT_POINT = \"/mnt/efs\"\n",
    "\n",
    "# Comandos para instalar el cliente NFS y montar el EFS\n",
    "commands = [\n",
    "    \"sudo yum install -y amazon-efs-utils\",\n",
    "    f\"sudo mkdir -p {MOUNT_POINT}\",\n",
    "    f\"sudo mount -t efs {EFS_ID}:/ {MOUNT_POINT}\",\n",
    "    f\"echo '{EFS_ID}:/ {MOUNT_POINT} efs defaults,_netdev 0 0' | sudo tee -a /etc/fstab\",\n",
    "]\n",
    "\n",
    "# Ejecutar el comando en EC2 con AWS SSM\n",
    "response = ssm_client.send_command(\n",
    "    InstanceIds=[instance.id],\n",
    "    DocumentName=\"AWS-RunShellScript\",\n",
    "    Parameters={\"commands\": commands},\n",
    ")\n",
    "\n",
    "# Esperar a que se complete el montaje\n",
    "command_id = response[\"Command\"][\"CommandId\"]\n",
    "print(f\"✅ Comandos enviados para instalar y montar EFS. Command ID: {command_id}\")\n",
    "\n",
    "time.sleep(10)  # Esperar a que el proceso termine\n"
   ]
  },
  {
   "cell_type": "markdown",
   "metadata": {},
   "source": [
    "### "
   ]
  },
  {
   "cell_type": "code",
   "execution_count": null,
   "metadata": {},
   "outputs": [
    {
     "name": "stdout",
     "output_type": "stream",
     "text": [
      "❌ La instancia i-0c4fff4915da26cc9 NO está registrada en SSM. Verificá el agente SSM e IAM.\n"
     ]
    },
    {
     "ename": "",
     "evalue": "",
     "output_type": "error",
     "traceback": [
      "\u001b[1;31mThe Kernel crashed while executing code in the current cell or a previous cell. \n",
      "\u001b[1;31mPlease review the code in the cell(s) to identify a possible cause of the failure. \n",
      "\u001b[1;31mClick <a href='https://aka.ms/vscodeJupyterKernelCrash'>here</a> for more info. \n",
      "\u001b[1;31mView Jupyter <a href='command:jupyter.viewOutput'>log</a> for further details."
     ]
    }
   ],
   "source": [
    "ssm_client = boto3.client(\"ssm\", region_name=\"us-east-1\")\n",
    "\n",
    "response = ssm_client.describe_instance_information()\n",
    "\n",
    "instances = [i[\"InstanceId\"] for i in response[\"InstanceInformationList\"]]\n",
    "\n",
    "if instance.id in instances:\n",
    "    print(f\"✅ La instancia {instance.id} está registrada en SSM.\")\n",
    "else:\n",
    "    print(f\"❌ La instancia {instance.id} NO está registrada en SSM. Verificá el agente SSM e IAM.\")\n"
   ]
  },
  {
   "cell_type": "markdown",
   "metadata": {},
   "source": [
    "**Links**  \n",
    " [Crear y asociar ebs](https://stackoverflow.com/questions/61089756/using-boto3-to-create-and-attach-an-ebs-volume-to-an-ec2-instance)  \n",
    " [Usuarios EC2](https://docs.aws.amazon.com/AWSEC2/latest/UserGuide/managing-users.html)"
   ]
  },
  {
   "cell_type": "markdown",
   "metadata": {},
   "source": []
  }
 ],
 "metadata": {
  "kernelspec": {
   "display_name": "base",
   "language": "python",
   "name": "python3"
  },
  "language_info": {
   "codemirror_mode": {
    "name": "ipython",
    "version": 3
   },
   "file_extension": ".py",
   "mimetype": "text/x-python",
   "name": "python",
   "nbconvert_exporter": "python",
   "pygments_lexer": "ipython3",
   "version": "3.12.7"
  }
 },
 "nbformat": 4,
 "nbformat_minor": 2
}
